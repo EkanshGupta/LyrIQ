{
 "cells": [
  {
   "cell_type": "code",
   "execution_count": 1,
   "id": "b5b9e951",
   "metadata": {},
   "outputs": [
    {
     "name": "stderr",
     "output_type": "stream",
     "text": [
      "/home/ekansh/anaconda3/envs/torch113/lib/python3.9/site-packages/tqdm/auto.py:21: TqdmWarning: IProgress not found. Please update jupyter and ipywidgets. See https://ipywidgets.readthedocs.io/en/stable/user_install.html\n",
      "  from .autonotebook import tqdm as notebook_tqdm\n",
      "/home/ekansh/anaconda3/envs/torch113/lib/python3.9/site-packages/huggingface_hub/file_download.py:943: FutureWarning: `resume_download` is deprecated and will be removed in version 1.0.0. Downloads always resume when possible. If you want to force a new download, use `force_download=True`.\n",
      "  warnings.warn(\n"
     ]
    },
    {
     "name": "stdout",
     "output_type": "stream",
     "text": [
      "\n",
      "Faiss recommendations are\n",
      "1. song is Youth by Ben Khan         of genre []\n",
      "2. song is Golden Boys by Res         of genre ['neo soul']\n",
      "3. song is Reunion by Hoodie Allen         of genre []\n",
      "4. song is Littlemanbigcity (feat. Maggie Brown) by Sam Lachow         of genre []\n",
      "5. song is Fear by Drake         of genre ['rap']\n",
      "\n",
      "Annoy recommendations are\n",
      "1. song is Golden Boys by Res         of genre ['neo soul']\n",
      "2. song is School by Supertramp         of genre ['progressive rock', 'classic rock', 'symphonic rock']\n",
      "3. song is Pretty Girls by Michael Seyer         of genre ['bedroom pop']\n",
      "4. song is Wicked Son by Lincoln Jesser         of genre []\n",
      "5. song is Having Said That by Fern         of genre ['christian hip hop']\n"
     ]
    }
   ],
   "source": [
    "import numpy as np\n",
    "import os\n",
    "import re\n",
    "import pickle\n",
    "from tqdm import tqdm\n",
    "import matplotlib.pyplot as plt\n",
    "import seaborn as sns\n",
    "from collections import defaultdict\n",
    "import helper\n",
    "import pandas as pd\n",
    "import ann\n",
    "\n",
    "with open(\"embedding_genre.pkl\", \"rb\") as pf:\n",
    "    [embed_list, genre_list, tid_list] = pickle.load(pf)\n",
    "with open(\"track_artist.pkl\", \"rb\") as pf:\n",
    "    artist_info = pickle.load(pf)\n",
    "with open(\"artist_genre.pkl\", \"rb\") as pf:\n",
    "    genre_info = pickle.load(pf)\n",
    "\n",
    "# helper.plot_embeds_umap(embed_list, genre_list, tid_list, artist_info, num_pts=30000) \n",
    "# query_vector_idx_list=[0]\n",
    "# helper.get_recommendations(query_vector_idx_list, embed_list, genre_list, tid_list, artist_info, genre_info)\n",
    "\n",
    "embed_string = \"She felt a quiet heaviness in her chest, like a storm was building but hadn't broken yet\"\n",
    "embed_string = \"He was brimming with energy, every step lighter than the last, as if the world had finally started to make sense.\"\n",
    "helper.match_song_to_embed(embed_string, embed_list, genre_list, tid_list, artist_info, genre_info)"
   ]
  }
 ],
 "metadata": {
  "kernelspec": {
   "display_name": "Python 3 (ipykernel)",
   "language": "python",
   "name": "python3"
  },
  "language_info": {
   "codemirror_mode": {
    "name": "ipython",
    "version": 3
   },
   "file_extension": ".py",
   "mimetype": "text/x-python",
   "name": "python",
   "nbconvert_exporter": "python",
   "pygments_lexer": "ipython3",
   "version": "3.9.22"
  }
 },
 "nbformat": 4,
 "nbformat_minor": 5
}
