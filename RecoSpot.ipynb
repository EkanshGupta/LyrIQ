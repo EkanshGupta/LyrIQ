{
 "cells": [
  {
   "cell_type": "code",
   "execution_count": 1,
   "metadata": {},
   "outputs": [],
   "source": [
    "import json\n",
    "import pandas as pd\n",
    "from collections import defaultdict\n",
    "from tqdm import tqdm\n",
    "import spotipy\n",
    "from spotipy.oauth2 import SpotifyClientCredentials\n",
    "from spotipy.oauth2 import SpotifyOAuth\n",
    "import os\n",
    "from lyricsgenius import Genius\n",
    "from sys import getsizeof\n",
    "import requests\n",
    "import helper\n",
    "import globals"
   ]
  },
  {
   "cell_type": "code",
   "execution_count": 2,
   "metadata": {},
   "outputs": [],
   "source": [
    "# auth_manager = SpotifyClientCredentials()\n",
    "# sp = spotipy.Spotify(auth_manager=auth_manager)\n",
    "# playlists = sp.user_playlists('spotify')\n",
    "# print(playlists)\n",
    "\n",
    "# song_id, title, url = helper.get_genius_song_id(\"Blinding Lights\", \"The Weeknd\")\n",
    "# print(\"Genius ID:\", song_id)\n",
    "# print(\"Title:\", title)\n",
    "# print(\"Lyrics Page URL:\", url)"
   ]
  },
  {
   "cell_type": "code",
   "execution_count": 3,
   "metadata": {},
   "outputs": [
    {
     "name": "stdout",
     "output_type": "stream",
     "text": [
      "\n",
      "Processing file: ../datasets/spotify/data/mpd.slice.6000-6999.json\n"
     ]
    },
    {
     "name": "stderr",
     "output_type": "stream",
     "text": [
      "Playlist loop:   0%|                                                                                                       | 1/1000 [00:26<7:27:38, 26.89s/it]"
     ]
    },
    {
     "name": "stdout",
     "output_type": "stream",
     "text": [
      "Number of tracks in dict: 210719\n",
      "Successful ID: 6, Unsuccesful ID 1\n",
      "Unsuccesful lyric 0\n",
      "track metadata keys: 210719 and track metadata memory: 10485856 bytes\n",
      "Number of tracks in dict: 210719\n",
      "Successful ID: 0, Unsuccesful ID 0\n",
      "Unsuccesful lyric 0\n",
      "track metadata keys: 210719 and track metadata memory: 10485856 bytes\n"
     ]
    },
    {
     "name": "stderr",
     "output_type": "stream",
     "text": [
      "\r",
      "Playlist loop:   0%|▎                                                                                                      | 3/1000 [00:32<2:30:58,  9.09s/it]"
     ]
    },
    {
     "name": "stdout",
     "output_type": "stream",
     "text": [
      "Number of tracks in dict: 210722\n",
      "Successful ID: 1, Unsuccesful ID 2\n",
      "Unsuccesful lyric 0\n",
      "track metadata keys: 210722 and track metadata memory: 10485856 bytes\n"
     ]
    },
    {
     "name": "stderr",
     "output_type": "stream",
     "text": [
      "\r",
      "Playlist loop:   0%|▍                                                                                                      | 4/1000 [00:33<1:44:56,  6.32s/it]"
     ]
    },
    {
     "name": "stdout",
     "output_type": "stream",
     "text": [
      "Number of tracks in dict: 210724\n",
      "Successful ID: 0, Unsuccesful ID 2\n",
      "Unsuccesful lyric 0\n",
      "track metadata keys: 210724 and track metadata memory: 10485856 bytes\n",
      "Number of tracks in dict: 210724\n",
      "Successful ID: 0, Unsuccesful ID 0\n",
      "Unsuccesful lyric 0\n",
      "track metadata keys: 210724 and track metadata memory: 10485856 bytes\n"
     ]
    },
    {
     "name": "stderr",
     "output_type": "stream",
     "text": [
      "\r",
      "Playlist loop:   1%|▌                                                                                                      | 6/1000 [00:44<1:35:33,  5.77s/it]"
     ]
    },
    {
     "name": "stdout",
     "output_type": "stream",
     "text": [
      "Number of tracks in dict: 210726\n",
      "Successful ID: 2, Unsuccesful ID 0\n",
      "Unsuccesful lyric 0\n",
      "track metadata keys: 210726 and track metadata memory: 10485856 bytes\n"
     ]
    },
    {
     "name": "stderr",
     "output_type": "stream",
     "text": [
      "\r",
      "Playlist loop:   1%|▋                                                                                                      | 7/1000 [01:28<4:21:11, 15.78s/it]"
     ]
    },
    {
     "name": "stdout",
     "output_type": "stream",
     "text": [
      "Number of tracks in dict: 210743\n",
      "Successful ID: 10, Unsuccesful ID 7\n",
      "Unsuccesful lyric 0\n",
      "track metadata keys: 210743 and track metadata memory: 10485856 bytes\n",
      "Number of tracks in dict: 210743\n",
      "Successful ID: 0, Unsuccesful ID 0\n",
      "Unsuccesful lyric 0\n",
      "track metadata keys: 210743 and track metadata memory: 10485856 bytes\n"
     ]
    },
    {
     "name": "stderr",
     "output_type": "stream",
     "text": [
      "\r",
      "Playlist loop:   1%|▉                                                                                                      | 9/1000 [01:49<3:45:36, 13.66s/it]"
     ]
    },
    {
     "name": "stdout",
     "output_type": "stream",
     "text": [
      "Number of tracks in dict: 210749\n",
      "Successful ID: 5, Unsuccesful ID 1\n",
      "Unsuccesful lyric 0\n",
      "track metadata keys: 210749 and track metadata memory: 10485856 bytes\n"
     ]
    },
    {
     "name": "stderr",
     "output_type": "stream",
     "text": [
      "\r",
      "Playlist loop:   1%|█                                                                                                     | 10/1000 [02:00<3:33:40, 12.95s/it]"
     ]
    },
    {
     "name": "stdout",
     "output_type": "stream",
     "text": [
      "Number of tracks in dict: 210755\n",
      "Successful ID: 2, Unsuccesful ID 4\n",
      "Unsuccesful lyric 0\n",
      "track metadata keys: 210755 and track metadata memory: 10485856 bytes\n"
     ]
    },
    {
     "name": "stderr",
     "output_type": "stream",
     "text": [
      "\r",
      "Playlist loop:   1%|█                                                                                                     | 11/1000 [02:13<3:32:38, 12.90s/it]"
     ]
    },
    {
     "name": "stdout",
     "output_type": "stream",
     "text": [
      "Number of tracks in dict: 210759\n",
      "Successful ID: 3, Unsuccesful ID 1\n",
      "Unsuccesful lyric 0\n",
      "track metadata keys: 210759 and track metadata memory: 10485856 bytes\n",
      "Number of tracks in dict: 210759\n",
      "Successful ID: 0, Unsuccesful ID 0\n",
      "Unsuccesful lyric 0\n",
      "track metadata keys: 210759 and track metadata memory: 10485856 bytes\n"
     ]
    },
    {
     "name": "stderr",
     "output_type": "stream",
     "text": [
      "\r",
      "Playlist loop:   1%|█▎                                                                                                    | 13/1000 [02:27<2:53:10, 10.53s/it]"
     ]
    },
    {
     "name": "stdout",
     "output_type": "stream",
     "text": [
      "Number of tracks in dict: 210763\n",
      "Successful ID: 3, Unsuccesful ID 1\n",
      "Unsuccesful lyric 0\n",
      "track metadata keys: 210763 and track metadata memory: 10485856 bytes\n"
     ]
    },
    {
     "name": "stderr",
     "output_type": "stream",
     "text": [
      "\r",
      "Playlist loop:   1%|█▍                                                                                                    | 14/1000 [02:30<2:26:06,  8.89s/it]"
     ]
    },
    {
     "name": "stdout",
     "output_type": "stream",
     "text": [
      "Number of tracks in dict: 210764\n",
      "Successful ID: 1, Unsuccesful ID 0\n",
      "Unsuccesful lyric 0\n",
      "track metadata keys: 210764 and track metadata memory: 10485856 bytes\n"
     ]
    },
    {
     "name": "stderr",
     "output_type": "stream",
     "text": [
      "\r",
      "Playlist loop:   2%|█▌                                                                                                   | 15/1000 [04:50<11:14:41, 41.10s/it]"
     ]
    },
    {
     "name": "stdout",
     "output_type": "stream",
     "text": [
      "Number of tracks in dict: 210798\n",
      "Successful ID: 32, Unsuccesful ID 2\n",
      "Unsuccesful lyric 0\n",
      "track metadata keys: 210798 and track metadata memory: 10485856 bytes\n"
     ]
    },
    {
     "name": "stderr",
     "output_type": "stream",
     "text": [
      "\r",
      "Playlist loop:   2%|█▋                                                                                                    | 16/1000 [04:54<8:37:00, 31.53s/it]"
     ]
    },
    {
     "name": "stdout",
     "output_type": "stream",
     "text": [
      "Number of tracks in dict: 210799\n",
      "Successful ID: 1, Unsuccesful ID 0\n",
      "Unsuccesful lyric 0\n",
      "track metadata keys: 210799 and track metadata memory: 10485856 bytes\n",
      "Number of tracks in dict: 210799\n",
      "Successful ID: 0, Unsuccesful ID 0\n",
      "Unsuccesful lyric 0\n",
      "track metadata keys: 210799 and track metadata memory: 10485856 bytes\n"
     ]
    },
    {
     "name": "stderr",
     "output_type": "stream",
     "text": [
      "\r",
      "Playlist loop:   2%|█▊                                                                                                    | 18/1000 [05:11<5:54:09, 21.64s/it]"
     ]
    },
    {
     "name": "stdout",
     "output_type": "stream",
     "text": [
      "Number of tracks in dict: 210804\n",
      "Successful ID: 3, Unsuccesful ID 2\n",
      "Unsuccesful lyric 0\n",
      "track metadata keys: 210804 and track metadata memory: 10485856 bytes\n",
      "Number of tracks in dict: 210804\n",
      "Successful ID: 0, Unsuccesful ID 0\n",
      "Unsuccesful lyric 0\n",
      "track metadata keys: 210804 and track metadata memory: 10485856 bytes\n",
      "Number of tracks in dict: 210804\n",
      "Successful ID: 0, Unsuccesful ID 0\n",
      "Unsuccesful lyric 0\n",
      "track metadata keys: 210804 and track metadata memory: 10485856 bytes\n"
     ]
    },
    {
     "name": "stderr",
     "output_type": "stream",
     "text": [
      "\r",
      "Playlist loop:   2%|██▏                                                                                                   | 21/1000 [05:19<3:26:43, 12.67s/it]"
     ]
    },
    {
     "name": "stdout",
     "output_type": "stream",
     "text": [
      "Number of tracks in dict: 210806\n",
      "Successful ID: 2, Unsuccesful ID 0\n",
      "Unsuccesful lyric 0\n",
      "track metadata keys: 210806 and track metadata memory: 10485856 bytes\n",
      "Number of tracks in dict: 210806\n",
      "Successful ID: 0, Unsuccesful ID 0\n",
      "Unsuccesful lyric 0\n",
      "track metadata keys: 210806 and track metadata memory: 10485856 bytes\n"
     ]
    },
    {
     "name": "stderr",
     "output_type": "stream",
     "text": [
      "\r",
      "Playlist loop:   2%|██▎                                                                                                   | 23/1000 [06:17<4:48:29, 17.72s/it]"
     ]
    },
    {
     "name": "stdout",
     "output_type": "stream",
     "text": [
      "Number of tracks in dict: 210822\n",
      "Successful ID: 13, Unsuccesful ID 3\n",
      "Unsuccesful lyric 0\n",
      "track metadata keys: 210822 and track metadata memory: 10485856 bytes\n"
     ]
    },
    {
     "name": "stderr",
     "output_type": "stream",
     "text": [
      "\r",
      "Playlist loop:   2%|██▍                                                                                                   | 24/1000 [06:21<4:06:29, 15.15s/it]"
     ]
    },
    {
     "name": "stdout",
     "output_type": "stream",
     "text": [
      "Number of tracks in dict: 210823\n",
      "Successful ID: 1, Unsuccesful ID 0\n",
      "Unsuccesful lyric 0\n",
      "track metadata keys: 210823 and track metadata memory: 10485856 bytes\n"
     ]
    },
    {
     "name": "stderr",
     "output_type": "stream",
     "text": [
      "\r",
      "Playlist loop:   2%|██▌                                                                                                   | 25/1000 [06:57<5:17:49, 19.56s/it]"
     ]
    },
    {
     "name": "stdout",
     "output_type": "stream",
     "text": [
      "Number of tracks in dict: 210834\n",
      "Successful ID: 8, Unsuccesful ID 3\n",
      "Unsuccesful lyric 0\n",
      "track metadata keys: 210834 and track metadata memory: 10485856 bytes\n",
      "Number of tracks in dict: 210834\n",
      "Successful ID: 0, Unsuccesful ID 0\n",
      "Unsuccesful lyric 0\n",
      "track metadata keys: 210834 and track metadata memory: 10485856 bytes\n"
     ]
    },
    {
     "name": "stderr",
     "output_type": "stream",
     "text": [
      "\r",
      "Playlist loop:   3%|██▊                                                                                                   | 27/1000 [07:02<3:32:53, 13.13s/it]"
     ]
    },
    {
     "name": "stdout",
     "output_type": "stream",
     "text": [
      "Number of tracks in dict: 210836\n",
      "Successful ID: 1, Unsuccesful ID 1\n",
      "Unsuccesful lyric 0\n",
      "track metadata keys: 210836 and track metadata memory: 10485856 bytes\n"
     ]
    },
    {
     "name": "stderr",
     "output_type": "stream",
     "text": [
      "\r",
      "Playlist loop:   3%|██▊                                                                                                   | 28/1000 [07:14<3:28:07, 12.85s/it]"
     ]
    },
    {
     "name": "stdout",
     "output_type": "stream",
     "text": [
      "Number of tracks in dict: 210839\n",
      "Successful ID: 3, Unsuccesful ID 0\n",
      "Unsuccesful lyric 0\n",
      "track metadata keys: 210839 and track metadata memory: 10485856 bytes\n"
     ]
    },
    {
     "name": "stderr",
     "output_type": "stream",
     "text": [
      "\r",
      "Playlist loop:   3%|██▉                                                                                                   | 29/1000 [07:23<3:14:18, 12.01s/it]"
     ]
    },
    {
     "name": "stdout",
     "output_type": "stream",
     "text": [
      "Number of tracks in dict: 210842\n",
      "Successful ID: 2, Unsuccesful ID 1\n",
      "Unsuccesful lyric 0\n",
      "track metadata keys: 210842 and track metadata memory: 10485856 bytes\n"
     ]
    },
    {
     "name": "stderr",
     "output_type": "stream",
     "text": [
      "\r",
      "Playlist loop:   3%|███                                                                                                   | 30/1000 [08:13<5:47:02, 21.47s/it]"
     ]
    },
    {
     "name": "stdout",
     "output_type": "stream",
     "text": [
      "Number of tracks in dict: 210856\n",
      "Successful ID: 11, Unsuccesful ID 3\n",
      "Unsuccesful lyric 0\n",
      "track metadata keys: 210856 and track metadata memory: 10485856 bytes\n"
     ]
    },
    {
     "name": "stderr",
     "output_type": "stream",
     "text": [
      "\r",
      "Playlist loop:   3%|███▏                                                                                                  | 31/1000 [08:16<4:30:32, 16.75s/it]"
     ]
    },
    {
     "name": "stdout",
     "output_type": "stream",
     "text": [
      "Number of tracks in dict: 210857\n",
      "Successful ID: 1, Unsuccesful ID 0\n",
      "Unsuccesful lyric 0\n",
      "track metadata keys: 210857 and track metadata memory: 10485856 bytes\n"
     ]
    },
    {
     "name": "stderr",
     "output_type": "stream",
     "text": [
      "\r",
      "Playlist loop:   3%|███▎                                                                                                  | 32/1000 [08:25<3:54:55, 14.56s/it]"
     ]
    },
    {
     "name": "stdout",
     "output_type": "stream",
     "text": [
      "Number of tracks in dict: 210862\n",
      "Successful ID: 2, Unsuccesful ID 3\n",
      "Unsuccesful lyric 0\n",
      "track metadata keys: 210862 and track metadata memory: 10485856 bytes\n"
     ]
    },
    {
     "name": "stderr",
     "output_type": "stream",
     "text": [
      "\r",
      "Playlist loop:   3%|███▎                                                                                                  | 33/1000 [08:29<3:06:57, 11.60s/it]"
     ]
    },
    {
     "name": "stdout",
     "output_type": "stream",
     "text": [
      "Number of tracks in dict: 210863\n",
      "Successful ID: 1, Unsuccesful ID 0\n",
      "Unsuccesful lyric 0\n",
      "track metadata keys: 210863 and track metadata memory: 10485856 bytes\n",
      "Number of tracks in dict: 210863\n",
      "Successful ID: 0, Unsuccesful ID 0\n",
      "Unsuccesful lyric 0\n",
      "track metadata keys: 210863 and track metadata memory: 10485856 bytes\n"
     ]
    },
    {
     "name": "stderr",
     "output_type": "stream",
     "text": [
      "\r",
      "Playlist loop:   4%|███▌                                                                                                  | 35/1000 [08:30<1:46:35,  6.63s/it]"
     ]
    },
    {
     "name": "stdout",
     "output_type": "stream",
     "text": [
      "Number of tracks in dict: 210865\n",
      "Successful ID: 0, Unsuccesful ID 2\n",
      "Unsuccesful lyric 0\n",
      "track metadata keys: 210865 and track metadata memory: 10485856 bytes\n",
      "Number of tracks in dict: 210865\n",
      "Successful ID: 0, Unsuccesful ID 0\n",
      "Unsuccesful lyric 0\n",
      "track metadata keys: 210865 and track metadata memory: 10485856 bytes\n"
     ]
    },
    {
     "name": "stderr",
     "output_type": "stream",
     "text": [
      "\r",
      "Playlist loop:   4%|███▊                                                                                                  | 37/1000 [08:38<1:30:16,  5.62s/it]"
     ]
    },
    {
     "name": "stdout",
     "output_type": "stream",
     "text": [
      "Number of tracks in dict: 210867\n",
      "Successful ID: 2, Unsuccesful ID 0\n",
      "Unsuccesful lyric 0\n",
      "track metadata keys: 210867 and track metadata memory: 10485856 bytes\n",
      "Number of tracks in dict: 210867\n",
      "Successful ID: 0, Unsuccesful ID 0\n",
      "Unsuccesful lyric 0\n",
      "track metadata keys: 210867 and track metadata memory: 10485856 bytes\n"
     ]
    },
    {
     "name": "stderr",
     "output_type": "stream",
     "text": [
      "\r",
      "Playlist loop:   4%|███▉                                                                                                  | 39/1000 [09:42<4:02:19, 15.13s/it]"
     ]
    },
    {
     "name": "stdout",
     "output_type": "stream",
     "text": [
      "Number of tracks in dict: 210887\n",
      "Successful ID: 15, Unsuccesful ID 5\n",
      "Unsuccesful lyric 0\n",
      "track metadata keys: 210887 and track metadata memory: 10485856 bytes\n"
     ]
    },
    {
     "name": "stderr",
     "output_type": "stream",
     "text": [
      "\r",
      "Playlist loop:   4%|████                                                                                                  | 40/1000 [10:08<4:34:30, 17.16s/it]"
     ]
    },
    {
     "name": "stdout",
     "output_type": "stream",
     "text": [
      "Number of tracks in dict: 210895\n",
      "Successful ID: 6, Unsuccesful ID 2\n",
      "Unsuccesful lyric 0\n",
      "track metadata keys: 210895 and track metadata memory: 10485856 bytes\n"
     ]
    },
    {
     "name": "stderr",
     "output_type": "stream",
     "text": [
      "Playlist loop:   4%|████▎                                                                                                 | 42/1000 [10:13<2:54:25, 10.92s/it]"
     ]
    },
    {
     "name": "stdout",
     "output_type": "stream",
     "text": [
      "Number of tracks in dict: 210897\n",
      "Successful ID: 1, Unsuccesful ID 1\n",
      "Unsuccesful lyric 0\n",
      "track metadata keys: 210897 and track metadata memory: 10485856 bytes\n",
      "Number of tracks in dict: 210898\n",
      "Successful ID: 0, Unsuccesful ID 1\n",
      "Unsuccesful lyric 0\n",
      "track metadata keys: 210898 and track metadata memory: 10485856 bytes\n"
     ]
    },
    {
     "name": "stderr",
     "output_type": "stream",
     "text": [
      "\r",
      "Playlist loop:   4%|████▍                                                                                                 | 43/1000 [10:18<2:31:40,  9.51s/it]"
     ]
    },
    {
     "name": "stdout",
     "output_type": "stream",
     "text": [
      "Number of tracks in dict: 210900\n",
      "Successful ID: 1, Unsuccesful ID 1\n",
      "Unsuccesful lyric 0\n",
      "track metadata keys: 210900 and track metadata memory: 10485856 bytes\n"
     ]
    },
    {
     "name": "stderr",
     "output_type": "stream",
     "text": [
      "\r",
      "Playlist loop:   4%|████▍                                                                                                 | 44/1000 [10:34<3:01:08, 11.37s/it]"
     ]
    },
    {
     "name": "stdout",
     "output_type": "stream",
     "text": [
      "Number of tracks in dict: 210905\n",
      "Successful ID: 4, Unsuccesful ID 1\n",
      "Unsuccesful lyric 0\n",
      "track metadata keys: 210905 and track metadata memory: 10485856 bytes\n",
      "Number of tracks in dict: 210905\n",
      "Successful ID: 0, Unsuccesful ID 0\n",
      "Unsuccesful lyric 0\n",
      "track metadata keys: 210905 and track metadata memory: 10485856 bytes\n"
     ]
    },
    {
     "name": "stderr",
     "output_type": "stream",
     "text": [
      "\r",
      "Playlist loop:   5%|████▋                                                                                                 | 46/1000 [11:18<4:11:37, 15.83s/it]"
     ]
    },
    {
     "name": "stdout",
     "output_type": "stream",
     "text": [
      "Number of tracks in dict: 210916\n",
      "Successful ID: 10, Unsuccesful ID 1\n",
      "Unsuccesful lyric 0\n",
      "track metadata keys: 210916 and track metadata memory: 10485856 bytes\n",
      "Number of tracks in dict: 210916\n",
      "Successful ID: 0, Unsuccesful ID 0\n",
      "Unsuccesful lyric 0\n",
      "track metadata keys: 210916 and track metadata memory: 10485856 bytes\n"
     ]
    },
    {
     "name": "stderr",
     "output_type": "stream",
     "text": [
      "\r",
      "Playlist loop:   5%|████▉                                                                                                 | 48/1000 [11:29<3:09:53, 11.97s/it]"
     ]
    },
    {
     "name": "stdout",
     "output_type": "stream",
     "text": [
      "Number of tracks in dict: 210920\n",
      "Successful ID: 3, Unsuccesful ID 1\n",
      "Unsuccesful lyric 0\n",
      "track metadata keys: 210920 and track metadata memory: 10485856 bytes\n"
     ]
    },
    {
     "name": "stderr",
     "output_type": "stream",
     "text": [
      "\r",
      "Playlist loop:   5%|████▉                                                                                                 | 49/1000 [12:28<5:49:16, 22.04s/it]"
     ]
    },
    {
     "name": "stdout",
     "output_type": "stream",
     "text": [
      "Number of tracks in dict: 210959\n",
      "Successful ID: 11, Unsuccesful ID 28\n",
      "Unsuccesful lyric 0\n",
      "track metadata keys: 210959 and track metadata memory: 10485856 bytes\n"
     ]
    },
    {
     "name": "stderr",
     "output_type": "stream",
     "text": [
      "\r",
      "Playlist loop:   5%|█████                                                                                                 | 50/1000 [12:57<6:16:03, 23.75s/it]"
     ]
    },
    {
     "name": "stdout",
     "output_type": "stream",
     "text": [
      "Number of tracks in dict: 210969\n",
      "Successful ID: 7, Unsuccesful ID 3\n",
      "Unsuccesful lyric 0\n",
      "track metadata keys: 210969 and track metadata memory: 10485856 bytes\n",
      "Number of tracks in dict: 210969\n",
      "Successful ID: 0, Unsuccesful ID 0\n",
      "Unsuccesful lyric 0\n",
      "track metadata keys: 210969 and track metadata memory: 10485856 bytes\n"
     ]
    },
    {
     "name": "stderr",
     "output_type": "stream",
     "text": [
      "\r",
      "Playlist loop:   5%|█████▎                                                                                                | 52/1000 [13:03<4:03:43, 15.43s/it]"
     ]
    },
    {
     "name": "stdout",
     "output_type": "stream",
     "text": [
      "Number of tracks in dict: 210971\n",
      "Successful ID: 1, Unsuccesful ID 1\n",
      "Unsuccesful lyric 0\n",
      "track metadata keys: 210971 and track metadata memory: 10485856 bytes\n"
     ]
    },
    {
     "name": "stderr",
     "output_type": "stream",
     "text": [
      "\r",
      "Playlist loop:   5%|█████▍                                                                                                | 53/1000 [13:07<3:23:34, 12.90s/it]"
     ]
    },
    {
     "name": "stdout",
     "output_type": "stream",
     "text": [
      "Number of tracks in dict: 210972\n",
      "Successful ID: 1, Unsuccesful ID 0\n",
      "Unsuccesful lyric 0\n",
      "track metadata keys: 210972 and track metadata memory: 10485856 bytes\n"
     ]
    },
    {
     "name": "stderr",
     "output_type": "stream",
     "text": [
      "\r",
      "Playlist loop:   5%|█████▌                                                                                                | 54/1000 [13:12<2:51:26, 10.87s/it]"
     ]
    },
    {
     "name": "stdout",
     "output_type": "stream",
     "text": [
      "Number of tracks in dict: 210975\n",
      "Successful ID: 1, Unsuccesful ID 2\n",
      "Unsuccesful lyric 0\n",
      "track metadata keys: 210975 and track metadata memory: 10485856 bytes\n"
     ]
    },
    {
     "name": "stderr",
     "output_type": "stream",
     "text": [
      "\r",
      "Playlist loop:   6%|█████▌                                                                                                | 55/1000 [14:18<6:35:19, 25.10s/it]"
     ]
    },
    {
     "name": "stdout",
     "output_type": "stream",
     "text": [
      "Number of tracks in dict: 211024\n",
      "Successful ID: 13, Unsuccesful ID 36\n",
      "Unsuccesful lyric 0\n",
      "track metadata keys: 211024 and track metadata memory: 10485856 bytes\n",
      "Number of tracks in dict: 211024\n",
      "Successful ID: 0, Unsuccesful ID 0\n",
      "Unsuccesful lyric 0\n",
      "track metadata keys: 211024 and track metadata memory: 10485856 bytes\n"
     ]
    },
    {
     "name": "stderr",
     "output_type": "stream",
     "text": [
      "\r",
      "Playlist loop:   6%|█████▊                                                                                                | 57/1000 [14:23<4:02:48, 15.45s/it]"
     ]
    },
    {
     "name": "stdout",
     "output_type": "stream",
     "text": [
      "Number of tracks in dict: 211025\n",
      "Successful ID: 1, Unsuccesful ID 0\n",
      "Unsuccesful lyric 0\n",
      "track metadata keys: 211025 and track metadata memory: 10485856 bytes\n"
     ]
    },
    {
     "name": "stderr",
     "output_type": "stream",
     "text": [
      "\r",
      "Playlist loop:   6%|█████▉                                                                                                | 58/1000 [14:42<4:15:24, 16.27s/it]"
     ]
    },
    {
     "name": "stdout",
     "output_type": "stream",
     "text": [
      "Number of tracks in dict: 211029\n",
      "Successful ID: 4, Unsuccesful ID 0\n",
      "Unsuccesful lyric 0\n",
      "track metadata keys: 211029 and track metadata memory: 10485856 bytes\n"
     ]
    },
    {
     "name": "stderr",
     "output_type": "stream",
     "text": [
      "\r",
      "Playlist loop:   6%|██████                                                                                                | 59/1000 [15:32<6:26:13, 24.63s/it]"
     ]
    },
    {
     "name": "stdout",
     "output_type": "stream",
     "text": [
      "Number of tracks in dict: 211041\n",
      "Successful ID: 12, Unsuccesful ID 0\n",
      "Unsuccesful lyric 0\n",
      "track metadata keys: 211041 and track metadata memory: 10485856 bytes\n"
     ]
    },
    {
     "name": "stderr",
     "output_type": "stream",
     "text": [
      "\r",
      "Playlist loop:   6%|██████                                                                                                | 60/1000 [15:36<5:01:09, 19.22s/it]"
     ]
    },
    {
     "name": "stdout",
     "output_type": "stream",
     "text": [
      "Number of tracks in dict: 211042\n",
      "Successful ID: 1, Unsuccesful ID 0\n",
      "Unsuccesful lyric 0\n",
      "track metadata keys: 211042 and track metadata memory: 10485856 bytes\n"
     ]
    },
    {
     "name": "stderr",
     "output_type": "stream",
     "text": [
      "\r",
      "Playlist loop:   6%|██████▏                                                                                               | 61/1000 [16:07<5:50:58, 22.43s/it]"
     ]
    },
    {
     "name": "stdout",
     "output_type": "stream",
     "text": [
      "Number of tracks in dict: 211057\n",
      "Successful ID: 7, Unsuccesful ID 8\n",
      "Unsuccesful lyric 0\n",
      "track metadata keys: 211057 and track metadata memory: 10485856 bytes\n"
     ]
    },
    {
     "name": "stderr",
     "output_type": "stream",
     "text": [
      "\r",
      "Playlist loop:   6%|██████▎                                                                                               | 62/1000 [16:36<6:20:18, 24.33s/it]"
     ]
    },
    {
     "name": "stdout",
     "output_type": "stream",
     "text": [
      "Number of tracks in dict: 211068\n",
      "Successful ID: 7, Unsuccesful ID 4\n",
      "Unsuccesful lyric 0\n",
      "track metadata keys: 211068 and track metadata memory: 10485856 bytes\n",
      "Number of tracks in dict: 211068\n",
      "Successful ID: 0, Unsuccesful ID 0\n",
      "Unsuccesful lyric 0\n",
      "track metadata keys: 211068 and track metadata memory: 10485856 bytes\n"
     ]
    },
    {
     "name": "stderr",
     "output_type": "stream",
     "text": [
      "\r",
      "Playlist loop:   6%|██████▌                                                                                               | 64/1000 [17:14<5:43:46, 22.04s/it]"
     ]
    },
    {
     "name": "stdout",
     "output_type": "stream",
     "text": [
      "Number of tracks in dict: 211078\n",
      "Successful ID: 9, Unsuccesful ID 1\n",
      "Unsuccesful lyric 0\n",
      "track metadata keys: 211078 and track metadata memory: 10485856 bytes\n"
     ]
    },
    {
     "name": "stderr",
     "output_type": "stream",
     "text": [
      "\r",
      "Playlist loop:   6%|██████▋                                                                                               | 65/1000 [17:30<5:19:52, 20.53s/it]"
     ]
    },
    {
     "name": "stdout",
     "output_type": "stream",
     "text": [
      "Number of tracks in dict: 211082\n",
      "Successful ID: 4, Unsuccesful ID 0\n",
      "Unsuccesful lyric 0\n",
      "track metadata keys: 211082 and track metadata memory: 10485856 bytes\n",
      "Number of tracks in dict: 211082\n",
      "Successful ID: 0, Unsuccesful ID 0\n",
      "Unsuccesful lyric 0\n",
      "track metadata keys: 211082 and track metadata memory: 10485856 bytes\n"
     ]
    },
    {
     "name": "stderr",
     "output_type": "stream",
     "text": [
      "\r",
      "Playlist loop:   7%|██████▊                                                                                               | 67/1000 [17:34<3:21:09, 12.94s/it]"
     ]
    },
    {
     "name": "stdout",
     "output_type": "stream",
     "text": [
      "Number of tracks in dict: 211083\n",
      "Successful ID: 1, Unsuccesful ID 0\n",
      "Unsuccesful lyric 0\n",
      "track metadata keys: 211083 and track metadata memory: 10485856 bytes\n",
      "Number of tracks in dict: 211083\n",
      "Successful ID: 0, Unsuccesful ID 0\n",
      "Unsuccesful lyric 0\n",
      "track metadata keys: 211083 and track metadata memory: 10485856 bytes\n"
     ]
    },
    {
     "name": "stderr",
     "output_type": "stream",
     "text": [
      "\r",
      "Playlist loop:   7%|███████                                                                                               | 69/1000 [17:38<2:17:50,  8.88s/it]"
     ]
    },
    {
     "name": "stdout",
     "output_type": "stream",
     "text": [
      "Number of tracks in dict: 211084\n",
      "Successful ID: 1, Unsuccesful ID 0\n",
      "Unsuccesful lyric 0\n",
      "track metadata keys: 211084 and track metadata memory: 10485856 bytes\n"
     ]
    },
    {
     "name": "stderr",
     "output_type": "stream",
     "text": [
      "\r",
      "Playlist loop:   7%|███████▏                                                                                              | 70/1000 [18:40<5:08:39, 19.91s/it]"
     ]
    },
    {
     "name": "stdout",
     "output_type": "stream",
     "text": [
      "Number of tracks in dict: 211105\n",
      "Successful ID: 15, Unsuccesful ID 6\n",
      "Unsuccesful lyric 0\n",
      "track metadata keys: 211105 and track metadata memory: 10485856 bytes\n",
      "Number of tracks in dict: 211105\n",
      "Successful ID: 0, Unsuccesful ID 0\n",
      "Unsuccesful lyric 0\n",
      "track metadata keys: 211105 and track metadata memory: 10485856 bytes\n"
     ]
    },
    {
     "name": "stderr",
     "output_type": "stream",
     "text": [
      "\r",
      "Playlist loop:   7%|███████▎                                                                                              | 72/1000 [19:55<6:50:51, 26.56s/it]"
     ]
    },
    {
     "name": "stdout",
     "output_type": "stream",
     "text": [
      "Number of tracks in dict: 211131\n",
      "Successful ID: 18, Unsuccesful ID 8\n",
      "Unsuccesful lyric 0\n",
      "track metadata keys: 211131 and track metadata memory: 10485856 bytes\n"
     ]
    },
    {
     "name": "stderr",
     "output_type": "stream",
     "text": [
      "\r",
      "Playlist loop:   7%|███████▍                                                                                              | 73/1000 [20:11<6:17:02, 24.40s/it]"
     ]
    },
    {
     "name": "stdout",
     "output_type": "stream",
     "text": [
      "Number of tracks in dict: 211135\n",
      "Successful ID: 4, Unsuccesful ID 0\n",
      "Unsuccesful lyric 0\n",
      "track metadata keys: 211135 and track metadata memory: 10485856 bytes\n"
     ]
    },
    {
     "name": "stderr",
     "output_type": "stream",
     "text": [
      "\r",
      "Playlist loop:   7%|███████▌                                                                                              | 74/1000 [20:32<6:04:16, 23.60s/it]"
     ]
    },
    {
     "name": "stdout",
     "output_type": "stream",
     "text": [
      "Number of tracks in dict: 211142\n",
      "Successful ID: 5, Unsuccesful ID 2\n",
      "Unsuccesful lyric 0\n",
      "track metadata keys: 211142 and track metadata memory: 10485856 bytes\n"
     ]
    },
    {
     "name": "stderr",
     "output_type": "stream",
     "text": [
      "\r",
      "Playlist loop:   8%|███████▋                                                                                              | 75/1000 [21:10<6:56:08, 26.99s/it]"
     ]
    },
    {
     "name": "stdout",
     "output_type": "stream",
     "text": [
      "Number of tracks in dict: 211269\n",
      "Successful ID: 3, Unsuccesful ID 124\n",
      "Unsuccesful lyric 0\n",
      "track metadata keys: 211269 and track metadata memory: 10485856 bytes\n"
     ]
    },
    {
     "name": "stderr",
     "output_type": "stream",
     "text": [
      "\r",
      "Playlist loop:   8%|███████▊                                                                                              | 76/1000 [21:30<6:27:35, 25.17s/it]"
     ]
    },
    {
     "name": "stdout",
     "output_type": "stream",
     "text": [
      "Number of tracks in dict: 211275\n",
      "Successful ID: 5, Unsuccesful ID 1\n",
      "Unsuccesful lyric 0\n",
      "track metadata keys: 211275 and track metadata memory: 10485856 bytes\n"
     ]
    },
    {
     "name": "stderr",
     "output_type": "stream",
     "text": [
      "\r",
      "Playlist loop:   8%|███████▊                                                                                              | 77/1000 [21:40<5:26:33, 21.23s/it]"
     ]
    },
    {
     "name": "stdout",
     "output_type": "stream",
     "text": [
      "Number of tracks in dict: 211278\n",
      "Successful ID: 3, Unsuccesful ID 0\n",
      "Unsuccesful lyric 0\n",
      "track metadata keys: 211278 and track metadata memory: 10485856 bytes\n",
      "Number of tracks in dict: 211278\n",
      "Successful ID: 0, Unsuccesful ID 0\n",
      "Unsuccesful lyric 0\n",
      "track metadata keys: 211278 and track metadata memory: 10485856 bytes\n"
     ]
    },
    {
     "name": "stderr",
     "output_type": "stream",
     "text": [
      "\r",
      "Playlist loop:   8%|████████                                                                                              | 79/1000 [23:28<9:04:50, 35.49s/it]"
     ]
    },
    {
     "name": "stdout",
     "output_type": "stream",
     "text": [
      "Number of tracks in dict: 211340\n",
      "Successful ID: 24, Unsuccesful ID 38\n",
      "Unsuccesful lyric 0\n",
      "track metadata keys: 211340 and track metadata memory: 10485856 bytes\n"
     ]
    },
    {
     "name": "stderr",
     "output_type": "stream",
     "text": [
      "\r",
      "Playlist loop:   8%|████████▏                                                                                             | 80/1000 [23:28<6:56:07, 27.14s/it]"
     ]
    },
    {
     "name": "stdout",
     "output_type": "stream",
     "text": [
      "Number of tracks in dict: 211342\n",
      "Successful ID: 0, Unsuccesful ID 2\n",
      "Unsuccesful lyric 0\n",
      "track metadata keys: 211342 and track metadata memory: 10485856 bytes\n"
     ]
    },
    {
     "name": "stderr",
     "output_type": "stream",
     "text": [
      "\r",
      "Playlist loop:   8%|████████▎                                                                                             | 81/1000 [23:29<5:10:59, 20.30s/it]"
     ]
    },
    {
     "name": "stdout",
     "output_type": "stream",
     "text": [
      "Number of tracks in dict: 211343\n",
      "Successful ID: 0, Unsuccesful ID 1\n",
      "Unsuccesful lyric 0\n",
      "track metadata keys: 211343 and track metadata memory: 10485856 bytes\n",
      "Number of tracks in dict: 211343\n",
      "Successful ID: 0, Unsuccesful ID 0\n",
      "Unsuccesful lyric 0\n",
      "track metadata keys: 211343 and track metadata memory: 10485856 bytes\n"
     ]
    },
    {
     "name": "stderr",
     "output_type": "stream",
     "text": [
      "\r",
      "Playlist loop:   8%|████████▍                                                                                             | 83/1000 [23:34<3:16:38, 12.87s/it]"
     ]
    },
    {
     "name": "stdout",
     "output_type": "stream",
     "text": [
      "Number of tracks in dict: 211344\n",
      "Successful ID: 1, Unsuccesful ID 0\n",
      "Unsuccesful lyric 0\n",
      "track metadata keys: 211344 and track metadata memory: 10485856 bytes\n"
     ]
    },
    {
     "name": "stderr",
     "output_type": "stream",
     "text": [
      "\r",
      "Playlist loop:   8%|████████▌                                                                                             | 84/1000 [23:38<2:44:40, 10.79s/it]"
     ]
    },
    {
     "name": "stdout",
     "output_type": "stream",
     "text": [
      "Number of tracks in dict: 211345\n",
      "Successful ID: 1, Unsuccesful ID 0\n",
      "Unsuccesful lyric 0\n",
      "track metadata keys: 211345 and track metadata memory: 10485856 bytes\n"
     ]
    },
    {
     "name": "stderr",
     "output_type": "stream",
     "text": [
      "\r",
      "Playlist loop:   8%|████████▋                                                                                             | 85/1000 [23:42<2:20:03,  9.18s/it]"
     ]
    },
    {
     "name": "stdout",
     "output_type": "stream",
     "text": [
      "Number of tracks in dict: 211346\n",
      "Successful ID: 1, Unsuccesful ID 0\n",
      "Unsuccesful lyric 0\n",
      "track metadata keys: 211346 and track metadata memory: 10485856 bytes\n",
      "Number of tracks in dict: 211346\n",
      "Successful ID: 0, Unsuccesful ID 0\n",
      "Unsuccesful lyric 0\n",
      "track metadata keys: 211346 and track metadata memory: 10485856 bytes\n"
     ]
    },
    {
     "name": "stderr",
     "output_type": "stream",
     "text": [
      "\r",
      "Playlist loop:   9%|████████▊                                                                                             | 87/1000 [26:07<9:00:10, 35.50s/it]"
     ]
    },
    {
     "name": "stdout",
     "output_type": "stream",
     "text": [
      "Number of tracks in dict: 211386\n",
      "Successful ID: 37, Unsuccesful ID 3\n",
      "Unsuccesful lyric 0\n",
      "track metadata keys: 211386 and track metadata memory: 10485856 bytes\n"
     ]
    },
    {
     "name": "stderr",
     "output_type": "stream",
     "text": [
      "\r",
      "Playlist loop:   9%|████████▉                                                                                            | 88/1000 [28:09<14:01:01, 55.33s/it]"
     ]
    },
    {
     "name": "stdout",
     "output_type": "stream",
     "text": [
      "Number of tracks in dict: 211425\n",
      "Successful ID: 30, Unsuccesful ID 9\n",
      "Unsuccesful lyric 0\n",
      "track metadata keys: 211425 and track metadata memory: 10485856 bytes\n"
     ]
    },
    {
     "name": "stderr",
     "output_type": "stream",
     "text": [
      "\r",
      "Playlist loop:   9%|████████▉                                                                                            | 89/1000 [28:34<12:05:26, 47.78s/it]"
     ]
    },
    {
     "name": "stdout",
     "output_type": "stream",
     "text": [
      "Number of tracks in dict: 211438\n",
      "Successful ID: 6, Unsuccesful ID 7\n",
      "Unsuccesful lyric 0\n",
      "track metadata keys: 211438 and track metadata memory: 10485856 bytes\n"
     ]
    },
    {
     "name": "stderr",
     "output_type": "stream",
     "text": [
      "\r",
      "Playlist loop:   9%|█████████                                                                                            | 90/1000 [28:50<10:00:34, 39.60s/it]"
     ]
    },
    {
     "name": "stdout",
     "output_type": "stream",
     "text": [
      "Number of tracks in dict: 211445\n",
      "Successful ID: 4, Unsuccesful ID 3\n",
      "Unsuccesful lyric 0\n",
      "track metadata keys: 211445 and track metadata memory: 10485856 bytes\n"
     ]
    },
    {
     "name": "stderr",
     "output_type": "stream",
     "text": [
      "\r",
      "Playlist loop:   9%|█████████▎                                                                                            | 91/1000 [28:59<7:51:09, 31.10s/it]"
     ]
    },
    {
     "name": "stdout",
     "output_type": "stream",
     "text": [
      "Number of tracks in dict: 211447\n",
      "Successful ID: 2, Unsuccesful ID 0\n",
      "Unsuccesful lyric 0\n",
      "track metadata keys: 211447 and track metadata memory: 10485856 bytes\n"
     ]
    },
    {
     "name": "stderr",
     "output_type": "stream",
     "text": [
      "\r",
      "Playlist loop:   9%|█████████▍                                                                                            | 92/1000 [28:59<5:41:37, 22.57s/it]"
     ]
    },
    {
     "name": "stdout",
     "output_type": "stream",
     "text": [
      "Number of tracks in dict: 211449\n",
      "Successful ID: 0, Unsuccesful ID 2\n",
      "Unsuccesful lyric 0\n",
      "track metadata keys: 211449 and track metadata memory: 10485856 bytes\n"
     ]
    },
    {
     "name": "stderr",
     "output_type": "stream",
     "text": [
      "\r",
      "Playlist loop:   9%|█████████▍                                                                                            | 93/1000 [29:24<5:49:32, 23.12s/it]"
     ]
    },
    {
     "name": "stdout",
     "output_type": "stream",
     "text": [
      "Number of tracks in dict: 211511\n",
      "Successful ID: 2, Unsuccesful ID 60\n",
      "Unsuccesful lyric 0\n",
      "track metadata keys: 211511 and track metadata memory: 10485856 bytes\n"
     ]
    },
    {
     "name": "stderr",
     "output_type": "stream",
     "text": [
      "\r",
      "Playlist loop:   9%|█████████▌                                                                                            | 94/1000 [30:32<9:06:44, 36.21s/it]"
     ]
    },
    {
     "name": "stdout",
     "output_type": "stream",
     "text": [
      "Number of tracks in dict: 211530\n",
      "Successful ID: 17, Unsuccesful ID 2\n",
      "Unsuccesful lyric 0\n",
      "track metadata keys: 211530 and track metadata memory: 10485856 bytes\n"
     ]
    },
    {
     "name": "stderr",
     "output_type": "stream",
     "text": [
      "\r",
      "Playlist loop:  10%|█████████▋                                                                                            | 95/1000 [30:37<6:46:59, 26.98s/it]"
     ]
    },
    {
     "name": "stdout",
     "output_type": "stream",
     "text": [
      "Number of tracks in dict: 211532\n",
      "Successful ID: 1, Unsuccesful ID 1\n",
      "Unsuccesful lyric 0\n",
      "track metadata keys: 211532 and track metadata memory: 10485856 bytes\n",
      "Number of tracks in dict: 211532\n",
      "Successful ID: 0, Unsuccesful ID 0\n",
      "Unsuccesful lyric 0\n",
      "track metadata keys: 211532 and track metadata memory: 10485856 bytes\n",
      "Number of tracks in dict: 211532\n",
      "Successful ID: 0, Unsuccesful ID 0\n",
      "Unsuccesful lyric 0\n",
      "track metadata keys: 211532 and track metadata memory: 10485856 bytes\n",
      "Number of tracks in dict: 211532\n",
      "Successful ID: 0, Unsuccesful ID 0\n",
      "Unsuccesful lyric 0\n",
      "track metadata keys: 211532 and track metadata memory: 10485856 bytes\n",
      "Number of tracks in dict: 211532\n",
      "Successful ID: 0, Unsuccesful ID 0\n",
      "Unsuccesful lyric 0\n",
      "track metadata keys: 211532 and track metadata memory: 10485856 bytes\n",
      "Number of tracks in dict: 211547\n",
      "Successful ID: 11, Unsuccesful ID 4\n",
      "Unsuccesful lyric 0\n",
      "track metadata keys: 211547 and track metadata memory: 10485856 bytes\n"
     ]
    },
    {
     "name": "stderr",
     "output_type": "stream",
     "text": [
      "Playlist loop:  10%|██████████▏                                                                                          | 101/1000 [33:37<8:34:54, 34.37s/it]"
     ]
    },
    {
     "name": "stdout",
     "output_type": "stream",
     "text": [
      "Number of tracks in dict: 211592\n",
      "Successful ID: 32, Unsuccesful ID 13\n",
      "Unsuccesful lyric 0\n",
      "track metadata keys: 211592 and track metadata memory: 10485856 bytes\n"
     ]
    },
    {
     "name": "stderr",
     "output_type": "stream",
     "text": [
      "\r",
      "Playlist loop:  10%|██████████▎                                                                                          | 102/1000 [33:42<7:11:55, 28.86s/it]"
     ]
    },
    {
     "name": "stdout",
     "output_type": "stream",
     "text": [
      "Number of tracks in dict: 211595\n",
      "Successful ID: 1, Unsuccesful ID 2\n",
      "Unsuccesful lyric 0\n",
      "track metadata keys: 211595 and track metadata memory: 10485856 bytes\n"
     ]
    },
    {
     "name": "stderr",
     "output_type": "stream",
     "text": [
      "\r",
      "Playlist loop:  10%|██████████▎                                                                                         | 103/1000 [36:24<14:11:51, 56.98s/it]"
     ]
    },
    {
     "name": "stdout",
     "output_type": "stream",
     "text": [
      "Number of tracks in dict: 211641\n",
      "Successful ID: 39, Unsuccesful ID 7\n",
      "Unsuccesful lyric 0\n",
      "track metadata keys: 211641 and track metadata memory: 10485856 bytes\n"
     ]
    },
    {
     "name": "stderr",
     "output_type": "stream",
     "text": [
      "\r",
      "Playlist loop:  10%|██████████▍                                                                                         | 104/1000 [36:37<11:41:37, 46.98s/it]"
     ]
    },
    {
     "name": "stdout",
     "output_type": "stream",
     "text": [
      "Number of tracks in dict: 211644\n",
      "Successful ID: 3, Unsuccesful ID 0\n",
      "Unsuccesful lyric 0\n",
      "track metadata keys: 211644 and track metadata memory: 10485856 bytes\n"
     ]
    },
    {
     "name": "stderr",
     "output_type": "stream",
     "text": [
      "\r",
      "Playlist loop:  10%|██████████▍                                                                                        | 105/1000 [46:42<46:13:37, 185.94s/it]"
     ]
    },
    {
     "name": "stdout",
     "output_type": "stream",
     "text": [
      "Number of tracks in dict: 211790\n",
      "Successful ID: 136, Unsuccesful ID 10\n",
      "Unsuccesful lyric 0\n",
      "track metadata keys: 211790 and track metadata memory: 10485856 bytes\n"
     ]
    },
    {
     "name": "stderr",
     "output_type": "stream",
     "text": [
      "\r",
      "Playlist loop:  11%|██████████▍                                                                                        | 106/1000 [46:46<34:18:30, 138.15s/it]"
     ]
    },
    {
     "name": "stdout",
     "output_type": "stream",
     "text": [
      "Number of tracks in dict: 211791\n",
      "Successful ID: 1, Unsuccesful ID 0\n",
      "Unsuccesful lyric 0\n",
      "track metadata keys: 211791 and track metadata memory: 10485856 bytes\n"
     ]
    },
    {
     "name": "stderr",
     "output_type": "stream",
     "text": [
      "\r",
      "Playlist loop:  11%|██████████▌                                                                                        | 107/1000 [48:28<31:47:46, 128.18s/it]"
     ]
    },
    {
     "name": "stdout",
     "output_type": "stream",
     "text": [
      "Number of tracks in dict: 211824\n",
      "Successful ID: 24, Unsuccesful ID 9\n",
      "Unsuccesful lyric 0\n",
      "track metadata keys: 211824 and track metadata memory: 10485856 bytes\n",
      "Number of tracks in dict: 211824\n",
      "Successful ID: 0, Unsuccesful ID 0\n",
      "Unsuccesful lyric 0\n",
      "track metadata keys: 211824 and track metadata memory: 10485856 bytes\n"
     ]
    },
    {
     "name": "stderr",
     "output_type": "stream",
     "text": [
      "\r",
      "Playlist loop:  11%|██████████▉                                                                                         | 109/1000 [48:58<19:28:15, 78.67s/it]"
     ]
    },
    {
     "name": "stdout",
     "output_type": "stream",
     "text": [
      "Number of tracks in dict: 211838\n",
      "Successful ID: 7, Unsuccesful ID 7\n",
      "Unsuccesful lyric 0\n",
      "track metadata keys: 211838 and track metadata memory: 10485856 bytes\n"
     ]
    },
    {
     "name": "stderr",
     "output_type": "stream",
     "text": [
      "\r",
      "Playlist loop:  11%|███████████                                                                                         | 110/1000 [49:07<15:20:17, 62.04s/it]"
     ]
    },
    {
     "name": "stdout",
     "output_type": "stream",
     "text": [
      "Number of tracks in dict: 211840\n",
      "Successful ID: 2, Unsuccesful ID 0\n",
      "Unsuccesful lyric 0\n",
      "track metadata keys: 211840 and track metadata memory: 10485856 bytes\n"
     ]
    },
    {
     "name": "stderr",
     "output_type": "stream",
     "text": [
      "\r",
      "Playlist loop:  11%|███████████                                                                                         | 111/1000 [49:38<13:23:01, 54.20s/it]"
     ]
    },
    {
     "name": "stdout",
     "output_type": "stream",
     "text": [
      "Number of tracks in dict: 211851\n",
      "Successful ID: 7, Unsuccesful ID 4\n",
      "Unsuccesful lyric 0\n",
      "track metadata keys: 211851 and track metadata memory: 10485856 bytes\n"
     ]
    },
    {
     "name": "stderr",
     "output_type": "stream",
     "text": [
      "\r",
      "Playlist loop:  11%|███████████▏                                                                                        | 112/1000 [49:43<10:07:32, 41.05s/it]"
     ]
    },
    {
     "name": "stdout",
     "output_type": "stream",
     "text": [
      "Number of tracks in dict: 211854\n",
      "Successful ID: 1, Unsuccesful ID 2\n",
      "Unsuccesful lyric 0\n",
      "track metadata keys: 211854 and track metadata memory: 10485856 bytes\n"
     ]
    },
    {
     "name": "stderr",
     "output_type": "stream",
     "text": [
      "\r",
      "Playlist loop:  11%|███████████▍                                                                                         | 113/1000 [49:43<7:20:52, 29.82s/it]"
     ]
    },
    {
     "name": "stdout",
     "output_type": "stream",
     "text": [
      "Number of tracks in dict: 211855\n",
      "Successful ID: 0, Unsuccesful ID 1\n",
      "Unsuccesful lyric 0\n",
      "track metadata keys: 211855 and track metadata memory: 10485856 bytes\n"
     ]
    },
    {
     "name": "stderr",
     "output_type": "stream",
     "text": [
      "\r",
      "Playlist loop:  11%|███████████▌                                                                                         | 114/1000 [49:48<5:33:51, 22.61s/it]"
     ]
    },
    {
     "name": "stdout",
     "output_type": "stream",
     "text": [
      "Number of tracks in dict: 211856\n",
      "Successful ID: 1, Unsuccesful ID 0\n",
      "Unsuccesful lyric 0\n",
      "track metadata keys: 211856 and track metadata memory: 10485856 bytes\n"
     ]
    },
    {
     "name": "stderr",
     "output_type": "stream",
     "text": [
      "\r",
      "Playlist loop:  12%|███████████▌                                                                                         | 115/1000 [50:03<5:03:02, 20.55s/it]"
     ]
    },
    {
     "name": "stdout",
     "output_type": "stream",
     "text": [
      "Number of tracks in dict: 211860\n",
      "Successful ID: 4, Unsuccesful ID 0\n",
      "Unsuccesful lyric 0\n",
      "track metadata keys: 211860 and track metadata memory: 10485856 bytes\n"
     ]
    },
    {
     "name": "stderr",
     "output_type": "stream",
     "text": [
      "\r",
      "Playlist loop:  12%|███████████▋                                                                                         | 116/1000 [50:08<3:54:19, 15.90s/it]"
     ]
    },
    {
     "name": "stdout",
     "output_type": "stream",
     "text": [
      "Number of tracks in dict: 211862\n",
      "Successful ID: 1, Unsuccesful ID 1\n",
      "Unsuccesful lyric 0\n",
      "track metadata keys: 211862 and track metadata memory: 10485856 bytes\n",
      "Number of tracks in dict: 211862\n",
      "Successful ID: 0, Unsuccesful ID 0\n",
      "Unsuccesful lyric 0\n",
      "track metadata keys: 211862 and track metadata memory: 10485856 bytes\n"
     ]
    },
    {
     "name": "stderr",
     "output_type": "stream",
     "text": [
      "\r",
      "Playlist loop:  12%|███████████▉                                                                                         | 118/1000 [51:02<5:09:47, 21.07s/it]"
     ]
    },
    {
     "name": "stdout",
     "output_type": "stream",
     "text": [
      "Number of tracks in dict: 211881\n",
      "Successful ID: 14, Unsuccesful ID 5\n",
      "Unsuccesful lyric 0\n",
      "track metadata keys: 211881 and track metadata memory: 10485856 bytes\n",
      "Number of tracks in dict: 211881\n",
      "Successful ID: 0, Unsuccesful ID 0\n",
      "Unsuccesful lyric 0\n",
      "track metadata keys: 211881 and track metadata memory: 10485856 bytes\n"
     ]
    },
    {
     "name": "stderr",
     "output_type": "stream",
     "text": [
      "\r",
      "Playlist loop:  12%|████████████                                                                                         | 120/1000 [51:11<3:32:00, 14.45s/it]"
     ]
    },
    {
     "name": "stdout",
     "output_type": "stream",
     "text": [
      "Number of tracks in dict: 211883\n",
      "Successful ID: 2, Unsuccesful ID 0\n",
      "Unsuccesful lyric 0\n",
      "track metadata keys: 211883 and track metadata memory: 10485856 bytes\n"
     ]
    },
    {
     "name": "stderr",
     "output_type": "stream",
     "text": [
      "\r",
      "Playlist loop:  12%|████████████▏                                                                                        | 121/1000 [51:15<3:00:56, 12.35s/it]"
     ]
    },
    {
     "name": "stdout",
     "output_type": "stream",
     "text": [
      "Number of tracks in dict: 211885\n",
      "Successful ID: 1, Unsuccesful ID 1\n",
      "Unsuccesful lyric 0\n",
      "track metadata keys: 211885 and track metadata memory: 10485856 bytes\n"
     ]
    },
    {
     "name": "stderr",
     "output_type": "stream",
     "text": [
      "\r",
      "Playlist loop:  12%|████████████▎                                                                                        | 122/1000 [53:09<8:53:11, 36.44s/it]"
     ]
    },
    {
     "name": "stdout",
     "output_type": "stream",
     "text": [
      "Number of tracks in dict: 211925\n",
      "Successful ID: 28, Unsuccesful ID 12\n",
      "Unsuccesful lyric 0\n",
      "track metadata keys: 211925 and track metadata memory: 10485856 bytes\n"
     ]
    },
    {
     "name": "stderr",
     "output_type": "stream",
     "text": [
      "\r",
      "Playlist loop:  12%|████████████▍                                                                                        | 123/1000 [53:19<7:13:37, 29.67s/it]"
     ]
    },
    {
     "name": "stdout",
     "output_type": "stream",
     "text": [
      "Number of tracks in dict: 211931\n",
      "Successful ID: 2, Unsuccesful ID 4\n",
      "Unsuccesful lyric 0\n",
      "track metadata keys: 211931 and track metadata memory: 10485856 bytes\n",
      "Number of tracks in dict: 211931\n",
      "Successful ID: 0, Unsuccesful ID 0\n",
      "Unsuccesful lyric 0\n",
      "track metadata keys: 211931 and track metadata memory: 10485856 bytes\n"
     ]
    },
    {
     "name": "stderr",
     "output_type": "stream",
     "text": [
      "\r",
      "Playlist loop:  12%|████████████▋                                                                                        | 125/1000 [53:33<4:53:22, 20.12s/it]"
     ]
    },
    {
     "name": "stdout",
     "output_type": "stream",
     "text": [
      "Number of tracks in dict: 211939\n",
      "Successful ID: 3, Unsuccesful ID 5\n",
      "Unsuccesful lyric 0\n",
      "track metadata keys: 211939 and track metadata memory: 10485856 bytes\n",
      "Number of tracks in dict: 211939\n",
      "Successful ID: 0, Unsuccesful ID 0\n",
      "Unsuccesful lyric 0\n",
      "track metadata keys: 211939 and track metadata memory: 10485856 bytes\n"
     ]
    },
    {
     "name": "stderr",
     "output_type": "stream",
     "text": [
      "\r",
      "Playlist loop:  13%|████████████▊                                                                                        | 127/1000 [53:45<3:36:48, 14.90s/it]"
     ]
    },
    {
     "name": "stdout",
     "output_type": "stream",
     "text": [
      "Number of tracks in dict: 211942\n",
      "Successful ID: 3, Unsuccesful ID 0\n",
      "Unsuccesful lyric 0\n",
      "track metadata keys: 211942 and track metadata memory: 10485856 bytes\n",
      "Number of tracks in dict: 211942\n",
      "Successful ID: 0, Unsuccesful ID 0\n",
      "Unsuccesful lyric 0\n",
      "track metadata keys: 211942 and track metadata memory: 10485856 bytes\n"
     ]
    },
    {
     "name": "stderr",
     "output_type": "stream",
     "text": [
      "\r",
      "Playlist loop:  13%|█████████████                                                                                        | 129/1000 [55:51<7:40:13, 31.70s/it]"
     ]
    },
    {
     "name": "stdout",
     "output_type": "stream",
     "text": [
      "Number of tracks in dict: 211986\n",
      "Successful ID: 31, Unsuccesful ID 13\n",
      "Unsuccesful lyric 0\n",
      "track metadata keys: 211986 and track metadata memory: 10485856 bytes\n"
     ]
    },
    {
     "name": "stderr",
     "output_type": "stream",
     "text": [
      "\r",
      "Playlist loop:  13%|█████████████▏                                                                                       | 130/1000 [55:52<6:10:55, 25.58s/it]"
     ]
    },
    {
     "name": "stdout",
     "output_type": "stream",
     "text": [
      "Number of tracks in dict: 211988\n",
      "Successful ID: 0, Unsuccesful ID 2\n",
      "Unsuccesful lyric 0\n",
      "track metadata keys: 211988 and track metadata memory: 10485856 bytes\n"
     ]
    },
    {
     "name": "stderr",
     "output_type": "stream",
     "text": [
      "\r",
      "Playlist loop:  13%|█████████████▏                                                                                       | 131/1000 [56:14<5:58:30, 24.75s/it]"
     ]
    },
    {
     "name": "stdout",
     "output_type": "stream",
     "text": [
      "Number of tracks in dict: 212006\n",
      "Successful ID: 5, Unsuccesful ID 13\n",
      "Unsuccesful lyric 0\n",
      "track metadata keys: 212006 and track metadata memory: 10485856 bytes\n",
      "Number of tracks in dict: 212006\n",
      "Successful ID: 0, Unsuccesful ID 0\n",
      "Unsuccesful lyric 0\n",
      "track metadata keys: 212006 and track metadata memory: 10485856 bytes\n"
     ]
    },
    {
     "name": "stderr",
     "output_type": "stream",
     "text": [
      "\r",
      "Playlist loop:  13%|█████████████▍                                                                                       | 133/1000 [56:18<3:49:15, 15.87s/it]"
     ]
    },
    {
     "name": "stdout",
     "output_type": "stream",
     "text": [
      "Number of tracks in dict: 212007\n",
      "Successful ID: 1, Unsuccesful ID 0\n",
      "Unsuccesful lyric 0\n",
      "track metadata keys: 212007 and track metadata memory: 10485856 bytes\n",
      "Number of tracks in dict: 212007\n",
      "Successful ID: 0, Unsuccesful ID 0\n",
      "Unsuccesful lyric 0\n",
      "track metadata keys: 212007 and track metadata memory: 10485856 bytes\n"
     ]
    },
    {
     "name": "stderr",
     "output_type": "stream",
     "text": [
      "\r",
      "Playlist loop:  14%|█████████████▋                                                                                       | 135/1000 [58:10<7:16:48, 30.30s/it]"
     ]
    },
    {
     "name": "stdout",
     "output_type": "stream",
     "text": [
      "Number of tracks in dict: 212037\n",
      "Successful ID: 29, Unsuccesful ID 1\n",
      "Unsuccesful lyric 0\n",
      "track metadata keys: 212037 and track metadata memory: 10485856 bytes\n"
     ]
    },
    {
     "name": "stderr",
     "output_type": "stream",
     "text": [
      "\r",
      "Playlist loop:  14%|█████████████▎                                                                                    | 136/1000 [1:00:38<13:00:58, 54.23s/it]"
     ]
    },
    {
     "name": "stdout",
     "output_type": "stream",
     "text": [
      "Number of tracks in dict: 212099\n",
      "Successful ID: 33, Unsuccesful ID 29\n",
      "Unsuccesful lyric 0\n",
      "track metadata keys: 212099 and track metadata memory: 10485856 bytes\n"
     ]
    },
    {
     "name": "stderr",
     "output_type": "stream",
     "text": [
      "\r",
      "Playlist loop:  14%|█████████████▍                                                                                    | 137/1000 [1:00:50<10:43:04, 44.71s/it]"
     ]
    },
    {
     "name": "stdout",
     "output_type": "stream",
     "text": [
      "Number of tracks in dict: 212102\n",
      "Successful ID: 3, Unsuccesful ID 0\n",
      "Unsuccesful lyric 0\n",
      "track metadata keys: 212102 and track metadata memory: 10485856 bytes\n"
     ]
    },
    {
     "name": "stderr",
     "output_type": "stream",
     "text": [
      "\r",
      "Playlist loop:  14%|█████████████▌                                                                                    | 138/1000 [1:02:00<12:09:02, 50.74s/it]"
     ]
    },
    {
     "name": "stdout",
     "output_type": "stream",
     "text": [
      "Number of tracks in dict: 212125\n",
      "Successful ID: 17, Unsuccesful ID 6\n",
      "Unsuccesful lyric 0\n",
      "track metadata keys: 212125 and track metadata memory: 10485856 bytes\n"
     ]
    },
    {
     "name": "stderr",
     "output_type": "stream",
     "text": [
      "\r",
      "Playlist loop:  14%|█████████████▊                                                                                     | 139/1000 [1:02:13<9:47:42, 40.96s/it]"
     ]
    },
    {
     "name": "stdout",
     "output_type": "stream",
     "text": [
      "Number of tracks in dict: 212134\n",
      "Successful ID: 3, Unsuccesful ID 6\n",
      "Unsuccesful lyric 0\n",
      "track metadata keys: 212134 and track metadata memory: 10485856 bytes\n"
     ]
    },
    {
     "name": "stderr",
     "output_type": "stream",
     "text": [
      "\r",
      "Playlist loop:  14%|█████████████▊                                                                                     | 140/1000 [1:02:44<9:08:03, 38.24s/it]"
     ]
    },
    {
     "name": "stdout",
     "output_type": "stream",
     "text": [
      "Number of tracks in dict: 212142\n",
      "Successful ID: 7, Unsuccesful ID 1\n",
      "Unsuccesful lyric 0\n",
      "track metadata keys: 212142 and track metadata memory: 10485856 bytes\n"
     ]
    },
    {
     "name": "stderr",
     "output_type": "stream",
     "text": [
      "\r",
      "Playlist loop:  14%|█████████████▊                                                                                    | 141/1000 [1:03:49<10:56:48, 45.88s/it]"
     ]
    },
    {
     "name": "stdout",
     "output_type": "stream",
     "text": [
      "Number of tracks in dict: 212159\n",
      "Successful ID: 16, Unsuccesful ID 1\n",
      "Unsuccesful lyric 0\n",
      "track metadata keys: 212159 and track metadata memory: 10485856 bytes\n"
     ]
    },
    {
     "name": "stderr",
     "output_type": "stream",
     "text": [
      "\r",
      "Playlist loop:  14%|██████████████                                                                                     | 142/1000 [1:03:58<8:25:41, 35.36s/it]"
     ]
    },
    {
     "name": "stdout",
     "output_type": "stream",
     "text": [
      "Number of tracks in dict: 212161\n",
      "Successful ID: 2, Unsuccesful ID 0\n",
      "Unsuccesful lyric 0\n",
      "track metadata keys: 212161 and track metadata memory: 10485856 bytes\n"
     ]
    },
    {
     "name": "stderr",
     "output_type": "stream",
     "text": [
      "\r",
      "Playlist loop:  14%|██████████████▏                                                                                    | 143/1000 [1:04:02<6:14:15, 26.20s/it]"
     ]
    },
    {
     "name": "stdout",
     "output_type": "stream",
     "text": [
      "Number of tracks in dict: 212162\n",
      "Successful ID: 1, Unsuccesful ID 0\n",
      "Unsuccesful lyric 0\n",
      "track metadata keys: 212162 and track metadata memory: 10485856 bytes\n"
     ]
    },
    {
     "name": "stderr",
     "output_type": "stream",
     "text": [
      "\r",
      "Playlist loop:  14%|██████████████▎                                                                                    | 144/1000 [1:04:05<4:37:05, 19.42s/it]"
     ]
    },
    {
     "name": "stdout",
     "output_type": "stream",
     "text": [
      "Number of tracks in dict: 212163\n",
      "Successful ID: 1, Unsuccesful ID 0\n",
      "Unsuccesful lyric 0\n",
      "track metadata keys: 212163 and track metadata memory: 10485856 bytes\n"
     ]
    },
    {
     "name": "stderr",
     "output_type": "stream",
     "text": [
      "\r",
      "Playlist loop:  14%|██████████████▎                                                                                    | 145/1000 [1:04:48<6:16:50, 26.44s/it]"
     ]
    },
    {
     "name": "stdout",
     "output_type": "stream",
     "text": [
      "Number of tracks in dict: 212175\n",
      "Successful ID: 10, Unsuccesful ID 2\n",
      "Unsuccesful lyric 0\n",
      "track metadata keys: 212175 and track metadata memory: 10485856 bytes\n"
     ]
    },
    {
     "name": "stderr",
     "output_type": "stream",
     "text": [
      "\r",
      "Playlist loop:  15%|██████████████▍                                                                                    | 146/1000 [1:05:00<5:13:32, 22.03s/it]"
     ]
    },
    {
     "name": "stdout",
     "output_type": "stream",
     "text": [
      "Number of tracks in dict: 212178\n",
      "Successful ID: 3, Unsuccesful ID 0\n",
      "Unsuccesful lyric 0\n",
      "track metadata keys: 212178 and track metadata memory: 10485856 bytes\n"
     ]
    },
    {
     "name": "stderr",
     "output_type": "stream",
     "text": [
      "\r",
      "Playlist loop:  15%|██████████████▌                                                                                    | 147/1000 [1:05:03<3:55:36, 16.57s/it]"
     ]
    },
    {
     "name": "stdout",
     "output_type": "stream",
     "text": [
      "Number of tracks in dict: 212179\n",
      "Successful ID: 1, Unsuccesful ID 0\n",
      "Unsuccesful lyric 0\n",
      "track metadata keys: 212179 and track metadata memory: 10485856 bytes\n",
      "Number of tracks in dict: 212179\n",
      "Successful ID: 0, Unsuccesful ID 0\n",
      "Unsuccesful lyric 0\n",
      "track metadata keys: 212179 and track metadata memory: 10485856 bytes\n"
     ]
    },
    {
     "name": "stderr",
     "output_type": "stream",
     "text": [
      "\r",
      "Playlist loop:  15%|██████████████▊                                                                                    | 149/1000 [1:05:07<2:20:06,  9.88s/it]"
     ]
    },
    {
     "name": "stdout",
     "output_type": "stream",
     "text": [
      "Number of tracks in dict: 212180\n",
      "Successful ID: 1, Unsuccesful ID 0\n",
      "Unsuccesful lyric 0\n",
      "track metadata keys: 212180 and track metadata memory: 10485856 bytes\n"
     ]
    },
    {
     "name": "stderr",
     "output_type": "stream",
     "text": [
      "\r",
      "Playlist loop:  15%|██████████████▊                                                                                    | 150/1000 [1:05:11<1:58:29,  8.36s/it]"
     ]
    },
    {
     "name": "stdout",
     "output_type": "stream",
     "text": [
      "Number of tracks in dict: 212181\n",
      "Successful ID: 1, Unsuccesful ID 0\n",
      "Unsuccesful lyric 0\n",
      "track metadata keys: 212181 and track metadata memory: 10485856 bytes\n"
     ]
    },
    {
     "name": "stderr",
     "output_type": "stream",
     "text": [
      "\r",
      "Playlist loop:  15%|██████████████▉                                                                                    | 151/1000 [1:05:15<1:43:02,  7.28s/it]"
     ]
    },
    {
     "name": "stdout",
     "output_type": "stream",
     "text": [
      "Number of tracks in dict: 212182\n",
      "Successful ID: 1, Unsuccesful ID 0\n",
      "Unsuccesful lyric 0\n",
      "track metadata keys: 212182 and track metadata memory: 10485856 bytes\n"
     ]
    },
    {
     "name": "stderr",
     "output_type": "stream",
     "text": [
      "\r",
      "Playlist loop:  15%|███████████████                                                                                    | 152/1000 [1:05:16<1:18:28,  5.55s/it]"
     ]
    },
    {
     "name": "stdout",
     "output_type": "stream",
     "text": [
      "Number of tracks in dict: 212185\n",
      "Successful ID: 0, Unsuccesful ID 3\n",
      "Unsuccesful lyric 0\n",
      "track metadata keys: 212185 and track metadata memory: 10485856 bytes\n",
      "Number of tracks in dict: 212185\n",
      "Successful ID: 0, Unsuccesful ID 0\n",
      "Unsuccesful lyric 0\n",
      "track metadata keys: 212185 and track metadata memory: 10485856 bytes\n"
     ]
    },
    {
     "name": "stderr",
     "output_type": "stream",
     "text": [
      "\r",
      "Playlist loop:  15%|███████████████▏                                                                                   | 154/1000 [1:05:52<2:34:02, 10.93s/it]"
     ]
    },
    {
     "name": "stdout",
     "output_type": "stream",
     "text": [
      "Number of tracks in dict: 212195\n",
      "Successful ID: 9, Unsuccesful ID 1\n",
      "Unsuccesful lyric 0\n",
      "track metadata keys: 212195 and track metadata memory: 10485856 bytes\n",
      "Number of tracks in dict: 212195\n",
      "Successful ID: 0, Unsuccesful ID 0\n",
      "Unsuccesful lyric 0\n",
      "track metadata keys: 212195 and track metadata memory: 10485856 bytes\n"
     ]
    },
    {
     "name": "stderr",
     "output_type": "stream",
     "text": [
      "\r",
      "Playlist loop:  16%|███████████████▍                                                                                   | 156/1000 [1:05:56<1:45:30,  7.50s/it]"
     ]
    },
    {
     "name": "stdout",
     "output_type": "stream",
     "text": [
      "Number of tracks in dict: 212196\n",
      "Successful ID: 1, Unsuccesful ID 0\n",
      "Unsuccesful lyric 0\n",
      "track metadata keys: 212196 and track metadata memory: 10485856 bytes\n"
     ]
    },
    {
     "name": "stderr",
     "output_type": "stream",
     "text": [
      "\r",
      "Playlist loop:  16%|███████████████▌                                                                                   | 157/1000 [1:06:01<1:37:09,  6.92s/it]"
     ]
    },
    {
     "name": "stdout",
     "output_type": "stream",
     "text": [
      "Number of tracks in dict: 212197\n",
      "Successful ID: 1, Unsuccesful ID 0\n",
      "Unsuccesful lyric 0\n",
      "track metadata keys: 212197 and track metadata memory: 10485856 bytes\n",
      "Number of tracks in dict: 212197\n",
      "Successful ID: 0, Unsuccesful ID 0\n",
      "Unsuccesful lyric 0\n",
      "track metadata keys: 212197 and track metadata memory: 10485856 bytes\n"
     ]
    },
    {
     "name": "stderr",
     "output_type": "stream",
     "text": [
      "\r",
      "Playlist loop:  16%|███████████████▋                                                                                   | 159/1000 [1:06:01<1:02:19,  4.45s/it]"
     ]
    },
    {
     "name": "stdout",
     "output_type": "stream",
     "text": [
      "Number of tracks in dict: 212198\n",
      "Successful ID: 0, Unsuccesful ID 1\n",
      "Unsuccesful lyric 0\n",
      "track metadata keys: 212198 and track metadata memory: 10485856 bytes\n"
     ]
    },
    {
     "name": "stderr",
     "output_type": "stream",
     "text": [
      "\r",
      "Playlist loop:  16%|███████████████▊                                                                                   | 160/1000 [1:08:14<7:26:32, 31.90s/it]"
     ]
    },
    {
     "name": "stdout",
     "output_type": "stream",
     "text": [
      "Number of tracks in dict: 212263\n",
      "Successful ID: 28, Unsuccesful ID 37\n",
      "Unsuccesful lyric 0\n",
      "track metadata keys: 212263 and track metadata memory: 10485856 bytes\n"
     ]
    },
    {
     "name": "stderr",
     "output_type": "stream",
     "text": [
      "\r",
      "Playlist loop:  16%|███████████████▉                                                                                   | 161/1000 [1:08:51<7:43:15, 33.13s/it]"
     ]
    },
    {
     "name": "stdout",
     "output_type": "stream",
     "text": [
      "Number of tracks in dict: 212273\n",
      "Successful ID: 9, Unsuccesful ID 1\n",
      "Unsuccesful lyric 0\n",
      "track metadata keys: 212273 and track metadata memory: 10485856 bytes\n",
      "Number of tracks in dict: 212273\n",
      "Successful ID: 0, Unsuccesful ID 0\n",
      "Unsuccesful lyric 0\n",
      "track metadata keys: 212273 and track metadata memory: 10485856 bytes\n"
     ]
    },
    {
     "name": "stderr",
     "output_type": "stream",
     "text": [
      "\r",
      "Playlist loop:  16%|████████████████▏                                                                                  | 163/1000 [1:09:00<5:01:52, 21.64s/it]"
     ]
    },
    {
     "name": "stdout",
     "output_type": "stream",
     "text": [
      "Number of tracks in dict: 212279\n",
      "Successful ID: 2, Unsuccesful ID 4\n",
      "Unsuccesful lyric 0\n",
      "track metadata keys: 212279 and track metadata memory: 10485856 bytes\n",
      "Number of tracks in dict: 212279\n",
      "Successful ID: 0, Unsuccesful ID 0\n",
      "Unsuccesful lyric 0\n",
      "track metadata keys: 212279 and track metadata memory: 10485856 bytes\n"
     ]
    },
    {
     "name": "stderr",
     "output_type": "stream",
     "text": [
      "\r",
      "Playlist loop:  16%|████████████████▎                                                                                  | 165/1000 [1:09:04<3:21:20, 14.47s/it]"
     ]
    },
    {
     "name": "stdout",
     "output_type": "stream",
     "text": [
      "Number of tracks in dict: 212281\n",
      "Successful ID: 1, Unsuccesful ID 1\n",
      "Unsuccesful lyric 0\n",
      "track metadata keys: 212281 and track metadata memory: 10485856 bytes\n"
     ]
    },
    {
     "name": "stderr",
     "output_type": "stream",
     "text": [
      "\r",
      "Playlist loop:  17%|████████████████▍                                                                                  | 166/1000 [1:09:17<3:14:59, 14.03s/it]"
     ]
    },
    {
     "name": "stdout",
     "output_type": "stream",
     "text": [
      "Number of tracks in dict: 212284\n",
      "Successful ID: 3, Unsuccesful ID 0\n",
      "Unsuccesful lyric 0\n",
      "track metadata keys: 212284 and track metadata memory: 10485856 bytes\n"
     ]
    },
    {
     "name": "stderr",
     "output_type": "stream",
     "text": [
      "\r",
      "Playlist loop:  17%|████████████████▌                                                                                  | 167/1000 [1:09:22<2:46:34, 12.00s/it]"
     ]
    },
    {
     "name": "stdout",
     "output_type": "stream",
     "text": [
      "Number of tracks in dict: 212285\n",
      "Successful ID: 1, Unsuccesful ID 0\n",
      "Unsuccesful lyric 0\n",
      "track metadata keys: 212285 and track metadata memory: 10485856 bytes\n",
      "Number of tracks in dict: 212285\n",
      "Successful ID: 0, Unsuccesful ID 0\n",
      "Unsuccesful lyric 0\n",
      "track metadata keys: 212285 and track metadata memory: 10485856 bytes\n"
     ]
    },
    {
     "name": "stderr",
     "output_type": "stream",
     "text": [
      "\r",
      "Playlist loop:  17%|████████████████▋                                                                                  | 169/1000 [1:09:27<1:54:03,  8.24s/it]"
     ]
    },
    {
     "name": "stdout",
     "output_type": "stream",
     "text": [
      "Number of tracks in dict: 212288\n",
      "Successful ID: 1, Unsuccesful ID 2\n",
      "Unsuccesful lyric 0\n",
      "track metadata keys: 212288 and track metadata memory: 10485856 bytes\n"
     ]
    },
    {
     "name": "stderr",
     "output_type": "stream",
     "text": [
      "\r",
      "Playlist loop:  17%|████████████████▊                                                                                  | 170/1000 [1:09:33<1:47:18,  7.76s/it]"
     ]
    },
    {
     "name": "stdout",
     "output_type": "stream",
     "text": [
      "Number of tracks in dict: 212294\n",
      "Successful ID: 1, Unsuccesful ID 5\n",
      "Unsuccesful lyric 0\n",
      "track metadata keys: 212294 and track metadata memory: 10485856 bytes\n"
     ]
    },
    {
     "name": "stderr",
     "output_type": "stream",
     "text": [
      "\r",
      "Playlist loop:  17%|████████████████▉                                                                                  | 171/1000 [1:11:21<7:18:31, 31.74s/it]"
     ]
    },
    {
     "name": "stdout",
     "output_type": "stream",
     "text": [
      "Number of tracks in dict: 212480\n",
      "Successful ID: 11, Unsuccesful ID 175\n",
      "Unsuccesful lyric 0\n",
      "track metadata keys: 212480 and track metadata memory: 10485856 bytes\n"
     ]
    },
    {
     "name": "stderr",
     "output_type": "stream",
     "text": [
      "\r",
      "Playlist loop:  17%|█████████████████                                                                                  | 172/1000 [1:11:22<5:29:37, 23.89s/it]"
     ]
    },
    {
     "name": "stdout",
     "output_type": "stream",
     "text": [
      "Number of tracks in dict: 212482\n",
      "Successful ID: 0, Unsuccesful ID 2\n",
      "Unsuccesful lyric 0\n",
      "track metadata keys: 212482 and track metadata memory: 10485856 bytes\n"
     ]
    },
    {
     "name": "stderr",
     "output_type": "stream",
     "text": [
      "\r",
      "Playlist loop:  17%|█████████████████▏                                                                                 | 173/1000 [1:11:27<4:21:11, 18.95s/it]"
     ]
    },
    {
     "name": "stdout",
     "output_type": "stream",
     "text": [
      "Number of tracks in dict: 212483\n",
      "Successful ID: 1, Unsuccesful ID 0\n",
      "Unsuccesful lyric 0\n",
      "track metadata keys: 212483 and track metadata memory: 10485856 bytes\n",
      "Number of tracks in dict: 212483\n",
      "Successful ID: 0, Unsuccesful ID 0\n",
      "Unsuccesful lyric 0\n",
      "track metadata keys: 212483 and track metadata memory: 10485856 bytes\n",
      "Number of tracks in dict: 212483\n",
      "Successful ID: 0, Unsuccesful ID 0\n",
      "Unsuccesful lyric 0\n",
      "track metadata keys: 212483 and track metadata memory: 10485856 bytes\n"
     ]
    },
    {
     "name": "stderr",
     "output_type": "stream",
     "text": [
      "\r",
      "Playlist loop:  18%|█████████████████▍                                                                                 | 176/1000 [1:11:47<2:50:49, 12.44s/it]"
     ]
    },
    {
     "name": "stdout",
     "output_type": "stream",
     "text": [
      "Number of tracks in dict: 212490\n",
      "Successful ID: 5, Unsuccesful ID 2\n",
      "Unsuccesful lyric 0\n",
      "track metadata keys: 212490 and track metadata memory: 10485856 bytes\n",
      "Number of tracks in dict: 212490\n",
      "Successful ID: 0, Unsuccesful ID 0\n",
      "Unsuccesful lyric 0\n",
      "track metadata keys: 212490 and track metadata memory: 10485856 bytes\n"
     ]
    },
    {
     "name": "stderr",
     "output_type": "stream",
     "text": [
      "\r",
      "Playlist loop:  18%|█████████████████▌                                                                                 | 178/1000 [1:12:06<2:37:13, 11.48s/it]"
     ]
    },
    {
     "name": "stdout",
     "output_type": "stream",
     "text": [
      "Number of tracks in dict: 212502\n",
      "Successful ID: 4, Unsuccesful ID 8\n",
      "Unsuccesful lyric 0\n",
      "track metadata keys: 212502 and track metadata memory: 10485856 bytes\n"
     ]
    },
    {
     "name": "stderr",
     "output_type": "stream",
     "text": [
      "\r",
      "Playlist loop:  18%|█████████████████▋                                                                                 | 179/1000 [1:12:14<2:28:05, 10.82s/it]"
     ]
    },
    {
     "name": "stdout",
     "output_type": "stream",
     "text": [
      "Number of tracks in dict: 212504\n",
      "Successful ID: 2, Unsuccesful ID 0\n",
      "Unsuccesful lyric 0\n",
      "track metadata keys: 212504 and track metadata memory: 10485856 bytes\n"
     ]
    },
    {
     "name": "stderr",
     "output_type": "stream",
     "text": [
      "\r",
      "Playlist loop:  18%|█████████████████▊                                                                                 | 180/1000 [1:12:27<2:32:31, 11.16s/it]"
     ]
    },
    {
     "name": "stdout",
     "output_type": "stream",
     "text": [
      "Number of tracks in dict: 212507\n",
      "Successful ID: 3, Unsuccesful ID 0\n",
      "Unsuccesful lyric 0\n",
      "track metadata keys: 212507 and track metadata memory: 10485856 bytes\n"
     ]
    },
    {
     "name": "stderr",
     "output_type": "stream",
     "text": [
      "\r",
      "Playlist loop:  18%|█████████████████▉                                                                                 | 181/1000 [1:12:57<3:35:10, 15.76s/it]"
     ]
    },
    {
     "name": "stdout",
     "output_type": "stream",
     "text": [
      "Number of tracks in dict: 212516\n",
      "Successful ID: 7, Unsuccesful ID 2\n",
      "Unsuccesful lyric 0\n",
      "track metadata keys: 212516 and track metadata memory: 10485856 bytes\n"
     ]
    },
    {
     "name": "stderr",
     "output_type": "stream",
     "text": [
      "\r",
      "Playlist loop:  18%|██████████████████                                                                                 | 182/1000 [1:13:08<3:18:17, 14.54s/it]"
     ]
    },
    {
     "name": "stdout",
     "output_type": "stream",
     "text": [
      "Number of tracks in dict: 212519\n",
      "Successful ID: 3, Unsuccesful ID 0\n",
      "Unsuccesful lyric 0\n",
      "track metadata keys: 212519 and track metadata memory: 10485856 bytes\n"
     ]
    },
    {
     "name": "stderr",
     "output_type": "stream",
     "text": [
      "\r",
      "Playlist loop:  18%|██████████████████                                                                                 | 183/1000 [1:13:30<3:44:34, 16.49s/it]"
     ]
    },
    {
     "name": "stdout",
     "output_type": "stream",
     "text": [
      "Number of tracks in dict: 212525\n",
      "Successful ID: 5, Unsuccesful ID 1\n",
      "Unsuccesful lyric 0\n",
      "track metadata keys: 212525 and track metadata memory: 10485856 bytes\n"
     ]
    },
    {
     "name": "stderr",
     "output_type": "stream",
     "text": [
      "\r",
      "Playlist loop:  18%|██████████████████▏                                                                                | 184/1000 [1:14:33<6:36:37, 29.16s/it]"
     ]
    },
    {
     "name": "stdout",
     "output_type": "stream",
     "text": [
      "Number of tracks in dict: 212547\n",
      "Successful ID: 15, Unsuccesful ID 7\n",
      "Unsuccesful lyric 0\n",
      "track metadata keys: 212547 and track metadata memory: 10485856 bytes\n"
     ]
    },
    {
     "name": "stderr",
     "output_type": "stream",
     "text": [
      "\r",
      "Playlist loop:  18%|██████████████████▎                                                                                | 185/1000 [1:14:37<4:58:21, 21.96s/it]"
     ]
    },
    {
     "name": "stdout",
     "output_type": "stream",
     "text": [
      "Number of tracks in dict: 212548\n",
      "Successful ID: 1, Unsuccesful ID 0\n",
      "Unsuccesful lyric 0\n",
      "track metadata keys: 212548 and track metadata memory: 10485856 bytes\n"
     ]
    },
    {
     "name": "stderr",
     "output_type": "stream",
     "text": [
      "\r",
      "Playlist loop:  19%|██████████████████▍                                                                                | 186/1000 [1:14:37<3:34:13, 15.79s/it]"
     ]
    },
    {
     "name": "stdout",
     "output_type": "stream",
     "text": [
      "Number of tracks in dict: 212549\n",
      "Successful ID: 0, Unsuccesful ID 1\n",
      "Unsuccesful lyric 0\n",
      "track metadata keys: 212549 and track metadata memory: 10485856 bytes\n",
      "Number of tracks in dict: 212549\n",
      "Successful ID: 0, Unsuccesful ID 0\n",
      "Unsuccesful lyric 0\n",
      "track metadata keys: 212549 and track metadata memory: 10485856 bytes\n",
      "Number of tracks in dict: 212549\n",
      "Successful ID: 0, Unsuccesful ID 0\n",
      "Unsuccesful lyric 0\n",
      "track metadata keys: 212549 and track metadata memory: 10485856 bytes\n",
      "Number of tracks in dict: 212549\n",
      "Successful ID: 0, Unsuccesful ID 0\n",
      "Unsuccesful lyric 0\n",
      "track metadata keys: 212549 and track metadata memory: 10485856 bytes\n"
     ]
    },
    {
     "name": "stderr",
     "output_type": "stream",
     "text": [
      "\r",
      "Playlist loop:  19%|██████████████████▊                                                                                | 190/1000 [1:16:08<4:32:10, 20.16s/it]"
     ]
    },
    {
     "name": "stdout",
     "output_type": "stream",
     "text": [
      "Number of tracks in dict: 212587\n",
      "Successful ID: 21, Unsuccesful ID 17\n",
      "Unsuccesful lyric 0\n",
      "track metadata keys: 212587 and track metadata memory: 10485856 bytes\n"
     ]
    },
    {
     "name": "stderr",
     "output_type": "stream",
     "text": [
      "\r",
      "Playlist loop:  19%|██████████████████▉                                                                                | 191/1000 [1:16:36<4:49:07, 21.44s/it]"
     ]
    },
    {
     "name": "stdout",
     "output_type": "stream",
     "text": [
      "Number of tracks in dict: 212595\n",
      "Successful ID: 7, Unsuccesful ID 1\n",
      "Unsuccesful lyric 0\n",
      "track metadata keys: 212595 and track metadata memory: 10485856 bytes\n"
     ]
    },
    {
     "name": "stderr",
     "output_type": "stream",
     "text": [
      "\r",
      "Playlist loop:  19%|███████████████████                                                                                | 192/1000 [1:16:42<4:07:43, 18.40s/it]"
     ]
    },
    {
     "name": "stdout",
     "output_type": "stream",
     "text": [
      "Number of tracks in dict: 212597\n",
      "Successful ID: 2, Unsuccesful ID 0\n",
      "Unsuccesful lyric 0\n",
      "track metadata keys: 212597 and track metadata memory: 10485856 bytes\n"
     ]
    },
    {
     "name": "stderr",
     "output_type": "stream",
     "text": [
      "\r",
      "Playlist loop:  19%|███████████████████                                                                                | 193/1000 [1:16:46<3:23:13, 15.11s/it]"
     ]
    },
    {
     "name": "stdout",
     "output_type": "stream",
     "text": [
      "Number of tracks in dict: 212598\n",
      "Successful ID: 1, Unsuccesful ID 0\n",
      "Unsuccesful lyric 0\n",
      "track metadata keys: 212598 and track metadata memory: 10485856 bytes\n"
     ]
    },
    {
     "name": "stderr",
     "output_type": "stream",
     "text": [
      "\r",
      "Playlist loop:  19%|███████████████████▏                                                                               | 194/1000 [1:17:06<3:40:10, 16.39s/it]"
     ]
    },
    {
     "name": "stdout",
     "output_type": "stream",
     "text": [
      "Number of tracks in dict: 212603\n",
      "Successful ID: 5, Unsuccesful ID 0\n",
      "Unsuccesful lyric 0\n",
      "track metadata keys: 212603 and track metadata memory: 10485856 bytes\n"
     ]
    },
    {
     "name": "stderr",
     "output_type": "stream",
     "text": [
      "\r",
      "Playlist loop:  20%|███████████████████▎                                                                               | 195/1000 [1:17:15<3:13:26, 14.42s/it]"
     ]
    },
    {
     "name": "stdout",
     "output_type": "stream",
     "text": [
      "Number of tracks in dict: 212605\n",
      "Successful ID: 2, Unsuccesful ID 0\n",
      "Unsuccesful lyric 0\n",
      "track metadata keys: 212605 and track metadata memory: 10485856 bytes\n",
      "Number of tracks in dict: 212605\n",
      "Successful ID: 0, Unsuccesful ID 0\n",
      "Unsuccesful lyric 0\n",
      "track metadata keys: 212605 and track metadata memory: 10485856 bytes\n"
     ]
    },
    {
     "name": "stderr",
     "output_type": "stream",
     "text": [
      "\r",
      "Playlist loop:  20%|███████████████████▌                                                                               | 197/1000 [1:17:22<2:09:46,  9.70s/it]"
     ]
    },
    {
     "name": "stdout",
     "output_type": "stream",
     "text": [
      "Number of tracks in dict: 212613\n",
      "Successful ID: 1, Unsuccesful ID 7\n",
      "Unsuccesful lyric 0\n",
      "track metadata keys: 212613 and track metadata memory: 10485856 bytes\n"
     ]
    },
    {
     "name": "stderr",
     "output_type": "stream",
     "text": [
      "\r",
      "Playlist loop:  20%|███████████████████▌                                                                               | 198/1000 [1:17:23<1:43:08,  7.72s/it]"
     ]
    },
    {
     "name": "stdout",
     "output_type": "stream",
     "text": [
      "Number of tracks in dict: 212615\n",
      "Successful ID: 0, Unsuccesful ID 2\n",
      "Unsuccesful lyric 0\n",
      "track metadata keys: 212615 and track metadata memory: 10485856 bytes\n"
     ]
    },
    {
     "name": "stderr",
     "output_type": "stream",
     "text": [
      "\r",
      "Playlist loop:  20%|███████████████████▋                                                                               | 199/1000 [1:17:31<1:44:02,  7.79s/it]"
     ]
    },
    {
     "name": "stdout",
     "output_type": "stream",
     "text": [
      "Number of tracks in dict: 212621\n",
      "Successful ID: 1, Unsuccesful ID 5\n",
      "Unsuccesful lyric 0\n",
      "track metadata keys: 212621 and track metadata memory: 10485856 bytes\n",
      "Number of tracks in dict: 212621\n",
      "Successful ID: 0, Unsuccesful ID 0\n",
      "Unsuccesful lyric 0\n",
      "track metadata keys: 212621 and track metadata memory: 10485856 bytes\n"
     ]
    },
    {
     "name": "stderr",
     "output_type": "stream",
     "text": [
      "\r",
      "Playlist loop:  20%|███████████████████▊                                                                               | 200/1000 [1:17:34<1:25:46,  6.43s/it]"
     ]
    },
    {
     "name": "stdout",
     "output_type": "stream",
     "text": [
      "Number of tracks in dict: 212621\n",
      "Successful ID: 0, Unsuccesful ID 0\n",
      "Unsuccesful lyric 0\n",
      "track metadata keys: 212621 and track metadata memory: 10485856 bytes\n",
      "Number of tracks in dict: 212621\n",
      "Successful ID: 0, Unsuccesful ID 0\n",
      "Unsuccesful lyric 0\n",
      "track metadata keys: 212621 and track metadata memory: 10485856 bytes\n",
      "Number of tracks in dict: 212621\n",
      "Successful ID: 0, Unsuccesful ID 0\n",
      "Unsuccesful lyric 0\n",
      "track metadata keys: 212621 and track metadata memory: 10485856 bytes\n",
      "Number of tracks in dict: 212621\n",
      "Successful ID: 0, Unsuccesful ID 0\n",
      "Unsuccesful lyric 0\n",
      "track metadata keys: 212621 and track metadata memory: 10485856 bytes\n",
      "Number of tracks in dict: 212621\n",
      "Successful ID: 0, Unsuccesful ID 0\n",
      "Unsuccesful lyric 0\n",
      "track metadata keys: 212621 and track metadata memory: 10485856 bytes\n"
     ]
    },
    {
     "name": "stderr",
     "output_type": "stream",
     "text": [
      "\r",
      "Playlist loop:  21%|████████████████████▊                                                                                | 206/1000 [1:17:44<41:38,  3.15s/it]"
     ]
    },
    {
     "name": "stdout",
     "output_type": "stream",
     "text": [
      "Number of tracks in dict: 212624\n",
      "Successful ID: 3, Unsuccesful ID 0\n",
      "Unsuccesful lyric 0\n",
      "track metadata keys: 212624 and track metadata memory: 10485856 bytes\n"
     ]
    },
    {
     "name": "stderr",
     "output_type": "stream",
     "text": [
      "\r",
      "Playlist loop:  21%|████████████████████▍                                                                              | 207/1000 [1:18:09<1:21:51,  6.19s/it]"
     ]
    },
    {
     "name": "stdout",
     "output_type": "stream",
     "text": [
      "Number of tracks in dict: 212635\n",
      "Successful ID: 6, Unsuccesful ID 5\n",
      "Unsuccesful lyric 0\n",
      "track metadata keys: 212635 and track metadata memory: 10485856 bytes\n"
     ]
    },
    {
     "name": "stderr",
     "output_type": "stream",
     "text": [
      "\r",
      "Playlist loop:  21%|████████████████████▌                                                                              | 208/1000 [1:20:50<7:05:53, 32.26s/it]"
     ]
    },
    {
     "name": "stdout",
     "output_type": "stream",
     "text": [
      "Number of tracks in dict: 212683\n",
      "Successful ID: 38, Unsuccesful ID 10\n",
      "Unsuccesful lyric 0\n",
      "track metadata keys: 212683 and track metadata memory: 10485856 bytes\n"
     ]
    },
    {
     "name": "stderr",
     "output_type": "stream",
     "text": [
      "\r",
      "Playlist loop:  21%|████████████████████▋                                                                              | 209/1000 [1:20:53<5:52:31, 26.74s/it]"
     ]
    },
    {
     "name": "stdout",
     "output_type": "stream",
     "text": [
      "Number of tracks in dict: 212684\n",
      "Successful ID: 1, Unsuccesful ID 0\n",
      "Unsuccesful lyric 0\n",
      "track metadata keys: 212684 and track metadata memory: 10485856 bytes\n"
     ]
    },
    {
     "name": "stderr",
     "output_type": "stream",
     "text": [
      "\r",
      "Playlist loop:  21%|████████████████████▊                                                                              | 210/1000 [1:21:07<5:13:21, 23.80s/it]"
     ]
    },
    {
     "name": "stdout",
     "output_type": "stream",
     "text": [
      "Number of tracks in dict: 212688\n",
      "Successful ID: 3, Unsuccesful ID 1\n",
      "Unsuccesful lyric 0\n",
      "track metadata keys: 212688 and track metadata memory: 10485856 bytes\n",
      "Number of tracks in dict: 212688\n",
      "Successful ID: 0, Unsuccesful ID 0\n",
      "Unsuccesful lyric 0\n",
      "track metadata keys: 212688 and track metadata memory: 10485856 bytes\n"
     ]
    },
    {
     "name": "stderr",
     "output_type": "stream",
     "text": [
      "\r",
      "Playlist loop:  21%|████████████████████▉                                                                              | 212/1000 [1:21:39<4:33:03, 20.79s/it]"
     ]
    },
    {
     "name": "stdout",
     "output_type": "stream",
     "text": [
      "Number of tracks in dict: 212697\n",
      "Successful ID: 8, Unsuccesful ID 1\n",
      "Unsuccesful lyric 0\n",
      "track metadata keys: 212697 and track metadata memory: 10485856 bytes\n",
      "Number of tracks in dict: 212697\n",
      "Successful ID: 0, Unsuccesful ID 0\n",
      "Unsuccesful lyric 0\n",
      "track metadata keys: 212697 and track metadata memory: 10485856 bytes\n",
      "Number of tracks in dict: 212697\n",
      "Successful ID: 0, Unsuccesful ID 0\n",
      "Unsuccesful lyric 0\n",
      "track metadata keys: 212697 and track metadata memory: 10485856 bytes\n"
     ]
    },
    {
     "name": "stderr",
     "output_type": "stream",
     "text": [
      "\r",
      "Playlist loop:  22%|█████████████████████▎                                                                             | 215/1000 [1:21:42<2:37:08, 12.01s/it]"
     ]
    },
    {
     "name": "stdout",
     "output_type": "stream",
     "text": [
      "Number of tracks in dict: 212698\n",
      "Successful ID: 1, Unsuccesful ID 0\n",
      "Unsuccesful lyric 0\n",
      "track metadata keys: 212698 and track metadata memory: 10485856 bytes\n"
     ]
    },
    {
     "name": "stderr",
     "output_type": "stream",
     "text": [
      "\r",
      "Playlist loop:  22%|█████████████████████▍                                                                             | 216/1000 [1:21:58<2:46:09, 12.72s/it]"
     ]
    },
    {
     "name": "stdout",
     "output_type": "stream",
     "text": [
      "Number of tracks in dict: 212705\n",
      "Successful ID: 4, Unsuccesful ID 3\n",
      "Unsuccesful lyric 0\n",
      "track metadata keys: 212705 and track metadata memory: 10485856 bytes\n"
     ]
    },
    {
     "name": "stderr",
     "output_type": "stream",
     "text": [
      "\r",
      "Playlist loop:  22%|█████████████████████▍                                                                             | 217/1000 [1:22:06<2:33:28, 11.76s/it]"
     ]
    },
    {
     "name": "stdout",
     "output_type": "stream",
     "text": [
      "Number of tracks in dict: 212707\n",
      "Successful ID: 2, Unsuccesful ID 0\n",
      "Unsuccesful lyric 0\n",
      "track metadata keys: 212707 and track metadata memory: 10485856 bytes\n"
     ]
    },
    {
     "name": "stderr",
     "output_type": "stream",
     "text": [
      "\r",
      "Playlist loop:  22%|█████████████████████▌                                                                             | 218/1000 [1:22:07<1:59:48,  9.19s/it]"
     ]
    },
    {
     "name": "stdout",
     "output_type": "stream",
     "text": [
      "Number of tracks in dict: 212708\n",
      "Successful ID: 0, Unsuccesful ID 1\n",
      "Unsuccesful lyric 0\n",
      "track metadata keys: 212708 and track metadata memory: 10485856 bytes\n"
     ]
    },
    {
     "name": "stderr",
     "output_type": "stream",
     "text": [
      "\r",
      "Playlist loop:  22%|█████████████████████▋                                                                             | 219/1000 [1:22:25<2:29:00, 11.45s/it]"
     ]
    },
    {
     "name": "stdout",
     "output_type": "stream",
     "text": [
      "Number of tracks in dict: 212714\n",
      "Successful ID: 5, Unsuccesful ID 1\n",
      "Unsuccesful lyric 0\n",
      "track metadata keys: 212714 and track metadata memory: 10485856 bytes\n"
     ]
    },
    {
     "name": "stderr",
     "output_type": "stream",
     "text": [
      "\r",
      "Playlist loop:  22%|█████████████████████▊                                                                             | 220/1000 [1:22:25<1:51:37,  8.59s/it]"
     ]
    },
    {
     "name": "stdout",
     "output_type": "stream",
     "text": [
      "Number of tracks in dict: 212715\n",
      "Successful ID: 0, Unsuccesful ID 1\n",
      "Unsuccesful lyric 0\n",
      "track metadata keys: 212715 and track metadata memory: 10485856 bytes\n",
      "Number of tracks in dict: 212715\n",
      "Successful ID: 0, Unsuccesful ID 0\n",
      "Unsuccesful lyric 0\n",
      "track metadata keys: 212715 and track metadata memory: 10485856 bytes\n"
     ]
    },
    {
     "name": "stderr",
     "output_type": "stream",
     "text": [
      "\r",
      "Playlist loop:  22%|█████████████████████▉                                                                             | 222/1000 [1:22:38<1:38:04,  7.56s/it]"
     ]
    },
    {
     "name": "stdout",
     "output_type": "stream",
     "text": [
      "Number of tracks in dict: 212718\n",
      "Successful ID: 3, Unsuccesful ID 0\n",
      "Unsuccesful lyric 0\n",
      "track metadata keys: 212718 and track metadata memory: 10485856 bytes\n",
      "Number of tracks in dict: 212718\n",
      "Successful ID: 0, Unsuccesful ID 0\n",
      "Unsuccesful lyric 0\n",
      "track metadata keys: 212718 and track metadata memory: 10485856 bytes\n"
     ]
    },
    {
     "name": "stderr",
     "output_type": "stream",
     "text": [
      "\r",
      "Playlist loop:  22%|██████████████████████▏                                                                            | 224/1000 [1:24:08<4:40:20, 21.68s/it]"
     ]
    },
    {
     "name": "stdout",
     "output_type": "stream",
     "text": [
      "Number of tracks in dict: 212747\n",
      "Successful ID: 24, Unsuccesful ID 5\n",
      "Unsuccesful lyric 0\n",
      "track metadata keys: 212747 and track metadata memory: 10485856 bytes\n"
     ]
    },
    {
     "name": "stderr",
     "output_type": "stream",
     "text": [
      "\r",
      "Playlist loop:  22%|██████████████████████▎                                                                            | 225/1000 [1:24:47<5:28:17, 25.42s/it]"
     ]
    },
    {
     "name": "stdout",
     "output_type": "stream",
     "text": [
      "Number of tracks in dict: 212758\n",
      "Successful ID: 10, Unsuccesful ID 1\n",
      "Unsuccesful lyric 0\n",
      "track metadata keys: 212758 and track metadata memory: 10485856 bytes\n"
     ]
    },
    {
     "name": "stderr",
     "output_type": "stream",
     "text": [
      "\r",
      "Playlist loop:  23%|██████████████████████▎                                                                            | 226/1000 [1:24:50<4:21:08, 20.24s/it]"
     ]
    },
    {
     "name": "stdout",
     "output_type": "stream",
     "text": [
      "Number of tracks in dict: 212760\n",
      "Successful ID: 1, Unsuccesful ID 1\n",
      "Unsuccesful lyric 0\n",
      "track metadata keys: 212760 and track metadata memory: 10485856 bytes\n",
      "Number of tracks in dict: 212760\n",
      "Successful ID: 0, Unsuccesful ID 0\n",
      "Unsuccesful lyric 0\n",
      "track metadata keys: 212760 and track metadata memory: 10485856 bytes\n"
     ]
    },
    {
     "name": "stderr",
     "output_type": "stream",
     "text": [
      "\r",
      "Playlist loop:  23%|██████████████████████▌                                                                            | 228/1000 [1:25:18<3:46:44, 17.62s/it]"
     ]
    },
    {
     "name": "stdout",
     "output_type": "stream",
     "text": [
      "Number of tracks in dict: 212767\n",
      "Successful ID: 7, Unsuccesful ID 0\n",
      "Unsuccesful lyric 0\n",
      "track metadata keys: 212767 and track metadata memory: 10485856 bytes\n",
      "Number of tracks in dict: 212767\n",
      "Successful ID: 0, Unsuccesful ID 0\n",
      "Unsuccesful lyric 0\n",
      "track metadata keys: 212767 and track metadata memory: 10485856 bytes\n",
      "Number of tracks in dict: 212767\n",
      "Successful ID: 0, Unsuccesful ID 0\n",
      "Unsuccesful lyric 0\n",
      "track metadata keys: 212767 and track metadata memory: 10485856 bytes\n"
     ]
    },
    {
     "name": "stderr",
     "output_type": "stream",
     "text": [
      "\r",
      "Playlist loop:  23%|██████████████████████▊                                                                            | 231/1000 [1:27:34<6:29:37, 30.40s/it]"
     ]
    },
    {
     "name": "stdout",
     "output_type": "stream",
     "text": [
      "Number of tracks in dict: 212817\n",
      "Successful ID: 34, Unsuccesful ID 16\n",
      "Unsuccesful lyric 0\n",
      "track metadata keys: 212817 and track metadata memory: 10485856 bytes\n"
     ]
    },
    {
     "name": "stderr",
     "output_type": "stream",
     "text": [
      "\r",
      "Playlist loop:  23%|██████████████████████▉                                                                            | 232/1000 [1:27:37<5:27:02, 25.55s/it]"
     ]
    },
    {
     "name": "stdout",
     "output_type": "stream",
     "text": [
      "Number of tracks in dict: 212818\n",
      "Successful ID: 1, Unsuccesful ID 0\n",
      "Unsuccesful lyric 0\n",
      "track metadata keys: 212818 and track metadata memory: 10485856 bytes\n"
     ]
    },
    {
     "name": "stderr",
     "output_type": "stream",
     "text": [
      "\r",
      "Playlist loop:  23%|███████████████████████                                                                            | 233/1000 [1:28:05<5:33:57, 26.12s/it]"
     ]
    },
    {
     "name": "stdout",
     "output_type": "stream",
     "text": [
      "Number of tracks in dict: 212885\n",
      "Successful ID: 5, Unsuccesful ID 62\n",
      "Unsuccesful lyric 0\n",
      "track metadata keys: 212885 and track metadata memory: 10485856 bytes\n",
      "Number of tracks in dict: 212885\n",
      "Successful ID: 0, Unsuccesful ID 0\n",
      "Unsuccesful lyric 0\n",
      "track metadata keys: 212885 and track metadata memory: 10485856 bytes\n"
     ]
    },
    {
     "name": "stderr",
     "output_type": "stream",
     "text": [
      "\r",
      "Playlist loop:  24%|███████████████████████▎                                                                           | 235/1000 [1:29:07<5:55:27, 27.88s/it]"
     ]
    },
    {
     "name": "stdout",
     "output_type": "stream",
     "text": [
      "Number of tracks in dict: 213003\n",
      "Successful ID: 5, Unsuccesful ID 113\n",
      "Unsuccesful lyric 0\n",
      "track metadata keys: 213003 and track metadata memory: 10485856 bytes\n"
     ]
    },
    {
     "name": "stderr",
     "output_type": "stream",
     "text": [
      "\r",
      "Playlist loop:  24%|███████████████████████▎                                                                           | 236/1000 [1:29:22<5:21:17, 25.23s/it]"
     ]
    },
    {
     "name": "stdout",
     "output_type": "stream",
     "text": [
      "Number of tracks in dict: 213012\n",
      "Successful ID: 4, Unsuccesful ID 5\n",
      "Unsuccesful lyric 0\n",
      "track metadata keys: 213012 and track metadata memory: 10485856 bytes\n"
     ]
    },
    {
     "name": "stderr",
     "output_type": "stream",
     "text": [
      "\r",
      "Playlist loop:  24%|███████████████████████▍                                                                           | 237/1000 [1:29:35<4:44:26, 22.37s/it]"
     ]
    },
    {
     "name": "stdout",
     "output_type": "stream",
     "text": [
      "Number of tracks in dict: 213017\n",
      "Successful ID: 3, Unsuccesful ID 2\n",
      "Unsuccesful lyric 0\n",
      "track metadata keys: 213017 and track metadata memory: 10485856 bytes\n"
     ]
    },
    {
     "name": "stderr",
     "output_type": "stream",
     "text": [
      "\r",
      "Playlist loop:  24%|███████████████████████▌                                                                           | 238/1000 [1:29:46<4:09:08, 19.62s/it]"
     ]
    },
    {
     "name": "stdout",
     "output_type": "stream",
     "text": [
      "Number of tracks in dict: 213020\n",
      "Successful ID: 3, Unsuccesful ID 0\n",
      "Unsuccesful lyric 0\n",
      "track metadata keys: 213020 and track metadata memory: 10485856 bytes\n",
      "Number of tracks in dict: 213020\n",
      "Successful ID: 0, Unsuccesful ID 0\n",
      "Unsuccesful lyric 0\n",
      "track metadata keys: 213020 and track metadata memory: 10485856 bytes\n"
     ]
    },
    {
     "name": "stderr",
     "output_type": "stream",
     "text": [
      "\r",
      "Playlist loop:  24%|███████████████████████▊                                                                           | 240/1000 [1:29:54<2:44:51, 13.01s/it]"
     ]
    },
    {
     "name": "stdout",
     "output_type": "stream",
     "text": [
      "Number of tracks in dict: 213023\n",
      "Successful ID: 1, Unsuccesful ID 2\n",
      "Unsuccesful lyric 0\n",
      "track metadata keys: 213023 and track metadata memory: 10485856 bytes\n"
     ]
    },
    {
     "name": "stderr",
     "output_type": "stream",
     "text": [
      "\r",
      "Playlist loop:  24%|███████████████████████▊                                                                           | 241/1000 [1:30:48<4:42:25, 22.33s/it]"
     ]
    },
    {
     "name": "stdout",
     "output_type": "stream",
     "text": [
      "Number of tracks in dict: 213044\n",
      "Successful ID: 14, Unsuccesful ID 7\n",
      "Unsuccesful lyric 0\n",
      "track metadata keys: 213044 and track metadata memory: 10485856 bytes\n"
     ]
    },
    {
     "name": "stderr",
     "output_type": "stream",
     "text": [
      "\r",
      "Playlist loop:  24%|███████████████████████▉                                                                           | 242/1000 [1:31:21<5:16:32, 25.06s/it]"
     ]
    },
    {
     "name": "stdout",
     "output_type": "stream",
     "text": [
      "Number of tracks in dict: 213054\n",
      "Successful ID: 9, Unsuccesful ID 1\n",
      "Unsuccesful lyric 0\n",
      "track metadata keys: 213054 and track metadata memory: 10485856 bytes\n",
      "Number of tracks in dict: 213054\n",
      "Successful ID: 0, Unsuccesful ID 0\n",
      "Unsuccesful lyric 0\n",
      "track metadata keys: 213054 and track metadata memory: 10485856 bytes\n"
     ]
    },
    {
     "name": "stderr",
     "output_type": "stream",
     "text": [
      "\r",
      "Playlist loop:  24%|████████████████████████▏                                                                          | 244/1000 [1:31:47<4:13:51, 20.15s/it]"
     ]
    },
    {
     "name": "stdout",
     "output_type": "stream",
     "text": [
      "Number of tracks in dict: 213070\n",
      "Successful ID: 6, Unsuccesful ID 10\n",
      "Unsuccesful lyric 0\n",
      "track metadata keys: 213070 and track metadata memory: 10485856 bytes\n"
     ]
    },
    {
     "name": "stderr",
     "output_type": "stream",
     "text": [
      "\r",
      "Playlist loop:  24%|████████████████████████▎                                                                          | 245/1000 [1:32:07<4:12:14, 20.05s/it]"
     ]
    },
    {
     "name": "stdout",
     "output_type": "stream",
     "text": [
      "Number of tracks in dict: 213079\n",
      "Successful ID: 5, Unsuccesful ID 4\n",
      "Unsuccesful lyric 0\n",
      "track metadata keys: 213079 and track metadata memory: 10485856 bytes\n"
     ]
    },
    {
     "name": "stderr",
     "output_type": "stream",
     "text": [
      "\r",
      "Playlist loop:  25%|████████████████████████▎                                                                          | 246/1000 [1:32:41<4:54:51, 23.46s/it]"
     ]
    },
    {
     "name": "stdout",
     "output_type": "stream",
     "text": [
      "Number of tracks in dict: 213090\n",
      "Successful ID: 8, Unsuccesful ID 3\n",
      "Unsuccesful lyric 0\n",
      "track metadata keys: 213090 and track metadata memory: 10485856 bytes\n"
     ]
    },
    {
     "name": "stderr",
     "output_type": "stream",
     "text": [
      "\r",
      "Playlist loop:  25%|████████████████████████▍                                                                          | 247/1000 [1:32:57<4:30:54, 21.59s/it]"
     ]
    },
    {
     "name": "stdout",
     "output_type": "stream",
     "text": [
      "Number of tracks in dict: 213094\n",
      "Successful ID: 4, Unsuccesful ID 0\n",
      "Unsuccesful lyric 0\n",
      "track metadata keys: 213094 and track metadata memory: 10485856 bytes\n"
     ]
    },
    {
     "name": "stderr",
     "output_type": "stream",
     "text": [
      "\r",
      "Playlist loop:  25%|████████████████████████▌                                                                          | 248/1000 [1:33:39<5:37:56, 26.96s/it]"
     ]
    },
    {
     "name": "stdout",
     "output_type": "stream",
     "text": [
      "Number of tracks in dict: 213106\n",
      "Successful ID: 11, Unsuccesful ID 1\n",
      "Unsuccesful lyric 0\n",
      "track metadata keys: 213106 and track metadata memory: 10485856 bytes\n",
      "Number of tracks in dict: 213106\n",
      "Successful ID: 0, Unsuccesful ID 0\n",
      "Unsuccesful lyric 0\n",
      "track metadata keys: 213106 and track metadata memory: 10485856 bytes\n"
     ]
    },
    {
     "name": "stderr",
     "output_type": "stream",
     "text": [
      "\r",
      "Playlist loop:  25%|████████████████████████▊                                                                          | 250/1000 [1:34:00<4:07:41, 19.82s/it]"
     ]
    },
    {
     "name": "stdout",
     "output_type": "stream",
     "text": [
      "Number of tracks in dict: 213111\n",
      "Successful ID: 5, Unsuccesful ID 0\n",
      "Unsuccesful lyric 0\n",
      "track metadata keys: 213111 and track metadata memory: 10485856 bytes\n"
     ]
    },
    {
     "name": "stderr",
     "output_type": "stream",
     "text": [
      "\r",
      "Playlist loop:  25%|████████████████████████▊                                                                          | 251/1000 [1:34:04<3:20:47, 16.08s/it]"
     ]
    },
    {
     "name": "stdout",
     "output_type": "stream",
     "text": [
      "Number of tracks in dict: 213112\n",
      "Successful ID: 1, Unsuccesful ID 0\n",
      "Unsuccesful lyric 0\n",
      "track metadata keys: 213112 and track metadata memory: 10485856 bytes\n"
     ]
    },
    {
     "name": "stderr",
     "output_type": "stream",
     "text": [
      "\r",
      "Playlist loop:  25%|████████████████████████▉                                                                          | 252/1000 [1:34:16<3:06:45, 14.98s/it]"
     ]
    },
    {
     "name": "stdout",
     "output_type": "stream",
     "text": [
      "Number of tracks in dict: 213118\n",
      "Successful ID: 3, Unsuccesful ID 3\n",
      "Unsuccesful lyric 0\n",
      "track metadata keys: 213118 and track metadata memory: 10485856 bytes\n",
      "Number of tracks in dict: 213118\n",
      "Successful ID: 0, Unsuccesful ID 0\n",
      "Unsuccesful lyric 0\n",
      "track metadata keys: 213118 and track metadata memory: 10485856 bytes\n"
     ]
    },
    {
     "name": "stderr",
     "output_type": "stream",
     "text": [
      "\r",
      "Playlist loop:  25%|█████████████████████████▏                                                                         | 254/1000 [1:34:35<2:37:38, 12.68s/it]"
     ]
    },
    {
     "name": "stdout",
     "output_type": "stream",
     "text": [
      "Number of tracks in dict: 213123\n",
      "Successful ID: 5, Unsuccesful ID 0\n",
      "Unsuccesful lyric 0\n",
      "track metadata keys: 213123 and track metadata memory: 10485856 bytes\n"
     ]
    },
    {
     "name": "stderr",
     "output_type": "stream",
     "text": [
      "\r",
      "Playlist loop:  26%|█████████████████████████▏                                                                         | 255/1000 [1:35:23<4:21:00, 21.02s/it]"
     ]
    },
    {
     "name": "stdout",
     "output_type": "stream",
     "text": [
      "Number of tracks in dict: 213139\n",
      "Successful ID: 12, Unsuccesful ID 4\n",
      "Unsuccesful lyric 0\n",
      "track metadata keys: 213139 and track metadata memory: 10485856 bytes\n"
     ]
    },
    {
     "name": "stderr",
     "output_type": "stream",
     "text": [
      "\r",
      "Playlist loop:  26%|█████████████████████████▎                                                                         | 256/1000 [1:35:32<3:42:50, 17.97s/it]"
     ]
    },
    {
     "name": "stdout",
     "output_type": "stream",
     "text": [
      "Number of tracks in dict: 213143\n",
      "Successful ID: 2, Unsuccesful ID 2\n",
      "Unsuccesful lyric 0\n",
      "track metadata keys: 213143 and track metadata memory: 10485856 bytes\n"
     ]
    },
    {
     "name": "stderr",
     "output_type": "stream",
     "text": [
      "\r",
      "Playlist loop:  26%|█████████████████████████▍                                                                         | 257/1000 [1:35:47<3:31:28, 17.08s/it]"
     ]
    },
    {
     "name": "stdout",
     "output_type": "stream",
     "text": [
      "Number of tracks in dict: 213147\n",
      "Successful ID: 4, Unsuccesful ID 0\n",
      "Unsuccesful lyric 0\n",
      "track metadata keys: 213147 and track metadata memory: 10485856 bytes\n"
     ]
    },
    {
     "name": "stderr",
     "output_type": "stream",
     "text": [
      "\r",
      "Playlist loop:  26%|█████████████████████████▌                                                                         | 258/1000 [1:35:52<2:51:55, 13.90s/it]"
     ]
    },
    {
     "name": "stdout",
     "output_type": "stream",
     "text": [
      "Number of tracks in dict: 213149\n",
      "Successful ID: 1, Unsuccesful ID 1\n",
      "Unsuccesful lyric 0\n",
      "track metadata keys: 213149 and track metadata memory: 10485856 bytes\n",
      "Number of tracks in dict: 213149\n",
      "Successful ID: 0, Unsuccesful ID 0\n",
      "Unsuccesful lyric 0\n",
      "track metadata keys: 213149 and track metadata memory: 10485856 bytes\n"
     ]
    },
    {
     "name": "stderr",
     "output_type": "stream",
     "text": [
      "\r",
      "Playlist loop:  26%|█████████████████████████▋                                                                         | 260/1000 [1:36:04<2:08:00, 10.38s/it]"
     ]
    },
    {
     "name": "stdout",
     "output_type": "stream",
     "text": [
      "Number of tracks in dict: 213153\n",
      "Successful ID: 3, Unsuccesful ID 1\n",
      "Unsuccesful lyric 0\n",
      "track metadata keys: 213153 and track metadata memory: 10485856 bytes\n"
     ]
    },
    {
     "name": "stderr",
     "output_type": "stream",
     "text": [
      "\r",
      "Playlist loop:  26%|█████████████████████████▊                                                                         | 261/1000 [1:36:11<1:59:29,  9.70s/it]"
     ]
    },
    {
     "name": "stdout",
     "output_type": "stream",
     "text": [
      "Number of tracks in dict: 213157\n",
      "Successful ID: 2, Unsuccesful ID 2\n",
      "Unsuccesful lyric 0\n",
      "track metadata keys: 213157 and track metadata memory: 10485856 bytes\n"
     ]
    },
    {
     "name": "stderr",
     "output_type": "stream",
     "text": [
      "\r",
      "Playlist loop:  26%|█████████████████████████▉                                                                         | 262/1000 [1:36:40<2:59:17, 14.58s/it]"
     ]
    },
    {
     "name": "stdout",
     "output_type": "stream",
     "text": [
      "Number of tracks in dict: 213165\n",
      "Successful ID: 7, Unsuccesful ID 1\n",
      "Unsuccesful lyric 0\n",
      "track metadata keys: 213165 and track metadata memory: 10485856 bytes\n"
     ]
    },
    {
     "name": "stderr",
     "output_type": "stream",
     "text": [
      "\r",
      "Playlist loop:  26%|██████████████████████████                                                                         | 263/1000 [1:36:48<2:36:38, 12.75s/it]"
     ]
    },
    {
     "name": "stdout",
     "output_type": "stream",
     "text": [
      "Number of tracks in dict: 213167\n",
      "Successful ID: 2, Unsuccesful ID 0\n",
      "Unsuccesful lyric 0\n",
      "track metadata keys: 213167 and track metadata memory: 10485856 bytes\n"
     ]
    },
    {
     "name": "stderr",
     "output_type": "stream",
     "text": [
      "\r",
      "Playlist loop:  26%|██████████████████████████▏                                                                        | 264/1000 [1:36:57<2:22:04, 11.58s/it]"
     ]
    },
    {
     "name": "stdout",
     "output_type": "stream",
     "text": [
      "Number of tracks in dict: 213171\n",
      "Successful ID: 2, Unsuccesful ID 2\n",
      "Unsuccesful lyric 0\n",
      "track metadata keys: 213171 and track metadata memory: 10485856 bytes\n"
     ]
    },
    {
     "name": "stderr",
     "output_type": "stream",
     "text": [
      "\r",
      "Playlist loop:  26%|██████████████████████████▏                                                                        | 265/1000 [1:37:12<2:33:52, 12.56s/it]"
     ]
    },
    {
     "name": "stdout",
     "output_type": "stream",
     "text": [
      "Number of tracks in dict: 213189\n",
      "Successful ID: 3, Unsuccesful ID 15\n",
      "Unsuccesful lyric 0\n",
      "track metadata keys: 213189 and track metadata memory: 10485856 bytes\n",
      "Number of tracks in dict: 213189\n",
      "Successful ID: 0, Unsuccesful ID 0\n",
      "Unsuccesful lyric 0\n",
      "track metadata keys: 213189 and track metadata memory: 10485856 bytes\n",
      "Number of tracks in dict: 213189\n",
      "Successful ID: 0, Unsuccesful ID 0\n",
      "Unsuccesful lyric 0\n",
      "track metadata keys: 213189 and track metadata memory: 10485856 bytes\n"
     ]
    },
    {
     "name": "stderr",
     "output_type": "stream",
     "text": [
      "\r",
      "Playlist loop:  27%|██████████████████████████▌                                                                        | 268/1000 [1:37:20<1:27:26,  7.17s/it]"
     ]
    },
    {
     "name": "stdout",
     "output_type": "stream",
     "text": [
      "Number of tracks in dict: 213191\n",
      "Successful ID: 2, Unsuccesful ID 0\n",
      "Unsuccesful lyric 0\n",
      "track metadata keys: 213191 and track metadata memory: 10485856 bytes\n"
     ]
    },
    {
     "name": "stderr",
     "output_type": "stream",
     "text": [
      "\r",
      "Playlist loop:  27%|██████████████████████████▋                                                                        | 269/1000 [1:37:27<1:27:21,  7.17s/it]"
     ]
    },
    {
     "name": "stdout",
     "output_type": "stream",
     "text": [
      "Number of tracks in dict: 213193\n",
      "Successful ID: 2, Unsuccesful ID 0\n",
      "Unsuccesful lyric 0\n",
      "track metadata keys: 213193 and track metadata memory: 10485856 bytes\n"
     ]
    },
    {
     "name": "stderr",
     "output_type": "stream",
     "text": [
      "\r",
      "Playlist loop:  27%|██████████████████████████▋                                                                        | 270/1000 [1:37:38<1:39:09,  8.15s/it]"
     ]
    },
    {
     "name": "stdout",
     "output_type": "stream",
     "text": [
      "Number of tracks in dict: 213197\n",
      "Successful ID: 3, Unsuccesful ID 1\n",
      "Unsuccesful lyric 0\n",
      "track metadata keys: 213197 and track metadata memory: 10485856 bytes\n"
     ]
    },
    {
     "name": "stderr",
     "output_type": "stream",
     "text": [
      "\r",
      "Playlist loop:  27%|██████████████████████████▊                                                                        | 271/1000 [1:37:42<1:24:58,  6.99s/it]"
     ]
    },
    {
     "name": "stdout",
     "output_type": "stream",
     "text": [
      "Number of tracks in dict: 213198\n",
      "Successful ID: 1, Unsuccesful ID 0\n",
      "Unsuccesful lyric 0\n",
      "track metadata keys: 213198 and track metadata memory: 10485856 bytes\n"
     ]
    },
    {
     "name": "stderr",
     "output_type": "stream",
     "text": [
      "\r",
      "Playlist loop:  27%|██████████████████████████▉                                                                        | 272/1000 [1:37:50<1:28:39,  7.31s/it]"
     ]
    },
    {
     "name": "stdout",
     "output_type": "stream",
     "text": [
      "Number of tracks in dict: 213200\n",
      "Successful ID: 2, Unsuccesful ID 0\n",
      "Unsuccesful lyric 0\n",
      "track metadata keys: 213200 and track metadata memory: 10485856 bytes\n"
     ]
    },
    {
     "name": "stderr",
     "output_type": "stream",
     "text": [
      "\r",
      "Playlist loop:  27%|███████████████████████████                                                                        | 273/1000 [1:37:54<1:16:11,  6.29s/it]"
     ]
    },
    {
     "name": "stdout",
     "output_type": "stream",
     "text": [
      "Number of tracks in dict: 213201\n",
      "Successful ID: 1, Unsuccesful ID 0\n",
      "Unsuccesful lyric 0\n",
      "track metadata keys: 213201 and track metadata memory: 10485856 bytes\n"
     ]
    },
    {
     "name": "stderr",
     "output_type": "stream",
     "text": [
      "\r",
      "Playlist loop:  27%|███████████████████████████▏                                                                       | 274/1000 [1:38:17<2:14:23, 11.11s/it]"
     ]
    },
    {
     "name": "stdout",
     "output_type": "stream",
     "text": [
      "Number of tracks in dict: 213207\n",
      "Successful ID: 6, Unsuccesful ID 0\n",
      "Unsuccesful lyric 0\n",
      "track metadata keys: 213207 and track metadata memory: 10485856 bytes\n"
     ]
    },
    {
     "name": "stderr",
     "output_type": "stream",
     "text": [
      "\r",
      "Playlist loop:  28%|███████████████████████████▏                                                                       | 275/1000 [1:38:20<1:47:10,  8.87s/it]"
     ]
    },
    {
     "name": "stdout",
     "output_type": "stream",
     "text": [
      "Number of tracks in dict: 213208\n",
      "Successful ID: 1, Unsuccesful ID 0\n",
      "Unsuccesful lyric 0\n",
      "track metadata keys: 213208 and track metadata memory: 10485856 bytes\n"
     ]
    },
    {
     "name": "stderr",
     "output_type": "stream",
     "text": [
      "\r",
      "Playlist loop:  28%|███████████████████████████▎                                                                       | 276/1000 [1:38:52<3:06:13, 15.43s/it]"
     ]
    },
    {
     "name": "stdout",
     "output_type": "stream",
     "text": [
      "Number of tracks in dict: 213216\n",
      "Successful ID: 8, Unsuccesful ID 0\n",
      "Unsuccesful lyric 0\n",
      "track metadata keys: 213216 and track metadata memory: 10485856 bytes\n"
     ]
    },
    {
     "name": "stderr",
     "output_type": "stream",
     "text": [
      "\r",
      "Playlist loop:  28%|███████████████████████████▍                                                                       | 277/1000 [1:39:17<3:39:25, 18.21s/it]"
     ]
    },
    {
     "name": "stdout",
     "output_type": "stream",
     "text": [
      "Number of tracks in dict: 213230\n",
      "Successful ID: 6, Unsuccesful ID 8\n",
      "Unsuccesful lyric 0\n",
      "track metadata keys: 213230 and track metadata memory: 10485856 bytes\n"
     ]
    },
    {
     "name": "stderr",
     "output_type": "stream",
     "text": [
      "\r",
      "Playlist loop:  28%|███████████████████████████▌                                                                       | 278/1000 [1:39:36<3:43:16, 18.55s/it]"
     ]
    },
    {
     "name": "stdout",
     "output_type": "stream",
     "text": [
      "Number of tracks in dict: 213236\n",
      "Successful ID: 5, Unsuccesful ID 1\n",
      "Unsuccesful lyric 0\n",
      "track metadata keys: 213236 and track metadata memory: 10485856 bytes\n"
     ]
    },
    {
     "name": "stderr",
     "output_type": "stream",
     "text": [
      "\r",
      "Playlist loop:  28%|███████████████████████████▌                                                                       | 279/1000 [1:39:56<3:47:01, 18.89s/it]"
     ]
    },
    {
     "name": "stdout",
     "output_type": "stream",
     "text": [
      "Number of tracks in dict: 213242\n",
      "Successful ID: 5, Unsuccesful ID 1\n",
      "Unsuccesful lyric 0\n",
      "track metadata keys: 213242 and track metadata memory: 10485856 bytes\n"
     ]
    },
    {
     "name": "stderr",
     "output_type": "stream",
     "text": [
      "\r",
      "Playlist loop:  28%|███████████████████████████▋                                                                       | 280/1000 [1:40:00<2:54:26, 14.54s/it]"
     ]
    },
    {
     "name": "stdout",
     "output_type": "stream",
     "text": [
      "Number of tracks in dict: 213245\n",
      "Successful ID: 1, Unsuccesful ID 2\n",
      "Unsuccesful lyric 0\n",
      "track metadata keys: 213245 and track metadata memory: 10485856 bytes\n"
     ]
    },
    {
     "name": "stderr",
     "output_type": "stream",
     "text": [
      "\r",
      "Playlist loop:  28%|███████████████████████████▊                                                                       | 281/1000 [1:40:05<2:20:49, 11.75s/it]"
     ]
    },
    {
     "name": "stdout",
     "output_type": "stream",
     "text": [
      "Number of tracks in dict: 213246\n",
      "Successful ID: 1, Unsuccesful ID 0\n",
      "Unsuccesful lyric 0\n",
      "track metadata keys: 213246 and track metadata memory: 10485856 bytes\n",
      "Number of tracks in dict: 213246\n",
      "Successful ID: 0, Unsuccesful ID 0\n",
      "Unsuccesful lyric 0\n",
      "track metadata keys: 213246 and track metadata memory: 10485856 bytes\n"
     ]
    },
    {
     "name": "stderr",
     "output_type": "stream",
     "text": [
      "\r",
      "Playlist loop:  28%|████████████████████████████                                                                       | 283/1000 [1:40:33<2:30:35, 12.60s/it]"
     ]
    },
    {
     "name": "stdout",
     "output_type": "stream",
     "text": [
      "Number of tracks in dict: 213254\n",
      "Successful ID: 3, Unsuccesful ID 5\n",
      "Unsuccesful lyric 0\n",
      "track metadata keys: 213254 and track metadata memory: 10485856 bytes\n",
      "Number of tracks in dict: 213254\n",
      "Successful ID: 0, Unsuccesful ID 0\n",
      "Unsuccesful lyric 0\n",
      "track metadata keys: 213254 and track metadata memory: 10485856 bytes\n",
      "Number of tracks in dict: 213254\n",
      "Successful ID: 0, Unsuccesful ID 0\n",
      "Unsuccesful lyric 0\n",
      "track metadata keys: 213254 and track metadata memory: 10485856 bytes\n"
     ]
    },
    {
     "name": "stderr",
     "output_type": "stream",
     "text": [
      "\r",
      "Playlist loop:  29%|████████████████████████████▎                                                                      | 286/1000 [1:40:41<1:31:31,  7.69s/it]"
     ]
    },
    {
     "name": "stdout",
     "output_type": "stream",
     "text": [
      "Number of tracks in dict: 213258\n",
      "Successful ID: 2, Unsuccesful ID 2\n",
      "Unsuccesful lyric 0\n",
      "track metadata keys: 213258 and track metadata memory: 10485856 bytes\n"
     ]
    },
    {
     "name": "stderr",
     "output_type": "stream",
     "text": [
      "\r",
      "Playlist loop:  29%|███████████████████████████▊                                                                     | 287/1000 [1:49:52<22:07:29, 111.71s/it]"
     ]
    },
    {
     "name": "stdout",
     "output_type": "stream",
     "text": [
      "Number of tracks in dict: 213408\n",
      "Successful ID: 136, Unsuccesful ID 14\n",
      "Unsuccesful lyric 0\n",
      "track metadata keys: 213408 and track metadata memory: 10485856 bytes\n"
     ]
    },
    {
     "name": "stderr",
     "output_type": "stream",
     "text": [
      "\r",
      "Playlist loop:  29%|███████████████████████████▉                                                                     | 288/1000 [1:51:06<20:29:05, 103.57s/it]"
     ]
    },
    {
     "name": "stdout",
     "output_type": "stream",
     "text": [
      "Number of tracks in dict: 213428\n",
      "Successful ID: 19, Unsuccesful ID 1\n",
      "Unsuccesful lyric 0\n",
      "track metadata keys: 213428 and track metadata memory: 10485856 bytes\n"
     ]
    },
    {
     "name": "stderr",
     "output_type": "stream",
     "text": [
      "\r",
      "Playlist loop:  29%|████████████████████████████▎                                                                     | 289/1000 [1:51:21<16:20:52, 82.77s/it]"
     ]
    },
    {
     "name": "stdout",
     "output_type": "stream",
     "text": [
      "Number of tracks in dict: 213432\n",
      "Successful ID: 2, Unsuccesful ID 2\n",
      "Unsuccesful lyric 0\n",
      "track metadata keys: 213432 and track metadata memory: 10485856 bytes\n"
     ]
    },
    {
     "name": "stderr",
     "output_type": "stream",
     "text": [
      "\r",
      "Playlist loop:  29%|████████████████████████████▍                                                                     | 290/1000 [1:51:25<12:25:51, 63.03s/it]"
     ]
    },
    {
     "name": "stdout",
     "output_type": "stream",
     "text": [
      "Number of tracks in dict: 213434\n",
      "Successful ID: 1, Unsuccesful ID 1\n",
      "Unsuccesful lyric 0\n",
      "track metadata keys: 213434 and track metadata memory: 10485856 bytes\n"
     ]
    },
    {
     "name": "stderr",
     "output_type": "stream",
     "text": [
      "\r",
      "Playlist loop:  29%|████████████████████████████▌                                                                     | 291/1000 [1:51:44<10:06:40, 51.34s/it]"
     ]
    },
    {
     "name": "stdout",
     "output_type": "stream",
     "text": [
      "Number of tracks in dict: 213439\n",
      "Successful ID: 5, Unsuccesful ID 0\n",
      "Unsuccesful lyric 0\n",
      "track metadata keys: 213439 and track metadata memory: 10485856 bytes\n",
      "Number of tracks in dict: 213439\n",
      "Successful ID: 0, Unsuccesful ID 0\n",
      "Unsuccesful lyric 0\n",
      "track metadata keys: 213439 and track metadata memory: 10485856 bytes\n"
     ]
    },
    {
     "name": "stderr",
     "output_type": "stream",
     "text": [
      "\r",
      "Playlist loop:  29%|█████████████████████████████                                                                      | 293/1000 [1:51:51<6:03:41, 30.87s/it]"
     ]
    },
    {
     "name": "stdout",
     "output_type": "stream",
     "text": [
      "Number of tracks in dict: 213441\n",
      "Successful ID: 2, Unsuccesful ID 0\n",
      "Unsuccesful lyric 0\n",
      "track metadata keys: 213441 and track metadata memory: 10485856 bytes\n",
      "Number of tracks in dict: 213441\n",
      "Successful ID: 0, Unsuccesful ID 0\n",
      "Unsuccesful lyric 0\n",
      "track metadata keys: 213441 and track metadata memory: 10485856 bytes\n"
     ]
    },
    {
     "name": "stderr",
     "output_type": "stream",
     "text": [
      "\r",
      "Playlist loop:  30%|█████████████████████████████▏                                                                     | 295/1000 [1:51:54<3:51:22, 19.69s/it]"
     ]
    },
    {
     "name": "stdout",
     "output_type": "stream",
     "text": [
      "Number of tracks in dict: 213442\n",
      "Successful ID: 1, Unsuccesful ID 0\n",
      "Unsuccesful lyric 0\n",
      "track metadata keys: 213442 and track metadata memory: 10485856 bytes\n"
     ]
    },
    {
     "name": "stderr",
     "output_type": "stream",
     "text": [
      "\r",
      "Playlist loop:  30%|█████████████████████████████▎                                                                     | 296/1000 [1:52:03<3:23:16, 17.33s/it]"
     ]
    },
    {
     "name": "stdout",
     "output_type": "stream",
     "text": [
      "Number of tracks in dict: 213444\n",
      "Successful ID: 2, Unsuccesful ID 0\n",
      "Unsuccesful lyric 0\n",
      "track metadata keys: 213444 and track metadata memory: 10485856 bytes\n",
      "Number of tracks in dict: 213444\n",
      "Successful ID: 0, Unsuccesful ID 0\n",
      "Unsuccesful lyric 0\n",
      "track metadata keys: 213444 and track metadata memory: 10485856 bytes\n"
     ]
    },
    {
     "name": "stderr",
     "output_type": "stream",
     "text": [
      "\r",
      "Playlist loop:  30%|█████████████████████████████▌                                                                     | 298/1000 [1:52:21<2:45:09, 14.12s/it]"
     ]
    },
    {
     "name": "stdout",
     "output_type": "stream",
     "text": [
      "Number of tracks in dict: 213456\n",
      "Successful ID: 4, Unsuccesful ID 8\n",
      "Unsuccesful lyric 0\n",
      "track metadata keys: 213456 and track metadata memory: 10485856 bytes\n",
      "Number of tracks in dict: 213456\n",
      "Successful ID: 0, Unsuccesful ID 0\n",
      "Unsuccesful lyric 0\n",
      "track metadata keys: 213456 and track metadata memory: 10485856 bytes\n",
      "Number of tracks in dict: 213459\n",
      "Successful ID: 3, Unsuccesful ID 0\n",
      "Unsuccesful lyric 0\n",
      "track metadata keys: 213459 and track metadata memory: 10485856 bytes\n"
     ]
    },
    {
     "name": "stderr",
     "output_type": "stream",
     "text": [
      "Playlist loop:  30%|█████████████████████████████▊                                                                     | 301/1000 [1:52:43<2:07:34, 10.95s/it]"
     ]
    },
    {
     "name": "stdout",
     "output_type": "stream",
     "text": [
      "Number of tracks in dict: 213461\n",
      "Successful ID: 2, Unsuccesful ID 0\n",
      "Unsuccesful lyric 0\n",
      "track metadata keys: 213461 and track metadata memory: 10485856 bytes\n"
     ]
    },
    {
     "name": "stderr",
     "output_type": "stream",
     "text": [
      "\r",
      "Playlist loop:  30%|█████████████████████████████▉                                                                     | 302/1000 [1:52:46<1:46:49,  9.18s/it]"
     ]
    },
    {
     "name": "stdout",
     "output_type": "stream",
     "text": [
      "Number of tracks in dict: 213462\n",
      "Successful ID: 1, Unsuccesful ID 0\n",
      "Unsuccesful lyric 0\n",
      "track metadata keys: 213462 and track metadata memory: 10485856 bytes\n"
     ]
    },
    {
     "name": "stderr",
     "output_type": "stream",
     "text": [
      "\r",
      "Playlist loop:  30%|█████████████████████████████▉                                                                     | 303/1000 [1:52:51<1:33:34,  8.06s/it]"
     ]
    },
    {
     "name": "stdout",
     "output_type": "stream",
     "text": [
      "Number of tracks in dict: 213463\n",
      "Successful ID: 1, Unsuccesful ID 0\n",
      "Unsuccesful lyric 0\n",
      "track metadata keys: 213463 and track metadata memory: 10485856 bytes\n"
     ]
    },
    {
     "name": "stderr",
     "output_type": "stream",
     "text": [
      "\r",
      "Playlist loop:  30%|██████████████████████████████                                                                     | 304/1000 [1:53:17<2:27:21, 12.70s/it]"
     ]
    },
    {
     "name": "stdout",
     "output_type": "stream",
     "text": [
      "Number of tracks in dict: 213473\n",
      "Successful ID: 7, Unsuccesful ID 3\n",
      "Unsuccesful lyric 0\n",
      "track metadata keys: 213473 and track metadata memory: 10485856 bytes\n"
     ]
    },
    {
     "name": "stderr",
     "output_type": "stream",
     "text": [
      "\r",
      "Playlist loop:  30%|██████████████████████████████▏                                                                    | 305/1000 [1:53:18<1:50:49,  9.57s/it]"
     ]
    },
    {
     "name": "stdout",
     "output_type": "stream",
     "text": [
      "Number of tracks in dict: 213475\n",
      "Successful ID: 0, Unsuccesful ID 2\n",
      "Unsuccesful lyric 0\n",
      "track metadata keys: 213475 and track metadata memory: 10485856 bytes\n"
     ]
    },
    {
     "name": "stderr",
     "output_type": "stream",
     "text": [
      "\r",
      "Playlist loop:  31%|██████████████████████████████▎                                                                    | 306/1000 [1:53:38<2:25:27, 12.58s/it]"
     ]
    },
    {
     "name": "stdout",
     "output_type": "stream",
     "text": [
      "Number of tracks in dict: 213482\n",
      "Successful ID: 6, Unsuccesful ID 1\n",
      "Unsuccesful lyric 0\n",
      "track metadata keys: 213482 and track metadata memory: 10485856 bytes\n"
     ]
    },
    {
     "name": "stderr",
     "output_type": "stream",
     "text": [
      "\r",
      "Playlist loop:  31%|██████████████████████████████▍                                                                    | 307/1000 [1:54:49<5:36:06, 29.10s/it]"
     ]
    },
    {
     "name": "stdout",
     "output_type": "stream",
     "text": [
      "Number of tracks in dict: 213521\n",
      "Successful ID: 18, Unsuccesful ID 21\n",
      "Unsuccesful lyric 0\n",
      "track metadata keys: 213521 and track metadata memory: 10485856 bytes\n"
     ]
    },
    {
     "name": "stderr",
     "output_type": "stream",
     "text": [
      "\r",
      "Playlist loop:  31%|██████████████████████████████▍                                                                    | 308/1000 [1:55:47<7:10:00, 37.28s/it]"
     ]
    },
    {
     "name": "stdout",
     "output_type": "stream",
     "text": [
      "Number of tracks in dict: 213544\n",
      "Successful ID: 14, Unsuccesful ID 9\n",
      "Unsuccesful lyric 0\n",
      "track metadata keys: 213544 and track metadata memory: 10485856 bytes\n"
     ]
    },
    {
     "name": "stderr",
     "output_type": "stream",
     "text": [
      "\r",
      "Playlist loop:  31%|██████████████████████████████▎                                                                   | 309/1000 [1:58:15<13:22:59, 69.72s/it]"
     ]
    },
    {
     "name": "stdout",
     "output_type": "stream",
     "text": [
      "Number of tracks in dict: 213581\n",
      "Successful ID: 34, Unsuccesful ID 3\n",
      "Unsuccesful lyric 0\n",
      "track metadata keys: 213581 and track metadata memory: 10485856 bytes\n"
     ]
    },
    {
     "name": "stderr",
     "output_type": "stream",
     "text": [
      "\r",
      "Playlist loop:  31%|██████████████████████████████▍                                                                   | 310/1000 [2:00:47<17:57:44, 93.72s/it]"
     ]
    },
    {
     "name": "stdout",
     "output_type": "stream",
     "text": [
      "Number of tracks in dict: 213620\n",
      "Successful ID: 36, Unsuccesful ID 3\n",
      "Unsuccesful lyric 0\n",
      "track metadata keys: 213620 and track metadata memory: 10485856 bytes\n",
      "Number of tracks in dict: 213620\n",
      "Successful ID: 0, Unsuccesful ID 0\n",
      "Unsuccesful lyric 0\n",
      "track metadata keys: 213620 and track metadata memory: 10485856 bytes\n"
     ]
    },
    {
     "name": "stderr",
     "output_type": "stream",
     "text": [
      "\r",
      "Playlist loop:  31%|██████████████████████████████▌                                                                   | 312/1000 [2:00:58<10:14:44, 53.61s/it]"
     ]
    },
    {
     "name": "stdout",
     "output_type": "stream",
     "text": [
      "Number of tracks in dict: 213623\n",
      "Successful ID: 3, Unsuccesful ID 0\n",
      "Unsuccesful lyric 0\n",
      "track metadata keys: 213623 and track metadata memory: 10485856 bytes\n"
     ]
    },
    {
     "name": "stderr",
     "output_type": "stream",
     "text": [
      "\r",
      "Playlist loop:  31%|██████████████████████████████▉                                                                    | 313/1000 [2:01:02<7:53:43, 41.37s/it]"
     ]
    },
    {
     "name": "stdout",
     "output_type": "stream",
     "text": [
      "Number of tracks in dict: 213624\n",
      "Successful ID: 1, Unsuccesful ID 0\n",
      "Unsuccesful lyric 0\n",
      "track metadata keys: 213624 and track metadata memory: 10485856 bytes\n"
     ]
    },
    {
     "name": "stderr",
     "output_type": "stream",
     "text": [
      "\r",
      "Playlist loop:  31%|██████████████████████████████▊                                                                   | 314/1000 [2:03:35<13:23:44, 70.30s/it]"
     ]
    },
    {
     "name": "stdout",
     "output_type": "stream",
     "text": [
      "Number of tracks in dict: 213704\n",
      "Successful ID: 34, Unsuccesful ID 46\n",
      "Unsuccesful lyric 0\n",
      "track metadata keys: 213704 and track metadata memory: 10485856 bytes\n"
     ]
    },
    {
     "name": "stderr",
     "output_type": "stream",
     "text": [
      "\r",
      "Playlist loop:  32%|██████████████████████████████▊                                                                   | 315/1000 [2:04:47<13:27:13, 70.71s/it]"
     ]
    },
    {
     "name": "stdout",
     "output_type": "stream",
     "text": [
      "Number of tracks in dict: 213730\n",
      "Successful ID: 18, Unsuccesful ID 8\n",
      "Unsuccesful lyric 0\n",
      "track metadata keys: 213730 and track metadata memory: 10485856 bytes\n"
     ]
    },
    {
     "name": "stderr",
     "output_type": "stream",
     "text": [
      "\r",
      "Playlist loop:  32%|███████████████████████████████▎                                                                   | 316/1000 [2:04:51<9:54:20, 52.13s/it]"
     ]
    },
    {
     "name": "stdout",
     "output_type": "stream",
     "text": [
      "Number of tracks in dict: 213733\n",
      "Successful ID: 1, Unsuccesful ID 2\n",
      "Unsuccesful lyric 0\n",
      "track metadata keys: 213733 and track metadata memory: 10485856 bytes\n"
     ]
    },
    {
     "name": "stderr",
     "output_type": "stream",
     "text": [
      "\r",
      "Playlist loop:  32%|███████████████████████████████▍                                                                   | 317/1000 [2:04:51<7:05:01, 37.34s/it]"
     ]
    },
    {
     "name": "stdout",
     "output_type": "stream",
     "text": [
      "Number of tracks in dict: 213734\n",
      "Successful ID: 0, Unsuccesful ID 1\n",
      "Unsuccesful lyric 0\n",
      "track metadata keys: 213734 and track metadata memory: 10485856 bytes\n"
     ]
    },
    {
     "name": "stderr",
     "output_type": "stream",
     "text": [
      "\r",
      "Playlist loop:  32%|███████████████████████████████▍                                                                   | 318/1000 [2:04:55<5:14:33, 27.67s/it]"
     ]
    },
    {
     "name": "stdout",
     "output_type": "stream",
     "text": [
      "Number of tracks in dict: 213735\n",
      "Successful ID: 1, Unsuccesful ID 0\n",
      "Unsuccesful lyric 0\n",
      "track metadata keys: 213735 and track metadata memory: 10485856 bytes\n"
     ]
    },
    {
     "name": "stderr",
     "output_type": "stream",
     "text": [
      "\r",
      "Playlist loop:  32%|███████████████████████████████▌                                                                   | 319/1000 [2:05:06<4:17:23, 22.68s/it]"
     ]
    },
    {
     "name": "stdout",
     "output_type": "stream",
     "text": [
      "Number of tracks in dict: 213738\n",
      "Successful ID: 3, Unsuccesful ID 0\n",
      "Unsuccesful lyric 0\n",
      "track metadata keys: 213738 and track metadata memory: 10485856 bytes\n",
      "Number of tracks in dict: 213738\n",
      "Successful ID: 0, Unsuccesful ID 0\n",
      "Unsuccesful lyric 0\n",
      "track metadata keys: 213738 and track metadata memory: 10485856 bytes\n"
     ]
    },
    {
     "name": "stderr",
     "output_type": "stream",
     "text": [
      "\r",
      "Playlist loop:  32%|███████████████████████████████▊                                                                   | 321/1000 [2:06:00<4:41:06, 24.84s/it]"
     ]
    },
    {
     "name": "stdout",
     "output_type": "stream",
     "text": [
      "Number of tracks in dict: 213754\n",
      "Successful ID: 16, Unsuccesful ID 0\n",
      "Unsuccesful lyric 0\n",
      "track metadata keys: 213754 and track metadata memory: 10485856 bytes\n"
     ]
    },
    {
     "name": "stderr",
     "output_type": "stream",
     "text": [
      "\r",
      "Playlist loop:  32%|███████████████████████████████▉                                                                   | 322/1000 [2:06:11<4:01:04, 21.33s/it]"
     ]
    },
    {
     "name": "stdout",
     "output_type": "stream",
     "text": [
      "Number of tracks in dict: 213757\n",
      "Successful ID: 3, Unsuccesful ID 0\n",
      "Unsuccesful lyric 0\n",
      "track metadata keys: 213757 and track metadata memory: 10485856 bytes\n"
     ]
    },
    {
     "name": "stderr",
     "output_type": "stream",
     "text": [
      "\r",
      "Playlist loop:  32%|███████████████████████████████▉                                                                   | 323/1000 [2:06:15<3:11:27, 16.97s/it]"
     ]
    },
    {
     "name": "stdout",
     "output_type": "stream",
     "text": [
      "Number of tracks in dict: 213758\n",
      "Successful ID: 1, Unsuccesful ID 0\n",
      "Unsuccesful lyric 0\n",
      "track metadata keys: 213758 and track metadata memory: 10485856 bytes\n",
      "Number of tracks in dict: 213758\n",
      "Successful ID: 0, Unsuccesful ID 0\n",
      "Unsuccesful lyric 0\n",
      "track metadata keys: 213758 and track metadata memory: 10485856 bytes\n"
     ]
    },
    {
     "name": "stderr",
     "output_type": "stream",
     "text": [
      "\r",
      "Playlist loop:  32%|████████████████████████████████▏                                                                  | 325/1000 [2:06:24<2:09:42, 11.53s/it]"
     ]
    },
    {
     "name": "stdout",
     "output_type": "stream",
     "text": [
      "Number of tracks in dict: 213761\n",
      "Successful ID: 2, Unsuccesful ID 1\n",
      "Unsuccesful lyric 0\n",
      "track metadata keys: 213761 and track metadata memory: 10485856 bytes\n",
      "Number of tracks in dict: 213761\n",
      "Successful ID: 0, Unsuccesful ID 0\n",
      "Unsuccesful lyric 0\n",
      "track metadata keys: 213761 and track metadata memory: 10485856 bytes\n"
     ]
    },
    {
     "name": "stderr",
     "output_type": "stream",
     "text": [
      "\r",
      "Playlist loop:  33%|████████████████████████████████▎                                                                  | 327/1000 [2:06:39<1:52:03,  9.99s/it]"
     ]
    },
    {
     "name": "stdout",
     "output_type": "stream",
     "text": [
      "Number of tracks in dict: 213765\n",
      "Successful ID: 4, Unsuccesful ID 0\n",
      "Unsuccesful lyric 0\n",
      "track metadata keys: 213765 and track metadata memory: 10485856 bytes\n"
     ]
    },
    {
     "name": "stderr",
     "output_type": "stream",
     "text": [
      "\r",
      "Playlist loop:  33%|███████████████████████████████▊                                                                 | 328/1000 [2:17:27<27:13:10, 145.82s/it]"
     ]
    },
    {
     "name": "stdout",
     "output_type": "stream",
     "text": [
      "Number of tracks in dict: 213936\n",
      "Successful ID: 111, Unsuccesful ID 60\n",
      "Unsuccesful lyric 0\n",
      "track metadata keys: 213936 and track metadata memory: 10485856 bytes\n"
     ]
    },
    {
     "name": "stderr",
     "output_type": "stream",
     "text": [
      "\r",
      "Playlist loop:  33%|███████████████████████████████▉                                                                 | 329/1000 [2:17:32<21:01:35, 112.81s/it]"
     ]
    },
    {
     "name": "stdout",
     "output_type": "stream",
     "text": [
      "Number of tracks in dict: 213938\n",
      "Successful ID: 1, Unsuccesful ID 1\n",
      "Unsuccesful lyric 0\n",
      "track metadata keys: 213938 and track metadata memory: 10485856 bytes\n",
      "Number of tracks in dict: 213938\n",
      "Successful ID: 0, Unsuccesful ID 0\n",
      "Unsuccesful lyric 0\n",
      "track metadata keys: 213938 and track metadata memory: 10485856 bytes\n"
     ]
    },
    {
     "name": "stderr",
     "output_type": "stream",
     "text": [
      "\r",
      "Playlist loop:  33%|████████████████████████████████▍                                                                 | 331/1000 [2:19:00<15:52:07, 85.39s/it]"
     ]
    },
    {
     "name": "stdout",
     "output_type": "stream",
     "text": [
      "Number of tracks in dict: 213958\n",
      "Successful ID: 18, Unsuccesful ID 2\n",
      "Unsuccesful lyric 0\n",
      "track metadata keys: 213958 and track metadata memory: 10485856 bytes\n"
     ]
    },
    {
     "name": "stderr",
     "output_type": "stream",
     "text": [
      "\r",
      "Playlist loop:  33%|████████████████████████████████▌                                                                 | 332/1000 [2:19:19<13:07:08, 70.70s/it]"
     ]
    },
    {
     "name": "stdout",
     "output_type": "stream",
     "text": [
      "Number of tracks in dict: 213963\n",
      "Successful ID: 5, Unsuccesful ID 0\n",
      "Unsuccesful lyric 0\n",
      "track metadata keys: 213963 and track metadata memory: 10485856 bytes\n"
     ]
    },
    {
     "name": "stderr",
     "output_type": "stream",
     "text": [
      "\r",
      "Playlist loop:  33%|████████████████████████████████▋                                                                 | 333/1000 [2:20:11<12:14:14, 66.05s/it]"
     ]
    },
    {
     "name": "stdout",
     "output_type": "stream",
     "text": [
      "Number of tracks in dict: 213982\n",
      "Successful ID: 14, Unsuccesful ID 5\n",
      "Unsuccesful lyric 0\n",
      "track metadata keys: 213982 and track metadata memory: 10485856 bytes\n"
     ]
    },
    {
     "name": "stderr",
     "output_type": "stream",
     "text": [
      "\r",
      "Playlist loop:  33%|████████████████████████████████▋                                                                 | 334/1000 [2:22:32<15:46:03, 85.23s/it]"
     ]
    },
    {
     "name": "stdout",
     "output_type": "stream",
     "text": [
      "Number of tracks in dict: 213985\n",
      "Successful ID: 3, Unsuccesful ID 0\n",
      "Unsuccesful lyric 0\n",
      "track metadata keys: 213985 and track metadata memory: 10485856 bytes\n"
     ]
    },
    {
     "name": "stderr",
     "output_type": "stream",
     "text": [
      "\r",
      "Playlist loop:  34%|████████████████████████████████▊                                                                 | 335/1000 [2:22:36<11:44:52, 63.60s/it]"
     ]
    },
    {
     "name": "stdout",
     "output_type": "stream",
     "text": [
      "Number of tracks in dict: 213987\n",
      "Successful ID: 1, Unsuccesful ID 1\n",
      "Unsuccesful lyric 0\n",
      "track metadata keys: 213987 and track metadata memory: 10485856 bytes\n"
     ]
    },
    {
     "name": "stderr",
     "output_type": "stream",
     "text": [
      "\r",
      "Playlist loop:  34%|█████████████████████████████████▎                                                                 | 336/1000 [2:23:00<9:42:31, 52.64s/it]"
     ]
    },
    {
     "name": "stdout",
     "output_type": "stream",
     "text": [
      "Number of tracks in dict: 213998\n",
      "Successful ID: 6, Unsuccesful ID 5\n",
      "Unsuccesful lyric 0\n",
      "track metadata keys: 213998 and track metadata memory: 10485856 bytes\n"
     ]
    },
    {
     "name": "stderr",
     "output_type": "stream",
     "text": [
      "\r",
      "Playlist loop:  34%|█████████████████████████████████                                                                 | 337/1000 [2:24:31<11:40:39, 63.41s/it]"
     ]
    },
    {
     "name": "stdout",
     "output_type": "stream",
     "text": [
      "Number of tracks in dict: 214028\n",
      "Successful ID: 22, Unsuccesful ID 8\n",
      "Unsuccesful lyric 0\n",
      "track metadata keys: 214028 and track metadata memory: 10485856 bytes\n"
     ]
    },
    {
     "name": "stderr",
     "output_type": "stream",
     "text": [
      "\r",
      "Playlist loop:  34%|█████████████████████████████████▍                                                                 | 338/1000 [2:24:35<8:33:07, 46.51s/it]"
     ]
    },
    {
     "name": "stdout",
     "output_type": "stream",
     "text": [
      "Number of tracks in dict: 214029\n",
      "Successful ID: 1, Unsuccesful ID 0\n",
      "Unsuccesful lyric 0\n",
      "track metadata keys: 214029 and track metadata memory: 10485856 bytes\n",
      "Number of tracks in dict: 214029\n",
      "Successful ID: 0, Unsuccesful ID 0\n",
      "Unsuccesful lyric 0\n",
      "track metadata keys: 214029 and track metadata memory: 10485856 bytes\n"
     ]
    },
    {
     "name": "stderr",
     "output_type": "stream",
     "text": [
      "\r",
      "Playlist loop:  34%|█████████████████████████████████▋                                                                 | 340/1000 [2:24:43<4:59:40, 27.24s/it]"
     ]
    },
    {
     "name": "stdout",
     "output_type": "stream",
     "text": [
      "Number of tracks in dict: 214031\n",
      "Successful ID: 2, Unsuccesful ID 0\n",
      "Unsuccesful lyric 0\n",
      "track metadata keys: 214031 and track metadata memory: 10485856 bytes\n",
      "Number of tracks in dict: 214031\n",
      "Successful ID: 0, Unsuccesful ID 0\n",
      "Unsuccesful lyric 0\n",
      "track metadata keys: 214031 and track metadata memory: 10485856 bytes\n",
      "Number of tracks in dict: 214031\n",
      "Successful ID: 0, Unsuccesful ID 0\n",
      "Unsuccesful lyric 0\n",
      "track metadata keys: 214031 and track metadata memory: 10485856 bytes\n"
     ]
    },
    {
     "name": "stderr",
     "output_type": "stream",
     "text": [
      "\r",
      "Playlist loop:  34%|█████████████████████████████████▉                                                                 | 343/1000 [2:24:50<2:44:15, 15.00s/it]"
     ]
    },
    {
     "name": "stdout",
     "output_type": "stream",
     "text": [
      "Number of tracks in dict: 214034\n",
      "Successful ID: 2, Unsuccesful ID 1\n",
      "Unsuccesful lyric 0\n",
      "track metadata keys: 214034 and track metadata memory: 10485856 bytes\n",
      "Number of tracks in dict: 214034\n",
      "Successful ID: 0, Unsuccesful ID 0\n",
      "Unsuccesful lyric 0\n",
      "track metadata keys: 214034 and track metadata memory: 10485856 bytes\n"
     ]
    },
    {
     "name": "stderr",
     "output_type": "stream",
     "text": [
      "\r",
      "Playlist loop:  34%|██████████████████████████████████▏                                                                | 345/1000 [2:27:44<6:53:33, 37.88s/it]"
     ]
    },
    {
     "name": "stdout",
     "output_type": "stream",
     "text": [
      "Number of tracks in dict: 214055\n",
      "Successful ID: 10, Unsuccesful ID 11\n",
      "Unsuccesful lyric 0\n",
      "track metadata keys: 214055 and track metadata memory: 10485856 bytes\n",
      "Number of tracks in dict: 214055\n",
      "Successful ID: 0, Unsuccesful ID 0\n",
      "Unsuccesful lyric 0\n",
      "track metadata keys: 214055 and track metadata memory: 10485856 bytes\n"
     ]
    },
    {
     "name": "stderr",
     "output_type": "stream",
     "text": [
      "\r",
      "Playlist loop:  35%|██████████████████████████████████▎                                                                | 347/1000 [2:28:57<6:47:49, 37.47s/it]"
     ]
    },
    {
     "name": "stdout",
     "output_type": "stream",
     "text": [
      "Number of tracks in dict: 214060\n",
      "Successful ID: 2, Unsuccesful ID 3\n",
      "Unsuccesful lyric 0\n",
      "track metadata keys: 214060 and track metadata memory: 10485856 bytes\n"
     ]
    },
    {
     "name": "stderr",
     "output_type": "stream",
     "text": [
      "\r",
      "Playlist loop:  35%|██████████████████████████████████▍                                                                | 348/1000 [2:30:31<8:39:23, 47.80s/it]"
     ]
    },
    {
     "name": "stdout",
     "output_type": "stream",
     "text": [
      "Number of tracks in dict: 214089\n",
      "Successful ID: 24, Unsuccesful ID 5\n",
      "Unsuccesful lyric 0\n",
      "track metadata keys: 214089 and track metadata memory: 10485856 bytes\n"
     ]
    },
    {
     "name": "stderr",
     "output_type": "stream",
     "text": [
      "\r",
      "Playlist loop:  35%|██████████████████████████████████▌                                                                | 349/1000 [2:30:31<6:52:40, 38.03s/it]"
     ]
    },
    {
     "name": "stdout",
     "output_type": "stream",
     "text": [
      "Number of tracks in dict: 214090\n",
      "Successful ID: 0, Unsuccesful ID 1\n",
      "Unsuccesful lyric 0\n",
      "track metadata keys: 214090 and track metadata memory: 10485856 bytes\n"
     ]
    },
    {
     "name": "stderr",
     "output_type": "stream",
     "text": [
      "\r",
      "Playlist loop:  35%|██████████████████████████████████▋                                                                | 350/1000 [2:30:37<5:30:55, 30.55s/it]"
     ]
    },
    {
     "name": "stdout",
     "output_type": "stream",
     "text": [
      "Number of tracks in dict: 214091\n",
      "Successful ID: 1, Unsuccesful ID 0\n",
      "Unsuccesful lyric 0\n",
      "track metadata keys: 214091 and track metadata memory: 10485856 bytes\n"
     ]
    },
    {
     "name": "stderr",
     "output_type": "stream",
     "text": [
      "\r",
      "Playlist loop:  35%|██████████████████████████████████▋                                                                | 351/1000 [2:30:40<4:16:56, 23.75s/it]"
     ]
    },
    {
     "name": "stdout",
     "output_type": "stream",
     "text": [
      "Number of tracks in dict: 214092\n",
      "Successful ID: 1, Unsuccesful ID 0\n",
      "Unsuccesful lyric 0\n",
      "track metadata keys: 214092 and track metadata memory: 10485856 bytes\n"
     ]
    },
    {
     "name": "stderr",
     "output_type": "stream",
     "text": [
      "\r",
      "Playlist loop:  35%|██████████████████████████████████▊                                                                | 352/1000 [2:32:14<7:36:00, 42.22s/it]"
     ]
    },
    {
     "name": "stdout",
     "output_type": "stream",
     "text": [
      "Number of tracks in dict: 214151\n",
      "Successful ID: 21, Unsuccesful ID 38\n",
      "Unsuccesful lyric 0\n",
      "track metadata keys: 214151 and track metadata memory: 10485856 bytes\n"
     ]
    },
    {
     "name": "stderr",
     "output_type": "stream",
     "text": [
      "\r",
      "Playlist loop:  35%|██████████████████████████████████▉                                                                | 353/1000 [2:32:59<7:41:34, 42.80s/it]"
     ]
    },
    {
     "name": "stdout",
     "output_type": "stream",
     "text": [
      "Number of tracks in dict: 214168\n",
      "Successful ID: 10, Unsuccesful ID 7\n",
      "Unsuccesful lyric 0\n",
      "track metadata keys: 214168 and track metadata memory: 10485856 bytes\n"
     ]
    },
    {
     "name": "stderr",
     "output_type": "stream",
     "text": [
      "\r",
      "Playlist loop:  35%|███████████████████████████████████                                                                | 354/1000 [2:33:17<6:26:58, 35.94s/it]"
     ]
    },
    {
     "name": "stdout",
     "output_type": "stream",
     "text": [
      "Number of tracks in dict: 214174\n",
      "Successful ID: 5, Unsuccesful ID 1\n",
      "Unsuccesful lyric 0\n",
      "track metadata keys: 214174 and track metadata memory: 10485856 bytes\n"
     ]
    },
    {
     "name": "stderr",
     "output_type": "stream",
     "text": [
      "\r",
      "Playlist loop:  36%|███████████████████████████████████▏                                                               | 355/1000 [2:33:33<5:24:28, 30.18s/it]"
     ]
    },
    {
     "name": "stdout",
     "output_type": "stream",
     "text": [
      "Number of tracks in dict: 214182\n",
      "Successful ID: 4, Unsuccesful ID 4\n",
      "Unsuccesful lyric 0\n",
      "track metadata keys: 214182 and track metadata memory: 10485856 bytes\n"
     ]
    },
    {
     "name": "stderr",
     "output_type": "stream",
     "text": [
      "\r",
      "Playlist loop:  36%|███████████████████████████████████▏                                                               | 356/1000 [2:34:01<5:17:47, 29.61s/it]"
     ]
    },
    {
     "name": "stdout",
     "output_type": "stream",
     "text": [
      "Number of tracks in dict: 214196\n",
      "Successful ID: 7, Unsuccesful ID 7\n",
      "Unsuccesful lyric 0\n",
      "track metadata keys: 214196 and track metadata memory: 10485856 bytes\n"
     ]
    },
    {
     "name": "stderr",
     "output_type": "stream",
     "text": [
      "\r",
      "Playlist loop:  36%|███████████████████████████████████▎                                                               | 357/1000 [2:34:08<4:08:18, 23.17s/it]"
     ]
    },
    {
     "name": "stdout",
     "output_type": "stream",
     "text": [
      "Number of tracks in dict: 214198\n",
      "Successful ID: 2, Unsuccesful ID 0\n",
      "Unsuccesful lyric 0\n",
      "track metadata keys: 214198 and track metadata memory: 10485856 bytes\n"
     ]
    },
    {
     "name": "stderr",
     "output_type": "stream",
     "text": [
      "\r",
      "Playlist loop:  36%|███████████████████████████████████▍                                                               | 358/1000 [2:34:26<3:51:03, 21.59s/it]"
     ]
    },
    {
     "name": "stdout",
     "output_type": "stream",
     "text": [
      "Number of tracks in dict: 214203\n",
      "Successful ID: 4, Unsuccesful ID 1\n",
      "Unsuccesful lyric 0\n",
      "track metadata keys: 214203 and track metadata memory: 10485856 bytes\n"
     ]
    },
    {
     "name": "stderr",
     "output_type": "stream",
     "text": [
      "\r",
      "Playlist loop:  36%|███████████████████████████████████▌                                                               | 359/1000 [2:35:01<4:32:47, 25.54s/it]"
     ]
    },
    {
     "name": "stdout",
     "output_type": "stream",
     "text": [
      "Number of tracks in dict: 214215\n",
      "Successful ID: 8, Unsuccesful ID 4\n",
      "Unsuccesful lyric 0\n",
      "track metadata keys: 214215 and track metadata memory: 10485856 bytes\n",
      "Number of tracks in dict: 214215\n",
      "Successful ID: 0, Unsuccesful ID 0\n",
      "Unsuccesful lyric 0\n",
      "track metadata keys: 214215 and track metadata memory: 10485856 bytes\n"
     ]
    },
    {
     "name": "stderr",
     "output_type": "stream",
     "text": [
      "\r",
      "Playlist loop:  36%|███████████████████████████████████▋                                                               | 361/1000 [2:35:05<2:36:57, 14.74s/it]"
     ]
    },
    {
     "name": "stdout",
     "output_type": "stream",
     "text": [
      "Number of tracks in dict: 214216\n",
      "Successful ID: 1, Unsuccesful ID 0\n",
      "Unsuccesful lyric 0\n",
      "track metadata keys: 214216 and track metadata memory: 10485856 bytes\n"
     ]
    },
    {
     "name": "stderr",
     "output_type": "stream",
     "text": [
      "\r",
      "Playlist loop:  36%|███████████████████████████████████▊                                                               | 362/1000 [2:35:13<2:17:38, 12.94s/it]"
     ]
    },
    {
     "name": "stdout",
     "output_type": "stream",
     "text": [
      "Number of tracks in dict: 214218\n",
      "Successful ID: 2, Unsuccesful ID 0\n",
      "Unsuccesful lyric 0\n",
      "track metadata keys: 214218 and track metadata memory: 10485856 bytes\n"
     ]
    },
    {
     "name": "stderr",
     "output_type": "stream",
     "text": [
      "\r",
      "Playlist loop:  36%|███████████████████████████████████▉                                                               | 363/1000 [2:35:48<3:18:34, 18.70s/it]"
     ]
    },
    {
     "name": "stdout",
     "output_type": "stream",
     "text": [
      "Number of tracks in dict: 214229\n",
      "Successful ID: 9, Unsuccesful ID 2\n",
      "Unsuccesful lyric 0\n",
      "track metadata keys: 214229 and track metadata memory: 10485856 bytes\n"
     ]
    },
    {
     "name": "stderr",
     "output_type": "stream",
     "text": [
      "\r",
      "Playlist loop:  36%|████████████████████████████████████                                                               | 364/1000 [2:38:24<9:55:32, 56.18s/it]"
     ]
    },
    {
     "name": "stdout",
     "output_type": "stream",
     "text": [
      "Number of tracks in dict: 214317\n",
      "Successful ID: 35, Unsuccesful ID 53\n",
      "Unsuccesful lyric 0\n",
      "track metadata keys: 214317 and track metadata memory: 10485856 bytes\n"
     ]
    },
    {
     "name": "stderr",
     "output_type": "stream",
     "text": [
      "\r",
      "Playlist loop:  36%|████████████████████████████████████▏                                                              | 365/1000 [2:39:21<9:54:59, 56.22s/it]"
     ]
    },
    {
     "name": "stdout",
     "output_type": "stream",
     "text": [
      "Number of tracks in dict: 214338\n",
      "Successful ID: 11, Unsuccesful ID 10\n",
      "Unsuccesful lyric 0\n",
      "track metadata keys: 214338 and track metadata memory: 10485856 bytes\n"
     ]
    },
    {
     "name": "stderr",
     "output_type": "stream",
     "text": [
      "\r",
      "Playlist loop:  37%|████████████████████████████████████▏                                                              | 366/1000 [2:40:01<9:05:26, 51.62s/it]"
     ]
    },
    {
     "name": "stdout",
     "output_type": "stream",
     "text": [
      "Number of tracks in dict: 214355\n",
      "Successful ID: 10, Unsuccesful ID 7\n",
      "Unsuccesful lyric 0\n",
      "track metadata keys: 214355 and track metadata memory: 10485856 bytes\n"
     ]
    },
    {
     "name": "stderr",
     "output_type": "stream",
     "text": [
      "\r",
      "Playlist loop:  37%|████████████████████████████████████▎                                                              | 367/1000 [2:40:57<9:17:20, 52.83s/it]"
     ]
    },
    {
     "name": "stdout",
     "output_type": "stream",
     "text": [
      "Number of tracks in dict: 214374\n",
      "Successful ID: 12, Unsuccesful ID 7\n",
      "Unsuccesful lyric 0\n",
      "track metadata keys: 214374 and track metadata memory: 10485856 bytes\n"
     ]
    },
    {
     "name": "stderr",
     "output_type": "stream",
     "text": [
      "\r",
      "Playlist loop:  37%|████████████████████████████████████▍                                                              | 368/1000 [2:40:57<6:34:50, 37.48s/it]"
     ]
    },
    {
     "name": "stdout",
     "output_type": "stream",
     "text": [
      "Number of tracks in dict: 214375\n",
      "Successful ID: 0, Unsuccesful ID 1\n",
      "Unsuccesful lyric 0\n",
      "track metadata keys: 214375 and track metadata memory: 10485856 bytes\n"
     ]
    },
    {
     "name": "stderr",
     "output_type": "stream",
     "text": [
      "\r",
      "Playlist loop:  37%|████████████████████████████████████▌                                                              | 369/1000 [2:41:05<5:02:30, 28.76s/it]"
     ]
    },
    {
     "name": "stdout",
     "output_type": "stream",
     "text": [
      "Number of tracks in dict: 214377\n",
      "Successful ID: 2, Unsuccesful ID 0\n",
      "Unsuccesful lyric 0\n",
      "track metadata keys: 214377 and track metadata memory: 10485856 bytes\n"
     ]
    },
    {
     "name": "stderr",
     "output_type": "stream",
     "text": [
      "\r",
      "Playlist loop:  37%|████████████████████████████████████▋                                                              | 370/1000 [2:41:17<4:09:50, 23.79s/it]"
     ]
    },
    {
     "name": "stdout",
     "output_type": "stream",
     "text": [
      "Number of tracks in dict: 214382\n",
      "Successful ID: 3, Unsuccesful ID 2\n",
      "Unsuccesful lyric 0\n",
      "track metadata keys: 214382 and track metadata memory: 10485856 bytes\n",
      "Number of tracks in dict: 214382\n",
      "Successful ID: 0, Unsuccesful ID 0\n",
      "Unsuccesful lyric 0\n",
      "track metadata keys: 214382 and track metadata memory: 10485856 bytes\n"
     ]
    },
    {
     "name": "stderr",
     "output_type": "stream",
     "text": [
      "\r",
      "Playlist loop:  37%|████████████████████████████████████▊                                                              | 372/1000 [2:42:27<5:02:35, 28.91s/it]"
     ]
    },
    {
     "name": "stdout",
     "output_type": "stream",
     "text": [
      "Number of tracks in dict: 214403\n",
      "Successful ID: 15, Unsuccesful ID 6\n",
      "Unsuccesful lyric 0\n",
      "track metadata keys: 214403 and track metadata memory: 10485856 bytes\n"
     ]
    },
    {
     "name": "stderr",
     "output_type": "stream",
     "text": [
      "\r",
      "Playlist loop:  37%|████████████████████████████████████▌                                                             | 373/1000 [2:46:16<13:37:24, 78.22s/it]"
     ]
    },
    {
     "name": "stdout",
     "output_type": "stream",
     "text": [
      "Number of tracks in dict: 214464\n",
      "Successful ID: 54, Unsuccesful ID 7\n",
      "Unsuccesful lyric 0\n",
      "track metadata keys: 214464 and track metadata memory: 10485856 bytes\n"
     ]
    },
    {
     "name": "stderr",
     "output_type": "stream",
     "text": [
      "\r",
      "Playlist loop:  37%|████████████████████████████████████▋                                                             | 374/1000 [2:46:19<10:12:10, 58.68s/it]"
     ]
    },
    {
     "name": "stdout",
     "output_type": "stream",
     "text": [
      "Number of tracks in dict: 214465\n",
      "Successful ID: 1, Unsuccesful ID 0\n",
      "Unsuccesful lyric 0\n",
      "track metadata keys: 214465 and track metadata memory: 10485856 bytes\n"
     ]
    },
    {
     "name": "stderr",
     "output_type": "stream",
     "text": [
      "\r",
      "Playlist loop:  38%|█████████████████████████████████████▏                                                             | 375/1000 [2:46:26<7:46:31, 44.79s/it]"
     ]
    },
    {
     "name": "stdout",
     "output_type": "stream",
     "text": [
      "Number of tracks in dict: 214467\n",
      "Successful ID: 2, Unsuccesful ID 0\n",
      "Unsuccesful lyric 0\n",
      "track metadata keys: 214467 and track metadata memory: 10485856 bytes\n",
      "Number of tracks in dict: 214467\n",
      "Successful ID: 0, Unsuccesful ID 0\n",
      "Unsuccesful lyric 0\n",
      "track metadata keys: 214467 and track metadata memory: 10485856 bytes\n"
     ]
    },
    {
     "name": "stderr",
     "output_type": "stream",
     "text": [
      "\r",
      "Playlist loop:  38%|█████████████████████████████████████▎                                                             | 377/1000 [2:46:27<4:23:01, 25.33s/it]"
     ]
    },
    {
     "name": "stdout",
     "output_type": "stream",
     "text": [
      "Number of tracks in dict: 214468\n",
      "Successful ID: 0, Unsuccesful ID 1\n",
      "Unsuccesful lyric 0\n",
      "track metadata keys: 214468 and track metadata memory: 10485856 bytes\n"
     ]
    },
    {
     "name": "stderr",
     "output_type": "stream",
     "text": [
      "\r",
      "Playlist loop:  38%|█████████████████████████████████████▍                                                             | 378/1000 [2:46:43<4:01:04, 23.25s/it]"
     ]
    },
    {
     "name": "stdout",
     "output_type": "stream",
     "text": [
      "Number of tracks in dict: 214472\n",
      "Successful ID: 4, Unsuccesful ID 0\n",
      "Unsuccesful lyric 0\n",
      "track metadata keys: 214472 and track metadata memory: 10485856 bytes\n"
     ]
    },
    {
     "name": "stderr",
     "output_type": "stream",
     "text": [
      "Playlist loop:  38%|█████████████████████████████████████▌                                                             | 380/1000 [2:46:51<2:27:09, 14.24s/it]"
     ]
    },
    {
     "name": "stdout",
     "output_type": "stream",
     "text": [
      "Number of tracks in dict: 214474\n",
      "Successful ID: 2, Unsuccesful ID 0\n",
      "Unsuccesful lyric 0\n",
      "track metadata keys: 214474 and track metadata memory: 10485856 bytes\n",
      "Number of tracks in dict: 214475\n",
      "Successful ID: 0, Unsuccesful ID 1\n",
      "Unsuccesful lyric 0\n",
      "track metadata keys: 214475 and track metadata memory: 10485856 bytes\n"
     ]
    },
    {
     "name": "stderr",
     "output_type": "stream",
     "text": [
      "\r",
      "Playlist loop:  38%|█████████████████████████████████████▋                                                             | 381/1000 [2:46:52<1:47:06, 10.38s/it]"
     ]
    },
    {
     "name": "stdout",
     "output_type": "stream",
     "text": [
      "Number of tracks in dict: 214476\n",
      "Successful ID: 0, Unsuccesful ID 1\n",
      "Unsuccesful lyric 0\n",
      "track metadata keys: 214476 and track metadata memory: 10485856 bytes\n",
      "Number of tracks in dict: 214476\n",
      "Successful ID: 0, Unsuccesful ID 0\n",
      "Unsuccesful lyric 0\n",
      "track metadata keys: 214476 and track metadata memory: 10485856 bytes\n"
     ]
    },
    {
     "name": "stderr",
     "output_type": "stream",
     "text": [
      "\r",
      "Playlist loop:  38%|█████████████████████████████████████▉                                                             | 383/1000 [2:46:55<1:07:35,  6.57s/it]"
     ]
    },
    {
     "name": "stdout",
     "output_type": "stream",
     "text": [
      "Number of tracks in dict: 214477\n",
      "Successful ID: 1, Unsuccesful ID 0\n",
      "Unsuccesful lyric 0\n",
      "track metadata keys: 214477 and track metadata memory: 10485856 bytes\n"
     ]
    },
    {
     "name": "stderr",
     "output_type": "stream",
     "text": [
      "\r",
      "Playlist loop:  38%|██████████████████████████████████████                                                             | 384/1000 [2:47:32<2:23:18, 13.96s/it]"
     ]
    },
    {
     "name": "stdout",
     "output_type": "stream",
     "text": [
      "Number of tracks in dict: 214496\n",
      "Successful ID: 9, Unsuccesful ID 10\n",
      "Unsuccesful lyric 0\n",
      "track metadata keys: 214496 and track metadata memory: 10485856 bytes\n"
     ]
    },
    {
     "name": "stderr",
     "output_type": "stream",
     "text": [
      "\r",
      "Playlist loop:  38%|██████████████████████████████████████                                                             | 385/1000 [2:47:54<2:41:45, 15.78s/it]"
     ]
    },
    {
     "name": "stdout",
     "output_type": "stream",
     "text": [
      "Number of tracks in dict: 214504\n",
      "Successful ID: 5, Unsuccesful ID 3\n",
      "Unsuccesful lyric 0\n",
      "track metadata keys: 214504 and track metadata memory: 10485856 bytes\n"
     ]
    },
    {
     "name": "stderr",
     "output_type": "stream",
     "text": [
      "\r",
      "Playlist loop:  39%|██████████████████████████████████████▏                                                            | 386/1000 [2:47:54<1:59:45, 11.70s/it]"
     ]
    },
    {
     "name": "stdout",
     "output_type": "stream",
     "text": [
      "Number of tracks in dict: 214505\n",
      "Successful ID: 0, Unsuccesful ID 1\n",
      "Unsuccesful lyric 0\n",
      "track metadata keys: 214505 and track metadata memory: 10485856 bytes\n",
      "Number of tracks in dict: 214505\n",
      "Successful ID: 0, Unsuccesful ID 0\n",
      "Unsuccesful lyric 0\n",
      "track metadata keys: 214505 and track metadata memory: 10485856 bytes\n"
     ]
    },
    {
     "name": "stderr",
     "output_type": "stream",
     "text": [
      "\r",
      "Playlist loop:  39%|██████████████████████████████████████▍                                                            | 388/1000 [2:48:15<1:54:34, 11.23s/it]"
     ]
    },
    {
     "name": "stdout",
     "output_type": "stream",
     "text": [
      "Number of tracks in dict: 214511\n",
      "Successful ID: 5, Unsuccesful ID 1\n",
      "Unsuccesful lyric 0\n",
      "track metadata keys: 214511 and track metadata memory: 10485856 bytes\n"
     ]
    },
    {
     "name": "stderr",
     "output_type": "stream",
     "text": [
      "\r",
      "Playlist loop:  39%|██████████████████████████████████████▌                                                            | 389/1000 [2:48:16<1:28:37,  8.70s/it]"
     ]
    },
    {
     "name": "stdout",
     "output_type": "stream",
     "text": [
      "Number of tracks in dict: 214513\n",
      "Successful ID: 0, Unsuccesful ID 2\n",
      "Unsuccesful lyric 0\n",
      "track metadata keys: 214513 and track metadata memory: 10485856 bytes\n"
     ]
    },
    {
     "name": "stderr",
     "output_type": "stream",
     "text": [
      "\r",
      "Playlist loop:  39%|██████████████████████████████████████▌                                                            | 390/1000 [2:49:18<3:45:54, 22.22s/it]"
     ]
    },
    {
     "name": "stdout",
     "output_type": "stream",
     "text": [
      "Number of tracks in dict: 214530\n",
      "Successful ID: 15, Unsuccesful ID 2\n",
      "Unsuccesful lyric 0\n",
      "track metadata keys: 214530 and track metadata memory: 10485856 bytes\n"
     ]
    },
    {
     "name": "stderr",
     "output_type": "stream",
     "text": [
      "\r",
      "Playlist loop:  39%|██████████████████████████████████████▋                                                            | 391/1000 [2:49:37<3:36:03, 21.29s/it]"
     ]
    },
    {
     "name": "stdout",
     "output_type": "stream",
     "text": [
      "Number of tracks in dict: 214537\n",
      "Successful ID: 4, Unsuccesful ID 3\n",
      "Unsuccesful lyric 0\n",
      "track metadata keys: 214537 and track metadata memory: 10485856 bytes\n"
     ]
    },
    {
     "name": "stderr",
     "output_type": "stream",
     "text": [
      "\r",
      "Playlist loop:  39%|██████████████████████████████████████▊                                                            | 392/1000 [2:50:54<6:12:00, 36.71s/it]"
     ]
    },
    {
     "name": "stdout",
     "output_type": "stream",
     "text": [
      "Number of tracks in dict: 214557\n",
      "Successful ID: 18, Unsuccesful ID 2\n",
      "Unsuccesful lyric 0\n",
      "track metadata keys: 214557 and track metadata memory: 10485856 bytes\n"
     ]
    },
    {
     "name": "stderr",
     "output_type": "stream",
     "text": [
      "\r",
      "Playlist loop:  39%|██████████████████████████████████████▉                                                            | 393/1000 [2:50:58<4:38:33, 27.53s/it]"
     ]
    },
    {
     "name": "stdout",
     "output_type": "stream",
     "text": [
      "Number of tracks in dict: 214558\n",
      "Successful ID: 1, Unsuccesful ID 0\n",
      "Unsuccesful lyric 0\n",
      "track metadata keys: 214558 and track metadata memory: 10485856 bytes\n"
     ]
    },
    {
     "name": "stderr",
     "output_type": "stream",
     "text": [
      "\r",
      "Playlist loop:  39%|███████████████████████████████████████                                                            | 394/1000 [2:51:50<5:47:59, 34.45s/it]"
     ]
    },
    {
     "name": "stdout",
     "output_type": "stream",
     "text": [
      "Number of tracks in dict: 214574\n",
      "Successful ID: 13, Unsuccesful ID 3\n",
      "Unsuccesful lyric 0\n",
      "track metadata keys: 214574 and track metadata memory: 10485856 bytes\n"
     ]
    },
    {
     "name": "stderr",
     "output_type": "stream",
     "text": [
      "\r",
      "Playlist loop:  40%|███████████████████████████████████████                                                            | 395/1000 [2:52:02<4:40:19, 27.80s/it]"
     ]
    },
    {
     "name": "stdout",
     "output_type": "stream",
     "text": [
      "Number of tracks in dict: 214579\n",
      "Successful ID: 3, Unsuccesful ID 2\n",
      "Unsuccesful lyric 0\n",
      "track metadata keys: 214579 and track metadata memory: 10485856 bytes\n"
     ]
    },
    {
     "name": "stderr",
     "output_type": "stream",
     "text": [
      "\r",
      "Playlist loop:  40%|███████████████████████████████████████▏                                                           | 396/1000 [2:52:06<3:29:16, 20.79s/it]"
     ]
    },
    {
     "name": "stdout",
     "output_type": "stream",
     "text": [
      "Number of tracks in dict: 214580\n",
      "Successful ID: 1, Unsuccesful ID 0\n",
      "Unsuccesful lyric 0\n",
      "track metadata keys: 214580 and track metadata memory: 10485856 bytes\n"
     ]
    },
    {
     "name": "stderr",
     "output_type": "stream",
     "text": [
      "\r",
      "Playlist loop:  40%|███████████████████████████████████████▎                                                           | 397/1000 [2:52:06<2:28:19, 14.76s/it]"
     ]
    },
    {
     "name": "stdout",
     "output_type": "stream",
     "text": [
      "Number of tracks in dict: 214581\n",
      "Successful ID: 0, Unsuccesful ID 1\n",
      "Unsuccesful lyric 0\n",
      "track metadata keys: 214581 and track metadata memory: 10485856 bytes\n"
     ]
    },
    {
     "name": "stderr",
     "output_type": "stream",
     "text": [
      "\r",
      "Playlist loop:  40%|███████████████████████████████████████▍                                                           | 398/1000 [2:54:11<7:56:40, 47.51s/it]"
     ]
    },
    {
     "name": "stdout",
     "output_type": "stream",
     "text": [
      "Number of tracks in dict: 214618\n",
      "Successful ID: 28, Unsuccesful ID 9\n",
      "Unsuccesful lyric 0\n",
      "track metadata keys: 214618 and track metadata memory: 10485856 bytes\n"
     ]
    },
    {
     "name": "stderr",
     "output_type": "stream",
     "text": [
      "\r",
      "Playlist loop:  40%|███████████████████████████████████████▌                                                           | 399/1000 [2:54:15<5:45:54, 34.53s/it]"
     ]
    },
    {
     "name": "stdout",
     "output_type": "stream",
     "text": [
      "Number of tracks in dict: 214619\n",
      "Successful ID: 1, Unsuccesful ID 0\n",
      "Unsuccesful lyric 0\n",
      "track metadata keys: 214619 and track metadata memory: 10485856 bytes\n",
      "Number of tracks in dict: 214621\n",
      "Successful ID: 0, Unsuccesful ID 2\n",
      "Unsuccesful lyric 0\n",
      "track metadata keys: 214621 and track metadata memory: 10485856 bytes\n"
     ]
    },
    {
     "name": "stderr",
     "output_type": "stream",
     "text": [
      "Playlist loop:  40%|███████████████████████████████████████▋                                                           | 401/1000 [2:54:22<3:06:49, 18.71s/it]"
     ]
    },
    {
     "name": "stdout",
     "output_type": "stream",
     "text": [
      "Number of tracks in dict: 214625\n",
      "Successful ID: 1, Unsuccesful ID 3\n",
      "Unsuccesful lyric 0\n",
      "track metadata keys: 214625 and track metadata memory: 10485856 bytes\n"
     ]
    },
    {
     "name": "stderr",
     "output_type": "stream",
     "text": [
      "\r",
      "Playlist loop:  40%|███████████████████████████████████████▊                                                           | 402/1000 [2:54:42<3:09:36, 19.02s/it]"
     ]
    },
    {
     "name": "stdout",
     "output_type": "stream",
     "text": [
      "Number of tracks in dict: 214632\n",
      "Successful ID: 5, Unsuccesful ID 2\n",
      "Unsuccesful lyric 0\n",
      "track metadata keys: 214632 and track metadata memory: 10485856 bytes\n",
      "Number of tracks in dict: 214632\n",
      "Successful ID: 0, Unsuccesful ID 0\n",
      "Unsuccesful lyric 0\n",
      "track metadata keys: 214632 and track metadata memory: 10485856 bytes\n",
      "Number of tracks in dict: 214632\n",
      "Successful ID: 0, Unsuccesful ID 0\n",
      "Unsuccesful lyric 0\n",
      "track metadata keys: 214632 and track metadata memory: 10485856 bytes\n"
     ]
    },
    {
     "name": "stderr",
     "output_type": "stream",
     "text": [
      "\r",
      "Playlist loop:  40%|████████████████████████████████████████                                                           | 405/1000 [2:54:45<1:29:13,  9.00s/it]"
     ]
    },
    {
     "name": "stdout",
     "output_type": "stream",
     "text": [
      "Number of tracks in dict: 214633\n",
      "Successful ID: 1, Unsuccesful ID 0\n",
      "Unsuccesful lyric 0\n",
      "track metadata keys: 214633 and track metadata memory: 10485856 bytes\n"
     ]
    },
    {
     "name": "stderr",
     "output_type": "stream",
     "text": [
      "\r",
      "Playlist loop:  41%|████████████████████████████████████████▏                                                          | 406/1000 [2:54:58<1:36:46,  9.78s/it]"
     ]
    },
    {
     "name": "stdout",
     "output_type": "stream",
     "text": [
      "Number of tracks in dict: 214639\n",
      "Successful ID: 3, Unsuccesful ID 3\n",
      "Unsuccesful lyric 0\n",
      "track metadata keys: 214639 and track metadata memory: 10485856 bytes\n"
     ]
    },
    {
     "name": "stderr",
     "output_type": "stream",
     "text": [
      "\r",
      "Playlist loop:  41%|████████████████████████████████████████▎                                                          | 407/1000 [2:55:20<2:04:37, 12.61s/it]"
     ]
    },
    {
     "name": "stdout",
     "output_type": "stream",
     "text": [
      "Number of tracks in dict: 214645\n",
      "Successful ID: 5, Unsuccesful ID 1\n",
      "Unsuccesful lyric 0\n",
      "track metadata keys: 214645 and track metadata memory: 10485856 bytes\n",
      "Number of tracks in dict: 214645\n",
      "Successful ID: 0, Unsuccesful ID 0\n",
      "Unsuccesful lyric 0\n",
      "track metadata keys: 214645 and track metadata memory: 10485856 bytes\n",
      "Number of tracks in dict: 214645\n",
      "Successful ID: 0, Unsuccesful ID 0\n",
      "Unsuccesful lyric 0\n",
      "track metadata keys: 214645 and track metadata memory: 10485856 bytes\n",
      "Number of tracks in dict: 214645\n",
      "Successful ID: 0, Unsuccesful ID 0\n",
      "Unsuccesful lyric 0\n",
      "track metadata keys: 214645 and track metadata memory: 10485856 bytes\n"
     ]
    },
    {
     "name": "stderr",
     "output_type": "stream",
     "text": [
      "\r",
      "Playlist loop:  41%|████████████████████████████████████████▋                                                          | 411/1000 [2:55:36<1:15:37,  7.70s/it]"
     ]
    },
    {
     "name": "stdout",
     "output_type": "stream",
     "text": [
      "Number of tracks in dict: 214650\n",
      "Successful ID: 4, Unsuccesful ID 1\n",
      "Unsuccesful lyric 0\n",
      "track metadata keys: 214650 and track metadata memory: 10485856 bytes\n"
     ]
    },
    {
     "name": "stderr",
     "output_type": "stream",
     "text": [
      "\r",
      "Playlist loop:  41%|████████████████████████████████████████▊                                                          | 412/1000 [2:57:53<4:50:03, 29.60s/it]"
     ]
    },
    {
     "name": "stdout",
     "output_type": "stream",
     "text": [
      "Number of tracks in dict: 214693\n",
      "Successful ID: 31, Unsuccesful ID 12\n",
      "Unsuccesful lyric 0\n",
      "track metadata keys: 214693 and track metadata memory: 10485856 bytes\n"
     ]
    },
    {
     "name": "stderr",
     "output_type": "stream",
     "text": [
      "\r",
      "Playlist loop:  41%|████████████████████████████████████████▉                                                          | 413/1000 [2:58:13<4:31:39, 27.77s/it]"
     ]
    },
    {
     "name": "stdout",
     "output_type": "stream",
     "text": [
      "Number of tracks in dict: 214699\n",
      "Successful ID: 5, Unsuccesful ID 1\n",
      "Unsuccesful lyric 0\n",
      "track metadata keys: 214699 and track metadata memory: 10485856 bytes\n",
      "Number of tracks in dict: 214699\n",
      "Successful ID: 0, Unsuccesful ID 0\n",
      "Unsuccesful lyric 0\n",
      "track metadata keys: 214699 and track metadata memory: 10485856 bytes\n"
     ]
    },
    {
     "name": "stderr",
     "output_type": "stream",
     "text": [
      "\r",
      "Playlist loop:  42%|█████████████████████████████████████████                                                          | 415/1000 [2:58:19<3:04:34, 18.93s/it]"
     ]
    },
    {
     "name": "stdout",
     "output_type": "stream",
     "text": [
      "Number of tracks in dict: 214700\n",
      "Successful ID: 1, Unsuccesful ID 0\n",
      "Unsuccesful lyric 0\n",
      "track metadata keys: 214700 and track metadata memory: 10485856 bytes\n"
     ]
    },
    {
     "name": "stderr",
     "output_type": "stream",
     "text": [
      "\r",
      "Playlist loop:  42%|█████████████████████████████████████████▏                                                         | 416/1000 [2:58:20<2:28:11, 15.23s/it]"
     ]
    },
    {
     "name": "stdout",
     "output_type": "stream",
     "text": [
      "Number of tracks in dict: 214702\n",
      "Successful ID: 0, Unsuccesful ID 2\n",
      "Unsuccesful lyric 0\n",
      "track metadata keys: 214702 and track metadata memory: 10485856 bytes\n",
      "Number of tracks in dict: 214702\n",
      "Successful ID: 0, Unsuccesful ID 0\n",
      "Unsuccesful lyric 0\n",
      "track metadata keys: 214702 and track metadata memory: 10485856 bytes\n"
     ]
    },
    {
     "name": "stderr",
     "output_type": "stream",
     "text": [
      "\r",
      "Playlist loop:  42%|█████████████████████████████████████████▍                                                         | 418/1000 [2:59:16<3:13:33, 19.95s/it]"
     ]
    },
    {
     "name": "stdout",
     "output_type": "stream",
     "text": [
      "Number of tracks in dict: 214715\n",
      "Successful ID: 13, Unsuccesful ID 0\n",
      "Unsuccesful lyric 0\n",
      "track metadata keys: 214715 and track metadata memory: 10485856 bytes\n"
     ]
    },
    {
     "name": "stderr",
     "output_type": "stream",
     "text": [
      "\r",
      "Playlist loop:  42%|█████████████████████████████████████████▍                                                         | 419/1000 [2:59:25<2:51:21, 17.70s/it]"
     ]
    },
    {
     "name": "stdout",
     "output_type": "stream",
     "text": [
      "Number of tracks in dict: 214718\n",
      "Successful ID: 2, Unsuccesful ID 1\n",
      "Unsuccesful lyric 0\n",
      "track metadata keys: 214718 and track metadata memory: 10485856 bytes\n"
     ]
    },
    {
     "name": "stderr",
     "output_type": "stream",
     "text": [
      "\r",
      "Playlist loop:  42%|█████████████████████████████████████████▌                                                         | 420/1000 [2:59:36<2:35:29, 16.09s/it]"
     ]
    },
    {
     "name": "stdout",
     "output_type": "stream",
     "text": [
      "Number of tracks in dict: 214723\n",
      "Successful ID: 3, Unsuccesful ID 2\n",
      "Unsuccesful lyric 0\n",
      "track metadata keys: 214723 and track metadata memory: 10485856 bytes\n"
     ]
    },
    {
     "name": "stderr",
     "output_type": "stream",
     "text": [
      "\r",
      "Playlist loop:  42%|█████████████████████████████████████████▋                                                         | 421/1000 [2:59:40<2:05:41, 13.02s/it]"
     ]
    },
    {
     "name": "stdout",
     "output_type": "stream",
     "text": [
      "Number of tracks in dict: 214726\n",
      "Successful ID: 1, Unsuccesful ID 2\n",
      "Unsuccesful lyric 0\n",
      "track metadata keys: 214726 and track metadata memory: 10485856 bytes\n"
     ]
    },
    {
     "name": "stderr",
     "output_type": "stream",
     "text": [
      "\r",
      "Playlist loop:  42%|█████████████████████████████████████████▊                                                         | 422/1000 [2:59:56<2:14:47, 13.99s/it]"
     ]
    },
    {
     "name": "stdout",
     "output_type": "stream",
     "text": [
      "Number of tracks in dict: 214732\n",
      "Successful ID: 4, Unsuccesful ID 2\n",
      "Unsuccesful lyric 0\n",
      "track metadata keys: 214732 and track metadata memory: 10485856 bytes\n"
     ]
    },
    {
     "name": "stderr",
     "output_type": "stream",
     "text": [
      "\r",
      "Playlist loop:  42%|█████████████████████████████████████████▉                                                         | 423/1000 [3:00:03<1:56:18, 12.09s/it]"
     ]
    },
    {
     "name": "stdout",
     "output_type": "stream",
     "text": [
      "Number of tracks in dict: 214734\n",
      "Successful ID: 2, Unsuccesful ID 0\n",
      "Unsuccesful lyric 0\n",
      "track metadata keys: 214734 and track metadata memory: 10485856 bytes\n"
     ]
    },
    {
     "name": "stderr",
     "output_type": "stream",
     "text": [
      "\r",
      "Playlist loop:  42%|█████████████████████████████████████████▉                                                         | 424/1000 [3:00:11<1:44:34, 10.89s/it]"
     ]
    },
    {
     "name": "stdout",
     "output_type": "stream",
     "text": [
      "Number of tracks in dict: 214753\n",
      "Successful ID: 1, Unsuccesful ID 18\n",
      "Unsuccesful lyric 0\n",
      "track metadata keys: 214753 and track metadata memory: 10485856 bytes\n",
      "Number of tracks in dict: 214753\n",
      "Successful ID: 0, Unsuccesful ID 0\n",
      "Unsuccesful lyric 0\n",
      "track metadata keys: 214753 and track metadata memory: 10485856 bytes\n"
     ]
    },
    {
     "name": "stderr",
     "output_type": "stream",
     "text": [
      "\r",
      "Playlist loop:  43%|██████████████████████████████████████████▏                                                        | 426/1000 [3:00:20<1:16:34,  8.00s/it]"
     ]
    },
    {
     "name": "stdout",
     "output_type": "stream",
     "text": [
      "Number of tracks in dict: 214756\n",
      "Successful ID: 2, Unsuccesful ID 1\n",
      "Unsuccesful lyric 0\n",
      "track metadata keys: 214756 and track metadata memory: 10485856 bytes\n"
     ]
    },
    {
     "name": "stderr",
     "output_type": "stream",
     "text": [
      "\r",
      "Playlist loop:  43%|██████████████████████████████████████████▎                                                        | 427/1000 [3:01:12<2:58:39, 18.71s/it]"
     ]
    },
    {
     "name": "stdout",
     "output_type": "stream",
     "text": [
      "Number of tracks in dict: 214788\n",
      "Successful ID: 13, Unsuccesful ID 19\n",
      "Unsuccesful lyric 0\n",
      "track metadata keys: 214788 and track metadata memory: 10485856 bytes\n"
     ]
    },
    {
     "name": "stderr",
     "output_type": "stream",
     "text": [
      "\r",
      "Playlist loop:  43%|██████████████████████████████████████████▎                                                        | 428/1000 [3:01:25<2:42:20, 17.03s/it]"
     ]
    },
    {
     "name": "stdout",
     "output_type": "stream",
     "text": [
      "Number of tracks in dict: 214793\n",
      "Successful ID: 3, Unsuccesful ID 2\n",
      "Unsuccesful lyric 0\n",
      "track metadata keys: 214793 and track metadata memory: 10485856 bytes\n"
     ]
    },
    {
     "name": "stderr",
     "output_type": "stream",
     "text": [
      "\r",
      "Playlist loop:  43%|██████████████████████████████████████████▍                                                        | 429/1000 [3:01:34<2:23:42, 15.10s/it]"
     ]
    },
    {
     "name": "stdout",
     "output_type": "stream",
     "text": [
      "Number of tracks in dict: 214796\n",
      "Successful ID: 2, Unsuccesful ID 1\n",
      "Unsuccesful lyric 0\n",
      "track metadata keys: 214796 and track metadata memory: 10485856 bytes\n"
     ]
    },
    {
     "name": "stderr",
     "output_type": "stream",
     "text": [
      "\r",
      "Playlist loop:  43%|██████████████████████████████████████████▌                                                        | 430/1000 [3:01:51<2:27:14, 15.50s/it]"
     ]
    },
    {
     "name": "stdout",
     "output_type": "stream",
     "text": [
      "Number of tracks in dict: 214803\n",
      "Successful ID: 4, Unsuccesful ID 3\n",
      "Unsuccesful lyric 0\n",
      "track metadata keys: 214803 and track metadata memory: 10485856 bytes\n"
     ]
    },
    {
     "name": "stderr",
     "output_type": "stream",
     "text": [
      "\r",
      "Playlist loop:  43%|██████████████████████████████████████████▋                                                        | 431/1000 [3:02:52<4:30:36, 28.54s/it]"
     ]
    },
    {
     "name": "stdout",
     "output_type": "stream",
     "text": [
      "Number of tracks in dict: 214835\n",
      "Successful ID: 14, Unsuccesful ID 18\n",
      "Unsuccesful lyric 0\n",
      "track metadata keys: 214835 and track metadata memory: 10485856 bytes\n"
     ]
    },
    {
     "name": "stderr",
     "output_type": "stream",
     "text": [
      "\r",
      "Playlist loop:  43%|██████████████████████████████████████████▊                                                        | 432/1000 [3:02:57<3:23:58, 21.55s/it]"
     ]
    },
    {
     "name": "stdout",
     "output_type": "stream",
     "text": [
      "Number of tracks in dict: 214836\n",
      "Successful ID: 1, Unsuccesful ID 0\n",
      "Unsuccesful lyric 0\n",
      "track metadata keys: 214836 and track metadata memory: 10485856 bytes\n"
     ]
    },
    {
     "name": "stderr",
     "output_type": "stream",
     "text": [
      "\r",
      "Playlist loop:  43%|██████████████████████████████████████████▊                                                        | 433/1000 [3:03:05<2:47:32, 17.73s/it]"
     ]
    },
    {
     "name": "stdout",
     "output_type": "stream",
     "text": [
      "Number of tracks in dict: 214840\n",
      "Successful ID: 2, Unsuccesful ID 2\n",
      "Unsuccesful lyric 0\n",
      "track metadata keys: 214840 and track metadata memory: 10485856 bytes\n"
     ]
    },
    {
     "name": "stderr",
     "output_type": "stream",
     "text": [
      "\r",
      "Playlist loop:  43%|██████████████████████████████████████████▉                                                        | 434/1000 [3:03:35<3:19:31, 21.15s/it]"
     ]
    },
    {
     "name": "stdout",
     "output_type": "stream",
     "text": [
      "Number of tracks in dict: 214853\n",
      "Successful ID: 7, Unsuccesful ID 6\n",
      "Unsuccesful lyric 0\n",
      "track metadata keys: 214853 and track metadata memory: 10485856 bytes\n"
     ]
    },
    {
     "name": "stderr",
     "output_type": "stream",
     "text": [
      "\r",
      "Playlist loop:  44%|███████████████████████████████████████████                                                        | 435/1000 [3:03:46<2:53:08, 18.39s/it]"
     ]
    },
    {
     "name": "stdout",
     "output_type": "stream",
     "text": [
      "Number of tracks in dict: 214856\n",
      "Successful ID: 3, Unsuccesful ID 0\n",
      "Unsuccesful lyric 0\n",
      "track metadata keys: 214856 and track metadata memory: 10485856 bytes\n"
     ]
    },
    {
     "name": "stderr",
     "output_type": "stream",
     "text": [
      "\r",
      "Playlist loop:  44%|███████████████████████████████████████████▏                                                       | 436/1000 [3:04:16<3:24:06, 21.71s/it]"
     ]
    },
    {
     "name": "stdout",
     "output_type": "stream",
     "text": [
      "Number of tracks in dict: 214866\n",
      "Successful ID: 8, Unsuccesful ID 2\n",
      "Unsuccesful lyric 0\n",
      "track metadata keys: 214866 and track metadata memory: 10485856 bytes\n"
     ]
    },
    {
     "name": "stderr",
     "output_type": "stream",
     "text": [
      "\r",
      "Playlist loop:  44%|███████████████████████████████████████████▎                                                       | 437/1000 [3:06:12<7:47:46, 49.85s/it]"
     ]
    },
    {
     "name": "stdout",
     "output_type": "stream",
     "text": [
      "Number of tracks in dict: 214900\n",
      "Successful ID: 27, Unsuccesful ID 7\n",
      "Unsuccesful lyric 0\n",
      "track metadata keys: 214900 and track metadata memory: 10485856 bytes\n",
      "Number of tracks in dict: 214900\n",
      "Successful ID: 0, Unsuccesful ID 0\n",
      "Unsuccesful lyric 0\n",
      "track metadata keys: 214900 and track metadata memory: 10485856 bytes\n",
      "Number of tracks in dict: 214900\n",
      "Successful ID: 0, Unsuccesful ID 0\n",
      "Unsuccesful lyric 0\n",
      "track metadata keys: 214900 and track metadata memory: 10485856 bytes\n"
     ]
    },
    {
     "name": "stderr",
     "output_type": "stream",
     "text": [
      "\r",
      "Playlist loop:  44%|███████████████████████████████████████████▌                                                       | 440/1000 [3:08:32<7:27:48, 47.98s/it]"
     ]
    },
    {
     "name": "stdout",
     "output_type": "stream",
     "text": [
      "Number of tracks in dict: 214970\n",
      "Successful ID: 34, Unsuccesful ID 36\n",
      "Unsuccesful lyric 0\n",
      "track metadata keys: 214970 and track metadata memory: 10485856 bytes\n"
     ]
    },
    {
     "name": "stderr",
     "output_type": "stream",
     "text": [
      "\r",
      "Playlist loop:  44%|███████████████████████████████████████████▋                                                       | 441/1000 [3:08:36<6:01:00, 38.75s/it]"
     ]
    },
    {
     "name": "stdout",
     "output_type": "stream",
     "text": [
      "Number of tracks in dict: 214971\n",
      "Successful ID: 1, Unsuccesful ID 0\n",
      "Unsuccesful lyric 0\n",
      "track metadata keys: 214971 and track metadata memory: 10485856 bytes\n"
     ]
    },
    {
     "name": "stderr",
     "output_type": "stream",
     "text": [
      "\r",
      "Playlist loop:  44%|███████████████████████████████████████████▊                                                       | 442/1000 [3:08:40<4:46:49, 30.84s/it]"
     ]
    },
    {
     "name": "stdout",
     "output_type": "stream",
     "text": [
      "Number of tracks in dict: 214973\n",
      "Successful ID: 1, Unsuccesful ID 1\n",
      "Unsuccesful lyric 0\n",
      "track metadata keys: 214973 and track metadata memory: 10485856 bytes\n"
     ]
    },
    {
     "name": "stderr",
     "output_type": "stream",
     "text": [
      "\r",
      "Playlist loop:  44%|███████████████████████████████████████████▊                                                       | 443/1000 [3:08:47<3:50:16, 24.80s/it]"
     ]
    },
    {
     "name": "stdout",
     "output_type": "stream",
     "text": [
      "Number of tracks in dict: 214975\n",
      "Successful ID: 2, Unsuccesful ID 0\n",
      "Unsuccesful lyric 0\n",
      "track metadata keys: 214975 and track metadata memory: 10485856 bytes\n"
     ]
    },
    {
     "name": "stderr",
     "output_type": "stream",
     "text": [
      "\r",
      "Playlist loop:  44%|███████████████████████████████████████████▉                                                       | 444/1000 [3:09:50<5:22:47, 34.83s/it]"
     ]
    },
    {
     "name": "stdout",
     "output_type": "stream",
     "text": [
      "Number of tracks in dict: 214992\n",
      "Successful ID: 16, Unsuccesful ID 1\n",
      "Unsuccesful lyric 0\n",
      "track metadata keys: 214992 and track metadata memory: 10485856 bytes\n"
     ]
    },
    {
     "name": "stderr",
     "output_type": "stream",
     "text": [
      "\r",
      "Playlist loop:  44%|████████████████████████████████████████████                                                       | 445/1000 [3:09:54<4:03:58, 26.38s/it]"
     ]
    },
    {
     "name": "stdout",
     "output_type": "stream",
     "text": [
      "Number of tracks in dict: 214993\n",
      "Successful ID: 1, Unsuccesful ID 0\n",
      "Unsuccesful lyric 0\n",
      "track metadata keys: 214993 and track metadata memory: 10485856 bytes\n"
     ]
    },
    {
     "name": "stderr",
     "output_type": "stream",
     "text": [
      "\r",
      "Playlist loop:  45%|████████████████████████████████████████████▏                                                      | 446/1000 [3:10:10<3:36:39, 23.46s/it]"
     ]
    },
    {
     "name": "stdout",
     "output_type": "stream",
     "text": [
      "Number of tracks in dict: 214999\n",
      "Successful ID: 4, Unsuccesful ID 2\n",
      "Unsuccesful lyric 0\n",
      "track metadata keys: 214999 and track metadata memory: 10485856 bytes\n"
     ]
    },
    {
     "name": "stderr",
     "output_type": "stream",
     "text": [
      "\r",
      "Playlist loop:  45%|████████████████████████████████████████████▎                                                      | 447/1000 [3:10:14<2:45:47, 17.99s/it]"
     ]
    },
    {
     "name": "stdout",
     "output_type": "stream",
     "text": [
      "Number of tracks in dict: 215001\n",
      "Successful ID: 1, Unsuccesful ID 1\n",
      "Unsuccesful lyric 0\n",
      "track metadata keys: 215001 and track metadata memory: 10485856 bytes\n",
      "Number of tracks in dict: 215001\n",
      "Successful ID: 0, Unsuccesful ID 0\n",
      "Unsuccesful lyric 0\n",
      "track metadata keys: 215001 and track metadata memory: 10485856 bytes\n",
      "Number of tracks in dict: 215001\n",
      "Successful ID: 0, Unsuccesful ID 0\n",
      "Unsuccesful lyric 0\n",
      "track metadata keys: 215001 and track metadata memory: 10485856 bytes\n",
      "Number of tracks in dict: 215001\n",
      "Successful ID: 0, Unsuccesful ID 0\n",
      "Unsuccesful lyric 0\n",
      "track metadata keys: 215001 and track metadata memory: 10485856 bytes\n"
     ]
    },
    {
     "name": "stderr",
     "output_type": "stream",
     "text": [
      "\r",
      "Playlist loop:  45%|████████████████████████████████████████████▋                                                      | 451/1000 [3:11:15<2:29:14, 16.31s/it]"
     ]
    },
    {
     "name": "stdout",
     "output_type": "stream",
     "text": [
      "Number of tracks in dict: 215033\n",
      "Successful ID: 15, Unsuccesful ID 17\n",
      "Unsuccesful lyric 0\n",
      "track metadata keys: 215033 and track metadata memory: 10485856 bytes\n"
     ]
    },
    {
     "name": "stderr",
     "output_type": "stream",
     "text": [
      "\r",
      "Playlist loop:  45%|████████████████████████████████████████████▋                                                      | 452/1000 [3:11:45<2:51:44, 18.80s/it]"
     ]
    },
    {
     "name": "stdout",
     "output_type": "stream",
     "text": [
      "Number of tracks in dict: 215052\n",
      "Successful ID: 7, Unsuccesful ID 12\n",
      "Unsuccesful lyric 0\n",
      "track metadata keys: 215052 and track metadata memory: 10485856 bytes\n",
      "Number of tracks in dict: 215052\n",
      "Successful ID: 0, Unsuccesful ID 0\n",
      "Unsuccesful lyric 0\n",
      "track metadata keys: 215052 and track metadata memory: 10485856 bytes\n",
      "Number of tracks in dict: 215052\n",
      "Successful ID: 0, Unsuccesful ID 0\n",
      "Unsuccesful lyric 0\n",
      "track metadata keys: 215052 and track metadata memory: 10485856 bytes\n",
      "Number of tracks in dict: 215052\n",
      "Successful ID: 0, Unsuccesful ID 0\n",
      "Unsuccesful lyric 0\n",
      "track metadata keys: 215052 and track metadata memory: 10485856 bytes\n"
     ]
    },
    {
     "name": "stderr",
     "output_type": "stream",
     "text": [
      "\r",
      "Playlist loop:  46%|█████████████████████████████████████████████▏                                                     | 456/1000 [3:12:49<2:37:12, 17.34s/it]"
     ]
    },
    {
     "name": "stdout",
     "output_type": "stream",
     "text": [
      "Number of tracks in dict: 215074\n",
      "Successful ID: 16, Unsuccesful ID 6\n",
      "Unsuccesful lyric 0\n",
      "track metadata keys: 215074 and track metadata memory: 10485856 bytes\n"
     ]
    },
    {
     "name": "stderr",
     "output_type": "stream",
     "text": [
      "\r",
      "Playlist loop:  46%|█████████████████████████████████████████████▏                                                     | 457/1000 [3:13:29<3:08:45, 20.86s/it]"
     ]
    },
    {
     "name": "stdout",
     "output_type": "stream",
     "text": [
      "Number of tracks in dict: 215086\n",
      "Successful ID: 10, Unsuccesful ID 2\n",
      "Unsuccesful lyric 0\n",
      "track metadata keys: 215086 and track metadata memory: 10485856 bytes\n"
     ]
    },
    {
     "name": "stderr",
     "output_type": "stream",
     "text": [
      "\r",
      "Playlist loop:  46%|█████████████████████████████████████████████▎                                                     | 458/1000 [3:14:44<4:35:32, 30.50s/it]"
     ]
    },
    {
     "name": "stdout",
     "output_type": "stream",
     "text": [
      "Number of tracks in dict: 215108\n",
      "Successful ID: 19, Unsuccesful ID 3\n",
      "Unsuccesful lyric 0\n",
      "track metadata keys: 215108 and track metadata memory: 10485856 bytes\n"
     ]
    },
    {
     "name": "stderr",
     "output_type": "stream",
     "text": [
      "\r",
      "Playlist loop:  46%|█████████████████████████████████████████████▍                                                     | 459/1000 [3:14:48<3:47:01, 25.18s/it]"
     ]
    },
    {
     "name": "stdout",
     "output_type": "stream",
     "text": [
      "Number of tracks in dict: 215111\n",
      "Successful ID: 1, Unsuccesful ID 2\n",
      "Unsuccesful lyric 0\n",
      "track metadata keys: 215111 and track metadata memory: 10485856 bytes\n"
     ]
    },
    {
     "name": "stderr",
     "output_type": "stream",
     "text": [
      "\r",
      "Playlist loop:  46%|█████████████████████████████████████████████▌                                                     | 460/1000 [3:14:49<2:57:03, 19.67s/it]"
     ]
    },
    {
     "name": "stdout",
     "output_type": "stream",
     "text": [
      "Number of tracks in dict: 215112\n",
      "Successful ID: 0, Unsuccesful ID 1\n",
      "Unsuccesful lyric 0\n",
      "track metadata keys: 215112 and track metadata memory: 10485856 bytes\n"
     ]
    },
    {
     "name": "stderr",
     "output_type": "stream",
     "text": [
      "\r",
      "Playlist loop:  46%|█████████████████████████████████████████████▋                                                     | 461/1000 [3:14:57<2:32:06, 16.93s/it]"
     ]
    },
    {
     "name": "stdout",
     "output_type": "stream",
     "text": [
      "Number of tracks in dict: 215115\n",
      "Successful ID: 2, Unsuccesful ID 1\n",
      "Unsuccesful lyric 0\n",
      "track metadata keys: 215115 and track metadata memory: 10485856 bytes\n"
     ]
    },
    {
     "name": "stderr",
     "output_type": "stream",
     "text": [
      "\r",
      "Playlist loop:  46%|█████████████████████████████████████████████▋                                                     | 462/1000 [3:15:12<2:27:33, 16.46s/it]"
     ]
    },
    {
     "name": "stdout",
     "output_type": "stream",
     "text": [
      "Number of tracks in dict: 215119\n",
      "Successful ID: 4, Unsuccesful ID 0\n",
      "Unsuccesful lyric 0\n",
      "track metadata keys: 215119 and track metadata memory: 10485856 bytes\n"
     ]
    },
    {
     "name": "stderr",
     "output_type": "stream",
     "text": [
      "\r",
      "Playlist loop:  46%|█████████████████████████████████████████████▊                                                     | 463/1000 [3:17:31<7:22:18, 49.42s/it]"
     ]
    },
    {
     "name": "stdout",
     "output_type": "stream",
     "text": [
      "Number of tracks in dict: 215159\n",
      "Successful ID: 30, Unsuccesful ID 10\n",
      "Unsuccesful lyric 0\n",
      "track metadata keys: 215159 and track metadata memory: 10485856 bytes\n",
      "Number of tracks in dict: 215159\n",
      "Successful ID: 0, Unsuccesful ID 0\n",
      "Unsuccesful lyric 0\n",
      "track metadata keys: 215159 and track metadata memory: 10485856 bytes\n",
      "Number of tracks in dict: 215159\n",
      "Successful ID: 0, Unsuccesful ID 0\n",
      "Unsuccesful lyric 0\n",
      "track metadata keys: 215159 and track metadata memory: 10485856 bytes\n"
     ]
    },
    {
     "name": "stderr",
     "output_type": "stream",
     "text": [
      "\r",
      "Playlist loop:  47%|██████████████████████████████████████████████▏                                                    | 466/1000 [3:17:42<3:41:03, 24.84s/it]"
     ]
    },
    {
     "name": "stdout",
     "output_type": "stream",
     "text": [
      "Number of tracks in dict: 215166\n",
      "Successful ID: 2, Unsuccesful ID 5\n",
      "Unsuccesful lyric 0\n",
      "track metadata keys: 215166 and track metadata memory: 10485856 bytes\n"
     ]
    },
    {
     "name": "stderr",
     "output_type": "stream",
     "text": [
      "\r",
      "Playlist loop:  47%|██████████████████████████████████████████████▏                                                    | 467/1000 [3:17:42<2:56:42, 19.89s/it]"
     ]
    },
    {
     "name": "stdout",
     "output_type": "stream",
     "text": [
      "Number of tracks in dict: 215167\n",
      "Successful ID: 0, Unsuccesful ID 1\n",
      "Unsuccesful lyric 0\n",
      "track metadata keys: 215167 and track metadata memory: 10485856 bytes\n",
      "Number of tracks in dict: 215167\n",
      "Successful ID: 0, Unsuccesful ID 0\n",
      "Unsuccesful lyric 0\n",
      "track metadata keys: 215167 and track metadata memory: 10485856 bytes\n"
     ]
    },
    {
     "name": "stderr",
     "output_type": "stream",
     "text": [
      "\r",
      "Playlist loop:  47%|██████████████████████████████████████████████▍                                                    | 469/1000 [3:17:43<1:52:50, 12.75s/it]"
     ]
    },
    {
     "name": "stdout",
     "output_type": "stream",
     "text": [
      "Number of tracks in dict: 215169\n",
      "Successful ID: 0, Unsuccesful ID 2\n",
      "Unsuccesful lyric 0\n",
      "track metadata keys: 215169 and track metadata memory: 10485856 bytes\n"
     ]
    },
    {
     "name": "stderr",
     "output_type": "stream",
     "text": [
      "\r",
      "Playlist loop:  47%|██████████████████████████████████████████████▌                                                    | 470/1000 [3:18:39<3:11:22, 21.67s/it]"
     ]
    },
    {
     "name": "stdout",
     "output_type": "stream",
     "text": [
      "Number of tracks in dict: 215212\n",
      "Successful ID: 10, Unsuccesful ID 33\n",
      "Unsuccesful lyric 0\n",
      "track metadata keys: 215212 and track metadata memory: 10485856 bytes\n"
     ]
    },
    {
     "name": "stderr",
     "output_type": "stream",
     "text": [
      "\r",
      "Playlist loop:  47%|██████████████████████████████████████████████▋                                                    | 471/1000 [3:18:59<3:07:07, 21.22s/it]"
     ]
    },
    {
     "name": "stdout",
     "output_type": "stream",
     "text": [
      "Number of tracks in dict: 215220\n",
      "Successful ID: 5, Unsuccesful ID 3\n",
      "Unsuccesful lyric 0\n",
      "track metadata keys: 215220 and track metadata memory: 10485856 bytes\n",
      "Number of tracks in dict: 215220\n",
      "Successful ID: 0, Unsuccesful ID 0\n",
      "Unsuccesful lyric 0\n",
      "track metadata keys: 215220 and track metadata memory: 10485856 bytes\n",
      "Number of tracks in dict: 215220\n",
      "Successful ID: 0, Unsuccesful ID 0\n",
      "Unsuccesful lyric 0\n",
      "track metadata keys: 215220 and track metadata memory: 10485856 bytes\n",
      "Number of tracks in dict: 215220\n",
      "Successful ID: 0, Unsuccesful ID 0\n",
      "Unsuccesful lyric 0\n",
      "track metadata keys: 215220 and track metadata memory: 10485856 bytes\n"
     ]
    },
    {
     "name": "stderr",
     "output_type": "stream",
     "text": [
      "\r",
      "Playlist loop:  48%|███████████████████████████████████████████████                                                    | 475/1000 [3:18:59<1:20:44,  9.23s/it]"
     ]
    },
    {
     "name": "stdout",
     "output_type": "stream",
     "text": [
      "Number of tracks in dict: 215221\n",
      "Successful ID: 0, Unsuccesful ID 1\n",
      "Unsuccesful lyric 0\n",
      "track metadata keys: 215221 and track metadata memory: 10485856 bytes\n"
     ]
    },
    {
     "name": "stderr",
     "output_type": "stream",
     "text": [
      "\r",
      "Playlist loop:  48%|███████████████████████████████████████████████                                                    | 476/1000 [3:19:07<1:19:01,  9.05s/it]"
     ]
    },
    {
     "name": "stdout",
     "output_type": "stream",
     "text": [
      "Number of tracks in dict: 215225\n",
      "Successful ID: 2, Unsuccesful ID 2\n",
      "Unsuccesful lyric 0\n",
      "track metadata keys: 215225 and track metadata memory: 10485856 bytes\n"
     ]
    },
    {
     "name": "stderr",
     "output_type": "stream",
     "text": [
      "\r",
      "Playlist loop:  48%|███████████████████████████████████████████████▏                                                   | 477/1000 [3:19:11<1:10:11,  8.05s/it]"
     ]
    },
    {
     "name": "stdout",
     "output_type": "stream",
     "text": [
      "Number of tracks in dict: 215227\n",
      "Successful ID: 1, Unsuccesful ID 1\n",
      "Unsuccesful lyric 0\n",
      "track metadata keys: 215227 and track metadata memory: 10485856 bytes\n"
     ]
    },
    {
     "name": "stderr",
     "output_type": "stream",
     "text": [
      "\r",
      "Playlist loop:  48%|███████████████████████████████████████████████▎                                                   | 478/1000 [3:19:29<1:28:26, 10.17s/it]"
     ]
    },
    {
     "name": "stdout",
     "output_type": "stream",
     "text": [
      "Number of tracks in dict: 215243\n",
      "Successful ID: 4, Unsuccesful ID 12\n",
      "Unsuccesful lyric 0\n",
      "track metadata keys: 215243 and track metadata memory: 10485856 bytes\n"
     ]
    },
    {
     "name": "stderr",
     "output_type": "stream",
     "text": [
      "\r",
      "Playlist loop:  48%|███████████████████████████████████████████████▍                                                   | 479/1000 [3:19:41<1:33:26, 10.76s/it]"
     ]
    },
    {
     "name": "stdout",
     "output_type": "stream",
     "text": [
      "Number of tracks in dict: 215246\n",
      "Successful ID: 3, Unsuccesful ID 0\n",
      "Unsuccesful lyric 0\n",
      "track metadata keys: 215246 and track metadata memory: 10485856 bytes\n",
      "Number of tracks in dict: 215246\n",
      "Successful ID: 0, Unsuccesful ID 0\n",
      "Unsuccesful lyric 0\n",
      "track metadata keys: 215246 and track metadata memory: 10485856 bytes\n"
     ]
    },
    {
     "name": "stderr",
     "output_type": "stream",
     "text": [
      "\r",
      "Playlist loop:  48%|███████████████████████████████████████████████▌                                                   | 481/1000 [3:19:46<1:02:51,  7.27s/it]"
     ]
    },
    {
     "name": "stdout",
     "output_type": "stream",
     "text": [
      "Number of tracks in dict: 215248\n",
      "Successful ID: 1, Unsuccesful ID 1\n",
      "Unsuccesful lyric 0\n",
      "track metadata keys: 215248 and track metadata memory: 10485856 bytes\n",
      "Number of tracks in dict: 215248\n",
      "Successful ID: 0, Unsuccesful ID 0\n",
      "Unsuccesful lyric 0\n",
      "track metadata keys: 215248 and track metadata memory: 10485856 bytes\n",
      "Number of tracks in dict: 215248\n",
      "Successful ID: 0, Unsuccesful ID 0\n",
      "Unsuccesful lyric 0\n",
      "track metadata keys: 215248 and track metadata memory: 10485856 bytes\n",
      "Number of tracks in dict: 215248\n",
      "Successful ID: 0, Unsuccesful ID 0\n",
      "Unsuccesful lyric 0\n",
      "track metadata keys: 215248 and track metadata memory: 10485856 bytes\n",
      "Number of tracks in dict: 215248\n",
      "Successful ID: 0, Unsuccesful ID 0\n",
      "Unsuccesful lyric 0\n",
      "track metadata keys: 215248 and track metadata memory: 10485856 bytes\n",
      "Number of tracks in dict: 215248\n",
      "Successful ID: 0, Unsuccesful ID 0\n",
      "Unsuccesful lyric 0\n",
      "track metadata keys: 215248 and track metadata memory: 10485856 bytes\n",
      "Number of tracks in dict: 215248\n",
      "Successful ID: 0, Unsuccesful ID 0\n",
      "Unsuccesful lyric 0\n",
      "track metadata keys: 215248 and track metadata memory: 10485856 bytes\n",
      "Number of tracks in dict: 215248\n",
      "Successful ID: 0, Unsuccesful ID 0\n",
      "Unsuccesful lyric 0\n",
      "track metadata keys: 215248 and track metadata memory: 10485856 bytes\n",
      "Number of tracks in dict: 215248\n",
      "Successful ID: 0, Unsuccesful ID 0\n",
      "Unsuccesful lyric 0\n",
      "track metadata keys: 215248 and track metadata memory: 10485856 bytes\n"
     ]
    },
    {
     "name": "stderr",
     "output_type": "stream",
     "text": [
      "\r",
      "Playlist loop:  49%|████████████████████████████████████████████████▌                                                  | 490/1000 [3:20:55<1:04:24,  7.58s/it]"
     ]
    },
    {
     "name": "stdout",
     "output_type": "stream",
     "text": [
      "Number of tracks in dict: 215271\n",
      "Successful ID: 18, Unsuccesful ID 5\n",
      "Unsuccesful lyric 0\n",
      "track metadata keys: 215271 and track metadata memory: 10485856 bytes\n"
     ]
    },
    {
     "name": "stderr",
     "output_type": "stream",
     "text": [
      "\r",
      "Playlist loop:  49%|████████████████████████████████████████████████▌                                                  | 491/1000 [3:21:34<1:31:18, 10.76s/it]"
     ]
    },
    {
     "name": "stdout",
     "output_type": "stream",
     "text": [
      "Number of tracks in dict: 215281\n",
      "Successful ID: 10, Unsuccesful ID 0\n",
      "Unsuccesful lyric 0\n",
      "track metadata keys: 215281 and track metadata memory: 10485856 bytes\n"
     ]
    },
    {
     "name": "stderr",
     "output_type": "stream",
     "text": [
      "\r",
      "Playlist loop:  49%|████████████████████████████████████████████████▋                                                  | 492/1000 [3:21:42<1:28:59, 10.51s/it]"
     ]
    },
    {
     "name": "stdout",
     "output_type": "stream",
     "text": [
      "Number of tracks in dict: 215286\n",
      "Successful ID: 2, Unsuccesful ID 3\n",
      "Unsuccesful lyric 0\n",
      "track metadata keys: 215286 and track metadata memory: 10485856 bytes\n"
     ]
    },
    {
     "name": "stderr",
     "output_type": "stream",
     "text": [
      "\r",
      "Playlist loop:  49%|████████████████████████████████████████████████▊                                                  | 493/1000 [3:21:47<1:21:18,  9.62s/it]"
     ]
    },
    {
     "name": "stdout",
     "output_type": "stream",
     "text": [
      "Number of tracks in dict: 215289\n",
      "Successful ID: 1, Unsuccesful ID 2\n",
      "Unsuccesful lyric 0\n",
      "track metadata keys: 215289 and track metadata memory: 10485856 bytes\n"
     ]
    },
    {
     "name": "stderr",
     "output_type": "stream",
     "text": [
      "\r",
      "Playlist loop:  49%|████████████████████████████████████████████████▉                                                  | 494/1000 [3:22:36<2:20:40, 16.68s/it]"
     ]
    },
    {
     "name": "stdout",
     "output_type": "stream",
     "text": [
      "Number of tracks in dict: 215305\n",
      "Successful ID: 12, Unsuccesful ID 4\n",
      "Unsuccesful lyric 0\n",
      "track metadata keys: 215305 and track metadata memory: 10485856 bytes\n"
     ]
    },
    {
     "name": "stderr",
     "output_type": "stream",
     "text": [
      "\r",
      "Playlist loop:  50%|█████████████████████████████████████████████████                                                  | 495/1000 [3:23:57<4:12:01, 29.94s/it]"
     ]
    },
    {
     "name": "stdout",
     "output_type": "stream",
     "text": [
      "Number of tracks in dict: 215330\n",
      "Successful ID: 20, Unsuccesful ID 5\n",
      "Unsuccesful lyric 0\n",
      "track metadata keys: 215330 and track metadata memory: 10485856 bytes\n"
     ]
    },
    {
     "name": "stderr",
     "output_type": "stream",
     "text": [
      "\r",
      "Playlist loop:  50%|█████████████████████████████████████████████████                                                  | 496/1000 [3:25:54<6:56:42, 49.61s/it]"
     ]
    },
    {
     "name": "stdout",
     "output_type": "stream",
     "text": [
      "Number of tracks in dict: 215374\n",
      "Successful ID: 29, Unsuccesful ID 15\n",
      "Unsuccesful lyric 0\n",
      "track metadata keys: 215374 and track metadata memory: 10485856 bytes\n",
      "Number of tracks in dict: 215374\n",
      "Successful ID: 0, Unsuccesful ID 0\n",
      "Unsuccesful lyric 0\n",
      "track metadata keys: 215374 and track metadata memory: 10485856 bytes\n"
     ]
    },
    {
     "name": "stderr",
     "output_type": "stream",
     "text": [
      "\r",
      "Playlist loop:  50%|█████████████████████████████████████████████████▎                                                 | 498/1000 [3:25:58<4:19:36, 31.03s/it]"
     ]
    },
    {
     "name": "stdout",
     "output_type": "stream",
     "text": [
      "Number of tracks in dict: 215376\n",
      "Successful ID: 1, Unsuccesful ID 1\n",
      "Unsuccesful lyric 0\n",
      "track metadata keys: 215376 and track metadata memory: 10485856 bytes\n"
     ]
    },
    {
     "name": "stderr",
     "output_type": "stream",
     "text": [
      "\r",
      "Playlist loop:  50%|█████████████████████████████████████████████████▍                                                 | 499/1000 [3:27:00<5:15:47, 37.82s/it]"
     ]
    },
    {
     "name": "stdout",
     "output_type": "stream",
     "text": [
      "Number of tracks in dict: 215392\n",
      "Successful ID: 16, Unsuccesful ID 0\n",
      "Unsuccesful lyric 0\n",
      "track metadata keys: 215392 and track metadata memory: 10485856 bytes\n",
      "Number of tracks in dict: 215392\n",
      "Successful ID: 0, Unsuccesful ID 0\n",
      "Unsuccesful lyric 0\n",
      "track metadata keys: 215392 and track metadata memory: 10485856 bytes\n"
     ]
    },
    {
     "name": "stderr",
     "output_type": "stream",
     "text": [
      "Playlist loop:  50%|█████████████████████████████████████████████████▌                                                 | 501/1000 [3:27:22<3:42:49, 26.79s/it]"
     ]
    },
    {
     "name": "stdout",
     "output_type": "stream",
     "text": [
      "Number of tracks in dict: 215399\n",
      "Successful ID: 4, Unsuccesful ID 3\n",
      "Unsuccesful lyric 0\n",
      "track metadata keys: 215399 and track metadata memory: 10485856 bytes\n"
     ]
    },
    {
     "name": "stderr",
     "output_type": "stream",
     "text": [
      "\r",
      "Playlist loop:  50%|█████████████████████████████████████████████████▋                                                 | 502/1000 [3:27:26<2:52:05, 20.73s/it]"
     ]
    },
    {
     "name": "stdout",
     "output_type": "stream",
     "text": [
      "Number of tracks in dict: 215400\n",
      "Successful ID: 1, Unsuccesful ID 0\n",
      "Unsuccesful lyric 0\n",
      "track metadata keys: 215400 and track metadata memory: 10485856 bytes\n"
     ]
    },
    {
     "name": "stderr",
     "output_type": "stream",
     "text": [
      "\r",
      "Playlist loop:  50%|█████████████████████████████████████████████████▊                                                 | 503/1000 [3:28:04<3:31:17, 25.51s/it]"
     ]
    },
    {
     "name": "stdout",
     "output_type": "stream",
     "text": [
      "Number of tracks in dict: 215431\n",
      "Successful ID: 9, Unsuccesful ID 22\n",
      "Unsuccesful lyric 0\n",
      "track metadata keys: 215431 and track metadata memory: 10485856 bytes\n"
     ]
    },
    {
     "name": "stderr",
     "output_type": "stream",
     "text": [
      "\r",
      "Playlist loop:  50%|█████████████████████████████████████████████████▉                                                 | 504/1000 [3:28:17<3:01:30, 21.96s/it]"
     ]
    },
    {
     "name": "stdout",
     "output_type": "stream",
     "text": [
      "Number of tracks in dict: 215437\n",
      "Successful ID: 3, Unsuccesful ID 3\n",
      "Unsuccesful lyric 0\n",
      "track metadata keys: 215437 and track metadata memory: 10485856 bytes\n"
     ]
    },
    {
     "name": "stderr",
     "output_type": "stream",
     "text": [
      "\r",
      "Playlist loop:  50%|█████████████████████████████████████████████████▉                                                 | 505/1000 [3:28:30<2:39:29, 19.33s/it]"
     ]
    },
    {
     "name": "stdout",
     "output_type": "stream",
     "text": [
      "Number of tracks in dict: 215441\n",
      "Successful ID: 3, Unsuccesful ID 1\n",
      "Unsuccesful lyric 0\n",
      "track metadata keys: 215441 and track metadata memory: 10485856 bytes\n"
     ]
    },
    {
     "name": "stderr",
     "output_type": "stream",
     "text": [
      "\r",
      "Playlist loop:  51%|██████████████████████████████████████████████████                                                 | 506/1000 [3:28:51<2:41:58, 19.67s/it]"
     ]
    },
    {
     "name": "stdout",
     "output_type": "stream",
     "text": [
      "Number of tracks in dict: 215451\n",
      "Successful ID: 5, Unsuccesful ID 5\n",
      "Unsuccesful lyric 0\n",
      "track metadata keys: 215451 and track metadata memory: 10485856 bytes\n"
     ]
    },
    {
     "name": "stderr",
     "output_type": "stream",
     "text": [
      "\r",
      "Playlist loop:  51%|██████████████████████████████████████████████████▏                                                | 507/1000 [3:28:54<2:03:21, 15.01s/it]"
     ]
    },
    {
     "name": "stdout",
     "output_type": "stream",
     "text": [
      "Number of tracks in dict: 215453\n",
      "Successful ID: 1, Unsuccesful ID 1\n",
      "Unsuccesful lyric 0\n",
      "track metadata keys: 215453 and track metadata memory: 10485856 bytes\n"
     ]
    },
    {
     "name": "stderr",
     "output_type": "stream",
     "text": [
      "\r",
      "Playlist loop:  51%|██████████████████████████████████████████████████▎                                                | 508/1000 [3:30:09<4:27:02, 32.57s/it]"
     ]
    },
    {
     "name": "stdout",
     "output_type": "stream",
     "text": [
      "Number of tracks in dict: 215476\n",
      "Successful ID: 17, Unsuccesful ID 6\n",
      "Unsuccesful lyric 0\n",
      "track metadata keys: 215476 and track metadata memory: 10485856 bytes\n"
     ]
    },
    {
     "name": "stderr",
     "output_type": "stream",
     "text": [
      "\r",
      "Playlist loop:  51%|██████████████████████████████████████████████████▍                                                | 509/1000 [3:30:25<3:45:50, 27.60s/it]"
     ]
    },
    {
     "name": "stdout",
     "output_type": "stream",
     "text": [
      "Number of tracks in dict: 215480\n",
      "Successful ID: 4, Unsuccesful ID 0\n",
      "Unsuccesful lyric 0\n",
      "track metadata keys: 215480 and track metadata memory: 10485856 bytes\n"
     ]
    },
    {
     "name": "stderr",
     "output_type": "stream",
     "text": [
      "\r",
      "Playlist loop:  51%|██████████████████████████████████████████████████▍                                                | 510/1000 [3:30:37<3:08:19, 23.06s/it]"
     ]
    },
    {
     "name": "stdout",
     "output_type": "stream",
     "text": [
      "Number of tracks in dict: 215484\n",
      "Successful ID: 3, Unsuccesful ID 1\n",
      "Unsuccesful lyric 0\n",
      "track metadata keys: 215484 and track metadata memory: 10485856 bytes\n"
     ]
    },
    {
     "name": "stderr",
     "output_type": "stream",
     "text": [
      "\r",
      "Playlist loop:  51%|██████████████████████████████████████████████████▌                                                | 511/1000 [3:30:53<2:49:52, 20.84s/it]"
     ]
    },
    {
     "name": "stdout",
     "output_type": "stream",
     "text": [
      "Number of tracks in dict: 215489\n",
      "Successful ID: 4, Unsuccesful ID 1\n",
      "Unsuccesful lyric 0\n",
      "track metadata keys: 215489 and track metadata memory: 10485856 bytes\n"
     ]
    },
    {
     "name": "stderr",
     "output_type": "stream",
     "text": [
      "\r",
      "Playlist loop:  51%|██████████████████████████████████████████████████▋                                                | 512/1000 [3:31:09<2:39:31, 19.61s/it]"
     ]
    },
    {
     "name": "stdout",
     "output_type": "stream",
     "text": [
      "Number of tracks in dict: 215496\n",
      "Successful ID: 4, Unsuccesful ID 3\n",
      "Unsuccesful lyric 0\n",
      "track metadata keys: 215496 and track metadata memory: 10485856 bytes\n"
     ]
    },
    {
     "name": "stderr",
     "output_type": "stream",
     "text": [
      "\r",
      "Playlist loop:  51%|██████████████████████████████████████████████████▊                                                | 513/1000 [3:32:02<3:59:08, 29.46s/it]"
     ]
    },
    {
     "name": "stdout",
     "output_type": "stream",
     "text": [
      "Number of tracks in dict: 215517\n",
      "Successful ID: 11, Unsuccesful ID 10\n",
      "Unsuccesful lyric 0\n",
      "track metadata keys: 215517 and track metadata memory: 10485856 bytes\n"
     ]
    },
    {
     "name": "stderr",
     "output_type": "stream",
     "text": [
      "\r",
      "Playlist loop:  51%|██████████████████████████████████████████████████▉                                                | 514/1000 [3:32:27<3:47:21, 28.07s/it]"
     ]
    },
    {
     "name": "stdout",
     "output_type": "stream",
     "text": [
      "Number of tracks in dict: 215526\n",
      "Successful ID: 6, Unsuccesful ID 3\n",
      "Unsuccesful lyric 0\n",
      "track metadata keys: 215526 and track metadata memory: 10485856 bytes\n",
      "Number of tracks in dict: 215526\n",
      "Successful ID: 0, Unsuccesful ID 0\n",
      "Unsuccesful lyric 0\n",
      "track metadata keys: 215526 and track metadata memory: 10485856 bytes\n",
      "Number of tracks in dict: 215526\n",
      "Successful ID: 0, Unsuccesful ID 0\n",
      "Unsuccesful lyric 0\n",
      "track metadata keys: 215526 and track metadata memory: 10485856 bytes\n"
     ]
    },
    {
     "name": "stderr",
     "output_type": "stream",
     "text": [
      "\r",
      "Playlist loop:  52%|███████████████████████████████████████████████████▏                                               | 517/1000 [3:32:34<1:50:06, 13.68s/it]"
     ]
    },
    {
     "name": "stdout",
     "output_type": "stream",
     "text": [
      "Number of tracks in dict: 215528\n",
      "Successful ID: 2, Unsuccesful ID 0\n",
      "Unsuccesful lyric 0\n",
      "track metadata keys: 215528 and track metadata memory: 10485856 bytes\n"
     ]
    },
    {
     "name": "stderr",
     "output_type": "stream",
     "text": [
      "\r",
      "Playlist loop:  52%|███████████████████████████████████████████████████▎                                               | 518/1000 [3:33:16<2:38:05, 19.68s/it]"
     ]
    },
    {
     "name": "stdout",
     "output_type": "stream",
     "text": [
      "Number of tracks in dict: 215542\n",
      "Successful ID: 11, Unsuccesful ID 3\n",
      "Unsuccesful lyric 0\n",
      "track metadata keys: 215542 and track metadata memory: 10485856 bytes\n"
     ]
    },
    {
     "name": "stderr",
     "output_type": "stream",
     "text": [
      "\r",
      "Playlist loop:  52%|███████████████████████████████████████████████████▍                                               | 519/1000 [3:33:32<2:31:01, 18.84s/it]"
     ]
    },
    {
     "name": "stdout",
     "output_type": "stream",
     "text": [
      "Number of tracks in dict: 215547\n",
      "Successful ID: 4, Unsuccesful ID 1\n",
      "Unsuccesful lyric 0\n",
      "track metadata keys: 215547 and track metadata memory: 10485856 bytes\n"
     ]
    },
    {
     "name": "stderr",
     "output_type": "stream",
     "text": [
      "\r",
      "Playlist loop:  52%|███████████████████████████████████████████████████▍                                               | 520/1000 [3:33:36<2:01:21, 15.17s/it]"
     ]
    },
    {
     "name": "stdout",
     "output_type": "stream",
     "text": [
      "Number of tracks in dict: 215549\n",
      "Successful ID: 1, Unsuccesful ID 1\n",
      "Unsuccesful lyric 0\n",
      "track metadata keys: 215549 and track metadata memory: 10485856 bytes\n"
     ]
    },
    {
     "name": "stderr",
     "output_type": "stream",
     "text": [
      "\r",
      "Playlist loop:  52%|███████████████████████████████████████████████████▌                                               | 521/1000 [3:33:40<1:36:41, 12.11s/it]"
     ]
    },
    {
     "name": "stdout",
     "output_type": "stream",
     "text": [
      "Number of tracks in dict: 215551\n",
      "Successful ID: 1, Unsuccesful ID 1\n",
      "Unsuccesful lyric 0\n",
      "track metadata keys: 215551 and track metadata memory: 10485856 bytes\n"
     ]
    },
    {
     "name": "stderr",
     "output_type": "stream",
     "text": [
      "\r",
      "Playlist loop:  52%|███████████████████████████████████████████████████▋                                               | 522/1000 [3:33:43<1:18:11,  9.81s/it]"
     ]
    },
    {
     "name": "stdout",
     "output_type": "stream",
     "text": [
      "Number of tracks in dict: 215552\n",
      "Successful ID: 1, Unsuccesful ID 0\n",
      "Unsuccesful lyric 0\n",
      "track metadata keys: 215552 and track metadata memory: 10485856 bytes\n"
     ]
    },
    {
     "name": "stderr",
     "output_type": "stream",
     "text": [
      "\r",
      "Playlist loop:  52%|███████████████████████████████████████████████████▊                                               | 523/1000 [3:34:04<1:40:49, 12.68s/it]"
     ]
    },
    {
     "name": "stdout",
     "output_type": "stream",
     "text": [
      "Number of tracks in dict: 215557\n",
      "Successful ID: 4, Unsuccesful ID 1\n",
      "Unsuccesful lyric 0\n",
      "track metadata keys: 215557 and track metadata memory: 10485856 bytes\n"
     ]
    },
    {
     "name": "stderr",
     "output_type": "stream",
     "text": [
      "\r",
      "Playlist loop:  52%|███████████████████████████████████████████████████▉                                               | 524/1000 [3:34:13<1:32:49, 11.70s/it]"
     ]
    },
    {
     "name": "stdout",
     "output_type": "stream",
     "text": [
      "Number of tracks in dict: 215561\n",
      "Successful ID: 2, Unsuccesful ID 2\n",
      "Unsuccesful lyric 0\n",
      "track metadata keys: 215561 and track metadata memory: 10485856 bytes\n"
     ]
    },
    {
     "name": "stderr",
     "output_type": "stream",
     "text": [
      "\r",
      "Playlist loop:  52%|███████████████████████████████████████████████████▉                                               | 525/1000 [3:35:44<4:35:06, 34.75s/it]"
     ]
    },
    {
     "name": "stdout",
     "output_type": "stream",
     "text": [
      "Number of tracks in dict: 215590\n",
      "Successful ID: 25, Unsuccesful ID 4\n",
      "Unsuccesful lyric 0\n",
      "track metadata keys: 215590 and track metadata memory: 10485856 bytes\n",
      "Number of tracks in dict: 215590\n",
      "Successful ID: 0, Unsuccesful ID 0\n",
      "Unsuccesful lyric 0\n",
      "track metadata keys: 215590 and track metadata memory: 10485856 bytes\n"
     ]
    },
    {
     "name": "stderr",
     "output_type": "stream",
     "text": [
      "\r",
      "Playlist loop:  53%|████████████████████████████████████████████████████▏                                              | 527/1000 [3:36:14<3:24:21, 25.92s/it]"
     ]
    },
    {
     "name": "stdout",
     "output_type": "stream",
     "text": [
      "Number of tracks in dict: 215598\n",
      "Successful ID: 7, Unsuccesful ID 1\n",
      "Unsuccesful lyric 0\n",
      "track metadata keys: 215598 and track metadata memory: 10485856 bytes\n"
     ]
    },
    {
     "name": "stderr",
     "output_type": "stream",
     "text": [
      "\r",
      "Playlist loop:  53%|████████████████████████████████████████████████████▎                                              | 528/1000 [3:36:26<2:56:12, 22.40s/it]"
     ]
    },
    {
     "name": "stdout",
     "output_type": "stream",
     "text": [
      "Number of tracks in dict: 215602\n",
      "Successful ID: 3, Unsuccesful ID 1\n",
      "Unsuccesful lyric 0\n",
      "track metadata keys: 215602 and track metadata memory: 10485856 bytes\n"
     ]
    },
    {
     "name": "stderr",
     "output_type": "stream",
     "text": [
      "\r",
      "Playlist loop:  53%|████████████████████████████████████████████████████▎                                              | 529/1000 [3:36:30<2:18:23, 17.63s/it]"
     ]
    },
    {
     "name": "stdout",
     "output_type": "stream",
     "text": [
      "Number of tracks in dict: 215603\n",
      "Successful ID: 1, Unsuccesful ID 0\n",
      "Unsuccesful lyric 0\n",
      "track metadata keys: 215603 and track metadata memory: 10485856 bytes\n"
     ]
    },
    {
     "name": "stderr",
     "output_type": "stream",
     "text": [
      "\r",
      "Playlist loop:  53%|████████████████████████████████████████████████████▍                                              | 530/1000 [3:36:38<1:58:03, 15.07s/it]"
     ]
    },
    {
     "name": "stdout",
     "output_type": "stream",
     "text": [
      "Number of tracks in dict: 215606\n",
      "Successful ID: 2, Unsuccesful ID 1\n",
      "Unsuccesful lyric 0\n",
      "track metadata keys: 215606 and track metadata memory: 10485856 bytes\n"
     ]
    },
    {
     "name": "stderr",
     "output_type": "stream",
     "text": [
      "\r",
      "Playlist loop:  53%|████████████████████████████████████████████████████▌                                              | 531/1000 [3:36:55<2:02:37, 15.69s/it]"
     ]
    },
    {
     "name": "stdout",
     "output_type": "stream",
     "text": [
      "Number of tracks in dict: 215612\n",
      "Successful ID: 4, Unsuccesful ID 2\n",
      "Unsuccesful lyric 0\n",
      "track metadata keys: 215612 and track metadata memory: 10485856 bytes\n",
      "Number of tracks in dict: 215612\n",
      "Successful ID: 0, Unsuccesful ID 0\n",
      "Unsuccesful lyric 0\n",
      "track metadata keys: 215612 and track metadata memory: 10485856 bytes\n",
      "Number of tracks in dict: 215612\n",
      "Successful ID: 0, Unsuccesful ID 0\n",
      "Unsuccesful lyric 0\n",
      "track metadata keys: 215612 and track metadata memory: 10485856 bytes\n"
     ]
    },
    {
     "name": "stderr",
     "output_type": "stream",
     "text": [
      "\r",
      "Playlist loop:  53%|████████████████████████████████████████████████████▊                                              | 534/1000 [3:37:12<1:18:29, 10.11s/it]"
     ]
    },
    {
     "name": "stdout",
     "output_type": "stream",
     "text": [
      "Number of tracks in dict: 215617\n",
      "Successful ID: 4, Unsuccesful ID 1\n",
      "Unsuccesful lyric 0\n",
      "track metadata keys: 215617 and track metadata memory: 10485856 bytes\n"
     ]
    },
    {
     "name": "stderr",
     "output_type": "stream",
     "text": [
      "\r",
      "Playlist loop:  54%|████████████████████████████████████████████████████▉                                              | 535/1000 [3:39:45<5:07:20, 39.66s/it]"
     ]
    },
    {
     "name": "stdout",
     "output_type": "stream",
     "text": [
      "Number of tracks in dict: 215668\n",
      "Successful ID: 39, Unsuccesful ID 12\n",
      "Unsuccesful lyric 0\n",
      "track metadata keys: 215668 and track metadata memory: 10485856 bytes\n",
      "Number of tracks in dict: 215668\n",
      "Successful ID: 0, Unsuccesful ID 0\n",
      "Unsuccesful lyric 0\n",
      "track metadata keys: 215668 and track metadata memory: 10485856 bytes\n",
      "Number of tracks in dict: 215668\n",
      "Successful ID: 0, Unsuccesful ID 0\n",
      "Unsuccesful lyric 0\n",
      "track metadata keys: 215668 and track metadata memory: 10485856 bytes\n"
     ]
    },
    {
     "name": "stderr",
     "output_type": "stream",
     "text": [
      "\r",
      "Playlist loop:  54%|█████████████████████████████████████████████████████▎                                             | 538/1000 [3:41:03<4:14:58, 33.11s/it]"
     ]
    },
    {
     "name": "stdout",
     "output_type": "stream",
     "text": [
      "Number of tracks in dict: 215722\n",
      "Successful ID: 17, Unsuccesful ID 37\n",
      "Unsuccesful lyric 0\n",
      "track metadata keys: 215722 and track metadata memory: 10485856 bytes\n",
      "Number of tracks in dict: 215722\n",
      "Successful ID: 0, Unsuccesful ID 0\n",
      "Unsuccesful lyric 0\n",
      "track metadata keys: 215722 and track metadata memory: 10485856 bytes\n",
      "Number of tracks in dict: 215722\n",
      "Successful ID: 0, Unsuccesful ID 0\n",
      "Unsuccesful lyric 0\n",
      "track metadata keys: 215722 and track metadata memory: 10485856 bytes\n"
     ]
    },
    {
     "name": "stderr",
     "output_type": "stream",
     "text": [
      "\r",
      "Playlist loop:  54%|█████████████████████████████████████████████████████▌                                             | 541/1000 [3:41:51<3:21:43, 26.37s/it]"
     ]
    },
    {
     "name": "stdout",
     "output_type": "stream",
     "text": [
      "Number of tracks in dict: 215739\n",
      "Successful ID: 12, Unsuccesful ID 5\n",
      "Unsuccesful lyric 0\n",
      "track metadata keys: 215739 and track metadata memory: 10485856 bytes\n"
     ]
    },
    {
     "name": "stderr",
     "output_type": "stream",
     "text": [
      "\r",
      "Playlist loop:  54%|█████████████████████████████████████████████████████▋                                             | 542/1000 [3:42:19<3:23:11, 26.62s/it]"
     ]
    },
    {
     "name": "stdout",
     "output_type": "stream",
     "text": [
      "Number of tracks in dict: 215746\n",
      "Successful ID: 7, Unsuccesful ID 0\n",
      "Unsuccesful lyric 0\n",
      "track metadata keys: 215746 and track metadata memory: 10485856 bytes\n",
      "Number of tracks in dict: 215746\n",
      "Successful ID: 0, Unsuccesful ID 0\n",
      "Unsuccesful lyric 0\n",
      "track metadata keys: 215746 and track metadata memory: 10485856 bytes\n"
     ]
    },
    {
     "name": "stderr",
     "output_type": "stream",
     "text": [
      "\r",
      "Playlist loop:  54%|█████████████████████████████████████████████████████▊                                             | 544/1000 [3:42:42<2:45:58, 21.84s/it]"
     ]
    },
    {
     "name": "stdout",
     "output_type": "stream",
     "text": [
      "Number of tracks in dict: 215755\n",
      "Successful ID: 5, Unsuccesful ID 4\n",
      "Unsuccesful lyric 0\n",
      "track metadata keys: 215755 and track metadata memory: 10485856 bytes\n"
     ]
    },
    {
     "name": "stderr",
     "output_type": "stream",
     "text": [
      "\r",
      "Playlist loop:  55%|█████████████████████████████████████████████████████▉                                             | 545/1000 [3:42:50<2:25:54, 19.24s/it]"
     ]
    },
    {
     "name": "stdout",
     "output_type": "stream",
     "text": [
      "Number of tracks in dict: 215757\n",
      "Successful ID: 2, Unsuccesful ID 0\n",
      "Unsuccesful lyric 0\n",
      "track metadata keys: 215757 and track metadata memory: 10485856 bytes\n",
      "Number of tracks in dict: 215757\n",
      "Successful ID: 0, Unsuccesful ID 0\n",
      "Unsuccesful lyric 0\n",
      "track metadata keys: 215757 and track metadata memory: 10485856 bytes\n"
     ]
    },
    {
     "name": "stderr",
     "output_type": "stream",
     "text": [
      "\r",
      "Playlist loop:  55%|██████████████████████████████████████████████████████▏                                            | 547/1000 [3:42:59<1:47:42, 14.27s/it]"
     ]
    },
    {
     "name": "stdout",
     "output_type": "stream",
     "text": [
      "Number of tracks in dict: 215761\n",
      "Successful ID: 2, Unsuccesful ID 2\n",
      "Unsuccesful lyric 0\n",
      "track metadata keys: 215761 and track metadata memory: 10485856 bytes\n"
     ]
    },
    {
     "name": "stderr",
     "output_type": "stream",
     "text": [
      "\r",
      "Playlist loop:  55%|██████████████████████████████████████████████████████▎                                            | 548/1000 [3:43:18<1:54:18, 15.17s/it]"
     ]
    },
    {
     "name": "stdout",
     "output_type": "stream",
     "text": [
      "Number of tracks in dict: 215766\n",
      "Successful ID: 5, Unsuccesful ID 0\n",
      "Unsuccesful lyric 0\n",
      "track metadata keys: 215766 and track metadata memory: 10485856 bytes\n"
     ]
    },
    {
     "name": "stderr",
     "output_type": "stream",
     "text": [
      "\r",
      "Playlist loop:  55%|██████████████████████████████████████████████████████▎                                            | 549/1000 [3:43:22<1:35:28, 12.70s/it]"
     ]
    },
    {
     "name": "stdout",
     "output_type": "stream",
     "text": [
      "Number of tracks in dict: 215767\n",
      "Successful ID: 1, Unsuccesful ID 0\n",
      "Unsuccesful lyric 0\n",
      "track metadata keys: 215767 and track metadata memory: 10485856 bytes\n"
     ]
    },
    {
     "name": "stderr",
     "output_type": "stream",
     "text": [
      "\r",
      "Playlist loop:  55%|██████████████████████████████████████████████████████▍                                            | 550/1000 [3:43:44<1:50:55, 14.79s/it]"
     ]
    },
    {
     "name": "stdout",
     "output_type": "stream",
     "text": [
      "Number of tracks in dict: 215775\n",
      "Successful ID: 5, Unsuccesful ID 3\n",
      "Unsuccesful lyric 0\n",
      "track metadata keys: 215775 and track metadata memory: 10485856 bytes\n",
      "Number of tracks in dict: 215775\n",
      "Successful ID: 0, Unsuccesful ID 0\n",
      "Unsuccesful lyric 0\n",
      "track metadata keys: 215775 and track metadata memory: 10485856 bytes\n"
     ]
    },
    {
     "name": "stderr",
     "output_type": "stream",
     "text": [
      "\r",
      "Playlist loop:  55%|██████████████████████████████████████████████████████▋                                            | 552/1000 [3:44:01<1:32:06, 12.34s/it]"
     ]
    },
    {
     "name": "stdout",
     "output_type": "stream",
     "text": [
      "Number of tracks in dict: 215780\n",
      "Successful ID: 4, Unsuccesful ID 1\n",
      "Unsuccesful lyric 0\n",
      "track metadata keys: 215780 and track metadata memory: 10485856 bytes\n",
      "Number of tracks in dict: 215780\n",
      "Successful ID: 0, Unsuccesful ID 0\n",
      "Unsuccesful lyric 0\n",
      "track metadata keys: 215780 and track metadata memory: 10485856 bytes\n",
      "Number of tracks in dict: 215780\n",
      "Successful ID: 0, Unsuccesful ID 0\n",
      "Unsuccesful lyric 0\n",
      "track metadata keys: 215780 and track metadata memory: 10485856 bytes\n"
     ]
    },
    {
     "name": "stderr",
     "output_type": "stream",
     "text": [
      "\r",
      "Playlist loop:  56%|██████████████████████████████████████████████████████▉                                            | 555/1000 [3:44:46<1:40:19, 13.53s/it]"
     ]
    },
    {
     "name": "stdout",
     "output_type": "stream",
     "text": [
      "Number of tracks in dict: 215794\n",
      "Successful ID: 11, Unsuccesful ID 3\n",
      "Unsuccesful lyric 0\n",
      "track metadata keys: 215794 and track metadata memory: 10485856 bytes\n",
      "Number of tracks in dict: 215794\n",
      "Successful ID: 0, Unsuccesful ID 0\n",
      "Unsuccesful lyric 0\n",
      "track metadata keys: 215794 and track metadata memory: 10485856 bytes\n"
     ]
    },
    {
     "name": "stderr",
     "output_type": "stream",
     "text": [
      "\r",
      "Playlist loop:  56%|███████████████████████████████████████████████████████▏                                           | 557/1000 [3:45:11<1:37:35, 13.22s/it]"
     ]
    },
    {
     "name": "stdout",
     "output_type": "stream",
     "text": [
      "Number of tracks in dict: 215805\n",
      "Successful ID: 6, Unsuccesful ID 5\n",
      "Unsuccesful lyric 0\n",
      "track metadata keys: 215805 and track metadata memory: 10485856 bytes\n"
     ]
    },
    {
     "name": "stderr",
     "output_type": "stream",
     "text": [
      "\r",
      "Playlist loop:  56%|███████████████████████████████████████████████████████▏                                           | 558/1000 [3:46:49<3:29:55, 28.50s/it]"
     ]
    },
    {
     "name": "stdout",
     "output_type": "stream",
     "text": [
      "Number of tracks in dict: 215832\n",
      "Successful ID: 25, Unsuccesful ID 2\n",
      "Unsuccesful lyric 0\n",
      "track metadata keys: 215832 and track metadata memory: 10485856 bytes\n"
     ]
    },
    {
     "name": "stderr",
     "output_type": "stream",
     "text": [
      "\r",
      "Playlist loop:  56%|███████████████████████████████████████████████████████▎                                           | 559/1000 [3:47:08<3:15:50, 26.65s/it]"
     ]
    },
    {
     "name": "stdout",
     "output_type": "stream",
     "text": [
      "Number of tracks in dict: 215838\n",
      "Successful ID: 5, Unsuccesful ID 1\n",
      "Unsuccesful lyric 0\n",
      "track metadata keys: 215838 and track metadata memory: 10485856 bytes\n"
     ]
    },
    {
     "name": "stderr",
     "output_type": "stream",
     "text": [
      "\r",
      "Playlist loop:  56%|███████████████████████████████████████████████████████▍                                           | 560/1000 [3:49:01<5:38:01, 46.09s/it]"
     ]
    },
    {
     "name": "stdout",
     "output_type": "stream",
     "text": [
      "Number of tracks in dict: 215867\n",
      "Successful ID: 27, Unsuccesful ID 2\n",
      "Unsuccesful lyric 0\n",
      "track metadata keys: 215867 and track metadata memory: 10485856 bytes\n",
      "Number of tracks in dict: 215867\n",
      "Successful ID: 0, Unsuccesful ID 0\n",
      "Unsuccesful lyric 0\n",
      "track metadata keys: 215867 and track metadata memory: 10485856 bytes\n"
     ]
    },
    {
     "name": "stderr",
     "output_type": "stream",
     "text": [
      "\r",
      "Playlist loop:  56%|███████████████████████████████████████████████████████▋                                           | 562/1000 [3:49:13<3:41:02, 30.28s/it]"
     ]
    },
    {
     "name": "stdout",
     "output_type": "stream",
     "text": [
      "Number of tracks in dict: 215870\n",
      "Successful ID: 3, Unsuccesful ID 0\n",
      "Unsuccesful lyric 0\n",
      "track metadata keys: 215870 and track metadata memory: 10485856 bytes\n"
     ]
    },
    {
     "name": "stderr",
     "output_type": "stream",
     "text": [
      "\r",
      "Playlist loop:  56%|███████████████████████████████████████████████████████▋                                           | 563/1000 [3:49:24<3:10:13, 26.12s/it]"
     ]
    },
    {
     "name": "stdout",
     "output_type": "stream",
     "text": [
      "Number of tracks in dict: 215873\n",
      "Successful ID: 3, Unsuccesful ID 0\n",
      "Unsuccesful lyric 0\n",
      "track metadata keys: 215873 and track metadata memory: 10485856 bytes\n"
     ]
    },
    {
     "name": "stderr",
     "output_type": "stream",
     "text": [
      "\r",
      "Playlist loop:  56%|███████████████████████████████████████████████████████▊                                           | 564/1000 [3:49:28<2:31:58, 20.92s/it]"
     ]
    },
    {
     "name": "stdout",
     "output_type": "stream",
     "text": [
      "Number of tracks in dict: 215874\n",
      "Successful ID: 1, Unsuccesful ID 0\n",
      "Unsuccesful lyric 0\n",
      "track metadata keys: 215874 and track metadata memory: 10485856 bytes\n"
     ]
    },
    {
     "name": "stderr",
     "output_type": "stream",
     "text": [
      "\r",
      "Playlist loop:  56%|███████████████████████████████████████████████████████▉                                           | 565/1000 [3:49:32<1:59:40, 16.51s/it]"
     ]
    },
    {
     "name": "stdout",
     "output_type": "stream",
     "text": [
      "Number of tracks in dict: 215875\n",
      "Successful ID: 1, Unsuccesful ID 0\n",
      "Unsuccesful lyric 0\n",
      "track metadata keys: 215875 and track metadata memory: 10485856 bytes\n",
      "Number of tracks in dict: 215875\n",
      "Successful ID: 0, Unsuccesful ID 0\n",
      "Unsuccesful lyric 0\n",
      "track metadata keys: 215875 and track metadata memory: 10485856 bytes\n"
     ]
    },
    {
     "name": "stderr",
     "output_type": "stream",
     "text": [
      "\r",
      "Playlist loop:  57%|████████████████████████████████████████████████████████▏                                          | 567/1000 [3:49:50<1:37:00, 13.44s/it]"
     ]
    },
    {
     "name": "stdout",
     "output_type": "stream",
     "text": [
      "Number of tracks in dict: 215880\n",
      "Successful ID: 5, Unsuccesful ID 0\n",
      "Unsuccesful lyric 0\n",
      "track metadata keys: 215880 and track metadata memory: 10485856 bytes\n"
     ]
    },
    {
     "name": "stderr",
     "output_type": "stream",
     "text": [
      "\r",
      "Playlist loop:  57%|████████████████████████████████████████████████████████▏                                          | 568/1000 [3:49:55<1:22:03, 11.40s/it]"
     ]
    },
    {
     "name": "stdout",
     "output_type": "stream",
     "text": [
      "Number of tracks in dict: 215882\n",
      "Successful ID: 1, Unsuccesful ID 1\n",
      "Unsuccesful lyric 0\n",
      "track metadata keys: 215882 and track metadata memory: 10485856 bytes\n"
     ]
    },
    {
     "name": "stderr",
     "output_type": "stream",
     "text": [
      "\r",
      "Playlist loop:  57%|████████████████████████████████████████████████████████▎                                          | 569/1000 [3:50:03<1:16:31, 10.65s/it]"
     ]
    },
    {
     "name": "stdout",
     "output_type": "stream",
     "text": [
      "Number of tracks in dict: 215885\n",
      "Successful ID: 2, Unsuccesful ID 1\n",
      "Unsuccesful lyric 0\n",
      "track metadata keys: 215885 and track metadata memory: 10485856 bytes\n"
     ]
    },
    {
     "name": "stderr",
     "output_type": "stream",
     "text": [
      "\r",
      "Playlist loop:  57%|█████████████████████████████████████████████████████████▌                                           | 570/1000 [3:50:04<57:02,  7.96s/it]"
     ]
    },
    {
     "name": "stdout",
     "output_type": "stream",
     "text": [
      "Number of tracks in dict: 215886\n",
      "Successful ID: 0, Unsuccesful ID 1\n",
      "Unsuccesful lyric 0\n",
      "track metadata keys: 215886 and track metadata memory: 10485856 bytes\n"
     ]
    },
    {
     "name": "stderr",
     "output_type": "stream",
     "text": [
      "\r",
      "Playlist loop:  57%|█████████████████████████████████████████████████████████▋                                           | 571/1000 [3:50:12<57:16,  8.01s/it]"
     ]
    },
    {
     "name": "stdout",
     "output_type": "stream",
     "text": [
      "Number of tracks in dict: 215904\n",
      "Successful ID: 0, Unsuccesful ID 18\n",
      "Unsuccesful lyric 0\n",
      "track metadata keys: 215904 and track metadata memory: 10485856 bytes\n"
     ]
    },
    {
     "name": "stderr",
     "output_type": "stream",
     "text": [
      "\r",
      "Playlist loop:  57%|████████████████████████████████████████████████████████▋                                          | 572/1000 [3:50:28<1:12:48, 10.21s/it]"
     ]
    },
    {
     "name": "stdout",
     "output_type": "stream",
     "text": [
      "Number of tracks in dict: 215908\n",
      "Successful ID: 4, Unsuccesful ID 0\n",
      "Unsuccesful lyric 0\n",
      "track metadata keys: 215908 and track metadata memory: 10485856 bytes\n"
     ]
    },
    {
     "name": "stderr",
     "output_type": "stream",
     "text": [
      "\r",
      "Playlist loop:  57%|█████████████████████████████████████████████████████████▊                                           | 573/1000 [3:50:28<52:59,  7.45s/it]"
     ]
    },
    {
     "name": "stdout",
     "output_type": "stream",
     "text": [
      "Number of tracks in dict: 215909\n",
      "Successful ID: 0, Unsuccesful ID 1\n",
      "Unsuccesful lyric 0\n",
      "track metadata keys: 215909 and track metadata memory: 10485856 bytes\n"
     ]
    },
    {
     "name": "stderr",
     "output_type": "stream",
     "text": [
      "\r",
      "Playlist loop:  57%|████████████████████████████████████████████████████████▊                                          | 574/1000 [3:50:46<1:15:07, 10.58s/it]"
     ]
    },
    {
     "name": "stdout",
     "output_type": "stream",
     "text": [
      "Number of tracks in dict: 215915\n",
      "Successful ID: 4, Unsuccesful ID 2\n",
      "Unsuccesful lyric 0\n",
      "track metadata keys: 215915 and track metadata memory: 10485856 bytes\n"
     ]
    },
    {
     "name": "stderr",
     "output_type": "stream",
     "text": [
      "\r",
      "Playlist loop:  57%|████████████████████████████████████████████████████████▉                                          | 575/1000 [3:51:59<3:23:17, 28.70s/it]"
     ]
    },
    {
     "name": "stdout",
     "output_type": "stream",
     "text": [
      "Number of tracks in dict: 215935\n",
      "Successful ID: 17, Unsuccesful ID 3\n",
      "Unsuccesful lyric 0\n",
      "track metadata keys: 215935 and track metadata memory: 10485856 bytes\n"
     ]
    },
    {
     "name": "stderr",
     "output_type": "stream",
     "text": [
      "\r",
      "Playlist loop:  58%|█████████████████████████████████████████████████████████                                          | 576/1000 [3:52:03<2:30:55, 21.36s/it]"
     ]
    },
    {
     "name": "stdout",
     "output_type": "stream",
     "text": [
      "Number of tracks in dict: 215936\n",
      "Successful ID: 1, Unsuccesful ID 0\n",
      "Unsuccesful lyric 0\n",
      "track metadata keys: 215936 and track metadata memory: 10485856 bytes\n"
     ]
    },
    {
     "name": "stderr",
     "output_type": "stream",
     "text": [
      "\r",
      "Playlist loop:  58%|█████████████████████████████████████████████████████████                                          | 577/1000 [3:52:07<1:54:57, 16.31s/it]"
     ]
    },
    {
     "name": "stdout",
     "output_type": "stream",
     "text": [
      "Number of tracks in dict: 215938\n",
      "Successful ID: 1, Unsuccesful ID 1\n",
      "Unsuccesful lyric 0\n",
      "track metadata keys: 215938 and track metadata memory: 10485856 bytes\n"
     ]
    },
    {
     "name": "stderr",
     "output_type": "stream",
     "text": [
      "\r",
      "Playlist loop:  58%|█████████████████████████████████████████████████████████▏                                         | 578/1000 [3:52:10<1:27:13, 12.40s/it]"
     ]
    },
    {
     "name": "stdout",
     "output_type": "stream",
     "text": [
      "Number of tracks in dict: 215939\n",
      "Successful ID: 1, Unsuccesful ID 0\n",
      "Unsuccesful lyric 0\n",
      "track metadata keys: 215939 and track metadata memory: 10485856 bytes\n"
     ]
    },
    {
     "name": "stderr",
     "output_type": "stream",
     "text": [
      "\r",
      "Playlist loop:  58%|█████████████████████████████████████████████████████████▎                                         | 579/1000 [3:52:18<1:18:03, 11.12s/it]"
     ]
    },
    {
     "name": "stdout",
     "output_type": "stream",
     "text": [
      "Number of tracks in dict: 215943\n",
      "Successful ID: 2, Unsuccesful ID 2\n",
      "Unsuccesful lyric 0\n",
      "track metadata keys: 215943 and track metadata memory: 10485856 bytes\n"
     ]
    },
    {
     "name": "stderr",
     "output_type": "stream",
     "text": [
      "\r",
      "Playlist loop:  58%|█████████████████████████████████████████████████████████▍                                         | 580/1000 [3:52:22<1:02:16,  8.90s/it]"
     ]
    },
    {
     "name": "stdout",
     "output_type": "stream",
     "text": [
      "Number of tracks in dict: 215944\n",
      "Successful ID: 1, Unsuccesful ID 0\n",
      "Unsuccesful lyric 0\n",
      "track metadata keys: 215944 and track metadata memory: 10485856 bytes\n",
      "Number of tracks in dict: 215944\n",
      "Successful ID: 0, Unsuccesful ID 0\n",
      "Unsuccesful lyric 0\n",
      "track metadata keys: 215944 and track metadata memory: 10485856 bytes\n"
     ]
    },
    {
     "name": "stderr",
     "output_type": "stream",
     "text": [
      "\r",
      "Playlist loop:  58%|██████████████████████████████████████████████████████████▊                                          | 582/1000 [3:52:27<40:48,  5.86s/it]"
     ]
    },
    {
     "name": "stdout",
     "output_type": "stream",
     "text": [
      "Number of tracks in dict: 215946\n",
      "Successful ID: 1, Unsuccesful ID 1\n",
      "Unsuccesful lyric 0\n",
      "track metadata keys: 215946 and track metadata memory: 10485856 bytes\n"
     ]
    },
    {
     "name": "stderr",
     "output_type": "stream",
     "text": [
      "\r",
      "Playlist loop:  58%|██████████████████████████████████████████████████████████▉                                          | 583/1000 [3:52:34<43:55,  6.32s/it]"
     ]
    },
    {
     "name": "stdout",
     "output_type": "stream",
     "text": [
      "Number of tracks in dict: 215949\n",
      "Successful ID: 2, Unsuccesful ID 1\n",
      "Unsuccesful lyric 0\n",
      "track metadata keys: 215949 and track metadata memory: 10485856 bytes\n"
     ]
    },
    {
     "name": "stderr",
     "output_type": "stream",
     "text": [
      "\r",
      "Playlist loop:  58%|█████████████████████████████████████████████████████████▊                                         | 584/1000 [3:53:53<2:55:00, 25.24s/it]"
     ]
    },
    {
     "name": "stdout",
     "output_type": "stream",
     "text": [
      "Number of tracks in dict: 215979\n",
      "Successful ID: 19, Unsuccesful ID 11\n",
      "Unsuccesful lyric 0\n",
      "track metadata keys: 215979 and track metadata memory: 10485856 bytes\n"
     ]
    },
    {
     "name": "stderr",
     "output_type": "stream",
     "text": [
      "\r",
      "Playlist loop:  58%|█████████████████████████████████████████████████████████▉                                         | 585/1000 [3:54:33<3:21:26, 29.12s/it]"
     ]
    },
    {
     "name": "stdout",
     "output_type": "stream",
     "text": [
      "Number of tracks in dict: 215990\n",
      "Successful ID: 10, Unsuccesful ID 1\n",
      "Unsuccesful lyric 0\n",
      "track metadata keys: 215990 and track metadata memory: 10485856 bytes\n"
     ]
    },
    {
     "name": "stderr",
     "output_type": "stream",
     "text": [
      "\r",
      "Playlist loop:  59%|██████████████████████████████████████████████████████████                                         | 586/1000 [3:55:07<3:31:45, 30.69s/it]"
     ]
    },
    {
     "name": "stdout",
     "output_type": "stream",
     "text": [
      "Number of tracks in dict: 216002\n",
      "Successful ID: 8, Unsuccesful ID 4\n",
      "Unsuccesful lyric 0\n",
      "track metadata keys: 216002 and track metadata memory: 10485856 bytes\n"
     ]
    },
    {
     "name": "stderr",
     "output_type": "stream",
     "text": [
      "\r",
      "Playlist loop:  59%|██████████████████████████████████████████████████████████                                         | 587/1000 [3:56:42<5:36:40, 48.91s/it]"
     ]
    },
    {
     "name": "stdout",
     "output_type": "stream",
     "text": [
      "Number of tracks in dict: 216053\n",
      "Successful ID: 22, Unsuccesful ID 29\n",
      "Unsuccesful lyric 0\n",
      "track metadata keys: 216053 and track metadata memory: 10485856 bytes\n"
     ]
    },
    {
     "name": "stderr",
     "output_type": "stream",
     "text": [
      "\r",
      "Playlist loop:  59%|██████████████████████████████████████████████████████████▏                                        | 588/1000 [3:58:28<7:29:19, 65.44s/it]"
     ]
    },
    {
     "name": "stdout",
     "output_type": "stream",
     "text": [
      "Number of tracks in dict: 216078\n",
      "Successful ID: 25, Unsuccesful ID 0\n",
      "Unsuccesful lyric 0\n",
      "track metadata keys: 216078 and track metadata memory: 10485856 bytes\n",
      "Number of tracks in dict: 216078\n",
      "Successful ID: 0, Unsuccesful ID 0\n",
      "Unsuccesful lyric 0\n",
      "track metadata keys: 216078 and track metadata memory: 10485856 bytes\n"
     ]
    },
    {
     "name": "stderr",
     "output_type": "stream",
     "text": [
      "\r",
      "Playlist loop:  59%|██████████████████████████████████████████████████████████▍                                        | 590/1000 [3:58:28<4:05:10, 35.88s/it]"
     ]
    },
    {
     "name": "stdout",
     "output_type": "stream",
     "text": [
      "Number of tracks in dict: 216080\n",
      "Successful ID: 0, Unsuccesful ID 2\n",
      "Unsuccesful lyric 0\n",
      "track metadata keys: 216080 and track metadata memory: 10485856 bytes\n"
     ]
    },
    {
     "name": "stderr",
     "output_type": "stream",
     "text": [
      "\r",
      "Playlist loop:  59%|██████████████████████████████████████████████████████████▌                                        | 591/1000 [3:58:39<3:23:38, 29.87s/it]"
     ]
    },
    {
     "name": "stdout",
     "output_type": "stream",
     "text": [
      "Number of tracks in dict: 216083\n",
      "Successful ID: 3, Unsuccesful ID 0\n",
      "Unsuccesful lyric 0\n",
      "track metadata keys: 216083 and track metadata memory: 10485856 bytes\n"
     ]
    },
    {
     "name": "stderr",
     "output_type": "stream",
     "text": [
      "\r",
      "Playlist loop:  59%|██████████████████████████████████████████████████████████▌                                        | 592/1000 [3:59:11<3:26:12, 30.32s/it]"
     ]
    },
    {
     "name": "stdout",
     "output_type": "stream",
     "text": [
      "Number of tracks in dict: 216092\n",
      "Successful ID: 8, Unsuccesful ID 1\n",
      "Unsuccesful lyric 0\n",
      "track metadata keys: 216092 and track metadata memory: 10485856 bytes\n"
     ]
    },
    {
     "name": "stderr",
     "output_type": "stream",
     "text": [
      "\r",
      "Playlist loop:  59%|██████████████████████████████████████████████████████████▋                                        | 593/1000 [3:59:54<3:48:58, 33.75s/it]"
     ]
    },
    {
     "name": "stdout",
     "output_type": "stream",
     "text": [
      "Number of tracks in dict: 216102\n",
      "Successful ID: 10, Unsuccesful ID 0\n",
      "Unsuccesful lyric 0\n",
      "track metadata keys: 216102 and track metadata memory: 10485856 bytes\n"
     ]
    },
    {
     "name": "stderr",
     "output_type": "stream",
     "text": [
      "\r",
      "Playlist loop:  59%|██████████████████████████████████████████████████████████▊                                        | 594/1000 [4:00:09<3:13:22, 28.58s/it]"
     ]
    },
    {
     "name": "stdout",
     "output_type": "stream",
     "text": [
      "Number of tracks in dict: 216108\n",
      "Successful ID: 4, Unsuccesful ID 2\n",
      "Unsuccesful lyric 0\n",
      "track metadata keys: 216108 and track metadata memory: 10485856 bytes\n",
      "Number of tracks in dict: 216108\n",
      "Successful ID: 0, Unsuccesful ID 0\n",
      "Unsuccesful lyric 0\n",
      "track metadata keys: 216108 and track metadata memory: 10485856 bytes\n"
     ]
    },
    {
     "name": "stderr",
     "output_type": "stream",
     "text": [
      "\r",
      "Playlist loop:  60%|███████████████████████████████████████████████████████████                                        | 596/1000 [4:00:25<2:10:21, 19.36s/it]"
     ]
    },
    {
     "name": "stdout",
     "output_type": "stream",
     "text": [
      "Number of tracks in dict: 216112\n",
      "Successful ID: 4, Unsuccesful ID 0\n",
      "Unsuccesful lyric 0\n",
      "track metadata keys: 216112 and track metadata memory: 10485856 bytes\n"
     ]
    },
    {
     "name": "stderr",
     "output_type": "stream",
     "text": [
      "\r",
      "Playlist loop:  60%|███████████████████████████████████████████████████████████                                        | 597/1000 [4:00:29<1:45:30, 15.71s/it]"
     ]
    },
    {
     "name": "stdout",
     "output_type": "stream",
     "text": [
      "Number of tracks in dict: 216113\n",
      "Successful ID: 1, Unsuccesful ID 0\n",
      "Unsuccesful lyric 0\n",
      "track metadata keys: 216113 and track metadata memory: 10485856 bytes\n",
      "Number of tracks in dict: 216113\n",
      "Successful ID: 0, Unsuccesful ID 0\n",
      "Unsuccesful lyric 0\n",
      "track metadata keys: 216113 and track metadata memory: 10485856 bytes\n"
     ]
    },
    {
     "name": "stderr",
     "output_type": "stream",
     "text": [
      "\r",
      "Playlist loop:  60%|███████████████████████████████████████████████████████████▎                                       | 599/1000 [4:00:40<1:17:00, 11.52s/it]"
     ]
    },
    {
     "name": "stdout",
     "output_type": "stream",
     "text": [
      "Number of tracks in dict: 216116\n",
      "Successful ID: 2, Unsuccesful ID 1\n",
      "Unsuccesful lyric 0\n",
      "track metadata keys: 216116 and track metadata memory: 10485856 bytes\n",
      "Number of tracks in dict: 216119\n",
      "Successful ID: 3, Unsuccesful ID 0\n",
      "Unsuccesful lyric 0\n",
      "track metadata keys: 216119 and track metadata memory: 10485856 bytes\n"
     ]
    },
    {
     "name": "stderr",
     "output_type": "stream",
     "text": [
      "\r",
      "Playlist loop:  60%|███████████████████████████████████████████████████████████▍                                       | 600/1000 [4:00:56<1:23:19, 12.50s/it]"
     ]
    },
    {
     "name": "stdout",
     "output_type": "stream",
     "text": [
      "Number of tracks in dict: 216119\n",
      "Successful ID: 0, Unsuccesful ID 0\n",
      "Unsuccesful lyric 0\n",
      "track metadata keys: 216119 and track metadata memory: 10485856 bytes\n"
     ]
    },
    {
     "name": "stderr",
     "output_type": "stream",
     "text": [
      "\r",
      "Playlist loop:  60%|███████████████████████████████████████████████████████████▌                                       | 602/1000 [4:01:11<1:09:50, 10.53s/it]"
     ]
    },
    {
     "name": "stdout",
     "output_type": "stream",
     "text": [
      "Number of tracks in dict: 216123\n",
      "Successful ID: 4, Unsuccesful ID 0\n",
      "Unsuccesful lyric 0\n",
      "track metadata keys: 216123 and track metadata memory: 10485856 bytes\n"
     ]
    },
    {
     "name": "stderr",
     "output_type": "stream",
     "text": [
      "\r",
      "Playlist loop:  60%|███████████████████████████████████████████████████████████▋                                       | 603/1000 [4:01:22<1:11:24, 10.79s/it]"
     ]
    },
    {
     "name": "stdout",
     "output_type": "stream",
     "text": [
      "Number of tracks in dict: 216128\n",
      "Successful ID: 3, Unsuccesful ID 2\n",
      "Unsuccesful lyric 0\n",
      "track metadata keys: 216128 and track metadata memory: 10485856 bytes\n",
      "Number of tracks in dict: 216128\n",
      "Successful ID: 0, Unsuccesful ID 0\n",
      "Unsuccesful lyric 0\n",
      "track metadata keys: 216128 and track metadata memory: 10485856 bytes\n"
     ]
    },
    {
     "name": "stderr",
     "output_type": "stream",
     "text": [
      "\r",
      "Playlist loop:  60%|███████████████████████████████████████████████████████████▉                                       | 605/1000 [4:01:54<1:24:25, 12.82s/it]"
     ]
    },
    {
     "name": "stdout",
     "output_type": "stream",
     "text": [
      "Number of tracks in dict: 216138\n",
      "Successful ID: 8, Unsuccesful ID 2\n",
      "Unsuccesful lyric 0\n",
      "track metadata keys: 216138 and track metadata memory: 10485856 bytes\n",
      "Number of tracks in dict: 216138\n",
      "Successful ID: 0, Unsuccesful ID 0\n",
      "Unsuccesful lyric 0\n",
      "track metadata keys: 216138 and track metadata memory: 10485856 bytes\n"
     ]
    },
    {
     "name": "stderr",
     "output_type": "stream",
     "text": [
      "\r",
      "Playlist loop:  61%|████████████████████████████████████████████████████████████                                       | 607/1000 [4:02:24<1:29:03, 13.60s/it]"
     ]
    },
    {
     "name": "stdout",
     "output_type": "stream",
     "text": [
      "Number of tracks in dict: 216145\n",
      "Successful ID: 7, Unsuccesful ID 0\n",
      "Unsuccesful lyric 0\n",
      "track metadata keys: 216145 and track metadata memory: 10485856 bytes\n"
     ]
    },
    {
     "name": "stderr",
     "output_type": "stream",
     "text": [
      "\r",
      "Playlist loop:  61%|████████████████████████████████████████████████████████████▏                                      | 608/1000 [4:02:32<1:21:08, 12.42s/it]"
     ]
    },
    {
     "name": "stdout",
     "output_type": "stream",
     "text": [
      "Number of tracks in dict: 216153\n",
      "Successful ID: 1, Unsuccesful ID 7\n",
      "Unsuccesful lyric 0\n",
      "track metadata keys: 216153 and track metadata memory: 10485856 bytes\n"
     ]
    },
    {
     "name": "stderr",
     "output_type": "stream",
     "text": [
      "\r",
      "Playlist loop:  61%|████████████████████████████████████████████████████████████▎                                      | 609/1000 [4:02:53<1:33:05, 14.29s/it]"
     ]
    },
    {
     "name": "stdout",
     "output_type": "stream",
     "text": [
      "Number of tracks in dict: 216166\n",
      "Successful ID: 4, Unsuccesful ID 9\n",
      "Unsuccesful lyric 0\n",
      "track metadata keys: 216166 and track metadata memory: 10485856 bytes\n"
     ]
    },
    {
     "name": "stderr",
     "output_type": "stream",
     "text": [
      "\r",
      "Playlist loop:  61%|████████████████████████████████████████████████████████████▍                                      | 610/1000 [4:04:32<3:46:26, 34.84s/it]"
     ]
    },
    {
     "name": "stdout",
     "output_type": "stream",
     "text": [
      "Number of tracks in dict: 216250\n",
      "Successful ID: 20, Unsuccesful ID 64\n",
      "Unsuccesful lyric 0\n",
      "track metadata keys: 216250 and track metadata memory: 10485856 bytes\n"
     ]
    },
    {
     "name": "stderr",
     "output_type": "stream",
     "text": [
      "\r",
      "Playlist loop:  61%|████████████████████████████████████████████████████████████▍                                      | 611/1000 [4:08:31<9:27:05, 87.47s/it]"
     ]
    },
    {
     "name": "stdout",
     "output_type": "stream",
     "text": [
      "Number of tracks in dict: 216317\n",
      "Successful ID: 60, Unsuccesful ID 7\n",
      "Unsuccesful lyric 0\n",
      "track metadata keys: 216317 and track metadata memory: 10485856 bytes\n"
     ]
    },
    {
     "name": "stderr",
     "output_type": "stream",
     "text": [
      "\r",
      "Playlist loop:  61%|████████████████████████████████████████████████████████████▌                                      | 612/1000 [4:09:04<7:50:15, 72.72s/it]"
     ]
    },
    {
     "name": "stdout",
     "output_type": "stream",
     "text": [
      "Number of tracks in dict: 216328\n",
      "Successful ID: 8, Unsuccesful ID 3\n",
      "Unsuccesful lyric 0\n",
      "track metadata keys: 216328 and track metadata memory: 10485856 bytes\n"
     ]
    },
    {
     "name": "stderr",
     "output_type": "stream",
     "text": [
      "\r",
      "Playlist loop:  61%|████████████████████████████████████████████████████████████▋                                      | 613/1000 [4:09:43<6:48:24, 63.32s/it]"
     ]
    },
    {
     "name": "stdout",
     "output_type": "stream",
     "text": [
      "Number of tracks in dict: 216338\n",
      "Successful ID: 10, Unsuccesful ID 0\n",
      "Unsuccesful lyric 0\n",
      "track metadata keys: 216338 and track metadata memory: 10485856 bytes\n"
     ]
    },
    {
     "name": "stderr",
     "output_type": "stream",
     "text": [
      "\r",
      "Playlist loop:  61%|████████████████████████████████████████████████████████████▊                                      | 614/1000 [4:10:14<5:49:05, 54.26s/it]"
     ]
    },
    {
     "name": "stdout",
     "output_type": "stream",
     "text": [
      "Number of tracks in dict: 216348\n",
      "Successful ID: 8, Unsuccesful ID 2\n",
      "Unsuccesful lyric 0\n",
      "track metadata keys: 216348 and track metadata memory: 10485856 bytes\n"
     ]
    },
    {
     "name": "stderr",
     "output_type": "stream",
     "text": [
      "\r",
      "Playlist loop:  62%|████████████████████████████████████████████████████████████▉                                      | 615/1000 [4:10:19<4:15:40, 39.84s/it]"
     ]
    },
    {
     "name": "stdout",
     "output_type": "stream",
     "text": [
      "Number of tracks in dict: 216349\n",
      "Successful ID: 1, Unsuccesful ID 0\n",
      "Unsuccesful lyric 0\n",
      "track metadata keys: 216349 and track metadata memory: 10485856 bytes\n",
      "Number of tracks in dict: 216349\n",
      "Successful ID: 0, Unsuccesful ID 0\n",
      "Unsuccesful lyric 0\n",
      "track metadata keys: 216349 and track metadata memory: 10485856 bytes\n"
     ]
    },
    {
     "name": "stderr",
     "output_type": "stream",
     "text": [
      "\r",
      "Playlist loop:  62%|█████████████████████████████████████████████████████████████                                      | 617/1000 [4:10:19<2:20:00, 21.93s/it]"
     ]
    },
    {
     "name": "stdout",
     "output_type": "stream",
     "text": [
      "Number of tracks in dict: 216350\n",
      "Successful ID: 0, Unsuccesful ID 1\n",
      "Unsuccesful lyric 0\n",
      "track metadata keys: 216350 and track metadata memory: 10485856 bytes\n"
     ]
    },
    {
     "name": "stderr",
     "output_type": "stream",
     "text": [
      "\r",
      "Playlist loop:  62%|█████████████████████████████████████████████████████████████▏                                     | 618/1000 [4:10:19<1:45:53, 16.63s/it]"
     ]
    },
    {
     "name": "stdout",
     "output_type": "stream",
     "text": [
      "Number of tracks in dict: 216351\n",
      "Successful ID: 0, Unsuccesful ID 1\n",
      "Unsuccesful lyric 0\n",
      "track metadata keys: 216351 and track metadata memory: 10485856 bytes\n",
      "Number of tracks in dict: 216351\n",
      "Successful ID: 0, Unsuccesful ID 0\n",
      "Unsuccesful lyric 0\n",
      "track metadata keys: 216351 and track metadata memory: 10485856 bytes\n"
     ]
    },
    {
     "name": "stderr",
     "output_type": "stream",
     "text": [
      "\r",
      "Playlist loop:  62%|█████████████████████████████████████████████████████████████▍                                     | 620/1000 [4:11:34<2:39:05, 25.12s/it]"
     ]
    },
    {
     "name": "stdout",
     "output_type": "stream",
     "text": [
      "Number of tracks in dict: 216374\n",
      "Successful ID: 18, Unsuccesful ID 5\n",
      "Unsuccesful lyric 0\n",
      "track metadata keys: 216374 and track metadata memory: 10485856 bytes\n"
     ]
    },
    {
     "name": "stderr",
     "output_type": "stream",
     "text": [
      "\r",
      "Playlist loop:  62%|█████████████████████████████████████████████████████████████▍                                     | 621/1000 [4:11:58<2:37:17, 24.90s/it]"
     ]
    },
    {
     "name": "stdout",
     "output_type": "stream",
     "text": [
      "Number of tracks in dict: 216381\n",
      "Successful ID: 6, Unsuccesful ID 1\n",
      "Unsuccesful lyric 0\n",
      "track metadata keys: 216381 and track metadata memory: 10485856 bytes\n"
     ]
    },
    {
     "name": "stderr",
     "output_type": "stream",
     "text": [
      "\r",
      "Playlist loop:  62%|█████████████████████████████████████████████████████████████▌                                     | 622/1000 [4:13:02<3:36:36, 34.38s/it]"
     ]
    },
    {
     "name": "stdout",
     "output_type": "stream",
     "text": [
      "Number of tracks in dict: 216432\n",
      "Successful ID: 15, Unsuccesful ID 36\n",
      "Unsuccesful lyric 0\n",
      "track metadata keys: 216432 and track metadata memory: 10485856 bytes\n"
     ]
    },
    {
     "name": "stderr",
     "output_type": "stream",
     "text": [
      "\r",
      "Playlist loop:  62%|█████████████████████████████████████████████████████████████▋                                     | 623/1000 [4:13:38<3:40:09, 35.04s/it]"
     ]
    },
    {
     "name": "stdout",
     "output_type": "stream",
     "text": [
      "Number of tracks in dict: 216442\n",
      "Successful ID: 9, Unsuccesful ID 1\n",
      "Unsuccesful lyric 0\n",
      "track metadata keys: 216442 and track metadata memory: 10485856 bytes\n"
     ]
    },
    {
     "name": "stderr",
     "output_type": "stream",
     "text": [
      "\r",
      "Playlist loop:  62%|█████████████████████████████████████████████████████████████▊                                     | 624/1000 [4:13:47<2:55:17, 27.97s/it]"
     ]
    },
    {
     "name": "stdout",
     "output_type": "stream",
     "text": [
      "Number of tracks in dict: 216446\n",
      "Successful ID: 2, Unsuccesful ID 2\n",
      "Unsuccesful lyric 0\n",
      "track metadata keys: 216446 and track metadata memory: 10485856 bytes\n"
     ]
    },
    {
     "name": "stderr",
     "output_type": "stream",
     "text": [
      "\r",
      "Playlist loop:  62%|█████████████████████████████████████████████████████████████▉                                     | 625/1000 [4:13:52<2:13:50, 21.41s/it]"
     ]
    },
    {
     "name": "stdout",
     "output_type": "stream",
     "text": [
      "Number of tracks in dict: 216449\n",
      "Successful ID: 1, Unsuccesful ID 2\n",
      "Unsuccesful lyric 0\n",
      "track metadata keys: 216449 and track metadata memory: 10485856 bytes\n",
      "Number of tracks in dict: 216449\n",
      "Successful ID: 0, Unsuccesful ID 0\n",
      "Unsuccesful lyric 0\n",
      "track metadata keys: 216449 and track metadata memory: 10485856 bytes\n"
     ]
    },
    {
     "name": "stderr",
     "output_type": "stream",
     "text": [
      "\r",
      "Playlist loop:  63%|██████████████████████████████████████████████████████████████                                     | 627/1000 [4:14:22<1:56:07, 18.68s/it]"
     ]
    },
    {
     "name": "stdout",
     "output_type": "stream",
     "text": [
      "Number of tracks in dict: 216456\n",
      "Successful ID: 7, Unsuccesful ID 0\n",
      "Unsuccesful lyric 0\n",
      "track metadata keys: 216456 and track metadata memory: 10485856 bytes\n"
     ]
    },
    {
     "name": "stderr",
     "output_type": "stream",
     "text": [
      "\r",
      "Playlist loop:  63%|██████████████████████████████████████████████████████████████▏                                    | 628/1000 [4:15:44<3:29:18, 33.76s/it]"
     ]
    },
    {
     "name": "stdout",
     "output_type": "stream",
     "text": [
      "Number of tracks in dict: 216483\n",
      "Successful ID: 18, Unsuccesful ID 9\n",
      "Unsuccesful lyric 0\n",
      "track metadata keys: 216483 and track metadata memory: 10485856 bytes\n",
      "Number of tracks in dict: 216483\n",
      "Successful ID: 0, Unsuccesful ID 0\n",
      "Unsuccesful lyric 0\n",
      "track metadata keys: 216483 and track metadata memory: 10485856 bytes\n"
     ]
    },
    {
     "name": "stderr",
     "output_type": "stream",
     "text": [
      "\r",
      "Playlist loop:  63%|██████████████████████████████████████████████████████████████▎                                    | 630/1000 [4:18:31<5:32:57, 53.99s/it]"
     ]
    },
    {
     "name": "stdout",
     "output_type": "stream",
     "text": [
      "Number of tracks in dict: 216530\n",
      "Successful ID: 39, Unsuccesful ID 8\n",
      "Unsuccesful lyric 0\n",
      "track metadata keys: 216530 and track metadata memory: 10485856 bytes\n"
     ]
    },
    {
     "name": "stderr",
     "output_type": "stream",
     "text": [
      "\r",
      "Playlist loop:  63%|██████████████████████████████████████████████████████████████▍                                    | 631/1000 [4:18:48<4:41:40, 45.80s/it]"
     ]
    },
    {
     "name": "stdout",
     "output_type": "stream",
     "text": [
      "Number of tracks in dict: 216535\n",
      "Successful ID: 4, Unsuccesful ID 1\n",
      "Unsuccesful lyric 0\n",
      "track metadata keys: 216535 and track metadata memory: 10485856 bytes\n"
     ]
    },
    {
     "name": "stderr",
     "output_type": "stream",
     "text": [
      "\r",
      "Playlist loop:  63%|██████████████████████████████████████████████████████████████▌                                    | 632/1000 [4:18:53<3:39:06, 35.72s/it]"
     ]
    },
    {
     "name": "stdout",
     "output_type": "stream",
     "text": [
      "Number of tracks in dict: 216537\n",
      "Successful ID: 1, Unsuccesful ID 1\n",
      "Unsuccesful lyric 0\n",
      "track metadata keys: 216537 and track metadata memory: 10485856 bytes\n",
      "Number of tracks in dict: 216537\n",
      "Successful ID: 0, Unsuccesful ID 0\n",
      "Unsuccesful lyric 0\n",
      "track metadata keys: 216537 and track metadata memory: 10485856 bytes\n"
     ]
    },
    {
     "name": "stderr",
     "output_type": "stream",
     "text": [
      "\r",
      "Playlist loop:  63%|██████████████████████████████████████████████████████████████▊                                    | 634/1000 [4:19:08<2:27:30, 24.18s/it]"
     ]
    },
    {
     "name": "stdout",
     "output_type": "stream",
     "text": [
      "Number of tracks in dict: 216540\n",
      "Successful ID: 3, Unsuccesful ID 0\n",
      "Unsuccesful lyric 0\n",
      "track metadata keys: 216540 and track metadata memory: 10485856 bytes\n"
     ]
    },
    {
     "name": "stderr",
     "output_type": "stream",
     "text": [
      "\r",
      "Playlist loop:  64%|██████████████████████████████████████████████████████████████▊                                    | 635/1000 [4:19:25<2:18:02, 22.69s/it]"
     ]
    },
    {
     "name": "stdout",
     "output_type": "stream",
     "text": [
      "Number of tracks in dict: 216549\n",
      "Successful ID: 4, Unsuccesful ID 5\n",
      "Unsuccesful lyric 0\n",
      "track metadata keys: 216549 and track metadata memory: 10485856 bytes\n",
      "Number of tracks in dict: 216549\n",
      "Successful ID: 0, Unsuccesful ID 0\n",
      "Unsuccesful lyric 0\n",
      "track metadata keys: 216549 and track metadata memory: 10485856 bytes\n"
     ]
    },
    {
     "name": "stderr",
     "output_type": "stream",
     "text": [
      "\r",
      "Playlist loop:  64%|███████████████████████████████████████████████████████████████                                    | 637/1000 [4:19:41<1:41:21, 16.75s/it]"
     ]
    },
    {
     "name": "stdout",
     "output_type": "stream",
     "text": [
      "Number of tracks in dict: 216553\n",
      "Successful ID: 4, Unsuccesful ID 0\n",
      "Unsuccesful lyric 0\n",
      "track metadata keys: 216553 and track metadata memory: 10485856 bytes\n"
     ]
    },
    {
     "name": "stderr",
     "output_type": "stream",
     "text": [
      "\r",
      "Playlist loop:  64%|███████████████████████████████████████████████████████████████▏                                   | 638/1000 [4:19:49<1:29:39, 14.86s/it]"
     ]
    },
    {
     "name": "stdout",
     "output_type": "stream",
     "text": [
      "Number of tracks in dict: 216557\n",
      "Successful ID: 2, Unsuccesful ID 2\n",
      "Unsuccesful lyric 0\n",
      "track metadata keys: 216557 and track metadata memory: 10485856 bytes\n"
     ]
    },
    {
     "name": "stderr",
     "output_type": "stream",
     "text": [
      "\r",
      "Playlist loop:  64%|███████████████████████████████████████████████████████████████▎                                   | 639/1000 [4:19:57<1:20:02, 13.30s/it]"
     ]
    },
    {
     "name": "stdout",
     "output_type": "stream",
     "text": [
      "Number of tracks in dict: 216560\n",
      "Successful ID: 2, Unsuccesful ID 1\n",
      "Unsuccesful lyric 0\n",
      "track metadata keys: 216560 and track metadata memory: 10485856 bytes\n",
      "Number of tracks in dict: 216560\n",
      "Successful ID: 0, Unsuccesful ID 0\n",
      "Unsuccesful lyric 0\n",
      "track metadata keys: 216560 and track metadata memory: 10485856 bytes\n"
     ]
    },
    {
     "name": "stderr",
     "output_type": "stream",
     "text": [
      "\r",
      "Playlist loop:  64%|███████████████████████████████████████████████████████████████▍                                   | 641/1000 [4:20:27<1:23:50, 14.01s/it]"
     ]
    },
    {
     "name": "stdout",
     "output_type": "stream",
     "text": [
      "Number of tracks in dict: 216569\n",
      "Successful ID: 8, Unsuccesful ID 1\n",
      "Unsuccesful lyric 0\n",
      "track metadata keys: 216569 and track metadata memory: 10485856 bytes\n"
     ]
    },
    {
     "name": "stderr",
     "output_type": "stream",
     "text": [
      "\r",
      "Playlist loop:  64%|███████████████████████████████████████████████████████████████▌                                   | 642/1000 [4:20:56<1:43:29, 17.34s/it]"
     ]
    },
    {
     "name": "stdout",
     "output_type": "stream",
     "text": [
      "Number of tracks in dict: 216577\n",
      "Successful ID: 7, Unsuccesful ID 1\n",
      "Unsuccesful lyric 0\n",
      "track metadata keys: 216577 and track metadata memory: 10485856 bytes\n"
     ]
    },
    {
     "name": "stderr",
     "output_type": "stream",
     "text": [
      "Playlist loop:  64%|███████████████████████████████████████████████████████████████▊                                   | 644/1000 [4:20:58<1:00:29, 10.20s/it]"
     ]
    },
    {
     "name": "stdout",
     "output_type": "stream",
     "text": [
      "Number of tracks in dict: 216580\n",
      "Successful ID: 0, Unsuccesful ID 3\n",
      "Unsuccesful lyric 0\n",
      "track metadata keys: 216580 and track metadata memory: 10485856 bytes\n",
      "Number of tracks in dict: 216581\n",
      "Successful ID: 0, Unsuccesful ID 1\n",
      "Unsuccesful lyric 0\n",
      "track metadata keys: 216581 and track metadata memory: 10485856 bytes\n"
     ]
    },
    {
     "name": "stderr",
     "output_type": "stream",
     "text": [
      "\r",
      "Playlist loop:  64%|█████████████████████████████████████████████████████████████████▏                                   | 645/1000 [4:21:06<55:45,  9.42s/it]"
     ]
    },
    {
     "name": "stdout",
     "output_type": "stream",
     "text": [
      "Number of tracks in dict: 216583\n",
      "Successful ID: 2, Unsuccesful ID 0\n",
      "Unsuccesful lyric 0\n",
      "track metadata keys: 216583 and track metadata memory: 10485856 bytes\n"
     ]
    },
    {
     "name": "stderr",
     "output_type": "stream",
     "text": [
      "\r",
      "Playlist loop:  65%|█████████████████████████████████████████████████████████████████▏                                   | 646/1000 [4:21:12<51:00,  8.65s/it]"
     ]
    },
    {
     "name": "stdout",
     "output_type": "stream",
     "text": [
      "Number of tracks in dict: 216596\n",
      "Successful ID: 1, Unsuccesful ID 12\n",
      "Unsuccesful lyric 0\n",
      "track metadata keys: 216596 and track metadata memory: 10485856 bytes\n",
      "Number of tracks in dict: 216596\n",
      "Successful ID: 0, Unsuccesful ID 0\n",
      "Unsuccesful lyric 0\n",
      "track metadata keys: 216596 and track metadata memory: 10485856 bytes\n"
     ]
    },
    {
     "name": "stderr",
     "output_type": "stream",
     "text": [
      "\r",
      "Playlist loop:  65%|█████████████████████████████████████████████████████████████████▍                                   | 648/1000 [4:21:25<44:55,  7.66s/it]"
     ]
    },
    {
     "name": "stdout",
     "output_type": "stream",
     "text": [
      "Number of tracks in dict: 216599\n",
      "Successful ID: 3, Unsuccesful ID 0\n",
      "Unsuccesful lyric 0\n",
      "track metadata keys: 216599 and track metadata memory: 10485856 bytes\n",
      "Number of tracks in dict: 216599\n",
      "Successful ID: 0, Unsuccesful ID 0\n",
      "Unsuccesful lyric 0\n",
      "track metadata keys: 216599 and track metadata memory: 10485856 bytes\n"
     ]
    },
    {
     "name": "stderr",
     "output_type": "stream",
     "text": [
      "\r",
      "Playlist loop:  65%|█████████████████████████████████████████████████████████████████▋                                   | 650/1000 [4:21:37<41:19,  7.09s/it]"
     ]
    },
    {
     "name": "stdout",
     "output_type": "stream",
     "text": [
      "Number of tracks in dict: 216602\n",
      "Successful ID: 3, Unsuccesful ID 0\n",
      "Unsuccesful lyric 0\n",
      "track metadata keys: 216602 and track metadata memory: 10485856 bytes\n"
     ]
    },
    {
     "name": "stderr",
     "output_type": "stream",
     "text": [
      "\r",
      "Playlist loop:  65%|█████████████████████████████████████████████████████████████████▊                                   | 651/1000 [4:21:41<37:11,  6.39s/it]"
     ]
    },
    {
     "name": "stdout",
     "output_type": "stream",
     "text": [
      "Number of tracks in dict: 216603\n",
      "Successful ID: 1, Unsuccesful ID 0\n",
      "Unsuccesful lyric 0\n",
      "track metadata keys: 216603 and track metadata memory: 10485856 bytes\n"
     ]
    },
    {
     "name": "stderr",
     "output_type": "stream",
     "text": [
      "\r",
      "Playlist loop:  65%|█████████████████████████████████████████████████████████████████▊                                   | 652/1000 [4:21:46<34:40,  5.98s/it]"
     ]
    },
    {
     "name": "stdout",
     "output_type": "stream",
     "text": [
      "Number of tracks in dict: 216608\n",
      "Successful ID: 1, Unsuccesful ID 4\n",
      "Unsuccesful lyric 0\n",
      "track metadata keys: 216608 and track metadata memory: 10485856 bytes\n",
      "Number of tracks in dict: 216608\n",
      "Successful ID: 0, Unsuccesful ID 0\n",
      "Unsuccesful lyric 0\n",
      "track metadata keys: 216608 and track metadata memory: 10485856 bytes\n"
     ]
    },
    {
     "name": "stderr",
     "output_type": "stream",
     "text": [
      "\r",
      "Playlist loop:  65%|██████████████████████████████████████████████████████████████████                                   | 654/1000 [4:21:50<24:50,  4.31s/it]"
     ]
    },
    {
     "name": "stdout",
     "output_type": "stream",
     "text": [
      "Number of tracks in dict: 216609\n",
      "Successful ID: 1, Unsuccesful ID 0\n",
      "Unsuccesful lyric 0\n",
      "track metadata keys: 216609 and track metadata memory: 10485856 bytes\n"
     ]
    },
    {
     "name": "stderr",
     "output_type": "stream",
     "text": [
      "\r",
      "Playlist loop:  66%|████████████████████████████████████████████████████████████████▊                                  | 655/1000 [4:22:55<1:43:16, 17.96s/it]"
     ]
    },
    {
     "name": "stdout",
     "output_type": "stream",
     "text": [
      "Number of tracks in dict: 216644\n",
      "Successful ID: 15, Unsuccesful ID 20\n",
      "Unsuccesful lyric 0\n",
      "track metadata keys: 216644 and track metadata memory: 10485856 bytes\n"
     ]
    },
    {
     "name": "stderr",
     "output_type": "stream",
     "text": [
      "\r",
      "Playlist loop:  66%|████████████████████████████████████████████████████████████████▉                                  | 656/1000 [4:22:56<1:18:40, 13.72s/it]"
     ]
    },
    {
     "name": "stdout",
     "output_type": "stream",
     "text": [
      "Number of tracks in dict: 216645\n",
      "Successful ID: 0, Unsuccesful ID 1\n",
      "Unsuccesful lyric 0\n",
      "track metadata keys: 216645 and track metadata memory: 10485856 bytes\n",
      "Number of tracks in dict: 216645\n",
      "Successful ID: 0, Unsuccesful ID 0\n",
      "Unsuccesful lyric 0\n",
      "track metadata keys: 216645 and track metadata memory: 10485856 bytes\n"
     ]
    },
    {
     "name": "stderr",
     "output_type": "stream",
     "text": [
      "\r",
      "Playlist loop:  66%|█████████████████████████████████████████████████████████████████▏                                 | 658/1000 [4:23:17<1:11:22, 12.52s/it]"
     ]
    },
    {
     "name": "stdout",
     "output_type": "stream",
     "text": [
      "Number of tracks in dict: 216653\n",
      "Successful ID: 5, Unsuccesful ID 3\n",
      "Unsuccesful lyric 0\n",
      "track metadata keys: 216653 and track metadata memory: 10485856 bytes\n"
     ]
    },
    {
     "name": "stderr",
     "output_type": "stream",
     "text": [
      "\r",
      "Playlist loop:  66%|█████████████████████████████████████████████████████████████████▏                                 | 659/1000 [4:23:21<1:00:02, 10.57s/it]"
     ]
    },
    {
     "name": "stdout",
     "output_type": "stream",
     "text": [
      "Number of tracks in dict: 216654\n",
      "Successful ID: 1, Unsuccesful ID 0\n",
      "Unsuccesful lyric 0\n",
      "track metadata keys: 216654 and track metadata memory: 10485856 bytes\n"
     ]
    },
    {
     "name": "stderr",
     "output_type": "stream",
     "text": [
      "\r",
      "Playlist loop:  66%|██████████████████████████████████████████████████████████████████▋                                  | 660/1000 [4:23:25<50:28,  8.91s/it]"
     ]
    },
    {
     "name": "stdout",
     "output_type": "stream",
     "text": [
      "Number of tracks in dict: 216655\n",
      "Successful ID: 1, Unsuccesful ID 0\n",
      "Unsuccesful lyric 0\n",
      "track metadata keys: 216655 and track metadata memory: 10485856 bytes\n",
      "Number of tracks in dict: 216655\n",
      "Successful ID: 0, Unsuccesful ID 0\n",
      "Unsuccesful lyric 0\n",
      "track metadata keys: 216655 and track metadata memory: 10485856 bytes\n"
     ]
    },
    {
     "name": "stderr",
     "output_type": "stream",
     "text": [
      "\r",
      "Playlist loop:  66%|██████████████████████████████████████████████████████████████████▊                                  | 662/1000 [4:23:32<38:25,  6.82s/it]"
     ]
    },
    {
     "name": "stdout",
     "output_type": "stream",
     "text": [
      "Number of tracks in dict: 216658\n",
      "Successful ID: 2, Unsuccesful ID 1\n",
      "Unsuccesful lyric 0\n",
      "track metadata keys: 216658 and track metadata memory: 10485856 bytes\n"
     ]
    },
    {
     "name": "stderr",
     "output_type": "stream",
     "text": [
      "\r",
      "Playlist loop:  66%|█████████████████████████████████████████████████████████████████▋                                 | 663/1000 [4:24:20<1:29:48, 15.99s/it]"
     ]
    },
    {
     "name": "stdout",
     "output_type": "stream",
     "text": [
      "Number of tracks in dict: 216671\n",
      "Successful ID: 12, Unsuccesful ID 1\n",
      "Unsuccesful lyric 0\n",
      "track metadata keys: 216671 and track metadata memory: 10485856 bytes\n"
     ]
    },
    {
     "name": "stderr",
     "output_type": "stream",
     "text": [
      "\r",
      "Playlist loop:  66%|█████████████████████████████████████████████████████████████████▋                                 | 664/1000 [4:24:31<1:23:23, 14.89s/it]"
     ]
    },
    {
     "name": "stdout",
     "output_type": "stream",
     "text": [
      "Number of tracks in dict: 216674\n",
      "Successful ID: 3, Unsuccesful ID 0\n",
      "Unsuccesful lyric 0\n",
      "track metadata keys: 216674 and track metadata memory: 10485856 bytes\n",
      "Number of tracks in dict: 216674\n",
      "Successful ID: 0, Unsuccesful ID 0\n",
      "Unsuccesful lyric 0\n",
      "track metadata keys: 216674 and track metadata memory: 10485856 bytes\n"
     ]
    },
    {
     "name": "stderr",
     "output_type": "stream",
     "text": [
      "\r",
      "Playlist loop:  67%|█████████████████████████████████████████████████████████████████▉                                 | 666/1000 [4:25:00<1:21:29, 14.64s/it]"
     ]
    },
    {
     "name": "stdout",
     "output_type": "stream",
     "text": [
      "Number of tracks in dict: 216700\n",
      "Successful ID: 5, Unsuccesful ID 21\n",
      "Unsuccesful lyric 0\n",
      "track metadata keys: 216700 and track metadata memory: 10485856 bytes\n"
     ]
    },
    {
     "name": "stderr",
     "output_type": "stream",
     "text": [
      "\r",
      "Playlist loop:  67%|██████████████████████████████████████████████████████████████████                                 | 667/1000 [4:25:26<1:36:29, 17.39s/it]"
     ]
    },
    {
     "name": "stdout",
     "output_type": "stream",
     "text": [
      "Number of tracks in dict: 216724\n",
      "Successful ID: 5, Unsuccesful ID 19\n",
      "Unsuccesful lyric 0\n",
      "track metadata keys: 216724 and track metadata memory: 10485856 bytes\n"
     ]
    },
    {
     "name": "stderr",
     "output_type": "stream",
     "text": [
      "\r",
      "Playlist loop:  67%|██████████████████████████████████████████████████████████████████▏                                | 668/1000 [4:25:27<1:13:05, 13.21s/it]"
     ]
    },
    {
     "name": "stdout",
     "output_type": "stream",
     "text": [
      "Number of tracks in dict: 216725\n",
      "Successful ID: 0, Unsuccesful ID 1\n",
      "Unsuccesful lyric 0\n",
      "track metadata keys: 216725 and track metadata memory: 10485856 bytes\n"
     ]
    },
    {
     "name": "stderr",
     "output_type": "stream",
     "text": [
      "\r",
      "Playlist loop:  67%|██████████████████████████████████████████████████████████████████▏                                | 669/1000 [4:26:14<2:01:41, 22.06s/it]"
     ]
    },
    {
     "name": "stdout",
     "output_type": "stream",
     "text": [
      "Number of tracks in dict: 216737\n",
      "Successful ID: 12, Unsuccesful ID 0\n",
      "Unsuccesful lyric 0\n",
      "track metadata keys: 216737 and track metadata memory: 10485856 bytes\n"
     ]
    },
    {
     "name": "stderr",
     "output_type": "stream",
     "text": [
      "\r",
      "Playlist loop:  67%|██████████████████████████████████████████████████████████████████▎                                | 670/1000 [4:26:19<1:35:23, 17.35s/it]"
     ]
    },
    {
     "name": "stdout",
     "output_type": "stream",
     "text": [
      "Number of tracks in dict: 216739\n",
      "Successful ID: 1, Unsuccesful ID 1\n",
      "Unsuccesful lyric 0\n",
      "track metadata keys: 216739 and track metadata memory: 10485856 bytes\n"
     ]
    },
    {
     "name": "stderr",
     "output_type": "stream",
     "text": [
      "\r",
      "Playlist loop:  67%|██████████████████████████████████████████████████████████████████▍                                | 671/1000 [4:26:35<1:34:05, 17.16s/it]"
     ]
    },
    {
     "name": "stdout",
     "output_type": "stream",
     "text": [
      "Number of tracks in dict: 216744\n",
      "Successful ID: 4, Unsuccesful ID 1\n",
      "Unsuccesful lyric 0\n",
      "track metadata keys: 216744 and track metadata memory: 10485856 bytes\n"
     ]
    },
    {
     "name": "stderr",
     "output_type": "stream",
     "text": [
      "\r",
      "Playlist loop:  67%|██████████████████████████████████████████████████████████████████▌                                | 672/1000 [4:26:40<1:13:31, 13.45s/it]"
     ]
    },
    {
     "name": "stdout",
     "output_type": "stream",
     "text": [
      "Number of tracks in dict: 216745\n",
      "Successful ID: 1, Unsuccesful ID 0\n",
      "Unsuccesful lyric 0\n",
      "track metadata keys: 216745 and track metadata memory: 10485856 bytes\n",
      "Number of tracks in dict: 216745\n",
      "Successful ID: 0, Unsuccesful ID 0\n",
      "Unsuccesful lyric 0\n",
      "track metadata keys: 216745 and track metadata memory: 10485856 bytes\n"
     ]
    },
    {
     "name": "stderr",
     "output_type": "stream",
     "text": [
      "\r",
      "Playlist loop:  67%|████████████████████████████████████████████████████████████████████                                 | 674/1000 [4:26:45<46:43,  8.60s/it]"
     ]
    },
    {
     "name": "stdout",
     "output_type": "stream",
     "text": [
      "Number of tracks in dict: 216748\n",
      "Successful ID: 1, Unsuccesful ID 2\n",
      "Unsuccesful lyric 0\n",
      "track metadata keys: 216748 and track metadata memory: 10485856 bytes\n"
     ]
    },
    {
     "name": "stderr",
     "output_type": "stream",
     "text": [
      "\r",
      "Playlist loop:  68%|██████████████████████████████████████████████████████████████████▊                                | 675/1000 [4:27:16<1:16:27, 14.11s/it]"
     ]
    },
    {
     "name": "stdout",
     "output_type": "stream",
     "text": [
      "Number of tracks in dict: 216756\n",
      "Successful ID: 8, Unsuccesful ID 0\n",
      "Unsuccesful lyric 0\n",
      "track metadata keys: 216756 and track metadata memory: 10485856 bytes\n"
     ]
    },
    {
     "name": "stderr",
     "output_type": "stream",
     "text": [
      "\r",
      "Playlist loop:  68%|██████████████████████████████████████████████████████████████████▉                                | 676/1000 [4:27:26<1:10:59, 13.15s/it]"
     ]
    },
    {
     "name": "stdout",
     "output_type": "stream",
     "text": [
      "Number of tracks in dict: 216762\n",
      "Successful ID: 2, Unsuccesful ID 4\n",
      "Unsuccesful lyric 0\n",
      "track metadata keys: 216762 and track metadata memory: 10485856 bytes\n"
     ]
    },
    {
     "name": "stderr",
     "output_type": "stream",
     "text": [
      "\r",
      "Playlist loop:  68%|███████████████████████████████████████████████████████████████████                                | 677/1000 [4:29:28<3:48:11, 42.39s/it]"
     ]
    },
    {
     "name": "stdout",
     "output_type": "stream",
     "text": [
      "Number of tracks in dict: 216805\n",
      "Successful ID: 30, Unsuccesful ID 13\n",
      "Unsuccesful lyric 0\n",
      "track metadata keys: 216805 and track metadata memory: 10485856 bytes\n"
     ]
    },
    {
     "name": "stderr",
     "output_type": "stream",
     "text": [
      "\r",
      "Playlist loop:  68%|███████████████████████████████████████████████████████████████████                                | 678/1000 [4:29:59<3:30:36, 39.24s/it]"
     ]
    },
    {
     "name": "stdout",
     "output_type": "stream",
     "text": [
      "Number of tracks in dict: 216814\n",
      "Successful ID: 8, Unsuccesful ID 1\n",
      "Unsuccesful lyric 0\n",
      "track metadata keys: 216814 and track metadata memory: 10485856 bytes\n"
     ]
    },
    {
     "name": "stderr",
     "output_type": "stream",
     "text": [
      "\r",
      "Playlist loop:  68%|███████████████████████████████████████████████████████████████████▏                               | 679/1000 [4:30:21<3:02:21, 34.08s/it]"
     ]
    },
    {
     "name": "stdout",
     "output_type": "stream",
     "text": [
      "Number of tracks in dict: 216824\n",
      "Successful ID: 5, Unsuccesful ID 5\n",
      "Unsuccesful lyric 0\n",
      "track metadata keys: 216824 and track metadata memory: 10485856 bytes\n"
     ]
    },
    {
     "name": "stderr",
     "output_type": "stream",
     "text": [
      "\r",
      "Playlist loop:  68%|███████████████████████████████████████████████████████████████████▎                               | 680/1000 [4:30:29<2:22:03, 26.64s/it]"
     ]
    },
    {
     "name": "stdout",
     "output_type": "stream",
     "text": [
      "Number of tracks in dict: 216826\n",
      "Successful ID: 2, Unsuccesful ID 0\n",
      "Unsuccesful lyric 0\n",
      "track metadata keys: 216826 and track metadata memory: 10485856 bytes\n"
     ]
    },
    {
     "name": "stderr",
     "output_type": "stream",
     "text": [
      "\r",
      "Playlist loop:  68%|███████████████████████████████████████████████████████████████████▍                               | 681/1000 [4:31:03<2:33:53, 28.95s/it]"
     ]
    },
    {
     "name": "stdout",
     "output_type": "stream",
     "text": [
      "Number of tracks in dict: 216836\n",
      "Successful ID: 9, Unsuccesful ID 1\n",
      "Unsuccesful lyric 0\n",
      "track metadata keys: 216836 and track metadata memory: 10485856 bytes\n",
      "Number of tracks in dict: 216836\n",
      "Successful ID: 0, Unsuccesful ID 0\n",
      "Unsuccesful lyric 0\n",
      "track metadata keys: 216836 and track metadata memory: 10485856 bytes\n"
     ]
    },
    {
     "name": "stderr",
     "output_type": "stream",
     "text": [
      "\r",
      "Playlist loop:  68%|███████████████████████████████████████████████████████████████████▌                               | 683/1000 [4:31:12<1:33:24, 17.68s/it]"
     ]
    },
    {
     "name": "stdout",
     "output_type": "stream",
     "text": [
      "Number of tracks in dict: 216839\n",
      "Successful ID: 2, Unsuccesful ID 1\n",
      "Unsuccesful lyric 0\n",
      "track metadata keys: 216839 and track metadata memory: 10485856 bytes\n"
     ]
    },
    {
     "name": "stderr",
     "output_type": "stream",
     "text": [
      "\r",
      "Playlist loop:  68%|███████████████████████████████████████████████████████████████████▋                               | 684/1000 [4:31:15<1:14:53, 14.22s/it]"
     ]
    },
    {
     "name": "stdout",
     "output_type": "stream",
     "text": [
      "Number of tracks in dict: 216840\n",
      "Successful ID: 1, Unsuccesful ID 0\n",
      "Unsuccesful lyric 0\n",
      "track metadata keys: 216840 and track metadata memory: 10485856 bytes\n"
     ]
    },
    {
     "name": "stderr",
     "output_type": "stream",
     "text": [
      "\r",
      "Playlist loop:  68%|███████████████████████████████████████████████████████████████████▊                               | 685/1000 [4:31:25<1:07:54, 12.94s/it]"
     ]
    },
    {
     "name": "stdout",
     "output_type": "stream",
     "text": [
      "Number of tracks in dict: 216842\n",
      "Successful ID: 2, Unsuccesful ID 0\n",
      "Unsuccesful lyric 0\n",
      "track metadata keys: 216842 and track metadata memory: 10485856 bytes\n"
     ]
    },
    {
     "name": "stderr",
     "output_type": "stream",
     "text": [
      "\r",
      "Playlist loop:  69%|███████████████████████████████████████████████████████████████████▉                               | 686/1000 [4:31:48<1:22:47, 15.82s/it]"
     ]
    },
    {
     "name": "stdout",
     "output_type": "stream",
     "text": [
      "Number of tracks in dict: 216848\n",
      "Successful ID: 6, Unsuccesful ID 0\n",
      "Unsuccesful lyric 0\n",
      "track metadata keys: 216848 and track metadata memory: 10485856 bytes\n"
     ]
    },
    {
     "name": "stderr",
     "output_type": "stream",
     "text": [
      "\r",
      "Playlist loop:  69%|████████████████████████████████████████████████████████████████████                               | 687/1000 [4:33:25<3:20:31, 38.44s/it]"
     ]
    },
    {
     "name": "stdout",
     "output_type": "stream",
     "text": [
      "Number of tracks in dict: 216884\n",
      "Successful ID: 23, Unsuccesful ID 13\n",
      "Unsuccesful lyric 0\n",
      "track metadata keys: 216884 and track metadata memory: 10485856 bytes\n"
     ]
    },
    {
     "name": "stderr",
     "output_type": "stream",
     "text": [
      "\r",
      "Playlist loop:  69%|████████████████████████████████████████████████████████████████████                               | 688/1000 [4:34:38<4:11:10, 48.30s/it]"
     ]
    },
    {
     "name": "stdout",
     "output_type": "stream",
     "text": [
      "Number of tracks in dict: 216908\n",
      "Successful ID: 19, Unsuccesful ID 5\n",
      "Unsuccesful lyric 0\n",
      "track metadata keys: 216908 and track metadata memory: 10485856 bytes\n",
      "Number of tracks in dict: 216908\n",
      "Successful ID: 0, Unsuccesful ID 0\n",
      "Unsuccesful lyric 0\n",
      "track metadata keys: 216908 and track metadata memory: 10485856 bytes\n",
      "Number of tracks in dict: 216908\n",
      "Successful ID: 0, Unsuccesful ID 0\n",
      "Unsuccesful lyric 0\n",
      "track metadata keys: 216908 and track metadata memory: 10485856 bytes\n"
     ]
    },
    {
     "name": "stderr",
     "output_type": "stream",
     "text": [
      "\r",
      "Playlist loop:  69%|████████████████████████████████████████████████████████████████████▍                              | 691/1000 [4:34:53<2:06:17, 24.52s/it]"
     ]
    },
    {
     "name": "stdout",
     "output_type": "stream",
     "text": [
      "Number of tracks in dict: 216913\n",
      "Successful ID: 4, Unsuccesful ID 1\n",
      "Unsuccesful lyric 0\n",
      "track metadata keys: 216913 and track metadata memory: 10485856 bytes\n"
     ]
    },
    {
     "name": "stderr",
     "output_type": "stream",
     "text": [
      "\r",
      "Playlist loop:  69%|████████████████████████████████████████████████████████████████████▌                              | 692/1000 [4:34:57<1:44:12, 20.30s/it]"
     ]
    },
    {
     "name": "stdout",
     "output_type": "stream",
     "text": [
      "Number of tracks in dict: 216914\n",
      "Successful ID: 1, Unsuccesful ID 0\n",
      "Unsuccesful lyric 0\n",
      "track metadata keys: 216914 and track metadata memory: 10485856 bytes\n"
     ]
    },
    {
     "name": "stderr",
     "output_type": "stream",
     "text": [
      "\r",
      "Playlist loop:  69%|████████████████████████████████████████████████████████████████████▌                              | 693/1000 [4:35:05<1:29:27, 17.48s/it]"
     ]
    },
    {
     "name": "stdout",
     "output_type": "stream",
     "text": [
      "Number of tracks in dict: 216917\n",
      "Successful ID: 2, Unsuccesful ID 1\n",
      "Unsuccesful lyric 0\n",
      "track metadata keys: 216917 and track metadata memory: 10485856 bytes\n"
     ]
    },
    {
     "name": "stderr",
     "output_type": "stream",
     "text": [
      "\r",
      "Playlist loop:  69%|████████████████████████████████████████████████████████████████████▋                              | 694/1000 [4:35:25<1:31:32, 17.95s/it]"
     ]
    },
    {
     "name": "stdout",
     "output_type": "stream",
     "text": [
      "Number of tracks in dict: 216924\n",
      "Successful ID: 5, Unsuccesful ID 2\n",
      "Unsuccesful lyric 0\n",
      "track metadata keys: 216924 and track metadata memory: 10485856 bytes\n"
     ]
    },
    {
     "name": "stderr",
     "output_type": "stream",
     "text": [
      "Playlist loop:  70%|██████████████████████████████████████████████████████████████████████▎                              | 696/1000 [4:35:25<49:37,  9.80s/it]"
     ]
    },
    {
     "name": "stdout",
     "output_type": "stream",
     "text": [
      "Number of tracks in dict: 216925\n",
      "Successful ID: 0, Unsuccesful ID 1\n",
      "Unsuccesful lyric 0\n",
      "track metadata keys: 216925 and track metadata memory: 10485856 bytes\n",
      "Number of tracks in dict: 216926\n",
      "Successful ID: 0, Unsuccesful ID 1\n",
      "Unsuccesful lyric 0\n",
      "track metadata keys: 216926 and track metadata memory: 10485856 bytes\n"
     ]
    },
    {
     "name": "stderr",
     "output_type": "stream",
     "text": [
      "\r",
      "Playlist loop:  70%|██████████████████████████████████████████████████████████████████████▍                              | 697/1000 [4:35:35<48:54,  9.68s/it]"
     ]
    },
    {
     "name": "stdout",
     "output_type": "stream",
     "text": [
      "Number of tracks in dict: 216928\n",
      "Successful ID: 2, Unsuccesful ID 0\n",
      "Unsuccesful lyric 0\n",
      "track metadata keys: 216928 and track metadata memory: 10485856 bytes\n",
      "Number of tracks in dict: 216928\n",
      "Successful ID: 0, Unsuccesful ID 0\n",
      "Unsuccesful lyric 0\n",
      "track metadata keys: 216928 and track metadata memory: 10485856 bytes\n",
      "Number of tracks in dict: 216928\n",
      "Successful ID: 0, Unsuccesful ID 0\n",
      "Unsuccesful lyric 0\n",
      "track metadata keys: 216928 and track metadata memory: 10485856 bytes\n",
      "Number of tracks in dict: 216938\n",
      "Successful ID: 10, Unsuccesful ID 0\n",
      "Unsuccesful lyric 0\n",
      "track metadata keys: 216938 and track metadata memory: 10485856 bytes\n"
     ]
    },
    {
     "name": "stderr",
     "output_type": "stream",
     "text": [
      "Playlist loop:  70%|██████████████████████████████████████████████████████████████████████▊                              | 701/1000 [4:36:19<49:29,  9.93s/it]"
     ]
    },
    {
     "name": "stdout",
     "output_type": "stream",
     "text": [
      "Number of tracks in dict: 216939\n",
      "Successful ID: 0, Unsuccesful ID 1\n",
      "Unsuccesful lyric 0\n",
      "track metadata keys: 216939 and track metadata memory: 10485856 bytes\n"
     ]
    },
    {
     "name": "stderr",
     "output_type": "stream",
     "text": [
      "\r",
      "Playlist loop:  70%|██████████████████████████████████████████████████████████████████████▉                              | 702/1000 [4:36:30<50:21, 10.14s/it]"
     ]
    },
    {
     "name": "stdout",
     "output_type": "stream",
     "text": [
      "Number of tracks in dict: 216942\n",
      "Successful ID: 2, Unsuccesful ID 1\n",
      "Unsuccesful lyric 0\n",
      "track metadata keys: 216942 and track metadata memory: 10485856 bytes\n"
     ]
    },
    {
     "name": "stderr",
     "output_type": "stream",
     "text": [
      "\r",
      "Playlist loop:  70%|█████████████████████████████████████████████████████████████████████▌                             | 703/1000 [4:36:55<1:08:34, 13.85s/it]"
     ]
    },
    {
     "name": "stdout",
     "output_type": "stream",
     "text": [
      "Number of tracks in dict: 216952\n",
      "Successful ID: 6, Unsuccesful ID 4\n",
      "Unsuccesful lyric 0\n",
      "track metadata keys: 216952 and track metadata memory: 10485856 bytes\n"
     ]
    },
    {
     "name": "stderr",
     "output_type": "stream",
     "text": [
      "\r",
      "Playlist loop:  70%|█████████████████████████████████████████████████████████████████████▋                             | 704/1000 [4:37:26<1:30:22, 18.32s/it]"
     ]
    },
    {
     "name": "stdout",
     "output_type": "stream",
     "text": [
      "Number of tracks in dict: 216974\n",
      "Successful ID: 6, Unsuccesful ID 16\n",
      "Unsuccesful lyric 0\n",
      "track metadata keys: 216974 and track metadata memory: 10485856 bytes\n"
     ]
    },
    {
     "name": "stderr",
     "output_type": "stream",
     "text": [
      "\r",
      "Playlist loop:  70%|█████████████████████████████████████████████████████████████████████▊                             | 705/1000 [4:38:52<2:59:23, 36.49s/it]"
     ]
    },
    {
     "name": "stdout",
     "output_type": "stream",
     "text": [
      "Number of tracks in dict: 216994\n",
      "Successful ID: 20, Unsuccesful ID 0\n",
      "Unsuccesful lyric 0\n",
      "track metadata keys: 216994 and track metadata memory: 10485856 bytes\n",
      "Number of tracks in dict: 216994\n",
      "Successful ID: 0, Unsuccesful ID 0\n",
      "Unsuccesful lyric 0\n",
      "track metadata keys: 216994 and track metadata memory: 10485856 bytes\n"
     ]
    },
    {
     "name": "stderr",
     "output_type": "stream",
     "text": [
      "\r",
      "Playlist loop:  71%|█████████████████████████████████████████████████████████████████████▉                             | 707/1000 [4:39:10<1:59:18, 24.43s/it]"
     ]
    },
    {
     "name": "stdout",
     "output_type": "stream",
     "text": [
      "Number of tracks in dict: 217006\n",
      "Successful ID: 3, Unsuccesful ID 9\n",
      "Unsuccesful lyric 0\n",
      "track metadata keys: 217006 and track metadata memory: 10485856 bytes\n"
     ]
    },
    {
     "name": "stderr",
     "output_type": "stream",
     "text": [
      "\r",
      "Playlist loop:  71%|██████████████████████████████████████████████████████████████████████                             | 708/1000 [4:39:14<1:35:12, 19.56s/it]"
     ]
    },
    {
     "name": "stdout",
     "output_type": "stream",
     "text": [
      "Number of tracks in dict: 217007\n",
      "Successful ID: 1, Unsuccesful ID 0\n",
      "Unsuccesful lyric 0\n",
      "track metadata keys: 217007 and track metadata memory: 10485856 bytes\n"
     ]
    },
    {
     "name": "stderr",
     "output_type": "stream",
     "text": [
      "\r",
      "Playlist loop:  71%|██████████████████████████████████████████████████████████████████████▏                            | 709/1000 [4:39:54<2:00:28, 24.84s/it]"
     ]
    },
    {
     "name": "stdout",
     "output_type": "stream",
     "text": [
      "Number of tracks in dict: 217019\n",
      "Successful ID: 10, Unsuccesful ID 2\n",
      "Unsuccesful lyric 0\n",
      "track metadata keys: 217019 and track metadata memory: 10485856 bytes\n"
     ]
    },
    {
     "name": "stderr",
     "output_type": "stream",
     "text": [
      "\r",
      "Playlist loop:  71%|██████████████████████████████████████████████████████████████████████▎                            | 710/1000 [4:40:11<1:50:24, 22.84s/it]"
     ]
    },
    {
     "name": "stdout",
     "output_type": "stream",
     "text": [
      "Number of tracks in dict: 217025\n",
      "Successful ID: 4, Unsuccesful ID 2\n",
      "Unsuccesful lyric 0\n",
      "track metadata keys: 217025 and track metadata memory: 10485856 bytes\n"
     ]
    },
    {
     "name": "stderr",
     "output_type": "stream",
     "text": [
      "\r",
      "Playlist loop:  71%|██████████████████████████████████████████████████████████████████████▍                            | 711/1000 [4:40:20<1:31:36, 19.02s/it]"
     ]
    },
    {
     "name": "stdout",
     "output_type": "stream",
     "text": [
      "Number of tracks in dict: 217028\n",
      "Successful ID: 2, Unsuccesful ID 1\n",
      "Unsuccesful lyric 0\n",
      "track metadata keys: 217028 and track metadata memory: 10485856 bytes\n"
     ]
    },
    {
     "name": "stderr",
     "output_type": "stream",
     "text": [
      "\r",
      "Playlist loop:  71%|██████████████████████████████████████████████████████████████████████▍                            | 712/1000 [4:40:27<1:15:13, 15.67s/it]"
     ]
    },
    {
     "name": "stdout",
     "output_type": "stream",
     "text": [
      "Number of tracks in dict: 217031\n",
      "Successful ID: 2, Unsuccesful ID 1\n",
      "Unsuccesful lyric 0\n",
      "track metadata keys: 217031 and track metadata memory: 10485856 bytes\n",
      "Number of tracks in dict: 217031\n",
      "Successful ID: 0, Unsuccesful ID 0\n",
      "Unsuccesful lyric 0\n",
      "track metadata keys: 217031 and track metadata memory: 10485856 bytes\n"
     ]
    },
    {
     "name": "stderr",
     "output_type": "stream",
     "text": [
      "\r",
      "Playlist loop:  71%|██████████████████████████████████████████████████████████████████████▋                            | 714/1000 [4:40:59<1:15:06, 15.76s/it]"
     ]
    },
    {
     "name": "stdout",
     "output_type": "stream",
     "text": [
      "Number of tracks in dict: 217040\n",
      "Successful ID: 7, Unsuccesful ID 2\n",
      "Unsuccesful lyric 0\n",
      "track metadata keys: 217040 and track metadata memory: 10485856 bytes\n"
     ]
    },
    {
     "name": "stderr",
     "output_type": "stream",
     "text": [
      "\r",
      "Playlist loop:  72%|██████████████████████████████████████████████████████████████████████▊                            | 715/1000 [4:41:51<1:55:51, 24.39s/it]"
     ]
    },
    {
     "name": "stdout",
     "output_type": "stream",
     "text": [
      "Number of tracks in dict: 217055\n",
      "Successful ID: 12, Unsuccesful ID 3\n",
      "Unsuccesful lyric 0\n",
      "track metadata keys: 217055 and track metadata memory: 10485856 bytes\n",
      "Number of tracks in dict: 217055\n",
      "Successful ID: 0, Unsuccesful ID 0\n",
      "Unsuccesful lyric 0\n",
      "track metadata keys: 217055 and track metadata memory: 10485856 bytes\n"
     ]
    },
    {
     "name": "stderr",
     "output_type": "stream",
     "text": [
      "\r",
      "Playlist loop:  72%|██████████████████████████████████████████████████████████████████████▉                            | 717/1000 [4:42:16<1:32:37, 19.64s/it]"
     ]
    },
    {
     "name": "stdout",
     "output_type": "stream",
     "text": [
      "Number of tracks in dict: 217062\n",
      "Successful ID: 6, Unsuccesful ID 1\n",
      "Unsuccesful lyric 0\n",
      "track metadata keys: 217062 and track metadata memory: 10485856 bytes\n"
     ]
    },
    {
     "name": "stderr",
     "output_type": "stream",
     "text": [
      "\r",
      "Playlist loop:  72%|███████████████████████████████████████████████████████████████████████                            | 718/1000 [4:42:24<1:20:04, 17.04s/it]"
     ]
    },
    {
     "name": "stdout",
     "output_type": "stream",
     "text": [
      "Number of tracks in dict: 217064\n",
      "Successful ID: 2, Unsuccesful ID 0\n",
      "Unsuccesful lyric 0\n",
      "track metadata keys: 217064 and track metadata memory: 10485856 bytes\n",
      "Number of tracks in dict: 217064\n",
      "Successful ID: 0, Unsuccesful ID 0\n",
      "Unsuccesful lyric 0\n",
      "track metadata keys: 217064 and track metadata memory: 10485856 bytes\n"
     ]
    },
    {
     "name": "stderr",
     "output_type": "stream",
     "text": [
      "\r",
      "Playlist loop:  72%|████████████████████████████████████████████████████████████████████████▋                            | 720/1000 [4:42:28<51:53, 11.12s/it]"
     ]
    },
    {
     "name": "stdout",
     "output_type": "stream",
     "text": [
      "Number of tracks in dict: 217065\n",
      "Successful ID: 1, Unsuccesful ID 0\n",
      "Unsuccesful lyric 0\n",
      "track metadata keys: 217065 and track metadata memory: 10485856 bytes\n"
     ]
    },
    {
     "name": "stderr",
     "output_type": "stream",
     "text": [
      "\r",
      "Playlist loop:  72%|████████████████████████████████████████████████████████████████████████▊                            | 721/1000 [4:42:32<44:28,  9.56s/it]"
     ]
    },
    {
     "name": "stdout",
     "output_type": "stream",
     "text": [
      "Number of tracks in dict: 217066\n",
      "Successful ID: 1, Unsuccesful ID 0\n",
      "Unsuccesful lyric 0\n",
      "track metadata keys: 217066 and track metadata memory: 10485856 bytes\n",
      "Number of tracks in dict: 217066\n",
      "Successful ID: 0, Unsuccesful ID 0\n",
      "Unsuccesful lyric 0\n",
      "track metadata keys: 217066 and track metadata memory: 10485856 bytes\n"
     ]
    },
    {
     "name": "stderr",
     "output_type": "stream",
     "text": [
      "\r",
      "Playlist loop:  72%|███████████████████████████████████████████████████████████████████████▌                           | 723/1000 [4:43:37<1:25:06, 18.44s/it]"
     ]
    },
    {
     "name": "stdout",
     "output_type": "stream",
     "text": [
      "Number of tracks in dict: 217122\n",
      "Successful ID: 13, Unsuccesful ID 43\n",
      "Unsuccesful lyric 0\n",
      "track metadata keys: 217122 and track metadata memory: 10485856 bytes\n",
      "Number of tracks in dict: 217122\n",
      "Successful ID: 0, Unsuccesful ID 0\n",
      "Unsuccesful lyric 0\n",
      "track metadata keys: 217122 and track metadata memory: 10485856 bytes\n"
     ]
    },
    {
     "name": "stderr",
     "output_type": "stream",
     "text": [
      "\r",
      "Playlist loop:  72%|█████████████████████████████████████████████████████████████████████████▏                           | 725/1000 [4:43:42<58:28, 12.76s/it]"
     ]
    },
    {
     "name": "stdout",
     "output_type": "stream",
     "text": [
      "Number of tracks in dict: 217123\n",
      "Successful ID: 1, Unsuccesful ID 0\n",
      "Unsuccesful lyric 0\n",
      "track metadata keys: 217123 and track metadata memory: 10485856 bytes\n"
     ]
    },
    {
     "name": "stderr",
     "output_type": "stream",
     "text": [
      "\r",
      "Playlist loop:  73%|█████████████████████████████████████████████████████████████████████████▎                           | 726/1000 [4:43:54<57:17, 12.54s/it]"
     ]
    },
    {
     "name": "stdout",
     "output_type": "stream",
     "text": [
      "Number of tracks in dict: 217150\n",
      "Successful ID: 1, Unsuccesful ID 26\n",
      "Unsuccesful lyric 0\n",
      "track metadata keys: 217150 and track metadata memory: 10485856 bytes\n",
      "Number of tracks in dict: 217150\n",
      "Successful ID: 0, Unsuccesful ID 0\n",
      "Unsuccesful lyric 0\n",
      "track metadata keys: 217150 and track metadata memory: 10485856 bytes\n"
     ]
    },
    {
     "name": "stderr",
     "output_type": "stream",
     "text": [
      "\r",
      "Playlist loop:  73%|█████████████████████████████████████████████████████████████████████████▌                           | 728/1000 [4:44:19<57:04, 12.59s/it]"
     ]
    },
    {
     "name": "stdout",
     "output_type": "stream",
     "text": [
      "Number of tracks in dict: 217158\n",
      "Successful ID: 6, Unsuccesful ID 2\n",
      "Unsuccesful lyric 0\n",
      "track metadata keys: 217158 and track metadata memory: 10485856 bytes\n"
     ]
    },
    {
     "name": "stderr",
     "output_type": "stream",
     "text": [
      "\r",
      "Playlist loop:  73%|█████████████████████████████████████████████████████████████████████████▋                           | 729/1000 [4:44:28<52:49, 11.70s/it]"
     ]
    },
    {
     "name": "stdout",
     "output_type": "stream",
     "text": [
      "Number of tracks in dict: 217163\n",
      "Successful ID: 2, Unsuccesful ID 3\n",
      "Unsuccesful lyric 0\n",
      "track metadata keys: 217163 and track metadata memory: 10485856 bytes\n"
     ]
    },
    {
     "name": "stderr",
     "output_type": "stream",
     "text": [
      "\r",
      "Playlist loop:  73%|████████████████████████████████████████████████████████████████████████▎                          | 730/1000 [4:46:24<2:40:33, 35.68s/it]"
     ]
    },
    {
     "name": "stdout",
     "output_type": "stream",
     "text": [
      "Number of tracks in dict: 217194\n",
      "Successful ID: 28, Unsuccesful ID 3\n",
      "Unsuccesful lyric 0\n",
      "track metadata keys: 217194 and track metadata memory: 10485856 bytes\n"
     ]
    },
    {
     "name": "stderr",
     "output_type": "stream",
     "text": [
      "\r",
      "Playlist loop:  73%|████████████████████████████████████████████████████████████████████████▎                          | 731/1000 [4:47:02<2:41:56, 36.12s/it]"
     ]
    },
    {
     "name": "stdout",
     "output_type": "stream",
     "text": [
      "Number of tracks in dict: 217209\n",
      "Successful ID: 9, Unsuccesful ID 6\n",
      "Unsuccesful lyric 0\n",
      "track metadata keys: 217209 and track metadata memory: 10485856 bytes\n"
     ]
    },
    {
     "name": "stderr",
     "output_type": "stream",
     "text": [
      "\r",
      "Playlist loop:  73%|████████████████████████████████████████████████████████████████████████▍                          | 732/1000 [4:47:08<2:06:15, 28.27s/it]"
     ]
    },
    {
     "name": "stdout",
     "output_type": "stream",
     "text": [
      "Number of tracks in dict: 217215\n",
      "Successful ID: 1, Unsuccesful ID 5\n",
      "Unsuccesful lyric 0\n",
      "track metadata keys: 217215 and track metadata memory: 10485856 bytes\n"
     ]
    },
    {
     "name": "stderr",
     "output_type": "stream",
     "text": [
      "\r",
      "Playlist loop:  73%|████████████████████████████████████████████████████████████████████████▌                          | 733/1000 [4:47:39<2:09:18, 29.06s/it]"
     ]
    },
    {
     "name": "stdout",
     "output_type": "stream",
     "text": [
      "Number of tracks in dict: 217222\n",
      "Successful ID: 7, Unsuccesful ID 0\n",
      "Unsuccesful lyric 0\n",
      "track metadata keys: 217222 and track metadata memory: 10485856 bytes\n",
      "Number of tracks in dict: 217222\n",
      "Successful ID: 0, Unsuccesful ID 0\n",
      "Unsuccesful lyric 0\n",
      "track metadata keys: 217222 and track metadata memory: 10485856 bytes\n"
     ]
    },
    {
     "name": "stderr",
     "output_type": "stream",
     "text": [
      "\r",
      "Playlist loop:  74%|████████████████████████████████████████████████████████████████████████▊                          | 735/1000 [4:47:51<1:23:37, 18.93s/it]"
     ]
    },
    {
     "name": "stdout",
     "output_type": "stream",
     "text": [
      "Number of tracks in dict: 217225\n",
      "Successful ID: 3, Unsuccesful ID 0\n",
      "Unsuccesful lyric 0\n",
      "track metadata keys: 217225 and track metadata memory: 10485856 bytes\n"
     ]
    },
    {
     "name": "stderr",
     "output_type": "stream",
     "text": [
      "\r",
      "Playlist loop:  74%|████████████████████████████████████████████████████████████████████████▊                          | 736/1000 [4:48:33<1:47:35, 24.45s/it]"
     ]
    },
    {
     "name": "stdout",
     "output_type": "stream",
     "text": [
      "Number of tracks in dict: 217239\n",
      "Successful ID: 9, Unsuccesful ID 5\n",
      "Unsuccesful lyric 0\n",
      "track metadata keys: 217239 and track metadata memory: 10485856 bytes\n"
     ]
    },
    {
     "name": "stderr",
     "output_type": "stream",
     "text": [
      "\r",
      "Playlist loop:  74%|████████████████████████████████████████████████████████████████████████▉                          | 737/1000 [4:48:51<1:40:14, 22.87s/it]"
     ]
    },
    {
     "name": "stdout",
     "output_type": "stream",
     "text": [
      "Number of tracks in dict: 217249\n",
      "Successful ID: 4, Unsuccesful ID 6\n",
      "Unsuccesful lyric 0\n",
      "track metadata keys: 217249 and track metadata memory: 10485856 bytes\n"
     ]
    },
    {
     "name": "stderr",
     "output_type": "stream",
     "text": [
      "\r",
      "Playlist loop:  74%|█████████████████████████████████████████████████████████████████████████                          | 738/1000 [4:48:58<1:21:38, 18.70s/it]"
     ]
    },
    {
     "name": "stdout",
     "output_type": "stream",
     "text": [
      "Number of tracks in dict: 217251\n",
      "Successful ID: 2, Unsuccesful ID 0\n",
      "Unsuccesful lyric 0\n",
      "track metadata keys: 217251 and track metadata memory: 10485856 bytes\n"
     ]
    },
    {
     "name": "stderr",
     "output_type": "stream",
     "text": [
      "\r",
      "Playlist loop:  74%|█████████████████████████████████████████████████████████████████████████▏                         | 739/1000 [4:49:39<1:48:14, 24.88s/it]"
     ]
    },
    {
     "name": "stdout",
     "output_type": "stream",
     "text": [
      "Number of tracks in dict: 217263\n",
      "Successful ID: 10, Unsuccesful ID 2\n",
      "Unsuccesful lyric 0\n",
      "track metadata keys: 217263 and track metadata memory: 10485856 bytes\n"
     ]
    },
    {
     "name": "stderr",
     "output_type": "stream",
     "text": [
      "\r",
      "Playlist loop:  74%|█████████████████████████████████████████████████████████████████████████▎                         | 740/1000 [4:49:39<1:17:40, 17.92s/it]"
     ]
    },
    {
     "name": "stdout",
     "output_type": "stream",
     "text": [
      "Number of tracks in dict: 217264\n",
      "Successful ID: 0, Unsuccesful ID 1\n",
      "Unsuccesful lyric 0\n",
      "track metadata keys: 217264 and track metadata memory: 10485856 bytes\n"
     ]
    },
    {
     "name": "stderr",
     "output_type": "stream",
     "text": [
      "\r",
      "Playlist loop:  74%|█████████████████████████████████████████████████████████████████████████▎                         | 741/1000 [4:50:03<1:24:51, 19.66s/it]"
     ]
    },
    {
     "name": "stdout",
     "output_type": "stream",
     "text": [
      "Number of tracks in dict: 217275\n",
      "Successful ID: 5, Unsuccesful ID 6\n",
      "Unsuccesful lyric 0\n",
      "track metadata keys: 217275 and track metadata memory: 10485856 bytes\n",
      "Number of tracks in dict: 217275\n",
      "Successful ID: 0, Unsuccesful ID 0\n",
      "Unsuccesful lyric 0\n",
      "track metadata keys: 217275 and track metadata memory: 10485856 bytes\n"
     ]
    },
    {
     "name": "stderr",
     "output_type": "stream",
     "text": [
      "\r",
      "Playlist loop:  74%|█████████████████████████████████████████████████████████████████████████▌                         | 743/1000 [4:51:12<1:52:22, 26.24s/it]"
     ]
    },
    {
     "name": "stdout",
     "output_type": "stream",
     "text": [
      "Number of tracks in dict: 217306\n",
      "Successful ID: 15, Unsuccesful ID 16\n",
      "Unsuccesful lyric 0\n",
      "track metadata keys: 217306 and track metadata memory: 10485856 bytes\n",
      "Number of tracks in dict: 217306\n",
      "Successful ID: 0, Unsuccesful ID 0\n",
      "Unsuccesful lyric 0\n",
      "track metadata keys: 217306 and track metadata memory: 10485856 bytes\n"
     ]
    },
    {
     "name": "stderr",
     "output_type": "stream",
     "text": [
      "\r",
      "Playlist loop:  74%|█████████████████████████████████████████████████████████████████████████▊                         | 745/1000 [4:51:17<1:11:59, 16.94s/it]"
     ]
    },
    {
     "name": "stdout",
     "output_type": "stream",
     "text": [
      "Number of tracks in dict: 217307\n",
      "Successful ID: 1, Unsuccesful ID 0\n",
      "Unsuccesful lyric 0\n",
      "track metadata keys: 217307 and track metadata memory: 10485856 bytes\n"
     ]
    },
    {
     "name": "stderr",
     "output_type": "stream",
     "text": [
      "\r",
      "Playlist loop:  75%|█████████████████████████████████████████████████████████████████████████▊                         | 746/1000 [4:52:31<2:04:48, 29.48s/it]"
     ]
    },
    {
     "name": "stdout",
     "output_type": "stream",
     "text": [
      "Number of tracks in dict: 217389\n",
      "Successful ID: 12, Unsuccesful ID 70\n",
      "Unsuccesful lyric 0\n",
      "track metadata keys: 217389 and track metadata memory: 10485856 bytes\n",
      "Number of tracks in dict: 217389\n",
      "Successful ID: 0, Unsuccesful ID 0\n",
      "Unsuccesful lyric 0\n",
      "track metadata keys: 217389 and track metadata memory: 10485856 bytes\n",
      "Number of tracks in dict: 217389\n",
      "Successful ID: 0, Unsuccesful ID 0\n",
      "Unsuccesful lyric 0\n",
      "track metadata keys: 217389 and track metadata memory: 10485856 bytes\n"
     ]
    },
    {
     "name": "stderr",
     "output_type": "stream",
     "text": [
      "\r",
      "Playlist loop:  75%|██████████████████████████████████████████████████████████████████████████▏                        | 749/1000 [4:52:46<1:13:21, 17.54s/it]"
     ]
    },
    {
     "name": "stdout",
     "output_type": "stream",
     "text": [
      "Number of tracks in dict: 217393\n",
      "Successful ID: 4, Unsuccesful ID 0\n",
      "Unsuccesful lyric 0\n",
      "track metadata keys: 217393 and track metadata memory: 10485856 bytes\n"
     ]
    },
    {
     "name": "stderr",
     "output_type": "stream",
     "text": [
      "\r",
      "Playlist loop:  75%|██████████████████████████████████████████████████████████████████████████▎                        | 750/1000 [4:53:04<1:13:51, 17.73s/it]"
     ]
    },
    {
     "name": "stdout",
     "output_type": "stream",
     "text": [
      "Number of tracks in dict: 217399\n",
      "Successful ID: 5, Unsuccesful ID 1\n",
      "Unsuccesful lyric 0\n",
      "track metadata keys: 217399 and track metadata memory: 10485856 bytes\n",
      "Number of tracks in dict: 217399\n",
      "Successful ID: 0, Unsuccesful ID 0\n",
      "Unsuccesful lyric 0\n",
      "track metadata keys: 217399 and track metadata memory: 10485856 bytes\n"
     ]
    },
    {
     "name": "stderr",
     "output_type": "stream",
     "text": [
      "\r",
      "Playlist loop:  75%|██████████████████████████████████████████████████████████████████████████▍                        | 752/1000 [4:55:08<2:16:37, 33.05s/it]"
     ]
    },
    {
     "name": "stdout",
     "output_type": "stream",
     "text": [
      "Number of tracks in dict: 217443\n",
      "Successful ID: 32, Unsuccesful ID 12\n",
      "Unsuccesful lyric 0\n",
      "track metadata keys: 217443 and track metadata memory: 10485856 bytes\n"
     ]
    },
    {
     "name": "stderr",
     "output_type": "stream",
     "text": [
      "\r",
      "Playlist loop:  75%|██████████████████████████████████████████████████████████████████████████▌                        | 753/1000 [4:55:19<1:58:26, 28.77s/it]"
     ]
    },
    {
     "name": "stdout",
     "output_type": "stream",
     "text": [
      "Number of tracks in dict: 217447\n",
      "Successful ID: 3, Unsuccesful ID 1\n",
      "Unsuccesful lyric 0\n",
      "track metadata keys: 217447 and track metadata memory: 10485856 bytes\n"
     ]
    },
    {
     "name": "stderr",
     "output_type": "stream",
     "text": [
      "\r",
      "Playlist loop:  75%|██████████████████████████████████████████████████████████████████████████▋                        | 754/1000 [4:55:27<1:38:43, 24.08s/it]"
     ]
    },
    {
     "name": "stdout",
     "output_type": "stream",
     "text": [
      "Number of tracks in dict: 217454\n",
      "Successful ID: 2, Unsuccesful ID 5\n",
      "Unsuccesful lyric 0\n",
      "track metadata keys: 217454 and track metadata memory: 10485856 bytes\n",
      "Number of tracks in dict: 217454\n",
      "Successful ID: 0, Unsuccesful ID 0\n",
      "Unsuccesful lyric 0\n",
      "track metadata keys: 217454 and track metadata memory: 10485856 bytes\n"
     ]
    },
    {
     "name": "stderr",
     "output_type": "stream",
     "text": [
      "\r",
      "Playlist loop:  76%|██████████████████████████████████████████████████████████████████████████▊                        | 756/1000 [4:55:36<1:07:07, 16.50s/it]"
     ]
    },
    {
     "name": "stdout",
     "output_type": "stream",
     "text": [
      "Number of tracks in dict: 217458\n",
      "Successful ID: 2, Unsuccesful ID 2\n",
      "Unsuccesful lyric 0\n",
      "track metadata keys: 217458 and track metadata memory: 10485856 bytes\n"
     ]
    },
    {
     "name": "stderr",
     "output_type": "stream",
     "text": [
      "\r",
      "Playlist loop:  76%|██████████████████████████████████████████████████████████████████████████▉                        | 757/1000 [4:58:04<3:02:52, 45.15s/it]"
     ]
    },
    {
     "name": "stdout",
     "output_type": "stream",
     "text": [
      "Number of tracks in dict: 217501\n",
      "Successful ID: 38, Unsuccesful ID 5\n",
      "Unsuccesful lyric 0\n",
      "track metadata keys: 217501 and track metadata memory: 10485856 bytes\n"
     ]
    },
    {
     "name": "stderr",
     "output_type": "stream",
     "text": [
      "\r",
      "Playlist loop:  76%|███████████████████████████████████████████████████████████████████████████                        | 758/1000 [4:58:16<2:30:26, 37.30s/it]"
     ]
    },
    {
     "name": "stdout",
     "output_type": "stream",
     "text": [
      "Number of tracks in dict: 217504\n",
      "Successful ID: 3, Unsuccesful ID 0\n",
      "Unsuccesful lyric 0\n",
      "track metadata keys: 217504 and track metadata memory: 10485856 bytes\n"
     ]
    },
    {
     "name": "stderr",
     "output_type": "stream",
     "text": [
      "\r",
      "Playlist loop:  76%|███████████████████████████████████████████████████████████████████████████▏                       | 759/1000 [4:59:02<2:38:18, 39.41s/it]"
     ]
    },
    {
     "name": "stdout",
     "output_type": "stream",
     "text": [
      "Number of tracks in dict: 217516\n",
      "Successful ID: 12, Unsuccesful ID 0\n",
      "Unsuccesful lyric 0\n",
      "track metadata keys: 217516 and track metadata memory: 10485856 bytes\n",
      "Number of tracks in dict: 217516\n",
      "Successful ID: 0, Unsuccesful ID 0\n",
      "Unsuccesful lyric 0\n",
      "track metadata keys: 217516 and track metadata memory: 10485856 bytes\n"
     ]
    },
    {
     "name": "stderr",
     "output_type": "stream",
     "text": [
      "\r",
      "Playlist loop:  76%|███████████████████████████████████████████████████████████████████████████▎                       | 761/1000 [4:59:05<1:33:47, 23.55s/it]"
     ]
    },
    {
     "name": "stdout",
     "output_type": "stream",
     "text": [
      "Number of tracks in dict: 217517\n",
      "Successful ID: 1, Unsuccesful ID 0\n",
      "Unsuccesful lyric 0\n",
      "track metadata keys: 217517 and track metadata memory: 10485856 bytes\n",
      "Number of tracks in dict: 217517\n",
      "Successful ID: 0, Unsuccesful ID 0\n",
      "Unsuccesful lyric 0\n",
      "track metadata keys: 217517 and track metadata memory: 10485856 bytes\n"
     ]
    },
    {
     "name": "stderr",
     "output_type": "stream",
     "text": [
      "\r",
      "Playlist loop:  76%|███████████████████████████████████████████████████████████████████████████▌                       | 763/1000 [4:59:16<1:06:00, 16.71s/it]"
     ]
    },
    {
     "name": "stdout",
     "output_type": "stream",
     "text": [
      "Number of tracks in dict: 217520\n",
      "Successful ID: 3, Unsuccesful ID 0\n",
      "Unsuccesful lyric 0\n",
      "track metadata keys: 217520 and track metadata memory: 10485856 bytes\n"
     ]
    },
    {
     "name": "stderr",
     "output_type": "stream",
     "text": [
      "\r",
      "Playlist loop:  76%|███████████████████████████████████████████████████████████████████████████▋                       | 764/1000 [4:59:33<1:06:22, 16.88s/it]"
     ]
    },
    {
     "name": "stdout",
     "output_type": "stream",
     "text": [
      "Number of tracks in dict: 217526\n",
      "Successful ID: 5, Unsuccesful ID 1\n",
      "Unsuccesful lyric 0\n",
      "track metadata keys: 217526 and track metadata memory: 10485856 bytes\n"
     ]
    },
    {
     "name": "stderr",
     "output_type": "stream",
     "text": [
      "\r",
      "Playlist loop:  76%|█████████████████████████████████████████████████████████████████████████████▎                       | 765/1000 [4:59:37<53:50, 13.75s/it]"
     ]
    },
    {
     "name": "stdout",
     "output_type": "stream",
     "text": [
      "Number of tracks in dict: 217527\n",
      "Successful ID: 1, Unsuccesful ID 0\n",
      "Unsuccesful lyric 0\n",
      "track metadata keys: 217527 and track metadata memory: 10485856 bytes\n"
     ]
    },
    {
     "name": "stderr",
     "output_type": "stream",
     "text": [
      "\r",
      "Playlist loop:  77%|█████████████████████████████████████████████████████████████████████████████▎                       | 766/1000 [4:59:53<56:02, 14.37s/it]"
     ]
    },
    {
     "name": "stdout",
     "output_type": "stream",
     "text": [
      "Number of tracks in dict: 217533\n",
      "Successful ID: 4, Unsuccesful ID 2\n",
      "Unsuccesful lyric 0\n",
      "track metadata keys: 217533 and track metadata memory: 10485856 bytes\n"
     ]
    },
    {
     "name": "stderr",
     "output_type": "stream",
     "text": [
      "\r",
      "Playlist loop:  77%|█████████████████████████████████████████████████████████████████████████████▍                       | 767/1000 [4:59:53<41:43, 10.74s/it]"
     ]
    },
    {
     "name": "stdout",
     "output_type": "stream",
     "text": [
      "Number of tracks in dict: 217534\n",
      "Successful ID: 0, Unsuccesful ID 1\n",
      "Unsuccesful lyric 0\n",
      "track metadata keys: 217534 and track metadata memory: 10485856 bytes\n"
     ]
    },
    {
     "name": "stderr",
     "output_type": "stream",
     "text": [
      "\r",
      "Playlist loop:  77%|█████████████████████████████████████████████████████████████████████████████▌                       | 768/1000 [5:00:01<37:46,  9.77s/it]"
     ]
    },
    {
     "name": "stdout",
     "output_type": "stream",
     "text": [
      "Number of tracks in dict: 217536\n",
      "Successful ID: 2, Unsuccesful ID 0\n",
      "Unsuccesful lyric 0\n",
      "track metadata keys: 217536 and track metadata memory: 10485856 bytes\n"
     ]
    },
    {
     "name": "stderr",
     "output_type": "stream",
     "text": [
      "\r",
      "Playlist loop:  77%|█████████████████████████████████████████████████████████████████████████████▋                       | 769/1000 [5:00:12<39:28, 10.26s/it]"
     ]
    },
    {
     "name": "stdout",
     "output_type": "stream",
     "text": [
      "Number of tracks in dict: 217540\n",
      "Successful ID: 3, Unsuccesful ID 1\n",
      "Unsuccesful lyric 0\n",
      "track metadata keys: 217540 and track metadata memory: 10485856 bytes\n"
     ]
    },
    {
     "name": "stderr",
     "output_type": "stream",
     "text": [
      "\r",
      "Playlist loop:  77%|████████████████████████████████████████████████████████████████████████████▏                      | 770/1000 [5:00:57<1:17:02, 20.10s/it]"
     ]
    },
    {
     "name": "stdout",
     "output_type": "stream",
     "text": [
      "Number of tracks in dict: 217553\n",
      "Successful ID: 10, Unsuccesful ID 3\n",
      "Unsuccesful lyric 0\n",
      "track metadata keys: 217553 and track metadata memory: 10485856 bytes\n"
     ]
    },
    {
     "name": "stderr",
     "output_type": "stream",
     "text": [
      "\r",
      "Playlist loop:  77%|████████████████████████████████████████████████████████████████████████████▎                      | 771/1000 [5:01:49<1:51:59, 29.34s/it]"
     ]
    },
    {
     "name": "stdout",
     "output_type": "stream",
     "text": [
      "Number of tracks in dict: 217570\n",
      "Successful ID: 12, Unsuccesful ID 5\n",
      "Unsuccesful lyric 0\n",
      "track metadata keys: 217570 and track metadata memory: 10485856 bytes\n",
      "Number of tracks in dict: 217570\n",
      "Successful ID: 0, Unsuccesful ID 0\n",
      "Unsuccesful lyric 0\n",
      "track metadata keys: 217570 and track metadata memory: 10485856 bytes\n"
     ]
    },
    {
     "name": "stderr",
     "output_type": "stream",
     "text": [
      "\r",
      "Playlist loop:  77%|████████████████████████████████████████████████████████████████████████████▌                      | 773/1000 [5:05:49<4:26:58, 70.57s/it]"
     ]
    },
    {
     "name": "stdout",
     "output_type": "stream",
     "text": [
      "Number of tracks in dict: 217690\n",
      "Successful ID: 57, Unsuccesful ID 63\n",
      "Unsuccesful lyric 0\n",
      "track metadata keys: 217690 and track metadata memory: 10485856 bytes\n"
     ]
    },
    {
     "name": "stderr",
     "output_type": "stream",
     "text": [
      "\r",
      "Playlist loop:  77%|████████████████████████████████████████████████████████████████████████████▋                      | 774/1000 [5:05:53<3:24:34, 54.31s/it]"
     ]
    },
    {
     "name": "stdout",
     "output_type": "stream",
     "text": [
      "Number of tracks in dict: 217699\n",
      "Successful ID: 0, Unsuccesful ID 9\n",
      "Unsuccesful lyric 0\n",
      "track metadata keys: 217699 and track metadata memory: 10485856 bytes\n"
     ]
    },
    {
     "name": "stderr",
     "output_type": "stream",
     "text": [
      "\r",
      "Playlist loop:  78%|████████████████████████████████████████████████████████████████████████████▋                      | 775/1000 [5:06:19<2:55:57, 46.92s/it]"
     ]
    },
    {
     "name": "stdout",
     "output_type": "stream",
     "text": [
      "Number of tracks in dict: 217706\n",
      "Successful ID: 7, Unsuccesful ID 0\n",
      "Unsuccesful lyric 0\n",
      "track metadata keys: 217706 and track metadata memory: 10485856 bytes\n"
     ]
    },
    {
     "name": "stderr",
     "output_type": "stream",
     "text": [
      "\r",
      "Playlist loop:  78%|████████████████████████████████████████████████████████████████████████████▊                      | 776/1000 [5:06:39<2:27:58, 39.64s/it]"
     ]
    },
    {
     "name": "stdout",
     "output_type": "stream",
     "text": [
      "Number of tracks in dict: 217712\n",
      "Successful ID: 5, Unsuccesful ID 1\n",
      "Unsuccesful lyric 0\n",
      "track metadata keys: 217712 and track metadata memory: 10485856 bytes\n",
      "Number of tracks in dict: 217712\n",
      "Successful ID: 0, Unsuccesful ID 0\n",
      "Unsuccesful lyric 0\n",
      "track metadata keys: 217712 and track metadata memory: 10485856 bytes\n"
     ]
    },
    {
     "name": "stderr",
     "output_type": "stream",
     "text": [
      "\r",
      "Playlist loop:  78%|█████████████████████████████████████████████████████████████████████████████                      | 778/1000 [5:07:01<1:40:06, 27.06s/it]"
     ]
    },
    {
     "name": "stdout",
     "output_type": "stream",
     "text": [
      "Number of tracks in dict: 217718\n",
      "Successful ID: 6, Unsuccesful ID 0\n",
      "Unsuccesful lyric 0\n",
      "track metadata keys: 217718 and track metadata memory: 10485856 bytes\n",
      "Number of tracks in dict: 217718\n",
      "Successful ID: 0, Unsuccesful ID 0\n",
      "Unsuccesful lyric 0\n",
      "track metadata keys: 217718 and track metadata memory: 10485856 bytes\n"
     ]
    },
    {
     "name": "stderr",
     "output_type": "stream",
     "text": [
      "\r",
      "Playlist loop:  78%|█████████████████████████████████████████████████████████████████████████████▏                     | 780/1000 [5:07:04<1:03:17, 17.26s/it]"
     ]
    },
    {
     "name": "stdout",
     "output_type": "stream",
     "text": [
      "Number of tracks in dict: 217719\n",
      "Successful ID: 1, Unsuccesful ID 0\n",
      "Unsuccesful lyric 0\n",
      "track metadata keys: 217719 and track metadata memory: 10485856 bytes\n",
      "Number of tracks in dict: 217719\n",
      "Successful ID: 0, Unsuccesful ID 0\n",
      "Unsuccesful lyric 0\n",
      "track metadata keys: 217719 and track metadata memory: 10485856 bytes\n"
     ]
    },
    {
     "name": "stderr",
     "output_type": "stream",
     "text": [
      "\r",
      "Playlist loop:  78%|█████████████████████████████████████████████████████████████████████████████▍                     | 782/1000 [5:08:19<1:28:43, 24.42s/it]"
     ]
    },
    {
     "name": "stdout",
     "output_type": "stream",
     "text": [
      "Number of tracks in dict: 217742\n",
      "Successful ID: 19, Unsuccesful ID 4\n",
      "Unsuccesful lyric 0\n",
      "track metadata keys: 217742 and track metadata memory: 10485856 bytes\n"
     ]
    },
    {
     "name": "stderr",
     "output_type": "stream",
     "text": [
      "\r",
      "Playlist loop:  78%|█████████████████████████████████████████████████████████████████████████████▌                     | 783/1000 [5:08:49<1:32:26, 25.56s/it]"
     ]
    },
    {
     "name": "stdout",
     "output_type": "stream",
     "text": [
      "Number of tracks in dict: 217752\n",
      "Successful ID: 9, Unsuccesful ID 1\n",
      "Unsuccesful lyric 0\n",
      "track metadata keys: 217752 and track metadata memory: 10485856 bytes\n"
     ]
    },
    {
     "name": "stderr",
     "output_type": "stream",
     "text": [
      "\r",
      "Playlist loop:  78%|█████████████████████████████████████████████████████████████████████████████▌                     | 784/1000 [5:08:53<1:14:45, 20.77s/it]"
     ]
    },
    {
     "name": "stdout",
     "output_type": "stream",
     "text": [
      "Number of tracks in dict: 217753\n",
      "Successful ID: 1, Unsuccesful ID 0\n",
      "Unsuccesful lyric 0\n",
      "track metadata keys: 217753 and track metadata memory: 10485856 bytes\n"
     ]
    },
    {
     "name": "stderr",
     "output_type": "stream",
     "text": [
      "\r",
      "Playlist loop:  78%|█████████████████████████████████████████████████████████████████████████████▋                     | 785/1000 [5:09:08<1:09:56, 19.52s/it]"
     ]
    },
    {
     "name": "stdout",
     "output_type": "stream",
     "text": [
      "Number of tracks in dict: 217764\n",
      "Successful ID: 4, Unsuccesful ID 7\n",
      "Unsuccesful lyric 0\n",
      "track metadata keys: 217764 and track metadata memory: 10485856 bytes\n"
     ]
    },
    {
     "name": "stderr",
     "output_type": "stream",
     "text": [
      "\r",
      "Playlist loop:  79%|█████████████████████████████████████████████████████████████████████████████▊                     | 786/1000 [5:09:20<1:01:57, 17.37s/it]"
     ]
    },
    {
     "name": "stdout",
     "output_type": "stream",
     "text": [
      "Number of tracks in dict: 217771\n",
      "Successful ID: 3, Unsuccesful ID 4\n",
      "Unsuccesful lyric 0\n",
      "track metadata keys: 217771 and track metadata memory: 10485856 bytes\n",
      "Number of tracks in dict: 217771\n",
      "Successful ID: 0, Unsuccesful ID 0\n",
      "Unsuccesful lyric 0\n",
      "track metadata keys: 217771 and track metadata memory: 10485856 bytes\n"
     ]
    },
    {
     "name": "stderr",
     "output_type": "stream",
     "text": [
      "\r",
      "Playlist loop:  79%|██████████████████████████████████████████████████████████████████████████████                     | 788/1000 [5:11:10<1:57:53, 33.37s/it]"
     ]
    },
    {
     "name": "stdout",
     "output_type": "stream",
     "text": [
      "Number of tracks in dict: 217857\n",
      "Successful ID: 25, Unsuccesful ID 61\n",
      "Unsuccesful lyric 0\n",
      "track metadata keys: 217857 and track metadata memory: 10485856 bytes\n"
     ]
    },
    {
     "name": "stderr",
     "output_type": "stream",
     "text": [
      "\r",
      "Playlist loop:  79%|██████████████████████████████████████████████████████████████████████████████                     | 789/1000 [5:15:00<4:38:14, 79.12s/it]"
     ]
    },
    {
     "name": "stdout",
     "output_type": "stream",
     "text": [
      "Number of tracks in dict: 217922\n",
      "Successful ID: 59, Unsuccesful ID 6\n",
      "Unsuccesful lyric 0\n",
      "track metadata keys: 217922 and track metadata memory: 10485856 bytes\n"
     ]
    },
    {
     "name": "stderr",
     "output_type": "stream",
     "text": [
      "\r",
      "Playlist loop:  79%|██████████████████████████████████████████████████████████████████████████████▏                    | 790/1000 [5:15:17<3:42:43, 63.64s/it]"
     ]
    },
    {
     "name": "stdout",
     "output_type": "stream",
     "text": [
      "Number of tracks in dict: 217930\n",
      "Successful ID: 5, Unsuccesful ID 3\n",
      "Unsuccesful lyric 0\n",
      "track metadata keys: 217930 and track metadata memory: 10485856 bytes\n"
     ]
    },
    {
     "name": "stderr",
     "output_type": "stream",
     "text": [
      "\r",
      "Playlist loop:  79%|██████████████████████████████████████████████████████████████████████████████▎                    | 791/1000 [5:15:18<2:43:59, 47.08s/it]"
     ]
    },
    {
     "name": "stdout",
     "output_type": "stream",
     "text": [
      "Number of tracks in dict: 217931\n",
      "Successful ID: 0, Unsuccesful ID 1\n",
      "Unsuccesful lyric 0\n",
      "track metadata keys: 217931 and track metadata memory: 10485856 bytes\n",
      "Number of tracks in dict: 217931\n",
      "Successful ID: 0, Unsuccesful ID 0\n",
      "Unsuccesful lyric 0\n",
      "track metadata keys: 217931 and track metadata memory: 10485856 bytes\n",
      "Number of tracks in dict: 217931\n",
      "Successful ID: 0, Unsuccesful ID 0\n",
      "Unsuccesful lyric 0\n",
      "track metadata keys: 217931 and track metadata memory: 10485856 bytes\n"
     ]
    },
    {
     "name": "stderr",
     "output_type": "stream",
     "text": [
      "\r",
      "Playlist loop:  79%|██████████████████████████████████████████████████████████████████████████████▌                    | 794/1000 [5:15:46<1:32:51, 27.05s/it]"
     ]
    },
    {
     "name": "stdout",
     "output_type": "stream",
     "text": [
      "Number of tracks in dict: 217943\n",
      "Successful ID: 7, Unsuccesful ID 5\n",
      "Unsuccesful lyric 0\n",
      "track metadata keys: 217943 and track metadata memory: 10485856 bytes\n",
      "Number of tracks in dict: 217943\n",
      "Successful ID: 0, Unsuccesful ID 0\n",
      "Unsuccesful lyric 0\n",
      "track metadata keys: 217943 and track metadata memory: 10485856 bytes\n",
      "Number of tracks in dict: 217943\n",
      "Successful ID: 0, Unsuccesful ID 0\n",
      "Unsuccesful lyric 0\n",
      "track metadata keys: 217943 and track metadata memory: 10485856 bytes\n",
      "Number of tracks in dict: 217943\n",
      "Successful ID: 0, Unsuccesful ID 0\n",
      "Unsuccesful lyric 0\n",
      "track metadata keys: 217943 and track metadata memory: 10485856 bytes\n"
     ]
    },
    {
     "name": "stderr",
     "output_type": "stream",
     "text": [
      "\r",
      "Playlist loop:  80%|████████████████████████████████████████████████████████████████████████████████▌                    | 798/1000 [5:15:54<49:01, 14.56s/it]"
     ]
    },
    {
     "name": "stdout",
     "output_type": "stream",
     "text": [
      "Number of tracks in dict: 217959\n",
      "Successful ID: 1, Unsuccesful ID 15\n",
      "Unsuccesful lyric 0\n",
      "track metadata keys: 217959 and track metadata memory: 10485856 bytes\n",
      "Number of tracks in dict: 217959\n",
      "Successful ID: 0, Unsuccesful ID 0\n",
      "Unsuccesful lyric 0\n",
      "track metadata keys: 217959 and track metadata memory: 10485856 bytes\n",
      "Number of tracks in dict: 217973\n",
      "Successful ID: 4, Unsuccesful ID 10\n",
      "Unsuccesful lyric 0\n",
      "track metadata keys: 217973 and track metadata memory: 10485856 bytes\n"
     ]
    },
    {
     "name": "stderr",
     "output_type": "stream",
     "text": [
      "\r",
      "Playlist loop:  80%|████████████████████████████████████████████████████████████████████████████████▊                    | 800/1000 [5:16:17<45:30, 13.65s/it]"
     ]
    },
    {
     "name": "stdout",
     "output_type": "stream",
     "text": [
      "Number of tracks in dict: 217973\n",
      "Successful ID: 0, Unsuccesful ID 0\n",
      "Unsuccesful lyric 0\n",
      "track metadata keys: 217973 and track metadata memory: 10485856 bytes\n"
     ]
    },
    {
     "name": "stderr",
     "output_type": "stream",
     "text": [
      "\r",
      "Playlist loop:  80%|█████████████████████████████████████████████████████████████████████████████████                    | 802/1000 [5:16:40<43:10, 13.08s/it]"
     ]
    },
    {
     "name": "stdout",
     "output_type": "stream",
     "text": [
      "Number of tracks in dict: 217984\n",
      "Successful ID: 6, Unsuccesful ID 5\n",
      "Unsuccesful lyric 0\n",
      "track metadata keys: 217984 and track metadata memory: 10485856 bytes\n"
     ]
    },
    {
     "name": "stderr",
     "output_type": "stream",
     "text": [
      "\r",
      "Playlist loop:  80%|█████████████████████████████████████████████████████████████████████████████████                    | 803/1000 [5:16:54<43:26, 13.23s/it]"
     ]
    },
    {
     "name": "stdout",
     "output_type": "stream",
     "text": [
      "Number of tracks in dict: 217989\n",
      "Successful ID: 4, Unsuccesful ID 1\n",
      "Unsuccesful lyric 0\n",
      "track metadata keys: 217989 and track metadata memory: 10485856 bytes\n"
     ]
    },
    {
     "name": "stderr",
     "output_type": "stream",
     "text": [
      "\r",
      "Playlist loop:  80%|███████████████████████████████████████████████████████████████████████████████▌                   | 804/1000 [5:17:54<1:12:37, 22.23s/it]"
     ]
    },
    {
     "name": "stdout",
     "output_type": "stream",
     "text": [
      "Number of tracks in dict: 218016\n",
      "Successful ID: 15, Unsuccesful ID 12\n",
      "Unsuccesful lyric 0\n",
      "track metadata keys: 218016 and track metadata memory: 10485856 bytes\n",
      "Number of tracks in dict: 218016\n",
      "Successful ID: 0, Unsuccesful ID 0\n",
      "Unsuccesful lyric 0\n",
      "track metadata keys: 218016 and track metadata memory: 10485856 bytes\n"
     ]
    },
    {
     "name": "stderr",
     "output_type": "stream",
     "text": [
      "\r",
      "Playlist loop:  81%|█████████████████████████████████████████████████████████████████████████████████▍                   | 806/1000 [5:17:59<49:09, 15.20s/it]"
     ]
    },
    {
     "name": "stdout",
     "output_type": "stream",
     "text": [
      "Number of tracks in dict: 218017\n",
      "Successful ID: 1, Unsuccesful ID 0\n",
      "Unsuccesful lyric 0\n",
      "track metadata keys: 218017 and track metadata memory: 10485856 bytes\n"
     ]
    },
    {
     "name": "stderr",
     "output_type": "stream",
     "text": [
      "\r",
      "Playlist loop:  81%|█████████████████████████████████████████████████████████████████████████████████▌                   | 807/1000 [5:18:27<57:04, 17.74s/it]"
     ]
    },
    {
     "name": "stdout",
     "output_type": "stream",
     "text": [
      "Number of tracks in dict: 218027\n",
      "Successful ID: 8, Unsuccesful ID 2\n",
      "Unsuccesful lyric 0\n",
      "track metadata keys: 218027 and track metadata memory: 10485856 bytes\n"
     ]
    },
    {
     "name": "stderr",
     "output_type": "stream",
     "text": [
      "\r",
      "Playlist loop:  81%|███████████████████████████████████████████████████████████████████████████████▉                   | 808/1000 [5:20:15<2:01:06, 37.84s/it]"
     ]
    },
    {
     "name": "stdout",
     "output_type": "stream",
     "text": [
      "Number of tracks in dict: 218063\n",
      "Successful ID: 27, Unsuccesful ID 9\n",
      "Unsuccesful lyric 0\n",
      "track metadata keys: 218063 and track metadata memory: 10485856 bytes\n"
     ]
    },
    {
     "name": "stderr",
     "output_type": "stream",
     "text": [
      "\r",
      "Playlist loop:  81%|████████████████████████████████████████████████████████████████████████████████                   | 809/1000 [5:22:11<3:00:36, 56.73s/it]"
     ]
    },
    {
     "name": "stdout",
     "output_type": "stream",
     "text": [
      "Number of tracks in dict: 218109\n",
      "Successful ID: 30, Unsuccesful ID 16\n",
      "Unsuccesful lyric 0\n",
      "track metadata keys: 218109 and track metadata memory: 10485856 bytes\n"
     ]
    },
    {
     "name": "stderr",
     "output_type": "stream",
     "text": [
      "\r",
      "Playlist loop:  81%|████████████████████████████████████████████████████████████████████████████████▏                  | 810/1000 [5:22:25<2:24:54, 45.76s/it]"
     ]
    },
    {
     "name": "stdout",
     "output_type": "stream",
     "text": [
      "Number of tracks in dict: 218112\n",
      "Successful ID: 3, Unsuccesful ID 0\n",
      "Unsuccesful lyric 0\n",
      "track metadata keys: 218112 and track metadata memory: 10485856 bytes\n"
     ]
    },
    {
     "name": "stderr",
     "output_type": "stream",
     "text": [
      "\r",
      "Playlist loop:  81%|████████████████████████████████████████████████████████████████████████████████▎                  | 811/1000 [5:22:33<1:52:20, 35.66s/it]"
     ]
    },
    {
     "name": "stdout",
     "output_type": "stream",
     "text": [
      "Number of tracks in dict: 218116\n",
      "Successful ID: 2, Unsuccesful ID 2\n",
      "Unsuccesful lyric 0\n",
      "track metadata keys: 218116 and track metadata memory: 10485856 bytes\n",
      "Number of tracks in dict: 218116\n",
      "Successful ID: 0, Unsuccesful ID 0\n",
      "Unsuccesful lyric 0\n",
      "track metadata keys: 218116 and track metadata memory: 10485856 bytes\n"
     ]
    },
    {
     "name": "stderr",
     "output_type": "stream",
     "text": [
      "\r",
      "Playlist loop:  81%|████████████████████████████████████████████████████████████████████████████████▍                  | 813/1000 [5:22:34<1:03:42, 20.44s/it]"
     ]
    },
    {
     "name": "stdout",
     "output_type": "stream",
     "text": [
      "Number of tracks in dict: 218119\n",
      "Successful ID: 0, Unsuccesful ID 3\n",
      "Unsuccesful lyric 0\n",
      "track metadata keys: 218119 and track metadata memory: 10485856 bytes\n",
      "Number of tracks in dict: 218119\n",
      "Successful ID: 0, Unsuccesful ID 0\n",
      "Unsuccesful lyric 0\n",
      "track metadata keys: 218119 and track metadata memory: 10485856 bytes\n"
     ]
    },
    {
     "name": "stderr",
     "output_type": "stream",
     "text": [
      "\r",
      "Playlist loop:  82%|██████████████████████████████████████████████████████████████████████████████████▎                  | 815/1000 [5:22:49<47:59, 15.57s/it]"
     ]
    },
    {
     "name": "stdout",
     "output_type": "stream",
     "text": [
      "Number of tracks in dict: 218123\n",
      "Successful ID: 4, Unsuccesful ID 0\n",
      "Unsuccesful lyric 0\n",
      "track metadata keys: 218123 and track metadata memory: 10485856 bytes\n"
     ]
    },
    {
     "name": "stderr",
     "output_type": "stream",
     "text": [
      "\r",
      "Playlist loop:  82%|████████████████████████████████████████████████████████████████████████████████▊                  | 816/1000 [5:26:35<3:06:09, 60.71s/it]"
     ]
    },
    {
     "name": "stdout",
     "output_type": "stream",
     "text": [
      "Number of tracks in dict: 218233\n",
      "Successful ID: 59, Unsuccesful ID 51\n",
      "Unsuccesful lyric 0\n",
      "track metadata keys: 218233 and track metadata memory: 10485856 bytes\n",
      "Number of tracks in dict: 218233\n",
      "Successful ID: 0, Unsuccesful ID 0\n",
      "Unsuccesful lyric 0\n",
      "track metadata keys: 218233 and track metadata memory: 10485856 bytes\n"
     ]
    },
    {
     "name": "stderr",
     "output_type": "stream",
     "text": [
      "\r",
      "Playlist loop:  82%|████████████████████████████████████████████████████████████████████████████████▉                  | 818/1000 [5:26:40<1:56:48, 38.51s/it]"
     ]
    },
    {
     "name": "stdout",
     "output_type": "stream",
     "text": [
      "Number of tracks in dict: 218234\n",
      "Successful ID: 1, Unsuccesful ID 0\n",
      "Unsuccesful lyric 0\n",
      "track metadata keys: 218234 and track metadata memory: 10485856 bytes\n",
      "Number of tracks in dict: 218234\n",
      "Successful ID: 0, Unsuccesful ID 0\n",
      "Unsuccesful lyric 0\n",
      "track metadata keys: 218234 and track metadata memory: 10485856 bytes\n"
     ]
    },
    {
     "name": "stderr",
     "output_type": "stream",
     "text": [
      "\r",
      "Playlist loop:  82%|█████████████████████████████████████████████████████████████████████████████████▏                 | 820/1000 [5:30:38<3:20:22, 66.79s/it]"
     ]
    },
    {
     "name": "stdout",
     "output_type": "stream",
     "text": [
      "Number of tracks in dict: 218307\n",
      "Successful ID: 65, Unsuccesful ID 8\n",
      "Unsuccesful lyric 0\n",
      "track metadata keys: 218307 and track metadata memory: 10485856 bytes\n",
      "Number of tracks in dict: 218307\n",
      "Successful ID: 0, Unsuccesful ID 0\n",
      "Unsuccesful lyric 0\n",
      "track metadata keys: 218307 and track metadata memory: 10485856 bytes\n"
     ]
    },
    {
     "name": "stderr",
     "output_type": "stream",
     "text": [
      "\r",
      "Playlist loop:  82%|█████████████████████████████████████████████████████████████████████████████████▍                 | 822/1000 [5:30:47<2:16:21, 45.97s/it]"
     ]
    },
    {
     "name": "stdout",
     "output_type": "stream",
     "text": [
      "Number of tracks in dict: 218313\n",
      "Successful ID: 2, Unsuccesful ID 4\n",
      "Unsuccesful lyric 0\n",
      "track metadata keys: 218313 and track metadata memory: 10485856 bytes\n",
      "Number of tracks in dict: 218313\n",
      "Successful ID: 0, Unsuccesful ID 0\n",
      "Unsuccesful lyric 0\n",
      "track metadata keys: 218313 and track metadata memory: 10485856 bytes\n"
     ]
    },
    {
     "name": "stderr",
     "output_type": "stream",
     "text": [
      "\r",
      "Playlist loop:  82%|█████████████████████████████████████████████████████████████████████████████████▌                 | 824/1000 [5:32:17<2:13:53, 45.65s/it]"
     ]
    },
    {
     "name": "stdout",
     "output_type": "stream",
     "text": [
      "Number of tracks in dict: 218386\n",
      "Successful ID: 20, Unsuccesful ID 53\n",
      "Unsuccesful lyric 0\n",
      "track metadata keys: 218386 and track metadata memory: 10485856 bytes\n"
     ]
    },
    {
     "name": "stderr",
     "output_type": "stream",
     "text": [
      "\r",
      "Playlist loop:  82%|█████████████████████████████████████████████████████████████████████████████████▋                 | 825/1000 [5:32:24<1:52:19, 38.51s/it]"
     ]
    },
    {
     "name": "stdout",
     "output_type": "stream",
     "text": [
      "Number of tracks in dict: 218389\n",
      "Successful ID: 2, Unsuccesful ID 1\n",
      "Unsuccesful lyric 0\n",
      "track metadata keys: 218389 and track metadata memory: 10485856 bytes\n"
     ]
    },
    {
     "name": "stderr",
     "output_type": "stream",
     "text": [
      "\r",
      "Playlist loop:  83%|█████████████████████████████████████████████████████████████████████████████████▊                 | 826/1000 [5:32:35<1:34:45, 32.67s/it]"
     ]
    },
    {
     "name": "stdout",
     "output_type": "stream",
     "text": [
      "Number of tracks in dict: 218392\n",
      "Successful ID: 3, Unsuccesful ID 0\n",
      "Unsuccesful lyric 0\n",
      "track metadata keys: 218392 and track metadata memory: 10485856 bytes\n"
     ]
    },
    {
     "name": "stderr",
     "output_type": "stream",
     "text": [
      "\r",
      "Playlist loop:  83%|█████████████████████████████████████████████████████████████████████████████████▊                 | 827/1000 [5:32:36<1:12:40, 25.21s/it]"
     ]
    },
    {
     "name": "stdout",
     "output_type": "stream",
     "text": [
      "Number of tracks in dict: 218393\n",
      "Successful ID: 0, Unsuccesful ID 1\n",
      "Unsuccesful lyric 0\n",
      "track metadata keys: 218393 and track metadata memory: 10485856 bytes\n",
      "Number of tracks in dict: 218393\n",
      "Successful ID: 0, Unsuccesful ID 0\n",
      "Unsuccesful lyric 0\n",
      "track metadata keys: 218393 and track metadata memory: 10485856 bytes\n"
     ]
    },
    {
     "name": "stderr",
     "output_type": "stream",
     "text": [
      "\r",
      "Playlist loop:  83%|██████████████████████████████████████████████████████████████████████████████████                 | 829/1000 [5:37:56<3:45:22, 79.08s/it]"
     ]
    },
    {
     "name": "stdout",
     "output_type": "stream",
     "text": [
      "Number of tracks in dict: 218487\n",
      "Successful ID: 83, Unsuccesful ID 11\n",
      "Unsuccesful lyric 0\n",
      "track metadata keys: 218487 and track metadata memory: 10485856 bytes\n"
     ]
    },
    {
     "name": "stderr",
     "output_type": "stream",
     "text": [
      "\r",
      "Playlist loop:  83%|██████████████████████████████████████████████████████████████████████████████████▏                | 830/1000 [5:38:41<3:22:16, 71.39s/it]"
     ]
    },
    {
     "name": "stdout",
     "output_type": "stream",
     "text": [
      "Number of tracks in dict: 218498\n",
      "Successful ID: 11, Unsuccesful ID 0\n",
      "Unsuccesful lyric 0\n",
      "track metadata keys: 218498 and track metadata memory: 10485856 bytes\n"
     ]
    },
    {
     "name": "stderr",
     "output_type": "stream",
     "text": [
      "\r",
      "Playlist loop:  83%|██████████████████████████████████████████████████████████████████████████████████▎                | 831/1000 [5:38:47<2:36:40, 55.62s/it]"
     ]
    },
    {
     "name": "stdout",
     "output_type": "stream",
     "text": [
      "Number of tracks in dict: 218499\n",
      "Successful ID: 1, Unsuccesful ID 0\n",
      "Unsuccesful lyric 0\n",
      "track metadata keys: 218499 and track metadata memory: 10485856 bytes\n"
     ]
    },
    {
     "name": "stderr",
     "output_type": "stream",
     "text": [
      "\r",
      "Playlist loop:  83%|██████████████████████████████████████████████████████████████████████████████████▎                | 832/1000 [5:39:45<2:37:23, 56.21s/it]"
     ]
    },
    {
     "name": "stdout",
     "output_type": "stream",
     "text": [
      "Number of tracks in dict: 218514\n",
      "Successful ID: 14, Unsuccesful ID 1\n",
      "Unsuccesful lyric 0\n",
      "track metadata keys: 218514 and track metadata memory: 10485856 bytes\n"
     ]
    },
    {
     "name": "stderr",
     "output_type": "stream",
     "text": [
      "\r",
      "Playlist loop:  83%|██████████████████████████████████████████████████████████████████████████████████▍                | 833/1000 [5:40:04<2:09:13, 46.43s/it]"
     ]
    },
    {
     "name": "stdout",
     "output_type": "stream",
     "text": [
      "Number of tracks in dict: 218519\n",
      "Successful ID: 5, Unsuccesful ID 0\n",
      "Unsuccesful lyric 0\n",
      "track metadata keys: 218519 and track metadata memory: 10485856 bytes\n"
     ]
    },
    {
     "name": "stderr",
     "output_type": "stream",
     "text": [
      "\r",
      "Playlist loop:  83%|██████████████████████████████████████████████████████████████████████████████████▌                | 834/1000 [5:41:40<2:46:16, 60.10s/it]"
     ]
    },
    {
     "name": "stdout",
     "output_type": "stream",
     "text": [
      "Number of tracks in dict: 218557\n",
      "Successful ID: 23, Unsuccesful ID 15\n",
      "Unsuccesful lyric 0\n",
      "track metadata keys: 218557 and track metadata memory: 10485856 bytes\n"
     ]
    },
    {
     "name": "stderr",
     "output_type": "stream",
     "text": [
      "\r",
      "Playlist loop:  84%|██████████████████████████████████████████████████████████████████████████████████▋                | 835/1000 [5:41:44<2:01:30, 44.18s/it]"
     ]
    },
    {
     "name": "stdout",
     "output_type": "stream",
     "text": [
      "Number of tracks in dict: 218558\n",
      "Successful ID: 1, Unsuccesful ID 0\n",
      "Unsuccesful lyric 0\n",
      "track metadata keys: 218558 and track metadata memory: 10485856 bytes\n"
     ]
    },
    {
     "name": "stderr",
     "output_type": "stream",
     "text": [
      "\r",
      "Playlist loop:  84%|██████████████████████████████████████████████████████████████████████████████████▊                | 836/1000 [5:42:01<1:39:18, 36.33s/it]"
     ]
    },
    {
     "name": "stdout",
     "output_type": "stream",
     "text": [
      "Number of tracks in dict: 218563\n",
      "Successful ID: 5, Unsuccesful ID 0\n",
      "Unsuccesful lyric 0\n",
      "track metadata keys: 218563 and track metadata memory: 10485856 bytes\n"
     ]
    },
    {
     "name": "stderr",
     "output_type": "stream",
     "text": [
      "\r",
      "Playlist loop:  84%|██████████████████████████████████████████████████████████████████████████████████▊                | 837/1000 [5:43:39<2:27:52, 54.44s/it]"
     ]
    },
    {
     "name": "stdout",
     "output_type": "stream",
     "text": [
      "Number of tracks in dict: 218596\n",
      "Successful ID: 25, Unsuccesful ID 8\n",
      "Unsuccesful lyric 0\n",
      "track metadata keys: 218596 and track metadata memory: 10485856 bytes\n"
     ]
    },
    {
     "name": "stderr",
     "output_type": "stream",
     "text": [
      "\r",
      "Playlist loop:  84%|██████████████████████████████████████████████████████████████████████████████████▉                | 838/1000 [5:43:40<1:44:06, 38.56s/it]"
     ]
    },
    {
     "name": "stdout",
     "output_type": "stream",
     "text": [
      "Number of tracks in dict: 218597\n",
      "Successful ID: 0, Unsuccesful ID 1\n",
      "Unsuccesful lyric 0\n",
      "track metadata keys: 218597 and track metadata memory: 10485856 bytes\n"
     ]
    },
    {
     "name": "stderr",
     "output_type": "stream",
     "text": [
      "\r",
      "Playlist loop:  84%|███████████████████████████████████████████████████████████████████████████████████                | 839/1000 [5:43:47<1:18:47, 29.36s/it]"
     ]
    },
    {
     "name": "stdout",
     "output_type": "stream",
     "text": [
      "Number of tracks in dict: 218602\n",
      "Successful ID: 2, Unsuccesful ID 3\n",
      "Unsuccesful lyric 0\n",
      "track metadata keys: 218602 and track metadata memory: 10485856 bytes\n"
     ]
    },
    {
     "name": "stderr",
     "output_type": "stream",
     "text": [
      "\r",
      "Playlist loop:  84%|███████████████████████████████████████████████████████████████████████████████████▏               | 840/1000 [5:44:16<1:17:35, 29.10s/it]"
     ]
    },
    {
     "name": "stdout",
     "output_type": "stream",
     "text": [
      "Number of tracks in dict: 218617\n",
      "Successful ID: 7, Unsuccesful ID 8\n",
      "Unsuccesful lyric 0\n",
      "track metadata keys: 218617 and track metadata memory: 10485856 bytes\n"
     ]
    },
    {
     "name": "stderr",
     "output_type": "stream",
     "text": [
      "\r",
      "Playlist loop:  84%|███████████████████████████████████████████████████████████████████████████████████▎               | 841/1000 [5:44:27<1:03:20, 23.90s/it]"
     ]
    },
    {
     "name": "stdout",
     "output_type": "stream",
     "text": [
      "Number of tracks in dict: 218620\n",
      "Successful ID: 3, Unsuccesful ID 0\n",
      "Unsuccesful lyric 0\n",
      "track metadata keys: 218620 and track metadata memory: 10485856 bytes\n"
     ]
    },
    {
     "name": "stderr",
     "output_type": "stream",
     "text": [
      "\r",
      "Playlist loop:  84%|███████████████████████████████████████████████████████████████████████████████████▎               | 842/1000 [5:44:53<1:04:07, 24.35s/it]"
     ]
    },
    {
     "name": "stdout",
     "output_type": "stream",
     "text": [
      "Number of tracks in dict: 218632\n",
      "Successful ID: 6, Unsuccesful ID 6\n",
      "Unsuccesful lyric 0\n",
      "track metadata keys: 218632 and track metadata memory: 10485856 bytes\n"
     ]
    },
    {
     "name": "stderr",
     "output_type": "stream",
     "text": [
      "\r",
      "Playlist loop:  84%|█████████████████████████████████████████████████████████████████████████████████████▏               | 843/1000 [5:44:53<44:49, 17.13s/it]"
     ]
    },
    {
     "name": "stdout",
     "output_type": "stream",
     "text": [
      "Number of tracks in dict: 218633\n",
      "Successful ID: 0, Unsuccesful ID 1\n",
      "Unsuccesful lyric 0\n",
      "track metadata keys: 218633 and track metadata memory: 10485856 bytes\n"
     ]
    },
    {
     "name": "stderr",
     "output_type": "stream",
     "text": [
      "\r",
      "Playlist loop:  84%|█████████████████████████████████████████████████████████████████████████████████████▏               | 844/1000 [5:44:59<35:45, 13.75s/it]"
     ]
    },
    {
     "name": "stdout",
     "output_type": "stream",
     "text": [
      "Number of tracks in dict: 218636\n",
      "Successful ID: 1, Unsuccesful ID 2\n",
      "Unsuccesful lyric 0\n",
      "track metadata keys: 218636 and track metadata memory: 10485856 bytes\n"
     ]
    },
    {
     "name": "stderr",
     "output_type": "stream",
     "text": [
      "\r",
      "Playlist loop:  84%|███████████████████████████████████████████████████████████████████████████████████▋               | 845/1000 [5:47:49<2:36:30, 60.58s/it]"
     ]
    },
    {
     "name": "stdout",
     "output_type": "stream",
     "text": [
      "Number of tracks in dict: 218682\n",
      "Successful ID: 44, Unsuccesful ID 2\n",
      "Unsuccesful lyric 0\n",
      "track metadata keys: 218682 and track metadata memory: 10485856 bytes\n"
     ]
    },
    {
     "name": "stderr",
     "output_type": "stream",
     "text": [
      "\r",
      "Playlist loop:  85%|███████████████████████████████████████████████████████████████████████████████████▊               | 846/1000 [5:48:08<2:03:17, 48.04s/it]"
     ]
    },
    {
     "name": "stdout",
     "output_type": "stream",
     "text": [
      "Number of tracks in dict: 218688\n",
      "Successful ID: 5, Unsuccesful ID 1\n",
      "Unsuccesful lyric 0\n",
      "track metadata keys: 218688 and track metadata memory: 10485856 bytes\n"
     ]
    },
    {
     "name": "stderr",
     "output_type": "stream",
     "text": [
      "\r",
      "Playlist loop:  85%|███████████████████████████████████████████████████████████████████████████████████▊               | 847/1000 [5:48:33<1:45:23, 41.33s/it]"
     ]
    },
    {
     "name": "stdout",
     "output_type": "stream",
     "text": [
      "Number of tracks in dict: 218696\n",
      "Successful ID: 6, Unsuccesful ID 2\n",
      "Unsuccesful lyric 0\n",
      "track metadata keys: 218696 and track metadata memory: 10485856 bytes\n",
      "Number of tracks in dict: 218696\n",
      "Successful ID: 0, Unsuccesful ID 0\n",
      "Unsuccesful lyric 0\n",
      "track metadata keys: 218696 and track metadata memory: 10485856 bytes\n"
     ]
    },
    {
     "name": "stderr",
     "output_type": "stream",
     "text": [
      "\r",
      "Playlist loop:  85%|████████████████████████████████████████████████████████████████████████████████████               | 849/1000 [5:48:57<1:09:42, 27.70s/it]"
     ]
    },
    {
     "name": "stdout",
     "output_type": "stream",
     "text": [
      "Number of tracks in dict: 218712\n",
      "Successful ID: 6, Unsuccesful ID 10\n",
      "Unsuccesful lyric 0\n",
      "track metadata keys: 218712 and track metadata memory: 10485856 bytes\n"
     ]
    },
    {
     "name": "stderr",
     "output_type": "stream",
     "text": [
      "\r",
      "Playlist loop:  85%|█████████████████████████████████████████████████████████████████████████████████████▊               | 850/1000 [5:49:01<54:39, 21.86s/it]"
     ]
    },
    {
     "name": "stdout",
     "output_type": "stream",
     "text": [
      "Number of tracks in dict: 218713\n",
      "Successful ID: 1, Unsuccesful ID 0\n",
      "Unsuccesful lyric 0\n",
      "track metadata keys: 218713 and track metadata memory: 10485856 bytes\n"
     ]
    },
    {
     "name": "stderr",
     "output_type": "stream",
     "text": [
      "\r",
      "Playlist loop:  85%|█████████████████████████████████████████████████████████████████████████████████████▉               | 851/1000 [5:49:05<42:35, 17.15s/it]"
     ]
    },
    {
     "name": "stdout",
     "output_type": "stream",
     "text": [
      "Number of tracks in dict: 218714\n",
      "Successful ID: 1, Unsuccesful ID 0\n",
      "Unsuccesful lyric 0\n",
      "track metadata keys: 218714 and track metadata memory: 10485856 bytes\n"
     ]
    },
    {
     "name": "stderr",
     "output_type": "stream",
     "text": [
      "\r",
      "Playlist loop:  85%|██████████████████████████████████████████████████████████████████████████████████████               | 852/1000 [5:49:32<48:58, 19.86s/it]"
     ]
    },
    {
     "name": "stdout",
     "output_type": "stream",
     "text": [
      "Number of tracks in dict: 218724\n",
      "Successful ID: 7, Unsuccesful ID 3\n",
      "Unsuccesful lyric 0\n",
      "track metadata keys: 218724 and track metadata memory: 10485856 bytes\n"
     ]
    },
    {
     "name": "stderr",
     "output_type": "stream",
     "text": [
      "\r",
      "Playlist loop:  85%|██████████████████████████████████████████████████████████████████████████████████████▏              | 853/1000 [5:49:48<45:57, 18.76s/it]"
     ]
    },
    {
     "name": "stdout",
     "output_type": "stream",
     "text": [
      "Number of tracks in dict: 218729\n",
      "Successful ID: 4, Unsuccesful ID 1\n",
      "Unsuccesful lyric 0\n",
      "track metadata keys: 218729 and track metadata memory: 10485856 bytes\n"
     ]
    },
    {
     "name": "stderr",
     "output_type": "stream",
     "text": [
      "\r",
      "Playlist loop:  85%|██████████████████████████████████████████████████████████████████████████████████████▎              | 854/1000 [5:50:05<44:36, 18.33s/it]"
     ]
    },
    {
     "name": "stdout",
     "output_type": "stream",
     "text": [
      "Number of tracks in dict: 218734\n",
      "Successful ID: 5, Unsuccesful ID 0\n",
      "Unsuccesful lyric 0\n",
      "track metadata keys: 218734 and track metadata memory: 10485856 bytes\n"
     ]
    },
    {
     "name": "stderr",
     "output_type": "stream",
     "text": [
      "\r",
      "Playlist loop:  86%|████████████████████████████████████████████████████████████████████████████████████▋              | 855/1000 [5:50:59<1:08:51, 28.50s/it]"
     ]
    },
    {
     "name": "stdout",
     "output_type": "stream",
     "text": [
      "Number of tracks in dict: 218771\n",
      "Successful ID: 12, Unsuccesful ID 25\n",
      "Unsuccesful lyric 0\n",
      "track metadata keys: 218771 and track metadata memory: 10485856 bytes\n"
     ]
    },
    {
     "name": "stderr",
     "output_type": "stream",
     "text": [
      "\r",
      "Playlist loop:  86%|██████████████████████████████████████████████████████████████████████████████████████▍              | 856/1000 [5:51:03<51:09, 21.31s/it]"
     ]
    },
    {
     "name": "stdout",
     "output_type": "stream",
     "text": [
      "Number of tracks in dict: 218772\n",
      "Successful ID: 1, Unsuccesful ID 0\n",
      "Unsuccesful lyric 0\n",
      "track metadata keys: 218772 and track metadata memory: 10485856 bytes\n"
     ]
    },
    {
     "name": "stderr",
     "output_type": "stream",
     "text": [
      "\r",
      "Playlist loop:  86%|██████████████████████████████████████████████████████████████████████████████████████▌              | 857/1000 [5:51:29<54:11, 22.73s/it]"
     ]
    },
    {
     "name": "stdout",
     "output_type": "stream",
     "text": [
      "Number of tracks in dict: 218783\n",
      "Successful ID: 7, Unsuccesful ID 4\n",
      "Unsuccesful lyric 0\n",
      "track metadata keys: 218783 and track metadata memory: 10485856 bytes\n"
     ]
    },
    {
     "name": "stderr",
     "output_type": "stream",
     "text": [
      "\r",
      "Playlist loop:  86%|██████████████████████████████████████████████████████████████████████████████████████▋              | 858/1000 [5:51:43<47:40, 20.14s/it]"
     ]
    },
    {
     "name": "stdout",
     "output_type": "stream",
     "text": [
      "Number of tracks in dict: 218787\n",
      "Successful ID: 4, Unsuccesful ID 0\n",
      "Unsuccesful lyric 0\n",
      "track metadata keys: 218787 and track metadata memory: 10485856 bytes\n"
     ]
    },
    {
     "name": "stderr",
     "output_type": "stream",
     "text": [
      "\r",
      "Playlist loop:  86%|██████████████████████████████████████████████████████████████████████████████████████▊              | 859/1000 [5:51:51<39:13, 16.69s/it]"
     ]
    },
    {
     "name": "stdout",
     "output_type": "stream",
     "text": [
      "Number of tracks in dict: 218791\n",
      "Successful ID: 2, Unsuccesful ID 2\n",
      "Unsuccesful lyric 0\n",
      "track metadata keys: 218791 and track metadata memory: 10485856 bytes\n"
     ]
    },
    {
     "name": "stderr",
     "output_type": "stream",
     "text": [
      "\r",
      "Playlist loop:  86%|██████████████████████████████████████████████████████████████████████████████████████▊              | 860/1000 [5:52:13<42:42, 18.30s/it]"
     ]
    },
    {
     "name": "stdout",
     "output_type": "stream",
     "text": [
      "Number of tracks in dict: 218797\n",
      "Successful ID: 6, Unsuccesful ID 0\n",
      "Unsuccesful lyric 0\n",
      "track metadata keys: 218797 and track metadata memory: 10485856 bytes\n"
     ]
    },
    {
     "name": "stderr",
     "output_type": "stream",
     "text": [
      "\r",
      "Playlist loop:  86%|██████████████████████████████████████████████████████████████████████████████████████▉              | 861/1000 [5:52:57<59:58, 25.89s/it]"
     ]
    },
    {
     "name": "stdout",
     "output_type": "stream",
     "text": [
      "Number of tracks in dict: 218813\n",
      "Successful ID: 11, Unsuccesful ID 5\n",
      "Unsuccesful lyric 0\n",
      "track metadata keys: 218813 and track metadata memory: 10485856 bytes\n"
     ]
    },
    {
     "name": "stderr",
     "output_type": "stream",
     "text": [
      "\r",
      "Playlist loop:  86%|█████████████████████████████████████████████████████████████████████████████████████▎             | 862/1000 [5:53:28<1:03:23, 27.56s/it]"
     ]
    },
    {
     "name": "stdout",
     "output_type": "stream",
     "text": [
      "Number of tracks in dict: 218822\n",
      "Successful ID: 8, Unsuccesful ID 1\n",
      "Unsuccesful lyric 0\n",
      "track metadata keys: 218822 and track metadata memory: 10485856 bytes\n"
     ]
    },
    {
     "name": "stderr",
     "output_type": "stream",
     "text": [
      "\r",
      "Playlist loop:  86%|███████████████████████████████████████████████████████████████████████████████████████▏             | 863/1000 [5:53:35<48:37, 21.30s/it]"
     ]
    },
    {
     "name": "stdout",
     "output_type": "stream",
     "text": [
      "Number of tracks in dict: 218824\n",
      "Successful ID: 2, Unsuccesful ID 0\n",
      "Unsuccesful lyric 0\n",
      "track metadata keys: 218824 and track metadata memory: 10485856 bytes\n"
     ]
    },
    {
     "name": "stderr",
     "output_type": "stream",
     "text": [
      "\r",
      "Playlist loop:  86%|███████████████████████████████████████████████████████████████████████████████████████▎             | 864/1000 [5:53:43<39:29, 17.42s/it]"
     ]
    },
    {
     "name": "stdout",
     "output_type": "stream",
     "text": [
      "Number of tracks in dict: 218826\n",
      "Successful ID: 2, Unsuccesful ID 0\n",
      "Unsuccesful lyric 0\n",
      "track metadata keys: 218826 and track metadata memory: 10485856 bytes\n"
     ]
    },
    {
     "name": "stderr",
     "output_type": "stream",
     "text": [
      "\r",
      "Playlist loop:  86%|███████████████████████████████████████████████████████████████████████████████████████▎             | 865/1000 [5:53:44<27:38, 12.28s/it]"
     ]
    },
    {
     "name": "stdout",
     "output_type": "stream",
     "text": [
      "Number of tracks in dict: 218827\n",
      "Successful ID: 0, Unsuccesful ID 1\n",
      "Unsuccesful lyric 0\n",
      "track metadata keys: 218827 and track metadata memory: 10485856 bytes\n",
      "Number of tracks in dict: 218827\n",
      "Successful ID: 0, Unsuccesful ID 0\n",
      "Unsuccesful lyric 0\n",
      "track metadata keys: 218827 and track metadata memory: 10485856 bytes\n"
     ]
    },
    {
     "name": "stderr",
     "output_type": "stream",
     "text": [
      "\r",
      "Playlist loop:  87%|███████████████████████████████████████████████████████████████████████████████████████▌             | 867/1000 [5:53:51<18:23,  8.30s/it]"
     ]
    },
    {
     "name": "stdout",
     "output_type": "stream",
     "text": [
      "Number of tracks in dict: 218835\n",
      "Successful ID: 1, Unsuccesful ID 7\n",
      "Unsuccesful lyric 0\n",
      "track metadata keys: 218835 and track metadata memory: 10485856 bytes\n"
     ]
    },
    {
     "name": "stderr",
     "output_type": "stream",
     "text": [
      "\r",
      "Playlist loop:  87%|█████████████████████████████████████████████████████████████████████████████████████▉             | 868/1000 [5:55:44<1:15:06, 34.14s/it]"
     ]
    },
    {
     "name": "stdout",
     "output_type": "stream",
     "text": [
      "Number of tracks in dict: 218875\n",
      "Successful ID: 29, Unsuccesful ID 11\n",
      "Unsuccesful lyric 0\n",
      "track metadata keys: 218875 and track metadata memory: 10485856 bytes\n"
     ]
    },
    {
     "name": "stderr",
     "output_type": "stream",
     "text": [
      "\r",
      "Playlist loop:  87%|██████████████████████████████████████████████████████████████████████████████████████             | 869/1000 [5:55:55<1:01:41, 28.26s/it]"
     ]
    },
    {
     "name": "stdout",
     "output_type": "stream",
     "text": [
      "Number of tracks in dict: 218880\n",
      "Successful ID: 3, Unsuccesful ID 2\n",
      "Unsuccesful lyric 0\n",
      "track metadata keys: 218880 and track metadata memory: 10485856 bytes\n",
      "Number of tracks in dict: 218880\n",
      "Successful ID: 0, Unsuccesful ID 0\n",
      "Unsuccesful lyric 0\n",
      "track metadata keys: 218880 and track metadata memory: 10485856 bytes\n"
     ]
    },
    {
     "name": "stderr",
     "output_type": "stream",
     "text": [
      "\r",
      "Playlist loop:  87%|███████████████████████████████████████████████████████████████████████████████████████▉             | 871/1000 [5:55:56<35:04, 16.32s/it]"
     ]
    },
    {
     "name": "stdout",
     "output_type": "stream",
     "text": [
      "Number of tracks in dict: 218881\n",
      "Successful ID: 0, Unsuccesful ID 1\n",
      "Unsuccesful lyric 0\n",
      "track metadata keys: 218881 and track metadata memory: 10485856 bytes\n"
     ]
    },
    {
     "name": "stderr",
     "output_type": "stream",
     "text": [
      "\r",
      "Playlist loop:  87%|████████████████████████████████████████████████████████████████████████████████████████             | 872/1000 [5:56:11<34:09, 16.01s/it]"
     ]
    },
    {
     "name": "stdout",
     "output_type": "stream",
     "text": [
      "Number of tracks in dict: 218889\n",
      "Successful ID: 4, Unsuccesful ID 4\n",
      "Unsuccesful lyric 0\n",
      "track metadata keys: 218889 and track metadata memory: 10485856 bytes\n",
      "Number of tracks in dict: 218889\n",
      "Successful ID: 0, Unsuccesful ID 0\n",
      "Unsuccesful lyric 0\n",
      "track metadata keys: 218889 and track metadata memory: 10485856 bytes\n"
     ]
    },
    {
     "name": "stderr",
     "output_type": "stream",
     "text": [
      "\r",
      "Playlist loop:  87%|████████████████████████████████████████████████████████████████████████████████████████▎            | 874/1000 [5:57:08<44:03, 20.98s/it]"
     ]
    },
    {
     "name": "stdout",
     "output_type": "stream",
     "text": [
      "Number of tracks in dict: 218906\n",
      "Successful ID: 15, Unsuccesful ID 2\n",
      "Unsuccesful lyric 0\n",
      "track metadata keys: 218906 and track metadata memory: 10485856 bytes\n"
     ]
    },
    {
     "name": "stderr",
     "output_type": "stream",
     "text": [
      "\r",
      "Playlist loop:  88%|████████████████████████████████████████████████████████████████████████████████████████▍            | 875/1000 [5:57:34<46:02, 22.10s/it]"
     ]
    },
    {
     "name": "stdout",
     "output_type": "stream",
     "text": [
      "Number of tracks in dict: 218915\n",
      "Successful ID: 7, Unsuccesful ID 2\n",
      "Unsuccesful lyric 0\n",
      "track metadata keys: 218915 and track metadata memory: 10485856 bytes\n"
     ]
    },
    {
     "name": "stderr",
     "output_type": "stream",
     "text": [
      "\r",
      "Playlist loop:  88%|████████████████████████████████████████████████████████████████████████████████████████▍            | 876/1000 [5:57:37<36:22, 17.60s/it]"
     ]
    },
    {
     "name": "stdout",
     "output_type": "stream",
     "text": [
      "Number of tracks in dict: 218916\n",
      "Successful ID: 1, Unsuccesful ID 0\n",
      "Unsuccesful lyric 0\n",
      "track metadata keys: 218916 and track metadata memory: 10485856 bytes\n"
     ]
    },
    {
     "name": "stderr",
     "output_type": "stream",
     "text": [
      "\r",
      "Playlist loop:  88%|████████████████████████████████████████████████████████████████████████████████████████▌            | 877/1000 [5:58:23<50:52, 24.82s/it]"
     ]
    },
    {
     "name": "stdout",
     "output_type": "stream",
     "text": [
      "Number of tracks in dict: 218931\n",
      "Successful ID: 11, Unsuccesful ID 4\n",
      "Unsuccesful lyric 0\n",
      "track metadata keys: 218931 and track metadata memory: 10485856 bytes\n"
     ]
    },
    {
     "name": "stderr",
     "output_type": "stream",
     "text": [
      "\r",
      "Playlist loop:  88%|████████████████████████████████████████████████████████████████████████████████████████▋            | 878/1000 [5:58:30<40:37, 19.98s/it]"
     ]
    },
    {
     "name": "stdout",
     "output_type": "stream",
     "text": [
      "Number of tracks in dict: 218933\n",
      "Successful ID: 1, Unsuccesful ID 1\n",
      "Unsuccesful lyric 0\n",
      "track metadata keys: 218933 and track metadata memory: 10485856 bytes\n"
     ]
    },
    {
     "name": "stderr",
     "output_type": "stream",
     "text": [
      "\r",
      "Playlist loop:  88%|███████████████████████████████████████████████████████████████████████████████████████            | 879/1000 [6:00:01<1:20:03, 39.70s/it]"
     ]
    },
    {
     "name": "stdout",
     "output_type": "stream",
     "text": [
      "Number of tracks in dict: 218966\n",
      "Successful ID: 24, Unsuccesful ID 9\n",
      "Unsuccesful lyric 0\n",
      "track metadata keys: 218966 and track metadata memory: 10485856 bytes\n",
      "Number of tracks in dict: 218966\n",
      "Successful ID: 0, Unsuccesful ID 0\n",
      "Unsuccesful lyric 0\n",
      "track metadata keys: 218966 and track metadata memory: 10485856 bytes\n"
     ]
    },
    {
     "name": "stderr",
     "output_type": "stream",
     "text": [
      "\r",
      "Playlist loop:  88%|████████████████████████████████████████████████████████████████████████████████████████▉            | 881/1000 [6:00:09<47:18, 23.86s/it]"
     ]
    },
    {
     "name": "stdout",
     "output_type": "stream",
     "text": [
      "Number of tracks in dict: 218968\n",
      "Successful ID: 2, Unsuccesful ID 0\n",
      "Unsuccesful lyric 0\n",
      "track metadata keys: 218968 and track metadata memory: 10485856 bytes\n"
     ]
    },
    {
     "name": "stderr",
     "output_type": "stream",
     "text": [
      "\r",
      "Playlist loop:  88%|███████████████████████████████████████████████████████████████████████████████████████▎           | 882/1000 [6:03:58<2:23:59, 73.22s/it]"
     ]
    },
    {
     "name": "stdout",
     "output_type": "stream",
     "text": [
      "Number of tracks in dict: 219077\n",
      "Successful ID: 52, Unsuccesful ID 57\n",
      "Unsuccesful lyric 0\n",
      "track metadata keys: 219077 and track metadata memory: 10485856 bytes\n"
     ]
    },
    {
     "name": "stderr",
     "output_type": "stream",
     "text": [
      "\r",
      "Playlist loop:  88%|██████████████████████████████████████████████████████████████████████████████████████▌           | 883/1000 [6:08:31<4:01:55, 124.06s/it]"
     ]
    },
    {
     "name": "stdout",
     "output_type": "stream",
     "text": [
      "Number of tracks in dict: 219158\n",
      "Successful ID: 75, Unsuccesful ID 6\n",
      "Unsuccesful lyric 0\n",
      "track metadata keys: 219158 and track metadata memory: 10485856 bytes\n"
     ]
    },
    {
     "name": "stderr",
     "output_type": "stream",
     "text": [
      "\r",
      "Playlist loop:  88%|██████████████████████████████████████████████████████████████████████████████████████▋           | 884/1000 [6:10:08<3:46:09, 116.98s/it]"
     ]
    },
    {
     "name": "stdout",
     "output_type": "stream",
     "text": [
      "Number of tracks in dict: 219184\n",
      "Successful ID: 26, Unsuccesful ID 0\n",
      "Unsuccesful lyric 0\n",
      "track metadata keys: 219184 and track metadata memory: 10485856 bytes\n",
      "Number of tracks in dict: 219184\n",
      "Successful ID: 0, Unsuccesful ID 0\n",
      "Unsuccesful lyric 0\n",
      "track metadata keys: 219184 and track metadata memory: 10485856 bytes\n",
      "Number of tracks in dict: 219184\n",
      "Successful ID: 0, Unsuccesful ID 0\n",
      "Unsuccesful lyric 0\n",
      "track metadata keys: 219184 and track metadata memory: 10485856 bytes\n"
     ]
    },
    {
     "name": "stderr",
     "output_type": "stream",
     "text": [
      "\r",
      "Playlist loop:  89%|███████████████████████████████████████████████████████████████████████████████████████▊           | 887/1000 [6:10:11<1:43:41, 55.06s/it]"
     ]
    },
    {
     "name": "stdout",
     "output_type": "stream",
     "text": [
      "Number of tracks in dict: 219185\n",
      "Successful ID: 1, Unsuccesful ID 0\n",
      "Unsuccesful lyric 0\n",
      "track metadata keys: 219185 and track metadata memory: 10485856 bytes\n",
      "Number of tracks in dict: 219185\n",
      "Successful ID: 0, Unsuccesful ID 0\n",
      "Unsuccesful lyric 0\n",
      "track metadata keys: 219185 and track metadata memory: 10485856 bytes\n"
     ]
    },
    {
     "name": "stderr",
     "output_type": "stream",
     "text": [
      "\r",
      "Playlist loop:  89%|████████████████████████████████████████████████████████████████████████████████████████           | 889/1000 [6:10:12<1:07:49, 36.66s/it]"
     ]
    },
    {
     "name": "stdout",
     "output_type": "stream",
     "text": [
      "Number of tracks in dict: 219187\n",
      "Successful ID: 0, Unsuccesful ID 2\n",
      "Unsuccesful lyric 0\n",
      "track metadata keys: 219187 and track metadata memory: 10485856 bytes\n"
     ]
    },
    {
     "name": "stderr",
     "output_type": "stream",
     "text": [
      "\r",
      "Playlist loop:  89%|█████████████████████████████████████████████████████████████████████████████████████████▉           | 890/1000 [6:10:26<59:06, 32.24s/it]"
     ]
    },
    {
     "name": "stdout",
     "output_type": "stream",
     "text": [
      "Number of tracks in dict: 219199\n",
      "Successful ID: 3, Unsuccesful ID 9\n",
      "Unsuccesful lyric 0\n",
      "track metadata keys: 219199 and track metadata memory: 10485856 bytes\n"
     ]
    },
    {
     "name": "stderr",
     "output_type": "stream",
     "text": [
      "\r",
      "Playlist loop:  89%|█████████████████████████████████████████████████████████████████████████████████████████▉           | 891/1000 [6:10:31<47:40, 26.24s/it]"
     ]
    },
    {
     "name": "stdout",
     "output_type": "stream",
     "text": [
      "Number of tracks in dict: 219200\n",
      "Successful ID: 1, Unsuccesful ID 0\n",
      "Unsuccesful lyric 0\n",
      "track metadata keys: 219200 and track metadata memory: 10485856 bytes\n"
     ]
    },
    {
     "name": "stderr",
     "output_type": "stream",
     "text": [
      "\r",
      "Playlist loop:  89%|████████████████████████████████████████████████████████████████████████████████████████▎          | 892/1000 [6:11:59<1:13:41, 40.94s/it]"
     ]
    },
    {
     "name": "stdout",
     "output_type": "stream",
     "text": [
      "Number of tracks in dict: 219238\n",
      "Successful ID: 22, Unsuccesful ID 16\n",
      "Unsuccesful lyric 0\n",
      "track metadata keys: 219238 and track metadata memory: 10485856 bytes\n"
     ]
    },
    {
     "name": "stderr",
     "output_type": "stream",
     "text": [
      "\r",
      "Playlist loop:  89%|████████████████████████████████████████████████████████████████████████████████████████▍          | 893/1000 [6:12:31<1:09:08, 38.77s/it]"
     ]
    },
    {
     "name": "stdout",
     "output_type": "stream",
     "text": [
      "Number of tracks in dict: 219247\n",
      "Successful ID: 8, Unsuccesful ID 1\n",
      "Unsuccesful lyric 0\n",
      "track metadata keys: 219247 and track metadata memory: 10485856 bytes\n",
      "Number of tracks in dict: 219247\n",
      "Successful ID: 0, Unsuccesful ID 0\n",
      "Unsuccesful lyric 0\n",
      "track metadata keys: 219247 and track metadata memory: 10485856 bytes\n",
      "Number of tracks in dict: 219247\n",
      "Successful ID: 0, Unsuccesful ID 0\n",
      "Unsuccesful lyric 0\n",
      "track metadata keys: 219247 and track metadata memory: 10485856 bytes\n"
     ]
    },
    {
     "name": "stderr",
     "output_type": "stream",
     "text": [
      "\r",
      "Playlist loop:  90%|██████████████████████████████████████████████████████████████████████████████████████████▍          | 896/1000 [6:12:56<39:38, 22.87s/it]"
     ]
    },
    {
     "name": "stdout",
     "output_type": "stream",
     "text": [
      "Number of tracks in dict: 219288\n",
      "Successful ID: 3, Unsuccesful ID 38\n",
      "Unsuccesful lyric 0\n",
      "track metadata keys: 219288 and track metadata memory: 10485856 bytes\n"
     ]
    },
    {
     "name": "stderr",
     "output_type": "stream",
     "text": [
      "\r",
      "Playlist loop:  90%|██████████████████████████████████████████████████████████████████████████████████████████▌          | 897/1000 [6:13:01<33:04, 19.26s/it]"
     ]
    },
    {
     "name": "stdout",
     "output_type": "stream",
     "text": [
      "Number of tracks in dict: 219292\n",
      "Successful ID: 1, Unsuccesful ID 3\n",
      "Unsuccesful lyric 0\n",
      "track metadata keys: 219292 and track metadata memory: 10485856 bytes\n"
     ]
    },
    {
     "name": "stderr",
     "output_type": "stream",
     "text": [
      "\r",
      "Playlist loop:  90%|██████████████████████████████████████████████████████████████████████████████████████████▋          | 898/1000 [6:13:52<44:56, 26.44s/it]"
     ]
    },
    {
     "name": "stdout",
     "output_type": "stream",
     "text": [
      "Number of tracks in dict: 219319\n",
      "Successful ID: 12, Unsuccesful ID 15\n",
      "Unsuccesful lyric 0\n",
      "track metadata keys: 219319 and track metadata memory: 10485856 bytes\n"
     ]
    },
    {
     "name": "stderr",
     "output_type": "stream",
     "text": [
      "\r",
      "Playlist loop:  90%|██████████████████████████████████████████████████████████████████████████████████████████▊          | 899/1000 [6:13:59<36:33, 21.72s/it]"
     ]
    },
    {
     "name": "stdout",
     "output_type": "stream",
     "text": [
      "Number of tracks in dict: 219321\n",
      "Successful ID: 2, Unsuccesful ID 0\n",
      "Unsuccesful lyric 0\n",
      "track metadata keys: 219321 and track metadata memory: 10485856 bytes\n",
      "Number of tracks in dict: 219323\n",
      "Successful ID: 2, Unsuccesful ID 0\n",
      "Unsuccesful lyric 0\n",
      "track metadata keys: 219323 and track metadata memory: 10485856 bytes\n"
     ]
    },
    {
     "name": "stderr",
     "output_type": "stream",
     "text": [
      "Playlist loop:  90%|███████████████████████████████████████████████████████████████████████████████████████████          | 901/1000 [6:14:17<26:10, 15.87s/it]"
     ]
    },
    {
     "name": "stdout",
     "output_type": "stream",
     "text": [
      "Number of tracks in dict: 219326\n",
      "Successful ID: 2, Unsuccesful ID 1\n",
      "Unsuccesful lyric 0\n",
      "track metadata keys: 219326 and track metadata memory: 10485856 bytes\n"
     ]
    },
    {
     "name": "stderr",
     "output_type": "stream",
     "text": [
      "\r",
      "Playlist loop:  90%|███████████████████████████████████████████████████████████████████████████████████████████          | 902/1000 [6:14:21<20:28, 12.54s/it]"
     ]
    },
    {
     "name": "stdout",
     "output_type": "stream",
     "text": [
      "Number of tracks in dict: 219327\n",
      "Successful ID: 1, Unsuccesful ID 0\n",
      "Unsuccesful lyric 0\n",
      "track metadata keys: 219327 and track metadata memory: 10485856 bytes\n"
     ]
    },
    {
     "name": "stderr",
     "output_type": "stream",
     "text": [
      "\r",
      "Playlist loop:  90%|███████████████████████████████████████████████████████████████████████████████████████████▏         | 903/1000 [6:14:32<19:36, 12.13s/it]"
     ]
    },
    {
     "name": "stdout",
     "output_type": "stream",
     "text": [
      "Number of tracks in dict: 219330\n",
      "Successful ID: 3, Unsuccesful ID 0\n",
      "Unsuccesful lyric 0\n",
      "track metadata keys: 219330 and track metadata memory: 10485856 bytes\n"
     ]
    },
    {
     "name": "stderr",
     "output_type": "stream",
     "text": [
      "\r",
      "Playlist loop:  90%|███████████████████████████████████████████████████████████████████████████████████████████▎         | 904/1000 [6:14:37<15:51,  9.92s/it]"
     ]
    },
    {
     "name": "stdout",
     "output_type": "stream",
     "text": [
      "Number of tracks in dict: 219331\n",
      "Successful ID: 1, Unsuccesful ID 0\n",
      "Unsuccesful lyric 0\n",
      "track metadata keys: 219331 and track metadata memory: 10485856 bytes\n"
     ]
    },
    {
     "name": "stderr",
     "output_type": "stream",
     "text": [
      "\r",
      "Playlist loop:  90%|███████████████████████████████████████████████████████████████████████████████████████████▍         | 905/1000 [6:15:00<22:05, 13.95s/it]"
     ]
    },
    {
     "name": "stdout",
     "output_type": "stream",
     "text": [
      "Number of tracks in dict: 219338\n",
      "Successful ID: 6, Unsuccesful ID 1\n",
      "Unsuccesful lyric 0\n",
      "track metadata keys: 219338 and track metadata memory: 10485856 bytes\n"
     ]
    },
    {
     "name": "stderr",
     "output_type": "stream",
     "text": [
      "\r",
      "Playlist loop:  91%|███████████████████████████████████████████████████████████████████████████████████████████▌         | 906/1000 [6:15:21<25:02, 15.98s/it]"
     ]
    },
    {
     "name": "stdout",
     "output_type": "stream",
     "text": [
      "Number of tracks in dict: 219347\n",
      "Successful ID: 5, Unsuccesful ID 4\n",
      "Unsuccesful lyric 0\n",
      "track metadata keys: 219347 and track metadata memory: 10485856 bytes\n",
      "Number of tracks in dict: 219347\n",
      "Successful ID: 0, Unsuccesful ID 0\n",
      "Unsuccesful lyric 0\n",
      "track metadata keys: 219347 and track metadata memory: 10485856 bytes\n"
     ]
    },
    {
     "name": "stderr",
     "output_type": "stream",
     "text": [
      "\r",
      "Playlist loop:  91%|███████████████████████████████████████████████████████████████████████████████████████████▋         | 908/1000 [6:16:30<37:14, 24.29s/it]"
     ]
    },
    {
     "name": "stdout",
     "output_type": "stream",
     "text": [
      "Number of tracks in dict: 219372\n",
      "Successful ID: 16, Unsuccesful ID 9\n",
      "Unsuccesful lyric 0\n",
      "track metadata keys: 219372 and track metadata memory: 10485856 bytes\n"
     ]
    },
    {
     "name": "stderr",
     "output_type": "stream",
     "text": [
      "\r",
      "Playlist loop:  91%|███████████████████████████████████████████████████████████████████████████████████████████▊         | 909/1000 [6:16:40<31:49, 20.98s/it]"
     ]
    },
    {
     "name": "stdout",
     "output_type": "stream",
     "text": [
      "Number of tracks in dict: 219374\n",
      "Successful ID: 2, Unsuccesful ID 0\n",
      "Unsuccesful lyric 0\n",
      "track metadata keys: 219374 and track metadata memory: 10485856 bytes\n"
     ]
    },
    {
     "name": "stderr",
     "output_type": "stream",
     "text": [
      "\r",
      "Playlist loop:  91%|█████████████████████████████████████████████████████████████████████████████████████████▏        | 910/1000 [6:23:39<3:06:28, 124.31s/it]"
     ]
    },
    {
     "name": "stdout",
     "output_type": "stream",
     "text": [
      "Number of tracks in dict: 219491\n",
      "Successful ID: 101, Unsuccesful ID 16\n",
      "Unsuccesful lyric 0\n",
      "track metadata keys: 219491 and track metadata memory: 10485856 bytes\n"
     ]
    },
    {
     "name": "stderr",
     "output_type": "stream",
     "text": [
      "\r",
      "Playlist loop:  91%|██████████████████████████████████████████████████████████████████████████████████████████▏        | 911/1000 [6:23:51<2:19:26, 94.01s/it]"
     ]
    },
    {
     "name": "stdout",
     "output_type": "stream",
     "text": [
      "Number of tracks in dict: 219498\n",
      "Successful ID: 3, Unsuccesful ID 4\n",
      "Unsuccesful lyric 0\n",
      "track metadata keys: 219498 and track metadata memory: 10485856 bytes\n"
     ]
    },
    {
     "name": "stderr",
     "output_type": "stream",
     "text": [
      "\r",
      "Playlist loop:  91%|██████████████████████████████████████████████████████████████████████████████████████████▎        | 912/1000 [6:24:00<1:43:12, 70.37s/it]"
     ]
    },
    {
     "name": "stdout",
     "output_type": "stream",
     "text": [
      "Number of tracks in dict: 219504\n",
      "Successful ID: 2, Unsuccesful ID 4\n",
      "Unsuccesful lyric 0\n",
      "track metadata keys: 219504 and track metadata memory: 10485856 bytes\n"
     ]
    },
    {
     "name": "stderr",
     "output_type": "stream",
     "text": [
      "\r",
      "Playlist loop:  91%|██████████████████████████████████████████████████████████████████████████████████████████▍        | 913/1000 [6:24:09<1:16:31, 52.78s/it]"
     ]
    },
    {
     "name": "stdout",
     "output_type": "stream",
     "text": [
      "Number of tracks in dict: 219507\n",
      "Successful ID: 2, Unsuccesful ID 1\n",
      "Unsuccesful lyric 0\n",
      "track metadata keys: 219507 and track metadata memory: 10485856 bytes\n"
     ]
    },
    {
     "name": "stderr",
     "output_type": "stream",
     "text": [
      "\r",
      "Playlist loop:  91%|██████████████████████████████████████████████████████████████████████████████████████████▍        | 914/1000 [6:25:04<1:16:18, 53.24s/it]"
     ]
    },
    {
     "name": "stdout",
     "output_type": "stream",
     "text": [
      "Number of tracks in dict: 219522\n",
      "Successful ID: 14, Unsuccesful ID 1\n",
      "Unsuccesful lyric 0\n",
      "track metadata keys: 219522 and track metadata memory: 10485856 bytes\n"
     ]
    },
    {
     "name": "stderr",
     "output_type": "stream",
     "text": [
      "\r",
      "Playlist loop:  92%|██████████████████████████████████████████████████████████████████████████████████████████▌        | 915/1000 [6:26:19<1:24:47, 59.86s/it]"
     ]
    },
    {
     "name": "stdout",
     "output_type": "stream",
     "text": [
      "Number of tracks in dict: 219547\n",
      "Successful ID: 20, Unsuccesful ID 5\n",
      "Unsuccesful lyric 0\n",
      "track metadata keys: 219547 and track metadata memory: 10485856 bytes\n",
      "Number of tracks in dict: 219547\n",
      "Successful ID: 0, Unsuccesful ID 0\n",
      "Unsuccesful lyric 0\n",
      "track metadata keys: 219547 and track metadata memory: 10485856 bytes\n",
      "Number of tracks in dict: 219547\n",
      "Successful ID: 0, Unsuccesful ID 0\n",
      "Unsuccesful lyric 0\n",
      "track metadata keys: 219547 and track metadata memory: 10485856 bytes\n"
     ]
    },
    {
     "name": "stderr",
     "output_type": "stream",
     "text": [
      "\r",
      "Playlist loop:  92%|████████████████████████████████████████████████████████████████████████████████████████████▋        | 918/1000 [6:27:03<47:29, 34.74s/it]"
     ]
    },
    {
     "name": "stdout",
     "output_type": "stream",
     "text": [
      "Number of tracks in dict: 219588\n",
      "Successful ID: 10, Unsuccesful ID 31\n",
      "Unsuccesful lyric 0\n",
      "track metadata keys: 219588 and track metadata memory: 10485856 bytes\n",
      "Number of tracks in dict: 219588\n",
      "Successful ID: 0, Unsuccesful ID 0\n",
      "Unsuccesful lyric 0\n",
      "track metadata keys: 219588 and track metadata memory: 10485856 bytes\n",
      "Number of tracks in dict: 219588\n",
      "Successful ID: 0, Unsuccesful ID 0\n",
      "Unsuccesful lyric 0\n",
      "track metadata keys: 219588 and track metadata memory: 10485856 bytes\n"
     ]
    },
    {
     "name": "stderr",
     "output_type": "stream",
     "text": [
      "\r",
      "Playlist loop:  92%|█████████████████████████████████████████████████████████████████████████████████████████████        | 921/1000 [6:27:20<28:36, 21.73s/it]"
     ]
    },
    {
     "name": "stdout",
     "output_type": "stream",
     "text": [
      "Number of tracks in dict: 219594\n",
      "Successful ID: 4, Unsuccesful ID 2\n",
      "Unsuccesful lyric 0\n",
      "track metadata keys: 219594 and track metadata memory: 10485856 bytes\n"
     ]
    },
    {
     "name": "stderr",
     "output_type": "stream",
     "text": [
      "\r",
      "Playlist loop:  92%|█████████████████████████████████████████████████████████████████████████████████████████████        | 922/1000 [6:27:29<25:34, 19.68s/it]"
     ]
    },
    {
     "name": "stdout",
     "output_type": "stream",
     "text": [
      "Number of tracks in dict: 219598\n",
      "Successful ID: 3, Unsuccesful ID 1\n",
      "Unsuccesful lyric 0\n",
      "track metadata keys: 219598 and track metadata memory: 10485856 bytes\n"
     ]
    },
    {
     "name": "stderr",
     "output_type": "stream",
     "text": [
      "\r",
      "Playlist loop:  92%|█████████████████████████████████████████████████████████████████████████████████████████████▏       | 923/1000 [6:27:43<23:48, 18.55s/it]"
     ]
    },
    {
     "name": "stdout",
     "output_type": "stream",
     "text": [
      "Number of tracks in dict: 219602\n",
      "Successful ID: 3, Unsuccesful ID 1\n",
      "Unsuccesful lyric 0\n",
      "track metadata keys: 219602 and track metadata memory: 10485856 bytes\n"
     ]
    },
    {
     "name": "stderr",
     "output_type": "stream",
     "text": [
      "\r",
      "Playlist loop:  92%|███████████████████████████████████████████████████████████████████████████████████████████▍       | 924/1000 [6:32:41<1:41:44, 80.32s/it]"
     ]
    },
    {
     "name": "stdout",
     "output_type": "stream",
     "text": [
      "Number of tracks in dict: 219678\n",
      "Successful ID: 73, Unsuccesful ID 3\n",
      "Unsuccesful lyric 0\n",
      "track metadata keys: 219678 and track metadata memory: 10485856 bytes\n",
      "Number of tracks in dict: 219678\n",
      "Successful ID: 0, Unsuccesful ID 0\n",
      "Unsuccesful lyric 0\n",
      "track metadata keys: 219678 and track metadata memory: 10485856 bytes\n"
     ]
    },
    {
     "name": "stderr",
     "output_type": "stream",
     "text": [
      "\r",
      "Playlist loop:  93%|███████████████████████████████████████████████████████████████████████████████████████████▋       | 926/1000 [6:33:07<1:06:48, 54.17s/it]"
     ]
    },
    {
     "name": "stdout",
     "output_type": "stream",
     "text": [
      "Number of tracks in dict: 219686\n",
      "Successful ID: 7, Unsuccesful ID 1\n",
      "Unsuccesful lyric 0\n",
      "track metadata keys: 219686 and track metadata memory: 10485856 bytes\n"
     ]
    },
    {
     "name": "stderr",
     "output_type": "stream",
     "text": [
      "\r",
      "Playlist loop:  93%|█████████████████████████████████████████████████████████████████████████████████████████████▋       | 927/1000 [6:33:28<57:20, 47.13s/it]"
     ]
    },
    {
     "name": "stdout",
     "output_type": "stream",
     "text": [
      "Number of tracks in dict: 219697\n",
      "Successful ID: 5, Unsuccesful ID 6\n",
      "Unsuccesful lyric 0\n",
      "track metadata keys: 219697 and track metadata memory: 10485856 bytes\n"
     ]
    },
    {
     "name": "stderr",
     "output_type": "stream",
     "text": [
      "\r",
      "Playlist loop:  93%|█████████████████████████████████████████████████████████████████████████████████████████████▋       | 928/1000 [6:33:33<44:37, 37.18s/it]"
     ]
    },
    {
     "name": "stdout",
     "output_type": "stream",
     "text": [
      "Number of tracks in dict: 219699\n",
      "Successful ID: 1, Unsuccesful ID 1\n",
      "Unsuccesful lyric 0\n",
      "track metadata keys: 219699 and track metadata memory: 10485856 bytes\n"
     ]
    },
    {
     "name": "stderr",
     "output_type": "stream",
     "text": [
      "\r",
      "Playlist loop:  93%|█████████████████████████████████████████████████████████████████████████████████████████████▊       | 929/1000 [6:33:41<35:08, 29.70s/it]"
     ]
    },
    {
     "name": "stdout",
     "output_type": "stream",
     "text": [
      "Number of tracks in dict: 219701\n",
      "Successful ID: 2, Unsuccesful ID 0\n",
      "Unsuccesful lyric 0\n",
      "track metadata keys: 219701 and track metadata memory: 10485856 bytes\n"
     ]
    },
    {
     "name": "stderr",
     "output_type": "stream",
     "text": [
      "\r",
      "Playlist loop:  93%|█████████████████████████████████████████████████████████████████████████████████████████████▉       | 930/1000 [6:33:45<26:36, 22.81s/it]"
     ]
    },
    {
     "name": "stdout",
     "output_type": "stream",
     "text": [
      "Number of tracks in dict: 219713\n",
      "Successful ID: 0, Unsuccesful ID 12\n",
      "Unsuccesful lyric 0\n",
      "track metadata keys: 219713 and track metadata memory: 10485856 bytes\n",
      "Number of tracks in dict: 219713\n",
      "Successful ID: 0, Unsuccesful ID 0\n",
      "Unsuccesful lyric 0\n",
      "track metadata keys: 219713 and track metadata memory: 10485856 bytes\n"
     ]
    },
    {
     "name": "stderr",
     "output_type": "stream",
     "text": [
      "\r",
      "Playlist loop:  93%|██████████████████████████████████████████████████████████████████████████████████████████████▏      | 932/1000 [6:33:58<17:58, 15.86s/it]"
     ]
    },
    {
     "name": "stdout",
     "output_type": "stream",
     "text": [
      "Number of tracks in dict: 219721\n",
      "Successful ID: 3, Unsuccesful ID 5\n",
      "Unsuccesful lyric 0\n",
      "track metadata keys: 219721 and track metadata memory: 10485856 bytes\n"
     ]
    },
    {
     "name": "stderr",
     "output_type": "stream",
     "text": [
      "\r",
      "Playlist loop:  93%|██████████████████████████████████████████████████████████████████████████████████████████████▏      | 933/1000 [6:34:06<15:32, 13.92s/it]"
     ]
    },
    {
     "name": "stdout",
     "output_type": "stream",
     "text": [
      "Number of tracks in dict: 219725\n",
      "Successful ID: 2, Unsuccesful ID 2\n",
      "Unsuccesful lyric 0\n",
      "track metadata keys: 219725 and track metadata memory: 10485856 bytes\n"
     ]
    },
    {
     "name": "stderr",
     "output_type": "stream",
     "text": [
      "\r",
      "Playlist loop:  93%|██████████████████████████████████████████████████████████████████████████████████████████████▎      | 934/1000 [6:34:16<14:15, 12.97s/it]"
     ]
    },
    {
     "name": "stdout",
     "output_type": "stream",
     "text": [
      "Number of tracks in dict: 219727\n",
      "Successful ID: 2, Unsuccesful ID 0\n",
      "Unsuccesful lyric 0\n",
      "track metadata keys: 219727 and track metadata memory: 10485856 bytes\n",
      "Number of tracks in dict: 219727\n",
      "Successful ID: 0, Unsuccesful ID 0\n",
      "Unsuccesful lyric 0\n",
      "track metadata keys: 219727 and track metadata memory: 10485856 bytes\n"
     ]
    },
    {
     "name": "stderr",
     "output_type": "stream",
     "text": [
      "\r",
      "Playlist loop:  94%|██████████████████████████████████████████████████████████████████████████████████████████████▌      | 936/1000 [6:35:15<21:09, 19.84s/it]"
     ]
    },
    {
     "name": "stdout",
     "output_type": "stream",
     "text": [
      "Number of tracks in dict: 219777\n",
      "Successful ID: 12, Unsuccesful ID 38\n",
      "Unsuccesful lyric 0\n",
      "track metadata keys: 219777 and track metadata memory: 10485856 bytes\n"
     ]
    },
    {
     "name": "stderr",
     "output_type": "stream",
     "text": [
      "\r",
      "Playlist loop:  94%|██████████████████████████████████████████████████████████████████████████████████████████████▋      | 937/1000 [6:35:46<23:42, 22.58s/it]"
     ]
    },
    {
     "name": "stdout",
     "output_type": "stream",
     "text": [
      "Number of tracks in dict: 219788\n",
      "Successful ID: 8, Unsuccesful ID 3\n",
      "Unsuccesful lyric 0\n",
      "track metadata keys: 219788 and track metadata memory: 10485856 bytes\n"
     ]
    },
    {
     "name": "stderr",
     "output_type": "stream",
     "text": [
      "\r",
      "Playlist loop:  94%|██████████████████████████████████████████████████████████████████████████████████████████████▋      | 938/1000 [6:35:54<19:29, 18.86s/it]"
     ]
    },
    {
     "name": "stdout",
     "output_type": "stream",
     "text": [
      "Number of tracks in dict: 219792\n",
      "Successful ID: 2, Unsuccesful ID 2\n",
      "Unsuccesful lyric 0\n",
      "track metadata keys: 219792 and track metadata memory: 10485856 bytes\n"
     ]
    },
    {
     "name": "stderr",
     "output_type": "stream",
     "text": [
      "\r",
      "Playlist loop:  94%|██████████████████████████████████████████████████████████████████████████████████████████████▊      | 939/1000 [6:36:40<26:26, 26.01s/it]"
     ]
    },
    {
     "name": "stdout",
     "output_type": "stream",
     "text": [
      "Number of tracks in dict: 219816\n",
      "Successful ID: 11, Unsuccesful ID 13\n",
      "Unsuccesful lyric 0\n",
      "track metadata keys: 219816 and track metadata memory: 10485856 bytes\n"
     ]
    },
    {
     "name": "stderr",
     "output_type": "stream",
     "text": [
      "\r",
      "Playlist loop:  94%|██████████████████████████████████████████████████████████████████████████████████████████████▉      | 940/1000 [6:36:59<24:05, 24.10s/it]"
     ]
    },
    {
     "name": "stdout",
     "output_type": "stream",
     "text": [
      "Number of tracks in dict: 219839\n",
      "Successful ID: 4, Unsuccesful ID 19\n",
      "Unsuccesful lyric 0\n",
      "track metadata keys: 219839 and track metadata memory: 10485856 bytes\n"
     ]
    },
    {
     "name": "stderr",
     "output_type": "stream",
     "text": [
      "\r",
      "Playlist loop:  94%|███████████████████████████████████████████████████████████████████████████████████████████████      | 941/1000 [6:37:48<30:37, 31.14s/it]"
     ]
    },
    {
     "name": "stdout",
     "output_type": "stream",
     "text": [
      "Number of tracks in dict: 219879\n",
      "Successful ID: 10, Unsuccesful ID 30\n",
      "Unsuccesful lyric 0\n",
      "track metadata keys: 219879 and track metadata memory: 10485856 bytes\n",
      "Number of tracks in dict: 219879\n",
      "Successful ID: 0, Unsuccesful ID 0\n",
      "Unsuccesful lyric 0\n",
      "track metadata keys: 219879 and track metadata memory: 10485856 bytes\n"
     ]
    },
    {
     "name": "stderr",
     "output_type": "stream",
     "text": [
      "\r",
      "Playlist loop:  94%|███████████████████████████████████████████████████████████████████████████████████████████████▏     | 943/1000 [6:38:36<26:28, 27.87s/it]"
     ]
    },
    {
     "name": "stdout",
     "output_type": "stream",
     "text": [
      "Number of tracks in dict: 219894\n",
      "Successful ID: 13, Unsuccesful ID 2\n",
      "Unsuccesful lyric 0\n",
      "track metadata keys: 219894 and track metadata memory: 10485856 bytes\n",
      "Number of tracks in dict: 219894\n",
      "Successful ID: 0, Unsuccesful ID 0\n",
      "Unsuccesful lyric 0\n",
      "track metadata keys: 219894 and track metadata memory: 10485856 bytes\n"
     ]
    },
    {
     "name": "stderr",
     "output_type": "stream",
     "text": [
      "\r",
      "Playlist loop:  94%|███████████████████████████████████████████████████████████████████████████████████████████████▍     | 945/1000 [6:41:29<46:29, 50.72s/it]"
     ]
    },
    {
     "name": "stdout",
     "output_type": "stream",
     "text": [
      "Number of tracks in dict: 219950\n",
      "Successful ID: 43, Unsuccesful ID 13\n",
      "Unsuccesful lyric 0\n",
      "track metadata keys: 219950 and track metadata memory: 10485856 bytes\n"
     ]
    },
    {
     "name": "stderr",
     "output_type": "stream",
     "text": [
      "\r",
      "Playlist loop:  95%|███████████████████████████████████████████████████████████████████████████████████████████████▌     | 946/1000 [6:42:09<43:32, 48.39s/it]"
     ]
    },
    {
     "name": "stdout",
     "output_type": "stream",
     "text": [
      "Number of tracks in dict: 219962\n",
      "Successful ID: 11, Unsuccesful ID 1\n",
      "Unsuccesful lyric 0\n",
      "track metadata keys: 219962 and track metadata memory: 10485856 bytes\n",
      "Number of tracks in dict: 219962\n",
      "Successful ID: 0, Unsuccesful ID 0\n",
      "Unsuccesful lyric 0\n",
      "track metadata keys: 219962 and track metadata memory: 10485856 bytes\n"
     ]
    },
    {
     "name": "stderr",
     "output_type": "stream",
     "text": [
      "\r",
      "Playlist loop:  95%|███████████████████████████████████████████████████████████████████████████████████████████████▋     | 948/1000 [6:42:37<30:30, 35.20s/it]"
     ]
    },
    {
     "name": "stdout",
     "output_type": "stream",
     "text": [
      "Number of tracks in dict: 219970\n",
      "Successful ID: 7, Unsuccesful ID 1\n",
      "Unsuccesful lyric 0\n",
      "track metadata keys: 219970 and track metadata memory: 10485856 bytes\n"
     ]
    },
    {
     "name": "stderr",
     "output_type": "stream",
     "text": [
      "\r",
      "Playlist loop:  95%|███████████████████████████████████████████████████████████████████████████████████████████████▊     | 949/1000 [6:42:38<23:41, 27.87s/it]"
     ]
    },
    {
     "name": "stdout",
     "output_type": "stream",
     "text": [
      "Number of tracks in dict: 219972\n",
      "Successful ID: 0, Unsuccesful ID 2\n",
      "Unsuccesful lyric 0\n",
      "track metadata keys: 219972 and track metadata memory: 10485856 bytes\n"
     ]
    },
    {
     "name": "stderr",
     "output_type": "stream",
     "text": [
      "\r",
      "Playlist loop:  95%|███████████████████████████████████████████████████████████████████████████████████████████████▉     | 950/1000 [6:42:39<17:51, 21.44s/it]"
     ]
    },
    {
     "name": "stdout",
     "output_type": "stream",
     "text": [
      "Number of tracks in dict: 219973\n",
      "Successful ID: 0, Unsuccesful ID 1\n",
      "Unsuccesful lyric 0\n",
      "track metadata keys: 219973 and track metadata memory: 10485856 bytes\n"
     ]
    },
    {
     "name": "stderr",
     "output_type": "stream",
     "text": [
      "\r",
      "Playlist loop:  95%|████████████████████████████████████████████████████████████████████████████████████████████████     | 951/1000 [6:42:47<14:44, 18.05s/it]"
     ]
    },
    {
     "name": "stdout",
     "output_type": "stream",
     "text": [
      "Number of tracks in dict: 219975\n",
      "Successful ID: 2, Unsuccesful ID 0\n",
      "Unsuccesful lyric 0\n",
      "track metadata keys: 219975 and track metadata memory: 10485856 bytes\n"
     ]
    },
    {
     "name": "stderr",
     "output_type": "stream",
     "text": [
      "\r",
      "Playlist loop:  95%|████████████████████████████████████████████████████████████████████████████████████████████████▏    | 952/1000 [6:42:50<11:14, 14.06s/it]"
     ]
    },
    {
     "name": "stdout",
     "output_type": "stream",
     "text": [
      "Number of tracks in dict: 219977\n",
      "Successful ID: 1, Unsuccesful ID 1\n",
      "Unsuccesful lyric 0\n",
      "track metadata keys: 219977 and track metadata memory: 10485856 bytes\n"
     ]
    },
    {
     "name": "stderr",
     "output_type": "stream",
     "text": [
      "\r",
      "Playlist loop:  95%|████████████████████████████████████████████████████████████████████████████████████████████████▎    | 953/1000 [6:43:01<10:28, 13.38s/it]"
     ]
    },
    {
     "name": "stdout",
     "output_type": "stream",
     "text": [
      "Number of tracks in dict: 219980\n",
      "Successful ID: 3, Unsuccesful ID 0\n",
      "Unsuccesful lyric 0\n",
      "track metadata keys: 219980 and track metadata memory: 10485856 bytes\n"
     ]
    },
    {
     "name": "stderr",
     "output_type": "stream",
     "text": [
      "\r",
      "Playlist loop:  95%|████████████████████████████████████████████████████████████████████████████████████████████████▎    | 954/1000 [6:43:13<10:00, 13.06s/it]"
     ]
    },
    {
     "name": "stdout",
     "output_type": "stream",
     "text": [
      "Number of tracks in dict: 219985\n",
      "Successful ID: 3, Unsuccesful ID 2\n",
      "Unsuccesful lyric 0\n",
      "track metadata keys: 219985 and track metadata memory: 10485856 bytes\n"
     ]
    },
    {
     "name": "stderr",
     "output_type": "stream",
     "text": [
      "\r",
      "Playlist loop:  96%|████████████████████████████████████████████████████████████████████████████████████████████████▍    | 955/1000 [6:44:15<20:11, 26.91s/it]"
     ]
    },
    {
     "name": "stdout",
     "output_type": "stream",
     "text": [
      "Number of tracks in dict: 220002\n",
      "Successful ID: 15, Unsuccesful ID 2\n",
      "Unsuccesful lyric 0\n",
      "track metadata keys: 220002 and track metadata memory: 10485856 bytes\n",
      "Number of tracks in dict: 220002\n",
      "Successful ID: 0, Unsuccesful ID 0\n",
      "Unsuccesful lyric 0\n",
      "track metadata keys: 220002 and track metadata memory: 10485856 bytes\n"
     ]
    },
    {
     "name": "stderr",
     "output_type": "stream",
     "text": [
      "\r",
      "Playlist loop:  96%|████████████████████████████████████████████████████████████████████████████████████████████████▋    | 957/1000 [6:44:23<11:55, 16.65s/it]"
     ]
    },
    {
     "name": "stdout",
     "output_type": "stream",
     "text": [
      "Number of tracks in dict: 220005\n",
      "Successful ID: 2, Unsuccesful ID 1\n",
      "Unsuccesful lyric 0\n",
      "track metadata keys: 220005 and track metadata memory: 10485856 bytes\n",
      "Number of tracks in dict: 220005\n",
      "Successful ID: 0, Unsuccesful ID 0\n",
      "Unsuccesful lyric 0\n",
      "track metadata keys: 220005 and track metadata memory: 10485856 bytes\n"
     ]
    },
    {
     "name": "stderr",
     "output_type": "stream",
     "text": [
      "\r",
      "Playlist loop:  96%|████████████████████████████████████████████████████████████████████████████████████████████████▊    | 959/1000 [6:45:00<11:55, 17.44s/it]"
     ]
    },
    {
     "name": "stdout",
     "output_type": "stream",
     "text": [
      "Number of tracks in dict: 220016\n",
      "Successful ID: 9, Unsuccesful ID 2\n",
      "Unsuccesful lyric 0\n",
      "track metadata keys: 220016 and track metadata memory: 10485856 bytes\n"
     ]
    },
    {
     "name": "stderr",
     "output_type": "stream",
     "text": [
      "Playlist loop:  96%|█████████████████████████████████████████████████████████████████████████████████████████████████    | 961/1000 [6:45:31<10:01, 15.43s/it]"
     ]
    },
    {
     "name": "stdout",
     "output_type": "stream",
     "text": [
      "Number of tracks in dict: 220026\n",
      "Successful ID: 8, Unsuccesful ID 2\n",
      "Unsuccesful lyric 0\n",
      "track metadata keys: 220026 and track metadata memory: 10485856 bytes\n",
      "Number of tracks in dict: 220027\n",
      "Successful ID: 0, Unsuccesful ID 1\n",
      "Unsuccesful lyric 0\n",
      "track metadata keys: 220027 and track metadata memory: 10485856 bytes\n",
      "Number of tracks in dict: 220027\n",
      "Successful ID: 0, Unsuccesful ID 0\n",
      "Unsuccesful lyric 0\n",
      "track metadata keys: 220027 and track metadata memory: 10485856 bytes\n"
     ]
    },
    {
     "name": "stderr",
     "output_type": "stream",
     "text": [
      "\r",
      "Playlist loop:  96%|█████████████████████████████████████████████████████████████████████████████████████████████████▎   | 963/1000 [6:45:32<05:53,  9.55s/it]"
     ]
    },
    {
     "name": "stdout",
     "output_type": "stream",
     "text": [
      "Number of tracks in dict: 220029\n",
      "Successful ID: 0, Unsuccesful ID 2\n",
      "Unsuccesful lyric 0\n",
      "track metadata keys: 220029 and track metadata memory: 10485856 bytes\n",
      "Number of tracks in dict: 220029\n",
      "Successful ID: 0, Unsuccesful ID 0\n",
      "Unsuccesful lyric 0\n",
      "track metadata keys: 220029 and track metadata memory: 10485856 bytes\n"
     ]
    },
    {
     "name": "stderr",
     "output_type": "stream",
     "text": [
      "\r",
      "Playlist loop:  96%|█████████████████████████████████████████████████████████████████████████████████████████████████▍   | 965/1000 [6:46:00<06:31, 11.18s/it]"
     ]
    },
    {
     "name": "stdout",
     "output_type": "stream",
     "text": [
      "Number of tracks in dict: 220036\n",
      "Successful ID: 7, Unsuccesful ID 0\n",
      "Unsuccesful lyric 0\n",
      "track metadata keys: 220036 and track metadata memory: 10485856 bytes\n"
     ]
    },
    {
     "name": "stderr",
     "output_type": "stream",
     "text": [
      "\r",
      "Playlist loop:  97%|█████████████████████████████████████████████████████████████████████████████████████████████████▌   | 966/1000 [6:46:17<07:01, 12.40s/it]"
     ]
    },
    {
     "name": "stdout",
     "output_type": "stream",
     "text": [
      "Number of tracks in dict: 220041\n",
      "Successful ID: 4, Unsuccesful ID 1\n",
      "Unsuccesful lyric 0\n",
      "track metadata keys: 220041 and track metadata memory: 10485856 bytes\n"
     ]
    },
    {
     "name": "stderr",
     "output_type": "stream",
     "text": [
      "\r",
      "Playlist loop:  97%|█████████████████████████████████████████████████████████████████████████████████████████████████▋   | 967/1000 [6:47:46<16:22, 29.78s/it]"
     ]
    },
    {
     "name": "stdout",
     "output_type": "stream",
     "text": [
      "Number of tracks in dict: 220062\n",
      "Successful ID: 20, Unsuccesful ID 1\n",
      "Unsuccesful lyric 0\n",
      "track metadata keys: 220062 and track metadata memory: 10485856 bytes\n"
     ]
    },
    {
     "name": "stderr",
     "output_type": "stream",
     "text": [
      "\r",
      "Playlist loop:  97%|█████████████████████████████████████████████████████████████████████████████████████████████████▊   | 968/1000 [6:47:50<12:30, 23.47s/it]"
     ]
    },
    {
     "name": "stdout",
     "output_type": "stream",
     "text": [
      "Number of tracks in dict: 220063\n",
      "Successful ID: 1, Unsuccesful ID 0\n",
      "Unsuccesful lyric 0\n",
      "track metadata keys: 220063 and track metadata memory: 10485856 bytes\n"
     ]
    },
    {
     "name": "stderr",
     "output_type": "stream",
     "text": [
      "\r",
      "Playlist loop:  97%|█████████████████████████████████████████████████████████████████████████████████████████████████▊   | 969/1000 [6:48:07<11:18, 21.88s/it]"
     ]
    },
    {
     "name": "stdout",
     "output_type": "stream",
     "text": [
      "Number of tracks in dict: 220066\n",
      "Successful ID: 3, Unsuccesful ID 0\n",
      "Unsuccesful lyric 0\n",
      "track metadata keys: 220066 and track metadata memory: 10485856 bytes\n"
     ]
    },
    {
     "name": "stderr",
     "output_type": "stream",
     "text": [
      "\r",
      "Playlist loop:  97%|█████████████████████████████████████████████████████████████████████████████████████████████████▉   | 970/1000 [6:48:10<08:23, 16.77s/it]"
     ]
    },
    {
     "name": "stdout",
     "output_type": "stream",
     "text": [
      "Number of tracks in dict: 220067\n",
      "Successful ID: 1, Unsuccesful ID 0\n",
      "Unsuccesful lyric 0\n",
      "track metadata keys: 220067 and track metadata memory: 10485856 bytes\n",
      "Number of tracks in dict: 220067\n",
      "Successful ID: 0, Unsuccesful ID 0\n",
      "Unsuccesful lyric 0\n",
      "track metadata keys: 220067 and track metadata memory: 10485856 bytes\n"
     ]
    },
    {
     "name": "stderr",
     "output_type": "stream",
     "text": [
      "\r",
      "Playlist loop:  97%|██████████████████████████████████████████████████████████████████████████████████████████████████▏  | 972/1000 [6:48:25<05:56, 12.72s/it]"
     ]
    },
    {
     "name": "stdout",
     "output_type": "stream",
     "text": [
      "Number of tracks in dict: 220072\n",
      "Successful ID: 4, Unsuccesful ID 1\n",
      "Unsuccesful lyric 0\n",
      "track metadata keys: 220072 and track metadata memory: 10485856 bytes\n"
     ]
    },
    {
     "name": "stderr",
     "output_type": "stream",
     "text": [
      "\r",
      "Playlist loop:  97%|██████████████████████████████████████████████████████████████████████████████████████████████████▎  | 973/1000 [6:48:33<05:11, 11.53s/it]"
     ]
    },
    {
     "name": "stdout",
     "output_type": "stream",
     "text": [
      "Number of tracks in dict: 220075\n",
      "Successful ID: 2, Unsuccesful ID 1\n",
      "Unsuccesful lyric 0\n",
      "track metadata keys: 220075 and track metadata memory: 10485856 bytes\n"
     ]
    },
    {
     "name": "stderr",
     "output_type": "stream",
     "text": [
      "\r",
      "Playlist loop:  97%|██████████████████████████████████████████████████████████████████████████████████████████████████▎  | 974/1000 [6:49:48<11:56, 27.55s/it]"
     ]
    },
    {
     "name": "stdout",
     "output_type": "stream",
     "text": [
      "Number of tracks in dict: 220097\n",
      "Successful ID: 19, Unsuccesful ID 3\n",
      "Unsuccesful lyric 0\n",
      "track metadata keys: 220097 and track metadata memory: 10485856 bytes\n"
     ]
    },
    {
     "name": "stderr",
     "output_type": "stream",
     "text": [
      "\r",
      "Playlist loop:  98%|██████████████████████████████████████████████████████████████████████████████████████████████████▍  | 975/1000 [6:51:02<16:39, 39.98s/it]"
     ]
    },
    {
     "name": "stdout",
     "output_type": "stream",
     "text": [
      "Number of tracks in dict: 220120\n",
      "Successful ID: 18, Unsuccesful ID 5\n",
      "Unsuccesful lyric 0\n",
      "track metadata keys: 220120 and track metadata memory: 10485856 bytes\n"
     ]
    },
    {
     "name": "stderr",
     "output_type": "stream",
     "text": [
      "\r",
      "Playlist loop:  98%|██████████████████████████████████████████████████████████████████████████████████████████████████▌  | 976/1000 [6:51:37<15:23, 38.46s/it]"
     ]
    },
    {
     "name": "stdout",
     "output_type": "stream",
     "text": [
      "Number of tracks in dict: 220129\n",
      "Successful ID: 9, Unsuccesful ID 0\n",
      "Unsuccesful lyric 0\n",
      "track metadata keys: 220129 and track metadata memory: 10485856 bytes\n"
     ]
    },
    {
     "name": "stderr",
     "output_type": "stream",
     "text": [
      "\r",
      "Playlist loop:  98%|██████████████████████████████████████████████████████████████████████████████████████████████████▋  | 977/1000 [6:51:47<11:42, 30.54s/it]"
     ]
    },
    {
     "name": "stdout",
     "output_type": "stream",
     "text": [
      "Number of tracks in dict: 220139\n",
      "Successful ID: 2, Unsuccesful ID 8\n",
      "Unsuccesful lyric 0\n",
      "track metadata keys: 220139 and track metadata memory: 10485856 bytes\n",
      "Number of tracks in dict: 220139\n",
      "Successful ID: 0, Unsuccesful ID 0\n",
      "Unsuccesful lyric 0\n",
      "track metadata keys: 220139 and track metadata memory: 10485856 bytes\n",
      "Number of tracks in dict: 220139\n",
      "Successful ID: 0, Unsuccesful ID 0\n",
      "Unsuccesful lyric 0\n",
      "track metadata keys: 220139 and track metadata memory: 10485856 bytes\n"
     ]
    },
    {
     "name": "stderr",
     "output_type": "stream",
     "text": [
      "\r",
      "Playlist loop:  98%|██████████████████████████████████████████████████████████████████████████████████████████████████▉  | 980/1000 [6:52:01<05:27, 16.39s/it]"
     ]
    },
    {
     "name": "stdout",
     "output_type": "stream",
     "text": [
      "Number of tracks in dict: 220146\n",
      "Successful ID: 3, Unsuccesful ID 4\n",
      "Unsuccesful lyric 0\n",
      "track metadata keys: 220146 and track metadata memory: 10485856 bytes\n",
      "Number of tracks in dict: 220146\n",
      "Successful ID: 0, Unsuccesful ID 0\n",
      "Unsuccesful lyric 0\n",
      "track metadata keys: 220146 and track metadata memory: 10485856 bytes\n",
      "Number of tracks in dict: 220146\n",
      "Successful ID: 0, Unsuccesful ID 0\n",
      "Unsuccesful lyric 0\n",
      "track metadata keys: 220146 and track metadata memory: 10485856 bytes\n"
     ]
    },
    {
     "name": "stderr",
     "output_type": "stream",
     "text": [
      "\r",
      "Playlist loop:  98%|███████████████████████████████████████████████████████████████████████████████████████████████████▎ | 983/1000 [6:52:13<03:04, 10.87s/it]"
     ]
    },
    {
     "name": "stdout",
     "output_type": "stream",
     "text": [
      "Number of tracks in dict: 220149\n",
      "Successful ID: 3, Unsuccesful ID 0\n",
      "Unsuccesful lyric 0\n",
      "track metadata keys: 220149 and track metadata memory: 10485856 bytes\n"
     ]
    },
    {
     "name": "stderr",
     "output_type": "stream",
     "text": [
      "\r",
      "Playlist loop:  98%|███████████████████████████████████████████████████████████████████████████████████████████████████▍ | 984/1000 [6:52:18<02:38,  9.89s/it]"
     ]
    },
    {
     "name": "stdout",
     "output_type": "stream",
     "text": [
      "Number of tracks in dict: 220150\n",
      "Successful ID: 1, Unsuccesful ID 0\n",
      "Unsuccesful lyric 0\n",
      "track metadata keys: 220150 and track metadata memory: 10485856 bytes\n"
     ]
    },
    {
     "name": "stderr",
     "output_type": "stream",
     "text": [
      "\r",
      "Playlist loop:  98%|███████████████████████████████████████████████████████████████████████████████████████████████████▍ | 985/1000 [6:52:21<02:08,  8.56s/it]"
     ]
    },
    {
     "name": "stdout",
     "output_type": "stream",
     "text": [
      "Number of tracks in dict: 220151\n",
      "Successful ID: 1, Unsuccesful ID 0\n",
      "Unsuccesful lyric 0\n",
      "track metadata keys: 220151 and track metadata memory: 10485856 bytes\n"
     ]
    },
    {
     "name": "stderr",
     "output_type": "stream",
     "text": [
      "\r",
      "Playlist loop:  99%|███████████████████████████████████████████████████████████████████████████████████████████████████▌ | 986/1000 [6:52:25<01:46,  7.58s/it]"
     ]
    },
    {
     "name": "stdout",
     "output_type": "stream",
     "text": [
      "Number of tracks in dict: 220153\n",
      "Successful ID: 1, Unsuccesful ID 1\n",
      "Unsuccesful lyric 0\n",
      "track metadata keys: 220153 and track metadata memory: 10485856 bytes\n"
     ]
    },
    {
     "name": "stderr",
     "output_type": "stream",
     "text": [
      "\r",
      "Playlist loop:  99%|███████████████████████████████████████████████████████████████████████████████████████████████████▋ | 987/1000 [6:52:48<02:26, 11.25s/it]"
     ]
    },
    {
     "name": "stdout",
     "output_type": "stream",
     "text": [
      "Number of tracks in dict: 220174\n",
      "Successful ID: 4, Unsuccesful ID 17\n",
      "Unsuccesful lyric 0\n",
      "track metadata keys: 220174 and track metadata memory: 10485856 bytes\n"
     ]
    },
    {
     "name": "stderr",
     "output_type": "stream",
     "text": [
      "\r",
      "Playlist loop:  99%|███████████████████████████████████████████████████████████████████████████████████████████████████▊ | 988/1000 [6:52:59<02:15, 11.31s/it]"
     ]
    },
    {
     "name": "stdout",
     "output_type": "stream",
     "text": [
      "Number of tracks in dict: 220178\n",
      "Successful ID: 3, Unsuccesful ID 1\n",
      "Unsuccesful lyric 0\n",
      "track metadata keys: 220178 and track metadata memory: 10485856 bytes\n"
     ]
    },
    {
     "name": "stderr",
     "output_type": "stream",
     "text": [
      "\r",
      "Playlist loop:  99%|███████████████████████████████████████████████████████████████████████████████████████████████████▉ | 989/1000 [6:53:04<01:43,  9.41s/it]"
     ]
    },
    {
     "name": "stdout",
     "output_type": "stream",
     "text": [
      "Number of tracks in dict: 220179\n",
      "Successful ID: 1, Unsuccesful ID 0\n",
      "Unsuccesful lyric 0\n",
      "track metadata keys: 220179 and track metadata memory: 10485856 bytes\n",
      "Number of tracks in dict: 220179\n",
      "Successful ID: 0, Unsuccesful ID 0\n",
      "Unsuccesful lyric 0\n",
      "track metadata keys: 220179 and track metadata memory: 10485856 bytes\n"
     ]
    },
    {
     "name": "stderr",
     "output_type": "stream",
     "text": [
      "\r",
      "Playlist loop:  99%|████████████████████████████████████████████████████████████████████████████████████████████████████ | 991/1000 [6:54:33<03:41, 24.60s/it]"
     ]
    },
    {
     "name": "stdout",
     "output_type": "stream",
     "text": [
      "Number of tracks in dict: 220210\n",
      "Successful ID: 23, Unsuccesful ID 8\n",
      "Unsuccesful lyric 0\n",
      "track metadata keys: 220210 and track metadata memory: 10485856 bytes\n",
      "Number of tracks in dict: 220210\n",
      "Successful ID: 0, Unsuccesful ID 0\n",
      "Unsuccesful lyric 0\n",
      "track metadata keys: 220210 and track metadata memory: 10485856 bytes\n"
     ]
    },
    {
     "name": "stderr",
     "output_type": "stream",
     "text": [
      "\r",
      "Playlist loop:  99%|████████████████████████████████████████████████████████████████████████████████████████████████████▎| 993/1000 [6:55:10<02:36, 22.33s/it]"
     ]
    },
    {
     "name": "stdout",
     "output_type": "stream",
     "text": [
      "Number of tracks in dict: 220225\n",
      "Successful ID: 9, Unsuccesful ID 6\n",
      "Unsuccesful lyric 0\n",
      "track metadata keys: 220225 and track metadata memory: 10485856 bytes\n"
     ]
    },
    {
     "name": "stderr",
     "output_type": "stream",
     "text": [
      "\r",
      "Playlist loop:  99%|████████████████████████████████████████████████████████████████████████████████████████████████████▍| 994/1000 [6:55:43<02:27, 24.54s/it]"
     ]
    },
    {
     "name": "stdout",
     "output_type": "stream",
     "text": [
      "Number of tracks in dict: 220234\n",
      "Successful ID: 9, Unsuccesful ID 0\n",
      "Unsuccesful lyric 0\n",
      "track metadata keys: 220234 and track metadata memory: 10485856 bytes\n"
     ]
    },
    {
     "name": "stderr",
     "output_type": "stream",
     "text": [
      "\r",
      "Playlist loop: 100%|████████████████████████████████████████████████████████████████████████████████████████████████████▍| 995/1000 [6:56:16<02:12, 26.52s/it]"
     ]
    },
    {
     "name": "stdout",
     "output_type": "stream",
     "text": [
      "Number of tracks in dict: 220242\n",
      "Successful ID: 8, Unsuccesful ID 0\n",
      "Unsuccesful lyric 0\n",
      "track metadata keys: 220242 and track metadata memory: 10485856 bytes\n"
     ]
    },
    {
     "name": "stderr",
     "output_type": "stream",
     "text": [
      "\r",
      "Playlist loop: 100%|████████████████████████████████████████████████████████████████████████████████████████████████████▌| 996/1000 [6:57:28<02:32, 38.13s/it]"
     ]
    },
    {
     "name": "stdout",
     "output_type": "stream",
     "text": [
      "Number of tracks in dict: 220261\n",
      "Successful ID: 19, Unsuccesful ID 0\n",
      "Unsuccesful lyric 0\n",
      "track metadata keys: 220261 and track metadata memory: 10485856 bytes\n"
     ]
    },
    {
     "name": "stderr",
     "output_type": "stream",
     "text": [
      "\r",
      "Playlist loop: 100%|████████████████████████████████████████████████████████████████████████████████████████████████████▋| 997/1000 [6:58:03<01:51, 37.28s/it]"
     ]
    },
    {
     "name": "stdout",
     "output_type": "stream",
     "text": [
      "Number of tracks in dict: 220279\n",
      "Successful ID: 8, Unsuccesful ID 10\n",
      "Unsuccesful lyric 0\n",
      "track metadata keys: 220279 and track metadata memory: 10485856 bytes\n"
     ]
    },
    {
     "name": "stderr",
     "output_type": "stream",
     "text": [
      "\r",
      "Playlist loop: 100%|████████████████████████████████████████████████████████████████████████████████████████████████████▊| 998/1000 [6:59:33<01:43, 51.69s/it]"
     ]
    },
    {
     "name": "stdout",
     "output_type": "stream",
     "text": [
      "Number of tracks in dict: 220303\n",
      "Successful ID: 22, Unsuccesful ID 2\n",
      "Unsuccesful lyric 0\n",
      "track metadata keys: 220303 and track metadata memory: 10485856 bytes\n"
     ]
    },
    {
     "name": "stderr",
     "output_type": "stream",
     "text": [
      "\r",
      "Playlist loop: 100%|████████████████████████████████████████████████████████████████████████████████████████████████████▉| 999/1000 [6:59:39<00:38, 38.89s/it]"
     ]
    },
    {
     "name": "stdout",
     "output_type": "stream",
     "text": [
      "Number of tracks in dict: 220310\n",
      "Successful ID: 1, Unsuccesful ID 6\n",
      "Unsuccesful lyric 0\n",
      "track metadata keys: 220310 and track metadata memory: 10485856 bytes\n",
      "Number of tracks in dict: 220318\n",
      "Successful ID: 8, Unsuccesful ID 0\n",
      "Unsuccesful lyric 0\n",
      "track metadata keys: 220318 and track metadata memory: 10485856 bytes\n"
     ]
    },
    {
     "name": "stderr",
     "output_type": "stream",
     "text": [
      "                                                                                                                                                              \r"
     ]
    }
   ],
   "source": [
    "helper.get_track_data(current_file = \\\n",
    "                         \"../datasets/spotify/data/mpd.slice.6000-6999.json\", part_load=\"5000-5999\")\n"
   ]
  },
  {
   "cell_type": "code",
   "execution_count": null,
   "metadata": {},
   "outputs": [],
   "source": []
  }
 ],
 "metadata": {
  "kernelspec": {
   "display_name": "Python (torch_env_113)",
   "language": "python",
   "name": "torch_env_113"
  },
  "language_info": {
   "codemirror_mode": {
    "name": "ipython",
    "version": 3
   },
   "file_extension": ".py",
   "mimetype": "text/x-python",
   "name": "python",
   "nbconvert_exporter": "python",
   "pygments_lexer": "ipython3",
   "version": "3.9.22"
  }
 },
 "nbformat": 4,
 "nbformat_minor": 4
}
